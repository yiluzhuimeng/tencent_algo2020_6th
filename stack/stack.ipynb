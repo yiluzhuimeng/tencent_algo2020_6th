{
 "cells": [
  {
   "cell_type": "markdown",
   "metadata": {},
   "source": [
    "# import"
   ]
  },
  {
   "cell_type": "code",
   "execution_count": 2,
   "metadata": {},
   "outputs": [],
   "source": [
    "from sklearn.feature_extraction.text import TfidfTransformer\n",
    "from sklearn.feature_extraction.text import CountVectorizer\n",
    "from sklearn.feature_extraction.text import TfidfVectorizer\n",
    "from sklearn.decomposition import TruncatedSVD\n",
    "from category_encoders import *\n",
    "from scipy import stats\n",
    "from sklearn.linear_model import LogisticRegression\n",
    "from sklearn.linear_model import SGDClassifier\n",
    "from sklearn.linear_model import PassiveAggressiveClassifier\n",
    "from sklearn.linear_model import RidgeClassifier\n",
    "from sklearn.naive_bayes import BernoulliNB\n",
    "from sklearn.naive_bayes import MultinomialNB\n",
    "from sklearn.ensemble import RandomForestClassifier\n",
    "from sklearn.ensemble import ExtraTreesClassifier\n",
    "from sklearn.tree import DecisionTreeClassifier\n",
    "import scipy\n",
    "import lightgbm as lgb\n",
    "from sklearn.metrics import accuracy_score\n",
    "from sklearn.model_selection import StratifiedKFold,KFold\n",
    "import pickle\n",
    "import logging\n",
    "LOG_FORMAT = \"%(asctime)s - %(levelname)s - %(message)s\"\n",
    "logging.basicConfig(level=logging.INFO, format=LOG_FORMAT)\n",
    "import os\n",
    "os.environ['NUMEXPR_MAX_THREADS'] = '32'\n",
    "import pandas as pd\n",
    "import numpy as np\n",
    "from tqdm import tqdm_notebook as tqdm\n",
    "from sklearn.metrics import confusion_matrix\n",
    "import IPython.display as ipd\n",
    "from sklearn.metrics import accuracy_score\n",
    "from sklearn.model_selection import StratifiedKFold,KFold\n",
    "import pandas as pd\n",
    "import numpy as np\n",
    "import copy\n",
    "from scipy.special import softmax\n",
    "from torchcontrib.optim import SWA"
   ]
  },
  {
   "cell_type": "markdown",
   "metadata": {},
   "source": [
    "# sort out data"
   ]
  },
  {
   "cell_type": "markdown",
   "metadata": {},
   "source": [
    "## 读取标签"
   ]
  },
  {
   "cell_type": "code",
   "execution_count": 3,
   "metadata": {},
   "outputs": [],
   "source": [
    "root_dir=\"../var/data/\"\n",
    "df_train_user = pd.read_csv(root_dir+'train_semi_final/user.csv')\n",
    "pre_df_train_user = pd.read_csv(root_dir+'train_preliminary/user.csv')\n",
    "df_label = pd.concat([pre_df_train_user, df_train_user])"
   ]
  },
  {
   "cell_type": "markdown",
   "metadata": {},
   "source": [
    "## 读取路径"
   ]
  },
  {
   "cell_type": "code",
   "execution_count": 9,
   "metadata": {},
   "outputs": [],
   "source": [
    "import os\n",
    "paths = []\n",
    "names = []\n",
    "target_dir = '../var/model_ret_dicts/hyr/'\n",
    "for filename in os.listdir(target_dir):\n",
    "    if(filename[0] == '.'):\n",
    "        continue\n",
    "    paths.append(target_dir + filename)\n",
    "    names.append(filename)\n",
    "    \n",
    "target_dir = '../var/model_ret_dicts/fjw/'\n",
    "for filename in os.listdir(target_dir):\n",
    "    if(filename[0] == '.') :\n",
    "        continue\n",
    "    paths.append(target_dir + filename)\n",
    "    names.append(filename)\n",
    "names = list(map(lambda x : x.replace('model_', '') ,names))"
   ]
  },
  {
   "cell_type": "markdown",
   "metadata": {},
   "source": [
    "## 读取数据"
   ]
  },
  {
   "cell_type": "code",
   "execution_count": 10,
   "metadata": {},
   "outputs": [],
   "source": [
    "model_ret_dicts = []\n",
    "for p in paths:\n",
    "    ret = pickle.load(open(p, 'rb'))\n",
    "    model_ret_dicts.append(ret)"
   ]
  },
  {
   "cell_type": "markdown",
   "metadata": {},
   "source": [
    "## 单模型效果检验"
   ]
  },
  {
   "cell_type": "code",
   "execution_count": 11,
   "metadata": {
    "code_folding": [
     3
    ],
    "scrolled": false
   },
   "outputs": [],
   "source": [
    "diff_gender = np.zeros((len(model_ret_dicts), len(model_ret_dicts))).astype('int')\n",
    "diff_age = np.zeros((len(model_ret_dicts), len(model_ret_dicts))).astype('int')\n",
    "\n",
    "for i in range(len(model_ret_dicts)):\n",
    "    for j in range(len(model_ret_dicts)):\n",
    "        if i == j:\n",
    "            continue\n",
    "        if diff_gender[j][i] != 0:\n",
    "            diff_gender[i][j] = diff_gender[j][i]\n",
    "            diff_age[i][j] = diff_age[j][i]\n",
    "            continue\n",
    "        gender_val = model_ret_dicts[i]['test_gender']\n",
    "        age_val = model_ret_dicts[i]['test_age']\n",
    "        gender_pre_i = np.argmax(gender_val, axis = 1)+ 1\n",
    "        age_pre_i = np.argmax(age_val, axis = 1)+ 1\n",
    "        \n",
    "        gender_val = model_ret_dicts[j]['test_gender']\n",
    "        age_val = model_ret_dicts[j]['test_age']\n",
    "        gender_pre_j = np.argmax(gender_val, axis = 1)+ 1\n",
    "        age_pre_j = np.argmax(age_val, axis = 1)+ 1\n",
    "        \n",
    "        diff_gender[i][j] = (gender_pre_i != gender_pre_j).sum()\n",
    "        diff_age[i][j] = (age_pre_i != age_pre_j).sum()\n"
   ]
  },
  {
   "cell_type": "code",
   "execution_count": 12,
   "metadata": {
    "scrolled": false
   },
   "outputs": [],
   "source": [
    "df_age_diff = pd.DataFrame(diff_age, columns=names, index=names)\n",
    "df_gender_diff = pd.DataFrame(diff_gender, columns=names, index=names)"
   ]
  },
  {
   "cell_type": "code",
   "execution_count": 15,
   "metadata": {
    "code_folding": [
     0
    ],
    "scrolled": false
   },
   "outputs": [
    {
     "name": "stderr",
     "output_type": "stream",
     "text": [
      "2020-07-23 14:26:12,793 - INFO - one_50dim_wv : 0.690000, 0.143333, 0.833333\n",
      "2020-07-23 14:26:12,850 - INFO - one_50dim_glove_origin_lr0003_wd0_dp01_len256 : 0.696667, 0.173333, 0.870000\n",
      "2020-07-23 14:26:12,855 - INFO - pair_200acc_glove_lr0003_wd0_dp04 : 0.710000, 0.203333, 0.913333\n",
      "2020-07-23 14:26:12,859 - INFO - re2_pair_50dim_wv : 0.696667, 0.156667, 0.853333\n",
      "2020-07-23 14:26:12,864 - INFO - pair_50dim_glove_smooth_lr0003 : 0.623333, 0.133333, 0.756667\n",
      "2020-07-23 14:26:12,869 - INFO - one_50dim_origin100glove_lr0003_wd0_dp03 : 0.710000, 0.180000, 0.890000\n",
      "2020-07-23 14:26:12,873 - INFO - pair_200acc_wv_lr0003_label_smooth : 0.623333, 0.143333, 0.766667\n",
      "2020-07-23 14:26:12,877 - INFO - one_aa100_wv_glove_lr0003_wd0_dp03 : 0.690000, 0.223333, 0.913333\n",
      "2020-07-23 14:26:12,881 - INFO - one_50dim_glove_lr0002_wd0_dp03_len64 : 0.666667, 0.156667, 0.823333\n",
      "2020-07-23 14:26:12,886 - INFO - one_200acc_wv_wd0_dp03 : 0.693333, 0.183333, 0.876667\n",
      "2020-07-23 14:26:12,890 - INFO - one_200acc_wv : 0.666667, 0.230000, 0.896667\n",
      "2020-07-23 14:26:12,894 - INFO - one_200acc_glove_lr0003_smooth_wd005 : 0.630000, 0.163333, 0.793333\n",
      "2020-07-23 14:26:12,899 - INFO - one_50dim_wv_lr0003_wd0_dp02 : 0.643333, 0.223333, 0.866667\n",
      "2020-07-23 14:26:12,903 - INFO - pair_200acc_wv_lr0005 : 0.646667, 0.146667, 0.793333\n",
      "2020-07-23 14:26:12,907 - INFO - one_50dim_glove_lr0005 : 0.680000, 0.136667, 0.816667\n",
      "2020-07-23 14:26:12,911 - INFO - pair_aa200_wv_epoch16 : 0.680000, 0.170000, 0.850000\n",
      "2020-07-23 14:26:12,915 - INFO - transformer_glove200_shuffle.pk : 0.716667, 0.196667, 0.913333\n",
      "2020-07-23 14:26:12,919 - INFO - transformer_w2v200.pk : 0.686667, 0.180000, 0.866667\n",
      "2020-07-23 14:26:12,923 - INFO - transformer_wv50.pk : 0.623333, 0.176667, 0.800000\n",
      "2020-07-23 14:26:12,927 - INFO - ESIM_Single_wv200.pk : 0.616667, 0.163333, 0.780000\n",
      "2020-07-23 14:26:12,931 - INFO - ESIM_wv50.pk : 0.616667, 0.180000, 0.796667\n",
      "2020-07-23 14:26:12,935 - INFO - transformer_wv50_full_shuffle_length100_reverse.pk : 0.650000, 0.180000, 0.830000\n",
      "2020-07-23 14:26:12,939 - INFO - ESIM_Single_wv50.pk : 0.620000, 0.153333, 0.773333\n",
      "2020-07-23 14:26:12,943 - INFO - ESIM_glove50.pk : 0.630000, 0.200000, 0.830000\n",
      "2020-07-23 14:26:12,947 - INFO - ESIM_wv50_0.003_shuffle_length100_reverse.pk : 0.610000, 0.210000, 0.820000\n",
      "2020-07-23 14:26:12,952 - INFO - ESIM_wv200.pk : 0.616667, 0.200000, 0.816667\n",
      "2020-07-23 14:26:12,956 - INFO - ESIM_Single_wv50_0.003_shuffle_length100_reverse.pk : 0.613333, 0.163333, 0.776667\n",
      "2020-07-23 14:26:12,960 - INFO - ESIM_Single_glove50.pk : 0.623333, 0.083333, 0.706667\n",
      "2020-07-23 14:26:12,964 - INFO - ESIM_glove200.pk : 0.646667, 0.170000, 0.816667\n",
      "2020-07-23 14:26:12,968 - INFO - ESIM_Single_wv50_0.3_shuffle_length100_reverse.pk : 0.570000, 0.196667, 0.766667\n",
      "2020-07-23 14:26:12,972 - INFO - ESIM_Single_glove50_0.003_shuffle_length88_reverse.pk : 0.646667, 0.186667, 0.833333\n",
      "2020-07-23 14:26:12,976 - INFO - transformer_glove50_shuffle.pk : 0.670000, 0.206667, 0.876667\n",
      "2020-07-23 14:26:12,980 - INFO - ESIM_Single_glove200.pk : 0.676667, 0.180000, 0.856667\n"
     ]
    },
    {
     "data": {
      "text/html": [
       "<div>\n",
       "<style scoped>\n",
       "    .dataframe tbody tr th:only-of-type {\n",
       "        vertical-align: middle;\n",
       "    }\n",
       "\n",
       "    .dataframe tbody tr th {\n",
       "        vertical-align: top;\n",
       "    }\n",
       "\n",
       "    .dataframe thead th {\n",
       "        text-align: right;\n",
       "    }\n",
       "</style>\n",
       "<table border=\"1\" class=\"dataframe\">\n",
       "  <thead>\n",
       "    <tr style=\"text-align: right;\">\n",
       "      <th></th>\n",
       "      <th>one_50dim_wv</th>\n",
       "      <th>one_50dim_glove_origin_lr0003_wd0_dp01_len256</th>\n",
       "      <th>pair_200acc_glove_lr0003_wd0_dp04</th>\n",
       "      <th>re2_pair_50dim_wv</th>\n",
       "      <th>pair_50dim_glove_smooth_lr0003</th>\n",
       "      <th>one_50dim_origin100glove_lr0003_wd0_dp03</th>\n",
       "      <th>pair_200acc_wv_lr0003_label_smooth</th>\n",
       "      <th>one_aa100_wv_glove_lr0003_wd0_dp03</th>\n",
       "      <th>one_50dim_glove_lr0002_wd0_dp03_len64</th>\n",
       "      <th>one_200acc_wv_wd0_dp03</th>\n",
       "      <th>...</th>\n",
       "      <th>ESIM_glove50.pk</th>\n",
       "      <th>ESIM_wv50_0.003_shuffle_length100_reverse.pk</th>\n",
       "      <th>ESIM_wv200.pk</th>\n",
       "      <th>ESIM_Single_wv50_0.003_shuffle_length100_reverse.pk</th>\n",
       "      <th>ESIM_Single_glove50.pk</th>\n",
       "      <th>ESIM_glove200.pk</th>\n",
       "      <th>ESIM_Single_wv50_0.3_shuffle_length100_reverse.pk</th>\n",
       "      <th>ESIM_Single_glove50_0.003_shuffle_length88_reverse.pk</th>\n",
       "      <th>transformer_glove50_shuffle.pk</th>\n",
       "      <th>ESIM_Single_glove200.pk</th>\n",
       "    </tr>\n",
       "  </thead>\n",
       "  <tbody>\n",
       "    <tr>\n",
       "      <th>0</th>\n",
       "      <td>0.000000</td>\n",
       "      <td>0.000000</td>\n",
       "      <td>0.000000</td>\n",
       "      <td>0.000000</td>\n",
       "      <td>0.000000</td>\n",
       "      <td>0.000000</td>\n",
       "      <td>0.000000</td>\n",
       "      <td>0.000000</td>\n",
       "      <td>0.000000</td>\n",
       "      <td>0.058824</td>\n",
       "      <td>...</td>\n",
       "      <td>0.117647</td>\n",
       "      <td>0.000000</td>\n",
       "      <td>0.000000</td>\n",
       "      <td>0.176471</td>\n",
       "      <td>0.764706</td>\n",
       "      <td>0.058824</td>\n",
       "      <td>0.000000</td>\n",
       "      <td>0.117647</td>\n",
       "      <td>0.000000</td>\n",
       "      <td>0.176471</td>\n",
       "    </tr>\n",
       "    <tr>\n",
       "      <th>1</th>\n",
       "      <td>0.363636</td>\n",
       "      <td>0.163636</td>\n",
       "      <td>0.181818</td>\n",
       "      <td>0.436364</td>\n",
       "      <td>0.290909</td>\n",
       "      <td>0.018182</td>\n",
       "      <td>0.363636</td>\n",
       "      <td>0.290909</td>\n",
       "      <td>0.072727</td>\n",
       "      <td>0.290909</td>\n",
       "      <td>...</td>\n",
       "      <td>0.490909</td>\n",
       "      <td>0.600000</td>\n",
       "      <td>0.709091</td>\n",
       "      <td>0.763636</td>\n",
       "      <td>0.090909</td>\n",
       "      <td>0.345455</td>\n",
       "      <td>0.509091</td>\n",
       "      <td>0.418182</td>\n",
       "      <td>0.472727</td>\n",
       "      <td>0.545455</td>\n",
       "    </tr>\n",
       "    <tr>\n",
       "      <th>2</th>\n",
       "      <td>0.134615</td>\n",
       "      <td>0.307692</td>\n",
       "      <td>0.442308</td>\n",
       "      <td>0.153846</td>\n",
       "      <td>0.230769</td>\n",
       "      <td>0.000000</td>\n",
       "      <td>0.134615</td>\n",
       "      <td>0.442308</td>\n",
       "      <td>0.403846</td>\n",
       "      <td>0.250000</td>\n",
       "      <td>...</td>\n",
       "      <td>0.173077</td>\n",
       "      <td>0.307692</td>\n",
       "      <td>0.173077</td>\n",
       "      <td>0.019231</td>\n",
       "      <td>0.038462</td>\n",
       "      <td>0.115385</td>\n",
       "      <td>0.230769</td>\n",
       "      <td>0.096154</td>\n",
       "      <td>0.076923</td>\n",
       "      <td>0.000000</td>\n",
       "    </tr>\n",
       "    <tr>\n",
       "      <th>3</th>\n",
       "      <td>0.222222</td>\n",
       "      <td>0.333333</td>\n",
       "      <td>0.388889</td>\n",
       "      <td>0.240741</td>\n",
       "      <td>0.203704</td>\n",
       "      <td>0.611111</td>\n",
       "      <td>0.259259</td>\n",
       "      <td>0.518519</td>\n",
       "      <td>0.277778</td>\n",
       "      <td>0.277778</td>\n",
       "      <td>...</td>\n",
       "      <td>0.092593</td>\n",
       "      <td>0.111111</td>\n",
       "      <td>0.148148</td>\n",
       "      <td>0.000000</td>\n",
       "      <td>0.018519</td>\n",
       "      <td>0.148148</td>\n",
       "      <td>0.129630</td>\n",
       "      <td>0.185185</td>\n",
       "      <td>0.166667</td>\n",
       "      <td>0.129630</td>\n",
       "    </tr>\n",
       "    <tr>\n",
       "      <th>4</th>\n",
       "      <td>0.052632</td>\n",
       "      <td>0.078947</td>\n",
       "      <td>0.131579</td>\n",
       "      <td>0.000000</td>\n",
       "      <td>0.000000</td>\n",
       "      <td>0.000000</td>\n",
       "      <td>0.000000</td>\n",
       "      <td>0.000000</td>\n",
       "      <td>0.026316</td>\n",
       "      <td>0.000000</td>\n",
       "      <td>...</td>\n",
       "      <td>0.078947</td>\n",
       "      <td>0.052632</td>\n",
       "      <td>0.052632</td>\n",
       "      <td>0.000000</td>\n",
       "      <td>0.000000</td>\n",
       "      <td>0.052632</td>\n",
       "      <td>0.078947</td>\n",
       "      <td>0.026316</td>\n",
       "      <td>0.078947</td>\n",
       "      <td>0.000000</td>\n",
       "    </tr>\n",
       "    <tr>\n",
       "      <th>5</th>\n",
       "      <td>0.048780</td>\n",
       "      <td>0.146341</td>\n",
       "      <td>0.048780</td>\n",
       "      <td>0.048780</td>\n",
       "      <td>0.024390</td>\n",
       "      <td>0.487805</td>\n",
       "      <td>0.048780</td>\n",
       "      <td>0.000000</td>\n",
       "      <td>0.121951</td>\n",
       "      <td>0.073171</td>\n",
       "      <td>...</td>\n",
       "      <td>0.195122</td>\n",
       "      <td>0.097561</td>\n",
       "      <td>0.048780</td>\n",
       "      <td>0.073171</td>\n",
       "      <td>0.024390</td>\n",
       "      <td>0.195122</td>\n",
       "      <td>0.195122</td>\n",
       "      <td>0.146341</td>\n",
       "      <td>0.317073</td>\n",
       "      <td>0.146341</td>\n",
       "    </tr>\n",
       "    <tr>\n",
       "      <th>6</th>\n",
       "      <td>0.000000</td>\n",
       "      <td>0.000000</td>\n",
       "      <td>0.000000</td>\n",
       "      <td>0.000000</td>\n",
       "      <td>0.000000</td>\n",
       "      <td>0.000000</td>\n",
       "      <td>0.000000</td>\n",
       "      <td>0.000000</td>\n",
       "      <td>0.040000</td>\n",
       "      <td>0.280000</td>\n",
       "      <td>...</td>\n",
       "      <td>0.200000</td>\n",
       "      <td>0.040000</td>\n",
       "      <td>0.000000</td>\n",
       "      <td>0.000000</td>\n",
       "      <td>0.120000</td>\n",
       "      <td>0.240000</td>\n",
       "      <td>0.040000</td>\n",
       "      <td>0.280000</td>\n",
       "      <td>0.280000</td>\n",
       "      <td>0.240000</td>\n",
       "    </tr>\n",
       "    <tr>\n",
       "      <th>7</th>\n",
       "      <td>0.000000</td>\n",
       "      <td>0.000000</td>\n",
       "      <td>0.000000</td>\n",
       "      <td>0.000000</td>\n",
       "      <td>0.000000</td>\n",
       "      <td>0.000000</td>\n",
       "      <td>0.000000</td>\n",
       "      <td>0.000000</td>\n",
       "      <td>0.000000</td>\n",
       "      <td>0.000000</td>\n",
       "      <td>...</td>\n",
       "      <td>0.000000</td>\n",
       "      <td>0.000000</td>\n",
       "      <td>0.000000</td>\n",
       "      <td>0.000000</td>\n",
       "      <td>0.000000</td>\n",
       "      <td>0.000000</td>\n",
       "      <td>0.000000</td>\n",
       "      <td>0.000000</td>\n",
       "      <td>0.000000</td>\n",
       "      <td>0.000000</td>\n",
       "    </tr>\n",
       "    <tr>\n",
       "      <th>8</th>\n",
       "      <td>0.000000</td>\n",
       "      <td>0.000000</td>\n",
       "      <td>0.000000</td>\n",
       "      <td>0.000000</td>\n",
       "      <td>0.000000</td>\n",
       "      <td>0.000000</td>\n",
       "      <td>0.000000</td>\n",
       "      <td>0.000000</td>\n",
       "      <td>0.000000</td>\n",
       "      <td>0.000000</td>\n",
       "      <td>...</td>\n",
       "      <td>0.100000</td>\n",
       "      <td>0.100000</td>\n",
       "      <td>0.000000</td>\n",
       "      <td>0.000000</td>\n",
       "      <td>0.000000</td>\n",
       "      <td>0.100000</td>\n",
       "      <td>0.000000</td>\n",
       "      <td>0.100000</td>\n",
       "      <td>0.000000</td>\n",
       "      <td>0.200000</td>\n",
       "    </tr>\n",
       "    <tr>\n",
       "      <th>9</th>\n",
       "      <td>0.000000</td>\n",
       "      <td>0.000000</td>\n",
       "      <td>0.000000</td>\n",
       "      <td>0.000000</td>\n",
       "      <td>0.000000</td>\n",
       "      <td>0.000000</td>\n",
       "      <td>0.000000</td>\n",
       "      <td>0.000000</td>\n",
       "      <td>0.000000</td>\n",
       "      <td>0.000000</td>\n",
       "      <td>...</td>\n",
       "      <td>0.000000</td>\n",
       "      <td>0.000000</td>\n",
       "      <td>0.000000</td>\n",
       "      <td>0.000000</td>\n",
       "      <td>0.000000</td>\n",
       "      <td>0.000000</td>\n",
       "      <td>0.000000</td>\n",
       "      <td>0.250000</td>\n",
       "      <td>0.000000</td>\n",
       "      <td>0.000000</td>\n",
       "    </tr>\n",
       "  </tbody>\n",
       "</table>\n",
       "<p>10 rows × 33 columns</p>\n",
       "</div>"
      ],
      "text/plain": [
       "   one_50dim_wv  one_50dim_glove_origin_lr0003_wd0_dp01_len256  \\\n",
       "0      0.000000                                       0.000000   \n",
       "1      0.363636                                       0.163636   \n",
       "2      0.134615                                       0.307692   \n",
       "3      0.222222                                       0.333333   \n",
       "4      0.052632                                       0.078947   \n",
       "5      0.048780                                       0.146341   \n",
       "6      0.000000                                       0.000000   \n",
       "7      0.000000                                       0.000000   \n",
       "8      0.000000                                       0.000000   \n",
       "9      0.000000                                       0.000000   \n",
       "\n",
       "   pair_200acc_glove_lr0003_wd0_dp04  re2_pair_50dim_wv  \\\n",
       "0                           0.000000           0.000000   \n",
       "1                           0.181818           0.436364   \n",
       "2                           0.442308           0.153846   \n",
       "3                           0.388889           0.240741   \n",
       "4                           0.131579           0.000000   \n",
       "5                           0.048780           0.048780   \n",
       "6                           0.000000           0.000000   \n",
       "7                           0.000000           0.000000   \n",
       "8                           0.000000           0.000000   \n",
       "9                           0.000000           0.000000   \n",
       "\n",
       "   pair_50dim_glove_smooth_lr0003  one_50dim_origin100glove_lr0003_wd0_dp03  \\\n",
       "0                        0.000000                                  0.000000   \n",
       "1                        0.290909                                  0.018182   \n",
       "2                        0.230769                                  0.000000   \n",
       "3                        0.203704                                  0.611111   \n",
       "4                        0.000000                                  0.000000   \n",
       "5                        0.024390                                  0.487805   \n",
       "6                        0.000000                                  0.000000   \n",
       "7                        0.000000                                  0.000000   \n",
       "8                        0.000000                                  0.000000   \n",
       "9                        0.000000                                  0.000000   \n",
       "\n",
       "   pair_200acc_wv_lr0003_label_smooth  one_aa100_wv_glove_lr0003_wd0_dp03  \\\n",
       "0                            0.000000                            0.000000   \n",
       "1                            0.363636                            0.290909   \n",
       "2                            0.134615                            0.442308   \n",
       "3                            0.259259                            0.518519   \n",
       "4                            0.000000                            0.000000   \n",
       "5                            0.048780                            0.000000   \n",
       "6                            0.000000                            0.000000   \n",
       "7                            0.000000                            0.000000   \n",
       "8                            0.000000                            0.000000   \n",
       "9                            0.000000                            0.000000   \n",
       "\n",
       "   one_50dim_glove_lr0002_wd0_dp03_len64  one_200acc_wv_wd0_dp03  ...  \\\n",
       "0                               0.000000                0.058824  ...   \n",
       "1                               0.072727                0.290909  ...   \n",
       "2                               0.403846                0.250000  ...   \n",
       "3                               0.277778                0.277778  ...   \n",
       "4                               0.026316                0.000000  ...   \n",
       "5                               0.121951                0.073171  ...   \n",
       "6                               0.040000                0.280000  ...   \n",
       "7                               0.000000                0.000000  ...   \n",
       "8                               0.000000                0.000000  ...   \n",
       "9                               0.000000                0.000000  ...   \n",
       "\n",
       "   ESIM_glove50.pk  ESIM_wv50_0.003_shuffle_length100_reverse.pk  \\\n",
       "0         0.117647                                      0.000000   \n",
       "1         0.490909                                      0.600000   \n",
       "2         0.173077                                      0.307692   \n",
       "3         0.092593                                      0.111111   \n",
       "4         0.078947                                      0.052632   \n",
       "5         0.195122                                      0.097561   \n",
       "6         0.200000                                      0.040000   \n",
       "7         0.000000                                      0.000000   \n",
       "8         0.100000                                      0.100000   \n",
       "9         0.000000                                      0.000000   \n",
       "\n",
       "   ESIM_wv200.pk  ESIM_Single_wv50_0.003_shuffle_length100_reverse.pk  \\\n",
       "0       0.000000                                           0.176471     \n",
       "1       0.709091                                           0.763636     \n",
       "2       0.173077                                           0.019231     \n",
       "3       0.148148                                           0.000000     \n",
       "4       0.052632                                           0.000000     \n",
       "5       0.048780                                           0.073171     \n",
       "6       0.000000                                           0.000000     \n",
       "7       0.000000                                           0.000000     \n",
       "8       0.000000                                           0.000000     \n",
       "9       0.000000                                           0.000000     \n",
       "\n",
       "   ESIM_Single_glove50.pk  ESIM_glove200.pk  \\\n",
       "0                0.764706          0.058824   \n",
       "1                0.090909          0.345455   \n",
       "2                0.038462          0.115385   \n",
       "3                0.018519          0.148148   \n",
       "4                0.000000          0.052632   \n",
       "5                0.024390          0.195122   \n",
       "6                0.120000          0.240000   \n",
       "7                0.000000          0.000000   \n",
       "8                0.000000          0.100000   \n",
       "9                0.000000          0.000000   \n",
       "\n",
       "   ESIM_Single_wv50_0.3_shuffle_length100_reverse.pk  \\\n",
       "0                                           0.000000   \n",
       "1                                           0.509091   \n",
       "2                                           0.230769   \n",
       "3                                           0.129630   \n",
       "4                                           0.078947   \n",
       "5                                           0.195122   \n",
       "6                                           0.040000   \n",
       "7                                           0.000000   \n",
       "8                                           0.000000   \n",
       "9                                           0.000000   \n",
       "\n",
       "   ESIM_Single_glove50_0.003_shuffle_length88_reverse.pk  \\\n",
       "0                                           0.117647       \n",
       "1                                           0.418182       \n",
       "2                                           0.096154       \n",
       "3                                           0.185185       \n",
       "4                                           0.026316       \n",
       "5                                           0.146341       \n",
       "6                                           0.280000       \n",
       "7                                           0.000000       \n",
       "8                                           0.100000       \n",
       "9                                           0.250000       \n",
       "\n",
       "   transformer_glove50_shuffle.pk  ESIM_Single_glove200.pk  \n",
       "0                        0.000000                 0.176471  \n",
       "1                        0.472727                 0.545455  \n",
       "2                        0.076923                 0.000000  \n",
       "3                        0.166667                 0.129630  \n",
       "4                        0.078947                 0.000000  \n",
       "5                        0.317073                 0.146341  \n",
       "6                        0.280000                 0.240000  \n",
       "7                        0.000000                 0.000000  \n",
       "8                        0.000000                 0.200000  \n",
       "9                        0.000000                 0.000000  \n",
       "\n",
       "[10 rows x 33 columns]"
      ]
     },
     "execution_count": 15,
     "metadata": {},
     "output_type": "execute_result"
    }
   ],
   "source": [
    "def get_df_info(name, target, pre):\n",
    "    right_num = []\n",
    "    c_m = confusion_matrix(target,  pre)\n",
    "    n = pd.DataFrame(c_m).sum(axis= 1)\n",
    "    for i, _ in enumerate(c_m):\n",
    "        right_num.append(c_m[i][i])\n",
    "    df_info = pd.DataFrame()\n",
    "    df_info[name] =  np.array(right_num) / n\n",
    "    return df_info\n",
    "\n",
    "df_infos = []\n",
    "for model_idx in range(len(model_ret_dicts)):\n",
    "    gender_val = model_ret_dicts[model_idx]['train_gender']\n",
    "    age_val = model_ret_dicts[model_idx]['train_age']\n",
    "    gender_pre = np.argmax(gender_val, axis = 1)+ 1\n",
    "    age_pre = np.argmax(age_val, axis = 1)+ 1\n",
    "    acc_gender = accuracy_score(df_label.gender.values, gender_pre) \n",
    "    acc_age = accuracy_score(df_label.age.values, age_pre) \n",
    "    logging.info(\"%s : %f, %f, %f\" % (names[model_idx], acc_gender, acc_age, acc_gender + acc_age)) \n",
    "    df_info = get_df_info(names[model_idx], df_label.age.values, age_pre)\n",
    "    df_infos.append(df_info)\n",
    "pd.concat(df_infos, axis = 1)"
   ]
  },
  {
   "cell_type": "markdown",
   "metadata": {},
   "source": [
    "## 构造stack特征"
   ]
  },
  {
   "cell_type": "code",
   "execution_count": 13,
   "metadata": {},
   "outputs": [],
   "source": [
    "train_x = np.zeros((3000000, 12 * len(model_ret_dicts))).astype('float32')\n",
    "test_x = np.zeros((1000000, 12 * len(model_ret_dicts))).astype('float32')\n",
    "for i in range(len(model_ret_dicts)):\n",
    "    train_x[:, i*12:i*12+2] = model_ret_dicts[i]['train_gender']\n",
    "    train_x[:, i*12+2:i*12+12] = model_ret_dicts[i]['train_age']\n",
    "                  \n",
    "    test_x[:, i*12:i*12+2] = model_ret_dicts[i]['test_gender']                  \n",
    "    test_x[:, i*12+2:i*12+12] = model_ret_dicts[i]['test_age']                  "
   ]
  },
  {
   "cell_type": "code",
   "execution_count": 15,
   "metadata": {},
   "outputs": [
    {
     "data": {
      "text/plain": [
       "((3000000, 404), (1000000, 404))"
      ]
     },
     "execution_count": 15,
     "metadata": {},
     "output_type": "execute_result"
    }
   ],
   "source": [
    "class_20_val_np = np.load('../var/model_ret_dicts/class20_val.npy')\n",
    "class_20_test_np = np.load('../var/model_ret_dicts/class20_test.npy')\n",
    "train_x = np.concatenate([train_x, class_20_val_np], axis=1)\n",
    "test_x = np.concatenate([test_x, class_20_test_np], axis=1)\n",
    "train_x.shape, test_x.shape"
   ]
  },
  {
   "cell_type": "code",
   "execution_count": 16,
   "metadata": {},
   "outputs": [],
   "source": [
    "np.save(\"../var/test_x.npy\",test_x)"
   ]
  },
  {
   "cell_type": "markdown",
   "metadata": {},
   "source": [
    "# stack results"
   ]
  },
  {
   "cell_type": "markdown",
   "metadata": {},
   "source": [
    "## NN"
   ]
  },
  {
   "cell_type": "code",
   "execution_count": 18,
   "metadata": {},
   "outputs": [
    {
     "name": "stderr",
     "output_type": "stream",
     "text": [
      "2020-07-23 12:49:58,742 - INFO - PyTorch version 1.1.0 available.\n",
      "/home/huangweilin/anaconda3/envs/fjw/lib/python3.6/site-packages/tensorflow/python/framework/dtypes.py:523: FutureWarning: Passing (type, 1) or '1type' as a synonym of type is deprecated; in a future version of numpy, it will be understood as (type, (1,)) / '(1,)type'.\n",
      "  _np_qint8 = np.dtype([(\"qint8\", np.int8, 1)])\n",
      "/home/huangweilin/anaconda3/envs/fjw/lib/python3.6/site-packages/tensorflow/python/framework/dtypes.py:524: FutureWarning: Passing (type, 1) or '1type' as a synonym of type is deprecated; in a future version of numpy, it will be understood as (type, (1,)) / '(1,)type'.\n",
      "  _np_quint8 = np.dtype([(\"quint8\", np.uint8, 1)])\n",
      "/home/huangweilin/anaconda3/envs/fjw/lib/python3.6/site-packages/tensorflow/python/framework/dtypes.py:525: FutureWarning: Passing (type, 1) or '1type' as a synonym of type is deprecated; in a future version of numpy, it will be understood as (type, (1,)) / '(1,)type'.\n",
      "  _np_qint16 = np.dtype([(\"qint16\", np.int16, 1)])\n",
      "/home/huangweilin/anaconda3/envs/fjw/lib/python3.6/site-packages/tensorflow/python/framework/dtypes.py:526: FutureWarning: Passing (type, 1) or '1type' as a synonym of type is deprecated; in a future version of numpy, it will be understood as (type, (1,)) / '(1,)type'.\n",
      "  _np_quint16 = np.dtype([(\"quint16\", np.uint16, 1)])\n",
      "/home/huangweilin/anaconda3/envs/fjw/lib/python3.6/site-packages/tensorflow/python/framework/dtypes.py:527: FutureWarning: Passing (type, 1) or '1type' as a synonym of type is deprecated; in a future version of numpy, it will be understood as (type, (1,)) / '(1,)type'.\n",
      "  _np_qint32 = np.dtype([(\"qint32\", np.int32, 1)])\n",
      "/home/huangweilin/anaconda3/envs/fjw/lib/python3.6/site-packages/tensorflow/python/framework/dtypes.py:532: FutureWarning: Passing (type, 1) or '1type' as a synonym of type is deprecated; in a future version of numpy, it will be understood as (type, (1,)) / '(1,)type'.\n",
      "  np_resource = np.dtype([(\"resource\", np.ubyte, 1)])\n"
     ]
    }
   ],
   "source": [
    "from collections import namedtuple\n",
    "import torch\n",
    "import torch.nn.functional as F\n",
    "import torch.utils.data as Data\n",
    "from transformers import *\n",
    "import torch.nn as nn\n",
    "from tqdm import tqdm_notebook as tqdm\n"
   ]
  },
  {
   "cell_type": "markdown",
   "metadata": {},
   "source": [
    "### 调参"
   ]
  },
  {
   "cell_type": "code",
   "execution_count": 19,
   "metadata": {},
   "outputs": [],
   "source": [
    "\n",
    "ARG = namedtuple('ARG', [\n",
    "    'batch_size',\n",
    "    'epoch',\n",
    "    'lr',\n",
    "    'weight_decay',\n",
    "    'n_worker',\n",
    "    'device',\n",
    "    'n_fold'\n",
    "])\n",
    " \n",
    "args = ARG(\n",
    "    batch_size = 1024,\n",
    "    epoch = 10,\n",
    "    lr = 0.005,\n",
    "    weight_decay = 0.1,\n",
    "    n_worker = 0,\n",
    "    n_fold = 5,\n",
    "    device=torch.device(\"cuda:3\"),\n",
    "#     device=torch.device(\"cpu\"),\n",
    "\n",
    ")"
   ]
  },
  {
   "cell_type": "markdown",
   "metadata": {},
   "source": [
    "### model"
   ]
  },
  {
   "cell_type": "code",
   "execution_count": 20,
   "metadata": {
    "code_folding": [
     0,
     4
    ]
   },
   "outputs": [],
   "source": [
    "class GeLU(nn.Module):\n",
    "    def forward(self, x):\n",
    "        return 0.5 * x * (1. + torch.tanh(x * 0.7978845608 * (1. + 0.044715 * x * x)))\n",
    "\n",
    "class Dense(nn.Module):\n",
    "    def __init__(self):\n",
    "        super().__init__()\n",
    "        \n",
    "        in_feature = 12 * len(model_ret_dicts)+20\n",
    "        \n",
    "        hidden = 324\n",
    "        out_feature = 256\n",
    "        self.dense = nn.Sequential(\n",
    "            nn.Linear(in_feature, hidden),\n",
    "            nn.Tanh(),\n",
    "            nn.Linear(hidden, out_feature),\n",
    "        )\n",
    "        self.decode_gender = nn.Linear(out_feature, 2)\n",
    "        self.decode_age = nn.Linear(out_feature, 10)\n",
    "   \n",
    "    def forward(self, x, gender = None, age = None):\n",
    "        \n",
    "        hidden = self.dense(x)\n",
    "        output_gender = self.decode_gender(hidden)\n",
    "        output_age = self.decode_age(hidden)\n",
    "        \n",
    "        if gender is None:\n",
    "            return output_gender, output_age\n",
    "        \n",
    "        ce = nn.CrossEntropyLoss()\n",
    "        loss_gender = ce(output_gender, gender.long())\n",
    "        loss_age = ce(output_age, age.long())\n",
    "        loss = loss_gender + loss_age\n",
    "        return loss, loss_gender, loss_age, output_gender, output_age"
   ]
  },
  {
   "cell_type": "markdown",
   "metadata": {},
   "source": [
    "### trainer"
   ]
  },
  {
   "cell_type": "code",
   "execution_count": 21,
   "metadata": {
    "code_folding": [
     0
    ]
   },
   "outputs": [],
   "source": [
    "def swa(logger, model, model_dir, model_path_list, swa_start):\n",
    "    \"\"\"\n",
    "    :param logger: ...\n",
    "    :param model: ...\n",
    "    :param model_dir: ...\n",
    "    :param model_path_list: this model path list should be increased by steps\n",
    "    :param swa_start: the epoch when averaging begins. (start with 0)\n",
    "    :return: model path list extend with swa model\n",
    "    \"\"\"\n",
    "\n",
    "    assert 1 < swa_start <= len(model_path_list) - 1, \\\n",
    "        f'Using swa, swa start should smaller than {len(model_path_list) - 1} and bigger than 1'\n",
    "\n",
    "    swa_model = copy.deepcopy(model)\n",
    "    swa_n = 0.\n",
    "\n",
    "    with torch.no_grad():\n",
    "        for _ckpt in model_path_list[swa_start:]:\n",
    "            logger.info(f'Load model from {_ckpt}')\n",
    "            model.load_state_dict(torch.load(os.path.join(model_dir, _ckpt, 'model.pt'),\n",
    "                                             map_location=torch.device('cpu')))\n",
    "            tmp_para_dict = dict(model.named_parameters())\n",
    "\n",
    "            alpha = 1. / (swa_n + 1.)\n",
    "\n",
    "            for name, para in swa_model.named_parameters():\n",
    "                para.copy_(tmp_para_dict[name].data.clone() * alpha + para.data.clone() * (1. - alpha))\n",
    "\n",
    "            swa_n += 1\n",
    "\n",
    "    swa_model_dir = os.path.join(model_dir, f'checkpoint-swa_start{swa_start}')\n",
    "    if not os.path.exists(swa_model_dir):\n",
    "        os.mkdir(swa_model_dir)\n",
    "\n",
    "    logger.info('Save swa model')\n",
    "\n",
    "    torch.save(swa_model.state_dict(), os.path.join(swa_model_dir, 'model.pt'))\n",
    "\n",
    "    model_path_list.append(f'checkpoint-swa_start{swa_start}')\n",
    "\n",
    "    return model_path_list"
   ]
  },
  {
   "cell_type": "code",
   "execution_count": 22,
   "metadata": {
    "code_folding": [
     1,
     24,
     33,
     65,
     103
    ],
    "scrolled": true
   },
   "outputs": [
    {
     "name": "stderr",
     "output_type": "stream",
     "text": [
      "2020-07-23 12:50:29,353 - INFO - train number 2400000, val number 600000\n",
      "/home/huangweilin/anaconda3/envs/fjw/lib/python3.6/site-packages/ipykernel_launcher.py:69: TqdmDeprecationWarning: This function will be removed in tqdm==5.0.0\n",
      "Please use `tqdm.notebook.tqdm` instead of `tqdm.tqdm_notebook`\n"
     ]
    },
    {
     "data": {
      "application/vnd.jupyter.widget-view+json": {
       "model_id": "b673e4b27baa41edbcfff5cd4d16710b",
       "version_major": 2,
       "version_minor": 0
      },
      "text/plain": [
       "HBox(children=(IntProgress(value=0, max=2344), HTML(value='')))"
      ]
     },
     "metadata": {},
     "output_type": "display_data"
    },
    {
     "name": "stdout",
     "output_type": "stream",
     "text": [
      "\n"
     ]
    },
    {
     "name": "stderr",
     "output_type": "stream",
     "text": [
      "/home/huangweilin/anaconda3/envs/fjw/lib/python3.6/site-packages/ipykernel_launcher.py:15: TqdmDeprecationWarning: This function will be removed in tqdm==5.0.0\n",
      "Please use `tqdm.notebook.tqdm` instead of `tqdm.tqdm_notebook`\n",
      "  from ipykernel import kernelapp as app\n"
     ]
    },
    {
     "data": {
      "application/vnd.jupyter.widget-view+json": {
       "model_id": "a660c1ad01834bb798f87a973087eb1b",
       "version_major": 2,
       "version_minor": 0
      },
      "text/plain": [
       "HBox(children=(IntProgress(value=0, max=586), HTML(value='')))"
      ]
     },
     "metadata": {},
     "output_type": "display_data"
    },
    {
     "name": "stderr",
     "output_type": "stream",
     "text": [
      "2020-07-23 12:51:22,102 - INFO - flod 0 epoch 0 : \n",
      " loss: 1.362071 loss_gender : 0.159777, loss_age : 1.202294, gender : 0.000000, 0.946612, age : 0.000000, 0.521302, score : 1.467913\n"
     ]
    },
    {
     "name": "stdout",
     "output_type": "stream",
     "text": [
      "\n"
     ]
    },
    {
     "data": {
      "application/vnd.jupyter.widget-view+json": {
       "model_id": "d2ecdb3a7ee149a38aae1cf48f6adc9f",
       "version_major": 2,
       "version_minor": 0
      },
      "text/plain": [
       "HBox(children=(IntProgress(value=0, max=2344), HTML(value='')))"
      ]
     },
     "metadata": {},
     "output_type": "display_data"
    },
    {
     "name": "stdout",
     "output_type": "stream",
     "text": [
      "\n"
     ]
    },
    {
     "data": {
      "application/vnd.jupyter.widget-view+json": {
       "model_id": "c80721df0d5b4f02afea0e6f9181c9ea",
       "version_major": 2,
       "version_minor": 0
      },
      "text/plain": [
       "HBox(children=(IntProgress(value=0, max=586), HTML(value='')))"
      ]
     },
     "metadata": {},
     "output_type": "display_data"
    },
    {
     "name": "stderr",
     "output_type": "stream",
     "text": [
      "2020-07-23 12:52:11,114 - INFO - flod 0 epoch 1 : \n",
      " loss: 1.301298 loss_gender : 0.145754, loss_age : 1.155543, gender : 0.000000, 0.950927, age : 0.000000, 0.520672, score : 1.471598\n"
     ]
    },
    {
     "name": "stdout",
     "output_type": "stream",
     "text": [
      "\n"
     ]
    },
    {
     "data": {
      "application/vnd.jupyter.widget-view+json": {
       "model_id": "0594d6a381d942909a006668b8c62255",
       "version_major": 2,
       "version_minor": 0
      },
      "text/plain": [
       "HBox(children=(IntProgress(value=0, max=2344), HTML(value='')))"
      ]
     },
     "metadata": {},
     "output_type": "display_data"
    },
    {
     "name": "stdout",
     "output_type": "stream",
     "text": [
      "\n"
     ]
    },
    {
     "data": {
      "application/vnd.jupyter.widget-view+json": {
       "model_id": "57d330f565044fd59eb3a2775d0cd0d4",
       "version_major": 2,
       "version_minor": 0
      },
      "text/plain": [
       "HBox(children=(IntProgress(value=0, max=586), HTML(value='')))"
      ]
     },
     "metadata": {},
     "output_type": "display_data"
    },
    {
     "name": "stderr",
     "output_type": "stream",
     "text": [
      "2020-07-23 12:52:58,576 - INFO - flod 0 epoch 2 : \n",
      " loss: 1.294762 loss_gender : 0.144794, loss_age : 1.149968, gender : 0.000000, 0.950952, age : 0.000000, 0.523397, score : 1.474348\n"
     ]
    },
    {
     "name": "stdout",
     "output_type": "stream",
     "text": [
      "\n"
     ]
    },
    {
     "data": {
      "application/vnd.jupyter.widget-view+json": {
       "model_id": "de0e5de397fa487f8fdbe4504956ae2b",
       "version_major": 2,
       "version_minor": 0
      },
      "text/plain": [
       "HBox(children=(IntProgress(value=0, max=2344), HTML(value='')))"
      ]
     },
     "metadata": {},
     "output_type": "display_data"
    },
    {
     "name": "stdout",
     "output_type": "stream",
     "text": [
      "\n"
     ]
    },
    {
     "data": {
      "application/vnd.jupyter.widget-view+json": {
       "model_id": "77f6395f354343eca1ff9a3f1a3fd674",
       "version_major": 2,
       "version_minor": 0
      },
      "text/plain": [
       "HBox(children=(IntProgress(value=0, max=586), HTML(value='')))"
      ]
     },
     "metadata": {},
     "output_type": "display_data"
    },
    {
     "name": "stderr",
     "output_type": "stream",
     "text": [
      "2020-07-23 12:53:50,300 - INFO - flod 0 epoch 3 : \n",
      " loss: 1.292180 loss_gender : 0.144414, loss_age : 1.147765, gender : 0.000000, 0.950700, age : 0.000000, 0.524023, score : 1.474723\n"
     ]
    },
    {
     "name": "stdout",
     "output_type": "stream",
     "text": [
      "\n"
     ]
    },
    {
     "data": {
      "application/vnd.jupyter.widget-view+json": {
       "model_id": "fd6d8286611248a0bfefd8b4fee96fac",
       "version_major": 2,
       "version_minor": 0
      },
      "text/plain": [
       "HBox(children=(IntProgress(value=0, max=2344), HTML(value='')))"
      ]
     },
     "metadata": {},
     "output_type": "display_data"
    },
    {
     "name": "stdout",
     "output_type": "stream",
     "text": [
      "\n"
     ]
    },
    {
     "data": {
      "application/vnd.jupyter.widget-view+json": {
       "model_id": "be5ac5c0e7e147aba564b1d38e0c972e",
       "version_major": 2,
       "version_minor": 0
      },
      "text/plain": [
       "HBox(children=(IntProgress(value=0, max=586), HTML(value='')))"
      ]
     },
     "metadata": {},
     "output_type": "display_data"
    },
    {
     "name": "stderr",
     "output_type": "stream",
     "text": [
      "2020-07-23 12:54:41,028 - INFO - flod 0 epoch 4 : \n",
      " loss: 1.289824 loss_gender : 0.144101, loss_age : 1.145724, gender : 0.000000, 0.951155, age : 0.000000, 0.523373, score : 1.474528\n"
     ]
    },
    {
     "name": "stdout",
     "output_type": "stream",
     "text": [
      "\n"
     ]
    },
    {
     "data": {
      "application/vnd.jupyter.widget-view+json": {
       "model_id": "d9c15afa150d45939f2e762303505c0c",
       "version_major": 2,
       "version_minor": 0
      },
      "text/plain": [
       "HBox(children=(IntProgress(value=0, max=2344), HTML(value='')))"
      ]
     },
     "metadata": {},
     "output_type": "display_data"
    },
    {
     "name": "stdout",
     "output_type": "stream",
     "text": [
      "\n"
     ]
    },
    {
     "data": {
      "application/vnd.jupyter.widget-view+json": {
       "model_id": "a52601797b704192aa9e3e84a2aa6111",
       "version_major": 2,
       "version_minor": 0
      },
      "text/plain": [
       "HBox(children=(IntProgress(value=0, max=586), HTML(value='')))"
      ]
     },
     "metadata": {},
     "output_type": "display_data"
    },
    {
     "name": "stderr",
     "output_type": "stream",
     "text": [
      "2020-07-23 12:55:30,560 - INFO - flod 0 epoch 5 : \n",
      " loss: 1.287188 loss_gender : 0.143734, loss_age : 1.143455, gender : 0.000000, 0.951158, age : 0.000000, 0.522895, score : 1.474053\n"
     ]
    },
    {
     "name": "stdout",
     "output_type": "stream",
     "text": [
      "\n"
     ]
    },
    {
     "data": {
      "application/vnd.jupyter.widget-view+json": {
       "model_id": "b81c33df5c1e4b00b3764d1f0b867acf",
       "version_major": 2,
       "version_minor": 0
      },
      "text/plain": [
       "HBox(children=(IntProgress(value=0, max=2344), HTML(value='')))"
      ]
     },
     "metadata": {},
     "output_type": "display_data"
    },
    {
     "name": "stdout",
     "output_type": "stream",
     "text": [
      "\n"
     ]
    },
    {
     "data": {
      "application/vnd.jupyter.widget-view+json": {
       "model_id": "5a9b4a09a5a9464a98bb23a9de784ce7",
       "version_major": 2,
       "version_minor": 0
      },
      "text/plain": [
       "HBox(children=(IntProgress(value=0, max=586), HTML(value='')))"
      ]
     },
     "metadata": {},
     "output_type": "display_data"
    },
    {
     "name": "stderr",
     "output_type": "stream",
     "text": [
      "2020-07-23 12:56:16,249 - INFO - flod 0 epoch 6 : \n",
      " loss: 1.285073 loss_gender : 0.143374, loss_age : 1.141699, gender : 0.000000, 0.950652, age : 0.000000, 0.523367, score : 1.474018\n"
     ]
    },
    {
     "name": "stdout",
     "output_type": "stream",
     "text": [
      "\n"
     ]
    },
    {
     "data": {
      "application/vnd.jupyter.widget-view+json": {
       "model_id": "cf063bd806e246e2931950d95c67d8d4",
       "version_major": 2,
       "version_minor": 0
      },
      "text/plain": [
       "HBox(children=(IntProgress(value=0, max=2344), HTML(value='')))"
      ]
     },
     "metadata": {},
     "output_type": "display_data"
    },
    {
     "name": "stdout",
     "output_type": "stream",
     "text": [
      "\n"
     ]
    },
    {
     "data": {
      "application/vnd.jupyter.widget-view+json": {
       "model_id": "39652a7d2bed4160b34f2ba8c8c81236",
       "version_major": 2,
       "version_minor": 0
      },
      "text/plain": [
       "HBox(children=(IntProgress(value=0, max=586), HTML(value='')))"
      ]
     },
     "metadata": {},
     "output_type": "display_data"
    },
    {
     "name": "stderr",
     "output_type": "stream",
     "text": [
      "2020-07-23 12:57:02,810 - INFO - flod 0 epoch 7 : \n",
      " loss: 1.282670 loss_gender : 0.143023, loss_age : 1.139647, gender : 0.000000, 0.951207, age : 0.000000, 0.527010, score : 1.478217\n"
     ]
    },
    {
     "name": "stdout",
     "output_type": "stream",
     "text": [
      "\n"
     ]
    },
    {
     "data": {
      "application/vnd.jupyter.widget-view+json": {
       "model_id": "f37fa87aa8a647b59e7d6e73ab16b1a7",
       "version_major": 2,
       "version_minor": 0
      },
      "text/plain": [
       "HBox(children=(IntProgress(value=0, max=2344), HTML(value='')))"
      ]
     },
     "metadata": {},
     "output_type": "display_data"
    },
    {
     "name": "stdout",
     "output_type": "stream",
     "text": [
      "\n"
     ]
    },
    {
     "data": {
      "application/vnd.jupyter.widget-view+json": {
       "model_id": "ad97304403df4cf29018f79b4839d3a9",
       "version_major": 2,
       "version_minor": 0
      },
      "text/plain": [
       "HBox(children=(IntProgress(value=0, max=586), HTML(value='')))"
      ]
     },
     "metadata": {},
     "output_type": "display_data"
    },
    {
     "name": "stderr",
     "output_type": "stream",
     "text": [
      "2020-07-23 12:57:51,124 - INFO - flod 0 epoch 8 : \n",
      " loss: 1.280060 loss_gender : 0.142592, loss_age : 1.137468, gender : 0.000000, 0.951163, age : 0.000000, 0.527673, score : 1.478837\n"
     ]
    },
    {
     "name": "stdout",
     "output_type": "stream",
     "text": [
      "\n"
     ]
    },
    {
     "data": {
      "application/vnd.jupyter.widget-view+json": {
       "model_id": "af84b50d0eac4f48a546d466afd81c87",
       "version_major": 2,
       "version_minor": 0
      },
      "text/plain": [
       "HBox(children=(IntProgress(value=0, max=2344), HTML(value='')))"
      ]
     },
     "metadata": {},
     "output_type": "display_data"
    },
    {
     "name": "stdout",
     "output_type": "stream",
     "text": [
      "\n"
     ]
    },
    {
     "data": {
      "application/vnd.jupyter.widget-view+json": {
       "model_id": "c3996a7f8281483d8df598f35f7e31ad",
       "version_major": 2,
       "version_minor": 0
      },
      "text/plain": [
       "HBox(children=(IntProgress(value=0, max=586), HTML(value='')))"
      ]
     },
     "metadata": {},
     "output_type": "display_data"
    },
    {
     "name": "stderr",
     "output_type": "stream",
     "text": [
      "2020-07-23 12:58:36,809 - INFO - flod 0 epoch 9 : \n",
      " loss: 1.277299 loss_gender : 0.142152, loss_age : 1.135146, gender : 0.000000, 0.951283, age : 0.000000, 0.527677, score : 1.478960\n"
     ]
    },
    {
     "name": "stdout",
     "output_type": "stream",
     "text": [
      "\n"
     ]
    },
    {
     "data": {
      "application/vnd.jupyter.widget-view+json": {
       "model_id": "1e7b5d33403f430597ba8613ddb56343",
       "version_major": 2,
       "version_minor": 0
      },
      "text/plain": [
       "HBox(children=(IntProgress(value=0, max=586), HTML(value='')))"
      ]
     },
     "metadata": {},
     "output_type": "display_data"
    },
    {
     "name": "stdout",
     "output_type": "stream",
     "text": [
      "\n"
     ]
    },
    {
     "data": {
      "application/vnd.jupyter.widget-view+json": {
       "model_id": "297d96ab577c48d58466f244cdcb49b3",
       "version_major": 2,
       "version_minor": 0
      },
      "text/plain": [
       "HBox(children=(IntProgress(value=0, max=977), HTML(value='')))"
      ]
     },
     "metadata": {},
     "output_type": "display_data"
    },
    {
     "name": "stdout",
     "output_type": "stream",
     "text": [
      "\n"
     ]
    },
    {
     "name": "stderr",
     "output_type": "stream",
     "text": [
      "2020-07-23 12:58:49,185 - INFO - train number 2400000, val number 600000\n"
     ]
    },
    {
     "data": {
      "application/vnd.jupyter.widget-view+json": {
       "model_id": "7469547dc9e14c43ac07fc88da45d1de",
       "version_major": 2,
       "version_minor": 0
      },
      "text/plain": [
       "HBox(children=(IntProgress(value=0, max=2344), HTML(value='')))"
      ]
     },
     "metadata": {},
     "output_type": "display_data"
    },
    {
     "name": "stdout",
     "output_type": "stream",
     "text": [
      "\n"
     ]
    },
    {
     "data": {
      "application/vnd.jupyter.widget-view+json": {
       "model_id": "655a035e2e474a6e82311601aee1cd54",
       "version_major": 2,
       "version_minor": 0
      },
      "text/plain": [
       "HBox(children=(IntProgress(value=0, max=586), HTML(value='')))"
      ]
     },
     "metadata": {},
     "output_type": "display_data"
    },
    {
     "name": "stderr",
     "output_type": "stream",
     "text": [
      "2020-07-23 12:59:35,742 - INFO - flod 1 epoch 0 : \n",
      " loss: 1.361187 loss_gender : 0.158764, loss_age : 1.202423, gender : 0.000000, 0.950668, age : 0.000000, 0.514393, score : 1.465062\n"
     ]
    },
    {
     "name": "stdout",
     "output_type": "stream",
     "text": [
      "\n"
     ]
    },
    {
     "data": {
      "application/vnd.jupyter.widget-view+json": {
       "model_id": "c00a6c16bf784327b3966063dfe571e4",
       "version_major": 2,
       "version_minor": 0
      },
      "text/plain": [
       "HBox(children=(IntProgress(value=0, max=2344), HTML(value='')))"
      ]
     },
     "metadata": {},
     "output_type": "display_data"
    },
    {
     "name": "stdout",
     "output_type": "stream",
     "text": [
      "\n"
     ]
    },
    {
     "data": {
      "application/vnd.jupyter.widget-view+json": {
       "model_id": "8a779907adfc49b0b28c35be45200bef",
       "version_major": 2,
       "version_minor": 0
      },
      "text/plain": [
       "HBox(children=(IntProgress(value=0, max=586), HTML(value='')))"
      ]
     },
     "metadata": {},
     "output_type": "display_data"
    },
    {
     "name": "stderr",
     "output_type": "stream",
     "text": [
      "2020-07-23 13:00:23,199 - INFO - flod 1 epoch 1 : \n",
      " loss: 1.300878 loss_gender : 0.145799, loss_age : 1.155080, gender : 0.000000, 0.950963, age : 0.000000, 0.514738, score : 1.465702\n"
     ]
    },
    {
     "name": "stdout",
     "output_type": "stream",
     "text": [
      "\n"
     ]
    },
    {
     "data": {
      "application/vnd.jupyter.widget-view+json": {
       "model_id": "5ff51c6fc2374970a1bc714e8a3bcee5",
       "version_major": 2,
       "version_minor": 0
      },
      "text/plain": [
       "HBox(children=(IntProgress(value=0, max=2344), HTML(value='')))"
      ]
     },
     "metadata": {},
     "output_type": "display_data"
    },
    {
     "name": "stdout",
     "output_type": "stream",
     "text": [
      "\n"
     ]
    },
    {
     "data": {
      "application/vnd.jupyter.widget-view+json": {
       "model_id": "0d054c256327436bbd91a1ff0ce8d396",
       "version_major": 2,
       "version_minor": 0
      },
      "text/plain": [
       "HBox(children=(IntProgress(value=0, max=586), HTML(value='')))"
      ]
     },
     "metadata": {},
     "output_type": "display_data"
    },
    {
     "name": "stderr",
     "output_type": "stream",
     "text": [
      "2020-07-23 13:01:11,891 - INFO - flod 1 epoch 2 : \n",
      " loss: 1.295336 loss_gender : 0.145049, loss_age : 1.150287, gender : 0.000000, 0.951040, age : 0.000000, 0.519700, score : 1.470740\n"
     ]
    },
    {
     "name": "stdout",
     "output_type": "stream",
     "text": [
      "\n"
     ]
    },
    {
     "data": {
      "application/vnd.jupyter.widget-view+json": {
       "model_id": "88e2885e32c542fba963e420d76b34ba",
       "version_major": 2,
       "version_minor": 0
      },
      "text/plain": [
       "HBox(children=(IntProgress(value=0, max=2344), HTML(value='')))"
      ]
     },
     "metadata": {},
     "output_type": "display_data"
    },
    {
     "name": "stdout",
     "output_type": "stream",
     "text": [
      "\n"
     ]
    },
    {
     "data": {
      "application/vnd.jupyter.widget-view+json": {
       "model_id": "fff36305c4744964a252b428516d6c3f",
       "version_major": 2,
       "version_minor": 0
      },
      "text/plain": [
       "HBox(children=(IntProgress(value=0, max=586), HTML(value='')))"
      ]
     },
     "metadata": {},
     "output_type": "display_data"
    },
    {
     "name": "stderr",
     "output_type": "stream",
     "text": [
      "2020-07-23 13:02:03,481 - INFO - flod 1 epoch 3 : \n",
      " loss: 1.292313 loss_gender : 0.144523, loss_age : 1.147790, gender : 0.000000, 0.950917, age : 0.000000, 0.521223, score : 1.472140\n"
     ]
    },
    {
     "name": "stdout",
     "output_type": "stream",
     "text": [
      "\n"
     ]
    },
    {
     "data": {
      "application/vnd.jupyter.widget-view+json": {
       "model_id": "135bbcaded1a4ed08c29573ac4ac92b5",
       "version_major": 2,
       "version_minor": 0
      },
      "text/plain": [
       "HBox(children=(IntProgress(value=0, max=2344), HTML(value='')))"
      ]
     },
     "metadata": {},
     "output_type": "display_data"
    },
    {
     "name": "stdout",
     "output_type": "stream",
     "text": [
      "\n"
     ]
    },
    {
     "data": {
      "application/vnd.jupyter.widget-view+json": {
       "model_id": "957c3d809d80441ea4f07d2ffb90a0da",
       "version_major": 2,
       "version_minor": 0
      },
      "text/plain": [
       "HBox(children=(IntProgress(value=0, max=586), HTML(value='')))"
      ]
     },
     "metadata": {},
     "output_type": "display_data"
    },
    {
     "name": "stdout",
     "output_type": "stream",
     "text": [
      "\n"
     ]
    },
    {
     "name": "stderr",
     "output_type": "stream",
     "text": [
      "2020-07-23 13:02:55,218 - INFO - flod 1 epoch 4 : \n",
      " loss: 1.289796 loss_gender : 0.144048, loss_age : 1.145747, gender : 0.000000, 0.950660, age : 0.000000, 0.524025, score : 1.474685\n"
     ]
    },
    {
     "data": {
      "application/vnd.jupyter.widget-view+json": {
       "model_id": "0757b142e7e045f6917e0eaec4f63991",
       "version_major": 2,
       "version_minor": 0
      },
      "text/plain": [
       "HBox(children=(IntProgress(value=0, max=2344), HTML(value='')))"
      ]
     },
     "metadata": {},
     "output_type": "display_data"
    },
    {
     "name": "stdout",
     "output_type": "stream",
     "text": [
      "\n"
     ]
    },
    {
     "data": {
      "application/vnd.jupyter.widget-view+json": {
       "model_id": "2af41957ec514d709a0e9122e914d1a5",
       "version_major": 2,
       "version_minor": 0
      },
      "text/plain": [
       "HBox(children=(IntProgress(value=0, max=586), HTML(value='')))"
      ]
     },
     "metadata": {},
     "output_type": "display_data"
    },
    {
     "name": "stderr",
     "output_type": "stream",
     "text": [
      "2020-07-23 13:03:45,203 - INFO - flod 1 epoch 5 : \n",
      " loss: 1.287235 loss_gender : 0.143782, loss_age : 1.143452, gender : 0.000000, 0.951033, age : 0.000000, 0.524600, score : 1.475633\n"
     ]
    },
    {
     "name": "stdout",
     "output_type": "stream",
     "text": [
      "\n"
     ]
    },
    {
     "data": {
      "application/vnd.jupyter.widget-view+json": {
       "model_id": "924bbfb7afd1497caef8bc5b0c05c3e1",
       "version_major": 2,
       "version_minor": 0
      },
      "text/plain": [
       "HBox(children=(IntProgress(value=0, max=2344), HTML(value='')))"
      ]
     },
     "metadata": {},
     "output_type": "display_data"
    },
    {
     "name": "stdout",
     "output_type": "stream",
     "text": [
      "\n"
     ]
    },
    {
     "data": {
      "application/vnd.jupyter.widget-view+json": {
       "model_id": "696750428bc742fd8b7390b81a4f9849",
       "version_major": 2,
       "version_minor": 0
      },
      "text/plain": [
       "HBox(children=(IntProgress(value=0, max=586), HTML(value='')))"
      ]
     },
     "metadata": {},
     "output_type": "display_data"
    },
    {
     "name": "stderr",
     "output_type": "stream",
     "text": [
      "2020-07-23 13:04:36,869 - INFO - flod 1 epoch 6 : \n",
      " loss: 1.285148 loss_gender : 0.143321, loss_age : 1.141827, gender : 0.000000, 0.951102, age : 0.000000, 0.526193, score : 1.477295\n"
     ]
    },
    {
     "name": "stdout",
     "output_type": "stream",
     "text": [
      "\n"
     ]
    },
    {
     "data": {
      "application/vnd.jupyter.widget-view+json": {
       "model_id": "355607ea6ed54365b7cd1150cee71b16",
       "version_major": 2,
       "version_minor": 0
      },
      "text/plain": [
       "HBox(children=(IntProgress(value=0, max=2344), HTML(value='')))"
      ]
     },
     "metadata": {},
     "output_type": "display_data"
    },
    {
     "name": "stdout",
     "output_type": "stream",
     "text": [
      "\n"
     ]
    },
    {
     "data": {
      "application/vnd.jupyter.widget-view+json": {
       "model_id": "5f38fd5427684e9eb0c41deb079e6407",
       "version_major": 2,
       "version_minor": 0
      },
      "text/plain": [
       "HBox(children=(IntProgress(value=0, max=586), HTML(value='')))"
      ]
     },
     "metadata": {},
     "output_type": "display_data"
    },
    {
     "name": "stderr",
     "output_type": "stream",
     "text": [
      "2020-07-23 13:05:24,787 - INFO - flod 1 epoch 7 : \n",
      " loss: 1.282424 loss_gender : 0.142968, loss_age : 1.139456, gender : 0.000000, 0.951037, age : 0.000000, 0.526285, score : 1.477322\n"
     ]
    },
    {
     "name": "stdout",
     "output_type": "stream",
     "text": [
      "\n"
     ]
    },
    {
     "data": {
      "application/vnd.jupyter.widget-view+json": {
       "model_id": "0258da5f959944a789e64572bd822d2c",
       "version_major": 2,
       "version_minor": 0
      },
      "text/plain": [
       "HBox(children=(IntProgress(value=0, max=2344), HTML(value='')))"
      ]
     },
     "metadata": {},
     "output_type": "display_data"
    },
    {
     "name": "stdout",
     "output_type": "stream",
     "text": [
      "\n"
     ]
    },
    {
     "data": {
      "application/vnd.jupyter.widget-view+json": {
       "model_id": "2b3a8a816bf44febae0ba931ca1cca91",
       "version_major": 2,
       "version_minor": 0
      },
      "text/plain": [
       "HBox(children=(IntProgress(value=0, max=586), HTML(value='')))"
      ]
     },
     "metadata": {},
     "output_type": "display_data"
    },
    {
     "name": "stderr",
     "output_type": "stream",
     "text": [
      "2020-07-23 13:06:12,096 - INFO - flod 1 epoch 8 : \n",
      " loss: 1.279967 loss_gender : 0.142563, loss_age : 1.137404, gender : 0.000000, 0.950998, age : 0.000000, 0.526637, score : 1.477635\n"
     ]
    },
    {
     "name": "stdout",
     "output_type": "stream",
     "text": [
      "\n"
     ]
    },
    {
     "data": {
      "application/vnd.jupyter.widget-view+json": {
       "model_id": "c8c26f7cb358473492fa4b3cf61b0f27",
       "version_major": 2,
       "version_minor": 0
      },
      "text/plain": [
       "HBox(children=(IntProgress(value=0, max=2344), HTML(value='')))"
      ]
     },
     "metadata": {},
     "output_type": "display_data"
    },
    {
     "name": "stdout",
     "output_type": "stream",
     "text": [
      "\n"
     ]
    },
    {
     "data": {
      "application/vnd.jupyter.widget-view+json": {
       "model_id": "084febf808234e94b86ae0724f0ab65f",
       "version_major": 2,
       "version_minor": 0
      },
      "text/plain": [
       "HBox(children=(IntProgress(value=0, max=586), HTML(value='')))"
      ]
     },
     "metadata": {},
     "output_type": "display_data"
    },
    {
     "name": "stderr",
     "output_type": "stream",
     "text": [
      "2020-07-23 13:06:57,265 - INFO - flod 1 epoch 9 : \n",
      " loss: 1.277228 loss_gender : 0.142105, loss_age : 1.135123, gender : 0.000000, 0.951198, age : 0.000000, 0.527748, score : 1.478947\n"
     ]
    },
    {
     "name": "stdout",
     "output_type": "stream",
     "text": [
      "\n"
     ]
    },
    {
     "data": {
      "application/vnd.jupyter.widget-view+json": {
       "model_id": "7e33173c9049421897c6cd77bad779ef",
       "version_major": 2,
       "version_minor": 0
      },
      "text/plain": [
       "HBox(children=(IntProgress(value=0, max=586), HTML(value='')))"
      ]
     },
     "metadata": {},
     "output_type": "display_data"
    },
    {
     "name": "stdout",
     "output_type": "stream",
     "text": [
      "\n"
     ]
    },
    {
     "data": {
      "application/vnd.jupyter.widget-view+json": {
       "model_id": "6012f56824ec403a84e08678aaf3cf05",
       "version_major": 2,
       "version_minor": 0
      },
      "text/plain": [
       "HBox(children=(IntProgress(value=0, max=977), HTML(value='')))"
      ]
     },
     "metadata": {},
     "output_type": "display_data"
    },
    {
     "name": "stdout",
     "output_type": "stream",
     "text": [
      "\n"
     ]
    },
    {
     "name": "stderr",
     "output_type": "stream",
     "text": [
      "2020-07-23 13:07:09,997 - INFO - train number 2400000, val number 600000\n"
     ]
    },
    {
     "data": {
      "application/vnd.jupyter.widget-view+json": {
       "model_id": "69b7c104171d4816976ef41955275442",
       "version_major": 2,
       "version_minor": 0
      },
      "text/plain": [
       "HBox(children=(IntProgress(value=0, max=2344), HTML(value='')))"
      ]
     },
     "metadata": {},
     "output_type": "display_data"
    },
    {
     "name": "stdout",
     "output_type": "stream",
     "text": [
      "\n"
     ]
    },
    {
     "data": {
      "application/vnd.jupyter.widget-view+json": {
       "model_id": "e4e1812eba934aeca2c63ec2357ae358",
       "version_major": 2,
       "version_minor": 0
      },
      "text/plain": [
       "HBox(children=(IntProgress(value=0, max=586), HTML(value='')))"
      ]
     },
     "metadata": {},
     "output_type": "display_data"
    },
    {
     "name": "stderr",
     "output_type": "stream",
     "text": [
      "2020-07-23 13:07:55,295 - INFO - flod 2 epoch 0 : \n",
      " loss: 1.364243 loss_gender : 0.159891, loss_age : 1.204352, gender : 0.000000, 0.950498, age : 0.000000, 0.522378, score : 1.472877\n"
     ]
    },
    {
     "name": "stdout",
     "output_type": "stream",
     "text": [
      "\n"
     ]
    },
    {
     "data": {
      "application/vnd.jupyter.widget-view+json": {
       "model_id": "e2f1d8a92c6f4f5d98569e747410befa",
       "version_major": 2,
       "version_minor": 0
      },
      "text/plain": [
       "HBox(children=(IntProgress(value=0, max=2344), HTML(value='')))"
      ]
     },
     "metadata": {},
     "output_type": "display_data"
    },
    {
     "name": "stdout",
     "output_type": "stream",
     "text": [
      "\n"
     ]
    },
    {
     "data": {
      "application/vnd.jupyter.widget-view+json": {
       "model_id": "e598d07cba2c4bbc89c8c994cb6bf635",
       "version_major": 2,
       "version_minor": 0
      },
      "text/plain": [
       "HBox(children=(IntProgress(value=0, max=586), HTML(value='')))"
      ]
     },
     "metadata": {},
     "output_type": "display_data"
    },
    {
     "name": "stderr",
     "output_type": "stream",
     "text": [
      "2020-07-23 13:08:45,379 - INFO - flod 2 epoch 1 : \n",
      " loss: 1.300824 loss_gender : 0.145446, loss_age : 1.155378, gender : 0.000000, 0.950738, age : 0.000000, 0.519963, score : 1.470702\n"
     ]
    },
    {
     "name": "stdout",
     "output_type": "stream",
     "text": [
      "\n"
     ]
    },
    {
     "data": {
      "application/vnd.jupyter.widget-view+json": {
       "model_id": "250024bfd01f463cbfba6f99be7a04b8",
       "version_major": 2,
       "version_minor": 0
      },
      "text/plain": [
       "HBox(children=(IntProgress(value=0, max=2344), HTML(value='')))"
      ]
     },
     "metadata": {},
     "output_type": "display_data"
    },
    {
     "name": "stdout",
     "output_type": "stream",
     "text": [
      "\n"
     ]
    },
    {
     "data": {
      "application/vnd.jupyter.widget-view+json": {
       "model_id": "5221e808dd97425ab22b0eba091ff071",
       "version_major": 2,
       "version_minor": 0
      },
      "text/plain": [
       "HBox(children=(IntProgress(value=0, max=586), HTML(value='')))"
      ]
     },
     "metadata": {},
     "output_type": "display_data"
    },
    {
     "name": "stderr",
     "output_type": "stream",
     "text": [
      "2020-07-23 13:09:35,583 - INFO - flod 2 epoch 2 : \n",
      " loss: 1.295299 loss_gender : 0.144645, loss_age : 1.150654, gender : 0.000000, 0.950780, age : 0.000000, 0.521727, score : 1.472507\n"
     ]
    },
    {
     "name": "stdout",
     "output_type": "stream",
     "text": [
      "\n"
     ]
    },
    {
     "data": {
      "application/vnd.jupyter.widget-view+json": {
       "model_id": "920cc7ea3438437889e2ee468ea21c49",
       "version_major": 2,
       "version_minor": 0
      },
      "text/plain": [
       "HBox(children=(IntProgress(value=0, max=2344), HTML(value='')))"
      ]
     },
     "metadata": {},
     "output_type": "display_data"
    },
    {
     "name": "stdout",
     "output_type": "stream",
     "text": [
      "\n"
     ]
    },
    {
     "data": {
      "application/vnd.jupyter.widget-view+json": {
       "model_id": "d7a9273c950e433b9dbd23b2d972d13a",
       "version_major": 2,
       "version_minor": 0
      },
      "text/plain": [
       "HBox(children=(IntProgress(value=0, max=586), HTML(value='')))"
      ]
     },
     "metadata": {},
     "output_type": "display_data"
    },
    {
     "name": "stderr",
     "output_type": "stream",
     "text": [
      "2020-07-23 13:10:27,980 - INFO - flod 2 epoch 3 : \n",
      " loss: 1.292050 loss_gender : 0.144150, loss_age : 1.147900, gender : 0.000000, 0.950875, age : 0.000000, 0.521740, score : 1.472615\n"
     ]
    },
    {
     "name": "stdout",
     "output_type": "stream",
     "text": [
      "\n"
     ]
    },
    {
     "data": {
      "application/vnd.jupyter.widget-view+json": {
       "model_id": "96a76fc572e94ea79002a0ce25f9e38a",
       "version_major": 2,
       "version_minor": 0
      },
      "text/plain": [
       "HBox(children=(IntProgress(value=0, max=2344), HTML(value='')))"
      ]
     },
     "metadata": {},
     "output_type": "display_data"
    },
    {
     "name": "stdout",
     "output_type": "stream",
     "text": [
      "\n"
     ]
    },
    {
     "data": {
      "application/vnd.jupyter.widget-view+json": {
       "model_id": "c8d5e930990d45489a4c1d0e74d803bc",
       "version_major": 2,
       "version_minor": 0
      },
      "text/plain": [
       "HBox(children=(IntProgress(value=0, max=586), HTML(value='')))"
      ]
     },
     "metadata": {},
     "output_type": "display_data"
    },
    {
     "name": "stderr",
     "output_type": "stream",
     "text": [
      "2020-07-23 13:11:19,927 - INFO - flod 2 epoch 4 : \n",
      " loss: 1.289546 loss_gender : 0.143936, loss_age : 1.145610, gender : 0.000000, 0.950835, age : 0.000000, 0.525410, score : 1.476245\n"
     ]
    },
    {
     "name": "stdout",
     "output_type": "stream",
     "text": [
      "\n"
     ]
    },
    {
     "data": {
      "application/vnd.jupyter.widget-view+json": {
       "model_id": "abaf83b340694bd3bf0d8bda700bdf54",
       "version_major": 2,
       "version_minor": 0
      },
      "text/plain": [
       "HBox(children=(IntProgress(value=0, max=2344), HTML(value='')))"
      ]
     },
     "metadata": {},
     "output_type": "display_data"
    },
    {
     "name": "stdout",
     "output_type": "stream",
     "text": [
      "\n"
     ]
    },
    {
     "data": {
      "application/vnd.jupyter.widget-view+json": {
       "model_id": "dd6f0ea596f741ccad92c57eba0eed74",
       "version_major": 2,
       "version_minor": 0
      },
      "text/plain": [
       "HBox(children=(IntProgress(value=0, max=586), HTML(value='')))"
      ]
     },
     "metadata": {},
     "output_type": "display_data"
    },
    {
     "name": "stderr",
     "output_type": "stream",
     "text": [
      "2020-07-23 13:12:10,139 - INFO - flod 2 epoch 5 : \n",
      " loss: 1.287294 loss_gender : 0.143655, loss_age : 1.143639, gender : 0.000000, 0.950530, age : 0.000000, 0.525672, score : 1.476202\n"
     ]
    },
    {
     "name": "stdout",
     "output_type": "stream",
     "text": [
      "\n"
     ]
    },
    {
     "data": {
      "application/vnd.jupyter.widget-view+json": {
       "model_id": "24956b2b3dee43afbb91e3e73ee2b872",
       "version_major": 2,
       "version_minor": 0
      },
      "text/plain": [
       "HBox(children=(IntProgress(value=0, max=2344), HTML(value='')))"
      ]
     },
     "metadata": {},
     "output_type": "display_data"
    },
    {
     "name": "stdout",
     "output_type": "stream",
     "text": [
      "\n"
     ]
    },
    {
     "data": {
      "application/vnd.jupyter.widget-view+json": {
       "model_id": "9341e31f83494ea196fd81255588be96",
       "version_major": 2,
       "version_minor": 0
      },
      "text/plain": [
       "HBox(children=(IntProgress(value=0, max=586), HTML(value='')))"
      ]
     },
     "metadata": {},
     "output_type": "display_data"
    },
    {
     "name": "stderr",
     "output_type": "stream",
     "text": [
      "2020-07-23 13:12:57,405 - INFO - flod 2 epoch 6 : \n",
      " loss: 1.284797 loss_gender : 0.143148, loss_age : 1.141650, gender : 0.000000, 0.950860, age : 0.000000, 0.524087, score : 1.474947\n"
     ]
    },
    {
     "name": "stdout",
     "output_type": "stream",
     "text": [
      "\n"
     ]
    },
    {
     "data": {
      "application/vnd.jupyter.widget-view+json": {
       "model_id": "509adb1c1aa94cac8a16220cbb890f43",
       "version_major": 2,
       "version_minor": 0
      },
      "text/plain": [
       "HBox(children=(IntProgress(value=0, max=2344), HTML(value='')))"
      ]
     },
     "metadata": {},
     "output_type": "display_data"
    },
    {
     "name": "stdout",
     "output_type": "stream",
     "text": [
      "\n"
     ]
    },
    {
     "data": {
      "application/vnd.jupyter.widget-view+json": {
       "model_id": "079d16447ddd443f81ae523e3fba7a94",
       "version_major": 2,
       "version_minor": 0
      },
      "text/plain": [
       "HBox(children=(IntProgress(value=0, max=586), HTML(value='')))"
      ]
     },
     "metadata": {},
     "output_type": "display_data"
    },
    {
     "name": "stderr",
     "output_type": "stream",
     "text": [
      "2020-07-23 13:13:44,820 - INFO - flod 2 epoch 7 : \n",
      " loss: 1.282436 loss_gender : 0.142821, loss_age : 1.139614, gender : 0.000000, 0.951000, age : 0.000000, 0.527728, score : 1.478728\n"
     ]
    },
    {
     "name": "stdout",
     "output_type": "stream",
     "text": [
      "\n"
     ]
    },
    {
     "data": {
      "application/vnd.jupyter.widget-view+json": {
       "model_id": "46b5933d74d4460cb5e8a519d4236747",
       "version_major": 2,
       "version_minor": 0
      },
      "text/plain": [
       "HBox(children=(IntProgress(value=0, max=2344), HTML(value='')))"
      ]
     },
     "metadata": {},
     "output_type": "display_data"
    },
    {
     "name": "stdout",
     "output_type": "stream",
     "text": [
      "\n"
     ]
    },
    {
     "data": {
      "application/vnd.jupyter.widget-view+json": {
       "model_id": "5f4a5d7c3ffd44479acfa56c19968e57",
       "version_major": 2,
       "version_minor": 0
      },
      "text/plain": [
       "HBox(children=(IntProgress(value=0, max=586), HTML(value='')))"
      ]
     },
     "metadata": {},
     "output_type": "display_data"
    },
    {
     "name": "stderr",
     "output_type": "stream",
     "text": [
      "2020-07-23 13:14:31,127 - INFO - flod 2 epoch 8 : \n",
      " loss: 1.279798 loss_gender : 0.142423, loss_age : 1.137375, gender : 0.000000, 0.950890, age : 0.000000, 0.527430, score : 1.478320\n"
     ]
    },
    {
     "name": "stdout",
     "output_type": "stream",
     "text": [
      "\n"
     ]
    },
    {
     "data": {
      "application/vnd.jupyter.widget-view+json": {
       "model_id": "7d588ce1495d4c6ebdcc5847588d7470",
       "version_major": 2,
       "version_minor": 0
      },
      "text/plain": [
       "HBox(children=(IntProgress(value=0, max=2344), HTML(value='')))"
      ]
     },
     "metadata": {},
     "output_type": "display_data"
    },
    {
     "name": "stdout",
     "output_type": "stream",
     "text": [
      "\n"
     ]
    },
    {
     "data": {
      "application/vnd.jupyter.widget-view+json": {
       "model_id": "29f1fb70b40f4802886cc9f3e24487da",
       "version_major": 2,
       "version_minor": 0
      },
      "text/plain": [
       "HBox(children=(IntProgress(value=0, max=586), HTML(value='')))"
      ]
     },
     "metadata": {},
     "output_type": "display_data"
    },
    {
     "name": "stderr",
     "output_type": "stream",
     "text": [
      "2020-07-23 13:15:16,630 - INFO - flod 2 epoch 9 : \n",
      " loss: 1.277140 loss_gender : 0.141952, loss_age : 1.135188, gender : 0.000000, 0.951152, age : 0.000000, 0.528760, score : 1.479912\n"
     ]
    },
    {
     "name": "stdout",
     "output_type": "stream",
     "text": [
      "\n"
     ]
    },
    {
     "data": {
      "application/vnd.jupyter.widget-view+json": {
       "model_id": "8cb438cb8bce401695084643ef5c3c31",
       "version_major": 2,
       "version_minor": 0
      },
      "text/plain": [
       "HBox(children=(IntProgress(value=0, max=586), HTML(value='')))"
      ]
     },
     "metadata": {},
     "output_type": "display_data"
    },
    {
     "name": "stdout",
     "output_type": "stream",
     "text": [
      "\n"
     ]
    },
    {
     "data": {
      "application/vnd.jupyter.widget-view+json": {
       "model_id": "001ffb45f04c41db859ba88e6cdddb80",
       "version_major": 2,
       "version_minor": 0
      },
      "text/plain": [
       "HBox(children=(IntProgress(value=0, max=977), HTML(value='')))"
      ]
     },
     "metadata": {},
     "output_type": "display_data"
    },
    {
     "name": "stdout",
     "output_type": "stream",
     "text": [
      "\n"
     ]
    },
    {
     "name": "stderr",
     "output_type": "stream",
     "text": [
      "2020-07-23 13:15:28,985 - INFO - train number 2400000, val number 600000\n"
     ]
    },
    {
     "data": {
      "application/vnd.jupyter.widget-view+json": {
       "model_id": "3b8d7278dcea46408f39b88ea47804d3",
       "version_major": 2,
       "version_minor": 0
      },
      "text/plain": [
       "HBox(children=(IntProgress(value=0, max=2344), HTML(value='')))"
      ]
     },
     "metadata": {},
     "output_type": "display_data"
    },
    {
     "name": "stdout",
     "output_type": "stream",
     "text": [
      "\n"
     ]
    },
    {
     "data": {
      "application/vnd.jupyter.widget-view+json": {
       "model_id": "1f79fdbd6ae34c459284c14196a4f8f6",
       "version_major": 2,
       "version_minor": 0
      },
      "text/plain": [
       "HBox(children=(IntProgress(value=0, max=586), HTML(value='')))"
      ]
     },
     "metadata": {},
     "output_type": "display_data"
    },
    {
     "name": "stderr",
     "output_type": "stream",
     "text": [
      "2020-07-23 13:16:14,078 - INFO - flod 3 epoch 0 : \n",
      " loss: 1.361602 loss_gender : 0.159360, loss_age : 1.202243, gender : 0.000000, 0.950463, age : 0.000000, 0.519667, score : 1.470130\n"
     ]
    },
    {
     "name": "stdout",
     "output_type": "stream",
     "text": [
      "\n"
     ]
    },
    {
     "data": {
      "application/vnd.jupyter.widget-view+json": {
       "model_id": "427de57b4b7448c896e5becb72e8c2c9",
       "version_major": 2,
       "version_minor": 0
      },
      "text/plain": [
       "HBox(children=(IntProgress(value=0, max=2344), HTML(value='')))"
      ]
     },
     "metadata": {},
     "output_type": "display_data"
    },
    {
     "name": "stdout",
     "output_type": "stream",
     "text": [
      "\n"
     ]
    },
    {
     "data": {
      "application/vnd.jupyter.widget-view+json": {
       "model_id": "3e5e75e7899a4a9a8bdc1ff383938786",
       "version_major": 2,
       "version_minor": 0
      },
      "text/plain": [
       "HBox(children=(IntProgress(value=0, max=586), HTML(value='')))"
      ]
     },
     "metadata": {},
     "output_type": "display_data"
    },
    {
     "name": "stderr",
     "output_type": "stream",
     "text": [
      "2020-07-23 13:17:03,257 - INFO - flod 3 epoch 1 : \n",
      " loss: 1.300237 loss_gender : 0.145655, loss_age : 1.154582, gender : 0.000000, 0.950927, age : 0.000000, 0.512423, score : 1.463350\n"
     ]
    },
    {
     "name": "stdout",
     "output_type": "stream",
     "text": [
      "\n"
     ]
    },
    {
     "data": {
      "application/vnd.jupyter.widget-view+json": {
       "model_id": "dfe63390e72b4406af2b3b166676a496",
       "version_major": 2,
       "version_minor": 0
      },
      "text/plain": [
       "HBox(children=(IntProgress(value=0, max=2344), HTML(value='')))"
      ]
     },
     "metadata": {},
     "output_type": "display_data"
    },
    {
     "name": "stdout",
     "output_type": "stream",
     "text": [
      "\n"
     ]
    },
    {
     "data": {
      "application/vnd.jupyter.widget-view+json": {
       "model_id": "a0db41c44537407c8386cd56bcba19c7",
       "version_major": 2,
       "version_minor": 0
      },
      "text/plain": [
       "HBox(children=(IntProgress(value=0, max=586), HTML(value='')))"
      ]
     },
     "metadata": {},
     "output_type": "display_data"
    },
    {
     "name": "stderr",
     "output_type": "stream",
     "text": [
      "2020-07-23 13:17:53,051 - INFO - flod 3 epoch 2 : \n",
      " loss: 1.294353 loss_gender : 0.144794, loss_age : 1.149559, gender : 0.000000, 0.950375, age : 0.000000, 0.519498, score : 1.469873\n"
     ]
    },
    {
     "name": "stdout",
     "output_type": "stream",
     "text": [
      "\n"
     ]
    },
    {
     "data": {
      "application/vnd.jupyter.widget-view+json": {
       "model_id": "891ad22e7aa5422aabb10c87ec3c2e1e",
       "version_major": 2,
       "version_minor": 0
      },
      "text/plain": [
       "HBox(children=(IntProgress(value=0, max=2344), HTML(value='')))"
      ]
     },
     "metadata": {},
     "output_type": "display_data"
    },
    {
     "name": "stdout",
     "output_type": "stream",
     "text": [
      "\n"
     ]
    },
    {
     "data": {
      "application/vnd.jupyter.widget-view+json": {
       "model_id": "0b49e961dcb84491b1881cd99f4986df",
       "version_major": 2,
       "version_minor": 0
      },
      "text/plain": [
       "HBox(children=(IntProgress(value=0, max=586), HTML(value='')))"
      ]
     },
     "metadata": {},
     "output_type": "display_data"
    },
    {
     "name": "stderr",
     "output_type": "stream",
     "text": [
      "2020-07-23 13:18:45,510 - INFO - flod 3 epoch 3 : \n",
      " loss: 1.291110 loss_gender : 0.144188, loss_age : 1.146922, gender : 0.000000, 0.950903, age : 0.000000, 0.521712, score : 1.472615\n"
     ]
    },
    {
     "name": "stdout",
     "output_type": "stream",
     "text": [
      "\n"
     ]
    },
    {
     "data": {
      "application/vnd.jupyter.widget-view+json": {
       "model_id": "223a354b6d424aaf9c359ed377086e68",
       "version_major": 2,
       "version_minor": 0
      },
      "text/plain": [
       "HBox(children=(IntProgress(value=0, max=2344), HTML(value='')))"
      ]
     },
     "metadata": {},
     "output_type": "display_data"
    },
    {
     "name": "stdout",
     "output_type": "stream",
     "text": [
      "\n"
     ]
    },
    {
     "data": {
      "application/vnd.jupyter.widget-view+json": {
       "model_id": "f94b9040fd054e0cb92434e07e508d18",
       "version_major": 2,
       "version_minor": 0
      },
      "text/plain": [
       "HBox(children=(IntProgress(value=0, max=586), HTML(value='')))"
      ]
     },
     "metadata": {},
     "output_type": "display_data"
    },
    {
     "name": "stderr",
     "output_type": "stream",
     "text": [
      "2020-07-23 13:19:43,861 - INFO - flod 3 epoch 4 : \n",
      " loss: 1.288464 loss_gender : 0.143914, loss_age : 1.144550, gender : 0.000000, 0.949677, age : 0.000000, 0.521883, score : 1.471560\n"
     ]
    },
    {
     "name": "stdout",
     "output_type": "stream",
     "text": [
      "\n"
     ]
    },
    {
     "data": {
      "application/vnd.jupyter.widget-view+json": {
       "model_id": "916b883cb92247a290e97d80d4e61491",
       "version_major": 2,
       "version_minor": 0
      },
      "text/plain": [
       "HBox(children=(IntProgress(value=0, max=2344), HTML(value='')))"
      ]
     },
     "metadata": {},
     "output_type": "display_data"
    },
    {
     "name": "stdout",
     "output_type": "stream",
     "text": [
      "\n"
     ]
    },
    {
     "data": {
      "application/vnd.jupyter.widget-view+json": {
       "model_id": "adf9776317ca437089b006d844c52b84",
       "version_major": 2,
       "version_minor": 0
      },
      "text/plain": [
       "HBox(children=(IntProgress(value=0, max=586), HTML(value='')))"
      ]
     },
     "metadata": {},
     "output_type": "display_data"
    },
    {
     "name": "stderr",
     "output_type": "stream",
     "text": [
      "2020-07-23 13:20:35,123 - INFO - flod 3 epoch 5 : \n",
      " loss: 1.286434 loss_gender : 0.143580, loss_age : 1.142855, gender : 0.000000, 0.950888, age : 0.000000, 0.523013, score : 1.473902\n"
     ]
    },
    {
     "name": "stdout",
     "output_type": "stream",
     "text": [
      "\n"
     ]
    },
    {
     "data": {
      "application/vnd.jupyter.widget-view+json": {
       "model_id": "cdce30eb2b2d4aa989ad3f1436e99c16",
       "version_major": 2,
       "version_minor": 0
      },
      "text/plain": [
       "HBox(children=(IntProgress(value=0, max=2344), HTML(value='')))"
      ]
     },
     "metadata": {},
     "output_type": "display_data"
    },
    {
     "name": "stdout",
     "output_type": "stream",
     "text": [
      "\n"
     ]
    },
    {
     "data": {
      "application/vnd.jupyter.widget-view+json": {
       "model_id": "3c2733cf522b4a5d96c2d126f64479ce",
       "version_major": 2,
       "version_minor": 0
      },
      "text/plain": [
       "HBox(children=(IntProgress(value=0, max=586), HTML(value='')))"
      ]
     },
     "metadata": {},
     "output_type": "display_data"
    },
    {
     "name": "stderr",
     "output_type": "stream",
     "text": [
      "2020-07-23 13:21:21,534 - INFO - flod 3 epoch 6 : \n",
      " loss: 1.283884 loss_gender : 0.143217, loss_age : 1.140667, gender : 0.000000, 0.950952, age : 0.000000, 0.524913, score : 1.475865\n"
     ]
    },
    {
     "name": "stdout",
     "output_type": "stream",
     "text": [
      "\n"
     ]
    },
    {
     "data": {
      "application/vnd.jupyter.widget-view+json": {
       "model_id": "e07912d3859145fa93fe41ab88396c86",
       "version_major": 2,
       "version_minor": 0
      },
      "text/plain": [
       "HBox(children=(IntProgress(value=0, max=2344), HTML(value='')))"
      ]
     },
     "metadata": {},
     "output_type": "display_data"
    },
    {
     "name": "stdout",
     "output_type": "stream",
     "text": [
      "\n"
     ]
    },
    {
     "data": {
      "application/vnd.jupyter.widget-view+json": {
       "model_id": "a74d6f1ef7f4449b967506cf4cfce638",
       "version_major": 2,
       "version_minor": 0
      },
      "text/plain": [
       "HBox(children=(IntProgress(value=0, max=586), HTML(value='')))"
      ]
     },
     "metadata": {},
     "output_type": "display_data"
    },
    {
     "name": "stderr",
     "output_type": "stream",
     "text": [
      "2020-07-23 13:22:06,973 - INFO - flod 3 epoch 7 : \n",
      " loss: 1.281649 loss_gender : 0.142821, loss_age : 1.138828, gender : 0.000000, 0.950960, age : 0.000000, 0.525065, score : 1.476025\n"
     ]
    },
    {
     "name": "stdout",
     "output_type": "stream",
     "text": [
      "\n"
     ]
    },
    {
     "data": {
      "application/vnd.jupyter.widget-view+json": {
       "model_id": "44985b23acc540ed9d34a039c933b721",
       "version_major": 2,
       "version_minor": 0
      },
      "text/plain": [
       "HBox(children=(IntProgress(value=0, max=2344), HTML(value='')))"
      ]
     },
     "metadata": {},
     "output_type": "display_data"
    },
    {
     "name": "stdout",
     "output_type": "stream",
     "text": [
      "\n"
     ]
    },
    {
     "data": {
      "application/vnd.jupyter.widget-view+json": {
       "model_id": "b75ee04e963c4b8a84667b5cc5a2a951",
       "version_major": 2,
       "version_minor": 0
      },
      "text/plain": [
       "HBox(children=(IntProgress(value=0, max=586), HTML(value='')))"
      ]
     },
     "metadata": {},
     "output_type": "display_data"
    },
    {
     "name": "stderr",
     "output_type": "stream",
     "text": [
      "2020-07-23 13:22:53,684 - INFO - flod 3 epoch 8 : \n",
      " loss: 1.279197 loss_gender : 0.142420, loss_age : 1.136778, gender : 0.000000, 0.950980, age : 0.000000, 0.525440, score : 1.476420\n"
     ]
    },
    {
     "name": "stdout",
     "output_type": "stream",
     "text": [
      "\n"
     ]
    },
    {
     "data": {
      "application/vnd.jupyter.widget-view+json": {
       "model_id": "a8f8f3d214754a6089a2cabc317a4c7d",
       "version_major": 2,
       "version_minor": 0
      },
      "text/plain": [
       "HBox(children=(IntProgress(value=0, max=2344), HTML(value='')))"
      ]
     },
     "metadata": {},
     "output_type": "display_data"
    },
    {
     "name": "stdout",
     "output_type": "stream",
     "text": [
      "\n"
     ]
    },
    {
     "data": {
      "application/vnd.jupyter.widget-view+json": {
       "model_id": "092048990adb42eca2fca3e01100a9bb",
       "version_major": 2,
       "version_minor": 0
      },
      "text/plain": [
       "HBox(children=(IntProgress(value=0, max=586), HTML(value='')))"
      ]
     },
     "metadata": {},
     "output_type": "display_data"
    },
    {
     "name": "stderr",
     "output_type": "stream",
     "text": [
      "2020-07-23 13:23:43,016 - INFO - flod 3 epoch 9 : \n",
      " loss: 1.276438 loss_gender : 0.141984, loss_age : 1.134453, gender : 0.000000, 0.951068, age : 0.000000, 0.526237, score : 1.477305\n"
     ]
    },
    {
     "name": "stdout",
     "output_type": "stream",
     "text": [
      "\n"
     ]
    },
    {
     "data": {
      "application/vnd.jupyter.widget-view+json": {
       "model_id": "24fa01d674f84a969bc8b5c2aa9d0224",
       "version_major": 2,
       "version_minor": 0
      },
      "text/plain": [
       "HBox(children=(IntProgress(value=0, max=586), HTML(value='')))"
      ]
     },
     "metadata": {},
     "output_type": "display_data"
    },
    {
     "name": "stdout",
     "output_type": "stream",
     "text": [
      "\n"
     ]
    },
    {
     "data": {
      "application/vnd.jupyter.widget-view+json": {
       "model_id": "e50543945ba043cdac4828e5dbca88f8",
       "version_major": 2,
       "version_minor": 0
      },
      "text/plain": [
       "HBox(children=(IntProgress(value=0, max=977), HTML(value='')))"
      ]
     },
     "metadata": {},
     "output_type": "display_data"
    },
    {
     "name": "stdout",
     "output_type": "stream",
     "text": [
      "\n"
     ]
    },
    {
     "name": "stderr",
     "output_type": "stream",
     "text": [
      "2020-07-23 13:23:56,585 - INFO - train number 2400000, val number 600000\n"
     ]
    },
    {
     "data": {
      "application/vnd.jupyter.widget-view+json": {
       "model_id": "7e074089c4e8497794346846d865dc2d",
       "version_major": 2,
       "version_minor": 0
      },
      "text/plain": [
       "HBox(children=(IntProgress(value=0, max=2344), HTML(value='')))"
      ]
     },
     "metadata": {},
     "output_type": "display_data"
    },
    {
     "name": "stdout",
     "output_type": "stream",
     "text": [
      "\n"
     ]
    },
    {
     "data": {
      "application/vnd.jupyter.widget-view+json": {
       "model_id": "b35ddbf52abd4204878b7cee8439ea3e",
       "version_major": 2,
       "version_minor": 0
      },
      "text/plain": [
       "HBox(children=(IntProgress(value=0, max=586), HTML(value='')))"
      ]
     },
     "metadata": {},
     "output_type": "display_data"
    },
    {
     "name": "stderr",
     "output_type": "stream",
     "text": [
      "2020-07-23 13:24:46,647 - INFO - flod 4 epoch 0 : \n",
      " loss: 1.363261 loss_gender : 0.159166, loss_age : 1.204095, gender : 0.000000, 0.949438, age : 0.000000, 0.518052, score : 1.467490\n"
     ]
    },
    {
     "name": "stdout",
     "output_type": "stream",
     "text": [
      "\n"
     ]
    },
    {
     "data": {
      "application/vnd.jupyter.widget-view+json": {
       "model_id": "732a056e5b8c4930beda34f504234e80",
       "version_major": 2,
       "version_minor": 0
      },
      "text/plain": [
       "HBox(children=(IntProgress(value=0, max=2344), HTML(value='')))"
      ]
     },
     "metadata": {},
     "output_type": "display_data"
    },
    {
     "name": "stdout",
     "output_type": "stream",
     "text": [
      "\n"
     ]
    },
    {
     "data": {
      "application/vnd.jupyter.widget-view+json": {
       "model_id": "0996c1d3a14e43728b5e3174d72e311a",
       "version_major": 2,
       "version_minor": 0
      },
      "text/plain": [
       "HBox(children=(IntProgress(value=0, max=586), HTML(value='')))"
      ]
     },
     "metadata": {},
     "output_type": "display_data"
    },
    {
     "name": "stderr",
     "output_type": "stream",
     "text": [
      "2020-07-23 13:25:34,502 - INFO - flod 4 epoch 1 : \n",
      " loss: 1.300429 loss_gender : 0.145589, loss_age : 1.154840, gender : 0.000000, 0.950172, age : 0.000000, 0.522933, score : 1.473105\n"
     ]
    },
    {
     "name": "stdout",
     "output_type": "stream",
     "text": [
      "\n"
     ]
    },
    {
     "data": {
      "application/vnd.jupyter.widget-view+json": {
       "model_id": "f30b6ebfe776434ba315a5f0ff9e6663",
       "version_major": 2,
       "version_minor": 0
      },
      "text/plain": [
       "HBox(children=(IntProgress(value=0, max=2344), HTML(value='')))"
      ]
     },
     "metadata": {},
     "output_type": "display_data"
    },
    {
     "name": "stdout",
     "output_type": "stream",
     "text": [
      "\n"
     ]
    },
    {
     "data": {
      "application/vnd.jupyter.widget-view+json": {
       "model_id": "f908823856464053986ff9daac5300c9",
       "version_major": 2,
       "version_minor": 0
      },
      "text/plain": [
       "HBox(children=(IntProgress(value=0, max=586), HTML(value='')))"
      ]
     },
     "metadata": {},
     "output_type": "display_data"
    },
    {
     "name": "stderr",
     "output_type": "stream",
     "text": [
      "2020-07-23 13:26:22,628 - INFO - flod 4 epoch 2 : \n",
      " loss: 1.294665 loss_gender : 0.144618, loss_age : 1.150047, gender : 0.000000, 0.949605, age : 0.000000, 0.522352, score : 1.471957\n"
     ]
    },
    {
     "name": "stdout",
     "output_type": "stream",
     "text": [
      "\n"
     ]
    },
    {
     "data": {
      "application/vnd.jupyter.widget-view+json": {
       "model_id": "af957174735e495884ec561f6086f002",
       "version_major": 2,
       "version_minor": 0
      },
      "text/plain": [
       "HBox(children=(IntProgress(value=0, max=2344), HTML(value='')))"
      ]
     },
     "metadata": {},
     "output_type": "display_data"
    },
    {
     "name": "stdout",
     "output_type": "stream",
     "text": [
      "\n"
     ]
    },
    {
     "data": {
      "application/vnd.jupyter.widget-view+json": {
       "model_id": "3ebdef6a033e4481bef543c12a8bf9ad",
       "version_major": 2,
       "version_minor": 0
      },
      "text/plain": [
       "HBox(children=(IntProgress(value=0, max=586), HTML(value='')))"
      ]
     },
     "metadata": {},
     "output_type": "display_data"
    },
    {
     "name": "stderr",
     "output_type": "stream",
     "text": [
      "2020-07-23 13:27:10,174 - INFO - flod 4 epoch 3 : \n",
      " loss: 1.291831 loss_gender : 0.144130, loss_age : 1.147701, gender : 0.000000, 0.950768, age : 0.000000, 0.519208, score : 1.469977\n"
     ]
    },
    {
     "name": "stdout",
     "output_type": "stream",
     "text": [
      "\n"
     ]
    },
    {
     "data": {
      "application/vnd.jupyter.widget-view+json": {
       "model_id": "5429921a6f29493e830ad1fbde7ce36a",
       "version_major": 2,
       "version_minor": 0
      },
      "text/plain": [
       "HBox(children=(IntProgress(value=0, max=2344), HTML(value='')))"
      ]
     },
     "metadata": {},
     "output_type": "display_data"
    },
    {
     "name": "stdout",
     "output_type": "stream",
     "text": [
      "\n"
     ]
    },
    {
     "data": {
      "application/vnd.jupyter.widget-view+json": {
       "model_id": "b0521ed18d01405f9298f6bd712c0374",
       "version_major": 2,
       "version_minor": 0
      },
      "text/plain": [
       "HBox(children=(IntProgress(value=0, max=586), HTML(value='')))"
      ]
     },
     "metadata": {},
     "output_type": "display_data"
    },
    {
     "name": "stderr",
     "output_type": "stream",
     "text": [
      "2020-07-23 13:27:57,739 - INFO - flod 4 epoch 4 : \n",
      " loss: 1.289491 loss_gender : 0.143868, loss_age : 1.145623, gender : 0.000000, 0.950247, age : 0.000000, 0.523842, score : 1.474088\n"
     ]
    },
    {
     "name": "stdout",
     "output_type": "stream",
     "text": [
      "\n"
     ]
    },
    {
     "data": {
      "application/vnd.jupyter.widget-view+json": {
       "model_id": "ce1f1ea2a12b47c6a4398b974aa953c2",
       "version_major": 2,
       "version_minor": 0
      },
      "text/plain": [
       "HBox(children=(IntProgress(value=0, max=2344), HTML(value='')))"
      ]
     },
     "metadata": {},
     "output_type": "display_data"
    },
    {
     "name": "stdout",
     "output_type": "stream",
     "text": [
      "\n"
     ]
    },
    {
     "data": {
      "application/vnd.jupyter.widget-view+json": {
       "model_id": "72c2abb4ff0f4e2ab80dfc4f6f6ba4ef",
       "version_major": 2,
       "version_minor": 0
      },
      "text/plain": [
       "HBox(children=(IntProgress(value=0, max=586), HTML(value='')))"
      ]
     },
     "metadata": {},
     "output_type": "display_data"
    },
    {
     "name": "stderr",
     "output_type": "stream",
     "text": [
      "2020-07-23 13:28:47,068 - INFO - flod 4 epoch 5 : \n",
      " loss: 1.286705 loss_gender : 0.143326, loss_age : 1.143378, gender : 0.000000, 0.950893, age : 0.000000, 0.522970, score : 1.473863\n"
     ]
    },
    {
     "name": "stdout",
     "output_type": "stream",
     "text": [
      "\n"
     ]
    },
    {
     "data": {
      "application/vnd.jupyter.widget-view+json": {
       "model_id": "3692a393304f4627a623d2a21e7eef7b",
       "version_major": 2,
       "version_minor": 0
      },
      "text/plain": [
       "HBox(children=(IntProgress(value=0, max=2344), HTML(value='')))"
      ]
     },
     "metadata": {},
     "output_type": "display_data"
    },
    {
     "name": "stdout",
     "output_type": "stream",
     "text": [
      "\n"
     ]
    },
    {
     "data": {
      "application/vnd.jupyter.widget-view+json": {
       "model_id": "541c10a80883433fa70522b6214a2b87",
       "version_major": 2,
       "version_minor": 0
      },
      "text/plain": [
       "HBox(children=(IntProgress(value=0, max=586), HTML(value='')))"
      ]
     },
     "metadata": {},
     "output_type": "display_data"
    },
    {
     "name": "stderr",
     "output_type": "stream",
     "text": [
      "2020-07-23 13:29:37,028 - INFO - flod 4 epoch 6 : \n",
      " loss: 1.284487 loss_gender : 0.143045, loss_age : 1.141442, gender : 0.000000, 0.950907, age : 0.000000, 0.524502, score : 1.475408\n"
     ]
    },
    {
     "name": "stdout",
     "output_type": "stream",
     "text": [
      "\n"
     ]
    },
    {
     "data": {
      "application/vnd.jupyter.widget-view+json": {
       "model_id": "c6ea6edd179a4580b9807b3cd7667552",
       "version_major": 2,
       "version_minor": 0
      },
      "text/plain": [
       "HBox(children=(IntProgress(value=0, max=2344), HTML(value='')))"
      ]
     },
     "metadata": {},
     "output_type": "display_data"
    },
    {
     "name": "stdout",
     "output_type": "stream",
     "text": [
      "\n"
     ]
    },
    {
     "data": {
      "application/vnd.jupyter.widget-view+json": {
       "model_id": "415f433f5e7f43d2b17044a689d63cb8",
       "version_major": 2,
       "version_minor": 0
      },
      "text/plain": [
       "HBox(children=(IntProgress(value=0, max=586), HTML(value='')))"
      ]
     },
     "metadata": {},
     "output_type": "display_data"
    },
    {
     "name": "stderr",
     "output_type": "stream",
     "text": [
      "2020-07-23 13:30:29,201 - INFO - flod 4 epoch 7 : \n",
      " loss: 1.282045 loss_gender : 0.142613, loss_age : 1.139432, gender : 0.000000, 0.950747, age : 0.000000, 0.526082, score : 1.476828\n"
     ]
    },
    {
     "name": "stdout",
     "output_type": "stream",
     "text": [
      "\n"
     ]
    },
    {
     "data": {
      "application/vnd.jupyter.widget-view+json": {
       "model_id": "96a561b61624441390f4fb25fd367203",
       "version_major": 2,
       "version_minor": 0
      },
      "text/plain": [
       "HBox(children=(IntProgress(value=0, max=2344), HTML(value='')))"
      ]
     },
     "metadata": {},
     "output_type": "display_data"
    },
    {
     "name": "stdout",
     "output_type": "stream",
     "text": [
      "\n"
     ]
    },
    {
     "data": {
      "application/vnd.jupyter.widget-view+json": {
       "model_id": "140753ab4ee64cac9ebaf0f3e60cee16",
       "version_major": 2,
       "version_minor": 0
      },
      "text/plain": [
       "HBox(children=(IntProgress(value=0, max=586), HTML(value='')))"
      ]
     },
     "metadata": {},
     "output_type": "display_data"
    },
    {
     "name": "stderr",
     "output_type": "stream",
     "text": [
      "2020-07-23 13:31:22,209 - INFO - flod 4 epoch 8 : \n",
      " loss: 1.279614 loss_gender : 0.142216, loss_age : 1.137399, gender : 0.000000, 0.950837, age : 0.000000, 0.526173, score : 1.477010\n"
     ]
    },
    {
     "name": "stdout",
     "output_type": "stream",
     "text": [
      "\n"
     ]
    },
    {
     "data": {
      "application/vnd.jupyter.widget-view+json": {
       "model_id": "413dfceb242f4b4c831bf6298bfbcb90",
       "version_major": 2,
       "version_minor": 0
      },
      "text/plain": [
       "HBox(children=(IntProgress(value=0, max=2344), HTML(value='')))"
      ]
     },
     "metadata": {},
     "output_type": "display_data"
    },
    {
     "name": "stdout",
     "output_type": "stream",
     "text": [
      "\n"
     ]
    },
    {
     "data": {
      "application/vnd.jupyter.widget-view+json": {
       "model_id": "1b2f3f25d2324365ab4e84093552ce1f",
       "version_major": 2,
       "version_minor": 0
      },
      "text/plain": [
       "HBox(children=(IntProgress(value=0, max=586), HTML(value='')))"
      ]
     },
     "metadata": {},
     "output_type": "display_data"
    },
    {
     "name": "stderr",
     "output_type": "stream",
     "text": [
      "2020-07-23 13:32:14,651 - INFO - flod 4 epoch 9 : \n",
      " loss: 1.276796 loss_gender : 0.141802, loss_age : 1.134994, gender : 0.000000, 0.950910, age : 0.000000, 0.527532, score : 1.478442\n"
     ]
    },
    {
     "name": "stdout",
     "output_type": "stream",
     "text": [
      "\n"
     ]
    },
    {
     "data": {
      "application/vnd.jupyter.widget-view+json": {
       "model_id": "8b2a8cbe3fc64a219f7a5bb5e65cab8f",
       "version_major": 2,
       "version_minor": 0
      },
      "text/plain": [
       "HBox(children=(IntProgress(value=0, max=586), HTML(value='')))"
      ]
     },
     "metadata": {},
     "output_type": "display_data"
    },
    {
     "name": "stdout",
     "output_type": "stream",
     "text": [
      "\n"
     ]
    },
    {
     "data": {
      "application/vnd.jupyter.widget-view+json": {
       "model_id": "495d94cf13554f17807ae2dc7e0ece17",
       "version_major": 2,
       "version_minor": 0
      },
      "text/plain": [
       "HBox(children=(IntProgress(value=0, max=977), HTML(value='')))"
      ]
     },
     "metadata": {},
     "output_type": "display_data"
    },
    {
     "name": "stdout",
     "output_type": "stream",
     "text": [
      "\n"
     ]
    }
   ],
   "source": [
    "output_dir=\"../model/\"\n",
    "def predict_batch_multi_task(model, train_x, batch_size = args.batch_size):\n",
    "    len_user_ids = len(train_x)\n",
    "    pre_list_gender = []\n",
    "    pre_list_age = []\n",
    "    \n",
    "    train_dataset = Data.TensorDataset(torch.tensor(train_x).float())\n",
    "    data_loader = Data.DataLoader(\n",
    "        dataset=train_dataset,      \n",
    "        batch_size=args.batch_size,      \n",
    "        shuffle=False,\n",
    "        num_workers = args.n_worker,\n",
    "    )\n",
    "    with torch.no_grad():\n",
    "        for step, data in enumerate(tqdm(data_loader)):\n",
    "            pre_gender, pre_age = model(data[0].to(args.device))\n",
    "            pre_list_gender.append(pre_gender.cpu().detach().numpy())\n",
    "            pre_list_age.append(pre_age.cpu().detach().numpy())      \n",
    "            \n",
    "    return {\n",
    "        'gender' : np.concatenate(pre_list_gender), \n",
    "        'age' : np.concatenate(pre_list_age),\n",
    "    }\n",
    "\n",
    "def eval_data(model, train_x, gender_labels, age_labels):\n",
    "    \n",
    "    ret_dict = predict_batch_multi_task(model, train_x)\n",
    "    predict_gender = np.argmax(ret_dict['gender'], axis = 1)\n",
    "    predict_age = np.argmax(ret_dict['age'], axis = 1)\n",
    "    acc_gender = accuracy_score(gender_labels, predict_gender)\n",
    "    acc_age = accuracy_score(age_labels, predict_age)\n",
    "    return acc_gender, acc_age\n",
    "\n",
    "def train_multi_task(n_fold, train_dataset, val_dataset, test_user_id):\n",
    "    \n",
    "    train_x = train_dataset['x']\n",
    "    train_gender = train_dataset['gender']\n",
    "    train_age = train_dataset['age']\n",
    "    logging.info('train number %d, val number %d' % (len(train_x), len(val_dataset['x'])))\n",
    "    torch_dataset = Data.TensorDataset(torch.tensor(train_x).float(), torch.tensor(train_gender).long(), torch.tensor(train_age).long())\n",
    "    data_loader = Data.DataLoader(\n",
    "        dataset=torch_dataset,      \n",
    "        batch_size=args.batch_size,      \n",
    "        shuffle=True,\n",
    "        num_workers = args.n_worker,\n",
    "    )\n",
    "    \n",
    "    model = Dense().to(args.device)\n",
    "\n",
    "#     optimizer = torch.optim.SGD(model.parameters(), lr=0.01, weight_decay=0.001)\n",
    "    \n",
    "    no_decay = [\"bias\", \"gamma\",\"beta\"]\n",
    "    optimizer_grouped_parameters = [\n",
    "        {\n",
    "            \"params\": [p for n, p in model.named_parameters() if not any(nd in n for nd in no_decay)],\n",
    "            \"weight_decay\": args.weight_decay,\n",
    "        },\n",
    "        {\"params\": [p for n, p in model.named_parameters() if any(nd in n for nd in no_decay)], \"weight_decay\": 0.0},\n",
    "    ]\n",
    "    optimizer = AdamW(optimizer_grouped_parameters, lr = args.lr, weight_decay = args.weight_decay)\n",
    "#     opt = SWA(optimizer, swa_start=int(len(train_x)//(args.batch_size)) * 1, swa_freq=5)\n",
    "    scheduler = get_linear_schedule_with_warmup(\n",
    "        optimizer, num_warmup_steps=int(len(train_x)//(args.batch_size)) * 1, num_training_steps=int(len(train_x) / args.batch_size * args.epoch)\n",
    "    )\n",
    "\n",
    "    for epoch in range(args.epoch):\n",
    "        loss_list, loss_gender_list, loss_age_list = [], [], []\n",
    "        model.train()\n",
    "        for step, (batch_train_x, bathc_train_gender, batch_train_age) in enumerate(tqdm(data_loader)):\n",
    "            \n",
    "            #forward\n",
    "            loss, loss_gender, loss_age, pre_gender, pre_age = \\\n",
    "            model(batch_train_x.to(args.device), bathc_train_gender.to(args.device), batch_train_age.to(args.device))\n",
    "            \n",
    "            loss_list.append(loss.item())\n",
    "            loss_gender_list.append(loss_gender.item())\n",
    "            loss_age_list.append(loss_age.item())\n",
    "            \n",
    "            #backward\n",
    "            optimizer.zero_grad()\n",
    "#             opt.zero_grad()\n",
    "            loss.backward()\n",
    "            torch.nn.utils.clip_grad_norm_(model.parameters(), max_norm = 5)\n",
    "            optimizer.step()\n",
    "#             opt.step()\n",
    "            scheduler.step()\n",
    "        if epoch==args.epoch-1:\n",
    "            torch.save(model.state_dict(),os.path.join(output_dir,\"model_\"+str(n_fold+1)+\".pt\"))\n",
    "        model.eval()\n",
    "\n",
    "#         train_acc_gender, train_acc_age = eval_data(model, train_dataset['x'], train_dataset['gender'], train_dataset['age'])\n",
    "        train_acc_gender,train_acc_age=0,0\n",
    "        val_acc_gender, val_acc_age = eval_data(model, val_dataset['x'], val_dataset['gender'], val_dataset['age'])\n",
    "        \n",
    "        logging.info(\"flod %d epoch %d : \\n loss: %f loss_gender : %f, loss_age : %f, gender : %f, %f, age : %f, %f, score : %f\" %\\\n",
    "                     (n_fold, epoch, np.mean(loss_list), np.mean(loss_gender_list), np.mean(loss_age_list), \\\n",
    "                      train_acc_gender, val_acc_gender, train_acc_age, val_acc_age, val_acc_gender + val_acc_age))\n",
    "        \n",
    "    val_ret_dict = predict_batch_multi_task(model, val_dataset['x'])\n",
    "    test_ret_dict = predict_batch_multi_task(model, test_user_id)\n",
    "    \n",
    "    return model, val_ret_dict, test_ret_dict\n",
    "\n",
    "def nn_cross_validation(x_train, gender, age, x_test, func_train, shuffle_fold):\n",
    "    \n",
    "    folds = KFold(n_splits=args.n_fold, shuffle=shuffle_fold)\n",
    "    \n",
    "    \n",
    "    x_train_val = np.array(x_train)\n",
    "    gender_train_val = np.array(gender)\n",
    "    age_train_val = np.array(age)\n",
    "\n",
    "    score_gender_val = np.zeros((len(x_train), 2))\n",
    "    score_age_val = np.zeros((len(x_train), 10))\n",
    "    \n",
    "    test_gender = np.zeros((len(x_test), 2))\n",
    "    test_age = np.zeros((len(x_test), 10))\n",
    "\n",
    "    for n_fold, (trn_idx, val_idx) in enumerate(folds.split(x_train, gender_train_val)):\n",
    "        save_trn_idx = trn_idx\n",
    "        save_val_idx = val_idx\n",
    "        \n",
    "        train_x, train_gender, train_age = x_train_val[trn_idx], gender_train_val[trn_idx], age_train_val[trn_idx]\n",
    "        val_x, val_gender, val_age = x_train_val[val_idx], gender_train_val[val_idx], age_train_val[val_idx]\n",
    "        train_dataset = {\n",
    "            'x' : train_x,\n",
    "            'gender' : train_gender,\n",
    "            'age' : train_age,\n",
    "        }\n",
    "        val_dataset = {\n",
    "            'x' : val_x,\n",
    "            'gender' : val_gender,\n",
    "            'age' : val_age\n",
    "        }\n",
    "        \n",
    "        model, val_ret_dict, test_ret_dict = func_train(n_fold, train_dataset, val_dataset, x_test)\n",
    "        \n",
    "        score_gender_val[val_idx] = val_ret_dict['gender']\n",
    "        score_age_val[val_idx] = val_ret_dict['age']\n",
    "        \n",
    "        \n",
    "        test_gender += softmax(test_ret_dict['gender'], axis=1) / args.n_fold\n",
    "        test_age += softmax(test_ret_dict['age'], axis=1) / args.n_fold\n",
    "\n",
    "    return score_gender_val, score_age_val, test_gender, test_age\n",
    "\n",
    "\n",
    "# debug_number = 2000\n",
    "# sub_train_x = train_x[:debug_number]\n",
    "# sub_gender = (df_label.gender.values-1)[:debug_number]\n",
    "# sub_age = (df_label.age.values-1)[:debug_number]\n",
    "# sub_test_x = test_x[:debug_number]\n",
    "\n",
    "sub_train_x = train_x\n",
    "# sub_gender = (df_label_modify.gender.values-1)\n",
    "sub_gender = (df_label.gender.values-1)\n",
    "sub_age = (df_label.age.values-1)\n",
    "sub_test_x = test_x\n",
    "\n",
    "score_gender_val, score_age_val, test_gender, test_age = nn_cross_validation(sub_train_x, sub_gender, sub_age, sub_test_x, train_multi_task, False)"
   ]
  },
  {
   "cell_type": "code",
   "execution_count": 23,
   "metadata": {},
   "outputs": [
    {
     "data": {
      "text/plain": [
       "(0.9511223333333333, 0.5275906666666667, 1.478713)"
      ]
     },
     "execution_count": 23,
     "metadata": {},
     "output_type": "execute_result"
    }
   ],
   "source": [
    "acc_gender = accuracy_score(df_label.gender.values, np.argmax(score_gender_val, axis = 1) + 1)\n",
    "acc_age = accuracy_score(df_label.age.values, np.argmax(score_age_val, axis = 1) + 1)\n",
    "acc_gender, acc_age, acc_gender + acc_age #33"
   ]
  },
  {
   "cell_type": "code",
   "execution_count": 24,
   "metadata": {},
   "outputs": [],
   "source": [
    "test_gender_pre = np.argmax(test_gender, axis = 1) + 1\n",
    "test_age_pre = np.argmax(test_age, axis = 1) + 1\n",
    "df_submit = pd.DataFrame()\n",
    "df_submit['user_id'] = list(range(3000001, 4000001))\n",
    "df_submit['predicted_gender'] = test_gender_pre\n",
    "df_submit['predicted_age'] = test_age_pre\n",
    "df_submit.to_csv('submission.csv', index=False)"
   ]
  }
 ],
 "metadata": {
  "kernelspec": {
   "display_name": "fjw",
   "language": "python",
   "name": "fjw"
  },
  "language_info": {
   "codemirror_mode": {
    "name": "ipython",
    "version": 3
   },
   "file_extension": ".py",
   "mimetype": "text/x-python",
   "name": "python",
   "nbconvert_exporter": "python",
   "pygments_lexer": "ipython3",
   "version": "3.6.9"
  },
  "toc": {
   "base_numbering": 1,
   "nav_menu": {},
   "number_sections": true,
   "sideBar": true,
   "skip_h1_title": false,
   "title_cell": "Table of Contents",
   "title_sidebar": "Contents",
   "toc_cell": false,
   "toc_position": {
    "height": "calc(100% - 180px)",
    "left": "10px",
    "top": "150px",
    "width": "349.091px"
   },
   "toc_section_display": true,
   "toc_window_display": false
  }
 },
 "nbformat": 4,
 "nbformat_minor": 4
}

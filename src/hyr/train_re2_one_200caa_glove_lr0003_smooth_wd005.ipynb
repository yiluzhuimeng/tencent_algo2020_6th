{
 "cells": [
  {
   "cell_type": "code",
   "execution_count": 1,
   "metadata": {
    "scrolled": true
   },
   "outputs": [
    {
     "name": "stderr",
     "output_type": "stream",
     "text": [
      "2020-07-23 10:27:03,546 - INFO - PyTorch version 1.1.0 available.\n",
      "/home/huangweilin/anaconda3/envs/fjw/lib/python3.6/site-packages/tensorflow/python/framework/dtypes.py:523: FutureWarning: Passing (type, 1) or '1type' as a synonym of type is deprecated; in a future version of numpy, it will be understood as (type, (1,)) / '(1,)type'.\n",
      "  _np_qint8 = np.dtype([(\"qint8\", np.int8, 1)])\n",
      "/home/huangweilin/anaconda3/envs/fjw/lib/python3.6/site-packages/tensorflow/python/framework/dtypes.py:524: FutureWarning: Passing (type, 1) or '1type' as a synonym of type is deprecated; in a future version of numpy, it will be understood as (type, (1,)) / '(1,)type'.\n",
      "  _np_quint8 = np.dtype([(\"quint8\", np.uint8, 1)])\n",
      "/home/huangweilin/anaconda3/envs/fjw/lib/python3.6/site-packages/tensorflow/python/framework/dtypes.py:525: FutureWarning: Passing (type, 1) or '1type' as a synonym of type is deprecated; in a future version of numpy, it will be understood as (type, (1,)) / '(1,)type'.\n",
      "  _np_qint16 = np.dtype([(\"qint16\", np.int16, 1)])\n",
      "/home/huangweilin/anaconda3/envs/fjw/lib/python3.6/site-packages/tensorflow/python/framework/dtypes.py:526: FutureWarning: Passing (type, 1) or '1type' as a synonym of type is deprecated; in a future version of numpy, it will be understood as (type, (1,)) / '(1,)type'.\n",
      "  _np_quint16 = np.dtype([(\"quint16\", np.uint16, 1)])\n",
      "/home/huangweilin/anaconda3/envs/fjw/lib/python3.6/site-packages/tensorflow/python/framework/dtypes.py:527: FutureWarning: Passing (type, 1) or '1type' as a synonym of type is deprecated; in a future version of numpy, it will be understood as (type, (1,)) / '(1,)type'.\n",
      "  _np_qint32 = np.dtype([(\"qint32\", np.int32, 1)])\n",
      "/home/huangweilin/anaconda3/envs/fjw/lib/python3.6/site-packages/tensorflow/python/framework/dtypes.py:532: FutureWarning: Passing (type, 1) or '1type' as a synonym of type is deprecated; in a future version of numpy, it will be understood as (type, (1,)) / '(1,)type'.\n",
      "  np_resource = np.dtype([(\"resource\", np.ubyte, 1)])\n"
     ]
    }
   ],
   "source": [
    "import torch\n",
    "import torch.nn.functional as F\n",
    "f = F\n",
    "import torch.utils.data as Data\n",
    "from torch.autograd import Variable\n",
    "import pandas as pd\n",
    "import numpy as np\n",
    "import time\n",
    "from sklearn.metrics import roc_auc_score\n",
    "from sklearn.feature_selection import mutual_info_classif\n",
    "import datetime\n",
    "import pickle\n",
    "import scipy.sparse as ss\n",
    "import logging\n",
    "LOG_FORMAT = \"%(asctime)s - %(levelname)s - %(message)s\"\n",
    "logging.basicConfig(level=logging.INFO, format=LOG_FORMAT)\n",
    "import os\n",
    "# os.environ[\"CUDA_VISIBLE_DEVICES\"] = \"1\"\n",
    "os.environ['NUMEXPR_MAX_THREADS'] = '32'\n",
    "# import seaborn as sns\n",
    "\n",
    "import IPython.display as ipd\n",
    "import copy\n",
    "import random\n",
    "# from pandarallel import pandarallel\n",
    "# Initialization\n",
    "# pandarallel.initialize(progress_bar=True)\n",
    "# df.parallel_apply(func)\n",
    "import time\n",
    "from sklearn.metrics import accuracy_score\n",
    "from sklearn.metrics import confusion_matrix\n",
    "from sklearn.model_selection import StratifiedKFold,KFold\n",
    "\n",
    "from transformers import *\n",
    "import torch.nn as nn\n",
    "import math\n",
    "\n",
    "from tqdm.notebook import tqdm \n",
    "from transformers.modeling_bert import BertConfig, BertEncoder, BertAttention,\\\n",
    "BertSelfAttention,BertLayer,BertPooler,BertLayerNorm\n"
   ]
  },
  {
   "cell_type": "code",
   "execution_count": 2,
   "metadata": {},
   "outputs": [],
   "source": [
    "var_dir = '../../var'\n",
    "my_var_dir = '../../var/hyr'"
   ]
  },
  {
   "cell_type": "markdown",
   "metadata": {},
   "source": [
    "# Read"
   ]
  },
  {
   "cell_type": "code",
   "execution_count": 3,
   "metadata": {
    "scrolled": true
   },
   "outputs": [
    {
     "name": "stderr",
     "output_type": "stream",
     "text": [
      "2020-07-23 10:27:04,695 - INFO - start read df data\n",
      "2020-07-23 10:27:54,018 - INFO - finish read df data\n"
     ]
    }
   ],
   "source": [
    "logging.info('start read df data')\n",
    "\n",
    "df_train_user = pd.read_csv('%s/data/train_semi_final/user.csv'% var_dir)\n",
    "pre_df_train_user = pd.read_csv('%s/data/train_preliminary/user.csv'% var_dir)\n",
    "df_train_user = pd.concat([pre_df_train_user, df_train_user])\n",
    "\n",
    "train_user = list(range(1, 3000001))\n",
    "test_user = list(range(3000001, 4000001))\n",
    "\n",
    "train_gender = np.array(list(df_train_user['gender']))\n",
    "train_age = np.array(list(df_train_user['age']))\n",
    "id_embedding_feq = np.load('%s/id_embedding_glove_200acc.npy'%my_var_dir)\n",
    "se_tfidf_stack = pickle.load(open('%s/se_tfidf_stack_new.pickle'%my_var_dir, 'rb'))\n",
    "df_user_info = pickle.load(open('%s/df_user_info.pickle'%my_var_dir, 'rb'))\n",
    "target_encode_user_dict, mp_target_encode = pickle.load(open('%s/target_info_new.pickle'%my_var_dir, 'rb'))\n",
    "\n",
    "logging.info('finish read df data')"
   ]
  },
  {
   "cell_type": "code",
   "execution_count": 9,
   "metadata": {},
   "outputs": [],
   "source": [
    "offline = df_train_user.shape[0] < 30000\n",
    "if offline:\n",
    "    train_user = list(range(1, 301))\n",
    "    test_user = list(range(3000001, 3000101))"
   ]
  },
  {
   "cell_type": "markdown",
   "metadata": {},
   "source": [
    "# 调参"
   ]
  },
  {
   "cell_type": "code",
   "execution_count": 5,
   "metadata": {},
   "outputs": [],
   "source": [
    "from collections import namedtuple\n",
    "\n",
    "ARG = namedtuple('ARG', [\n",
    "    'batch_size',\n",
    "    'epoch',\n",
    "    'lr',\n",
    "    'weight_decay',\n",
    "    'debug',\n",
    "    'n_embedding',\n",
    "    'max_length',\n",
    "    'n_eval',\n",
    "    'n_worker',\n",
    "    'device',\n",
    "    \n",
    "    'n_gpu',\n",
    "    'card_list',\n",
    "    \n",
    "    'n_fold',\n",
    "    'save_path',\n",
    "    'shuffle_flod',\n",
    "])\n",
    " \n",
    "args = ARG(\n",
    "    batch_size = 64 if offline else 256,\n",
    "    epoch = 10,\n",
    "    lr = 0.003,\n",
    "    weight_decay = 0.05,\n",
    "    debug = False,\n",
    "    n_embedding = 100,\n",
    "    max_length = 128,\n",
    "    n_eval = 100000,\n",
    "    n_worker = 1,\n",
    "    device=torch.device(\"cuda:2\"),\n",
    "#     device=torch.device(\"cpu\"),\n",
    "\n",
    "    n_gpu = 2,\n",
    "    card_list = [0, 1],\n",
    "    \n",
    "    n_fold = 5,\n",
    "    save_path = '%s/model_one_200acc_glove_lr0003_smooth_wd005/' % my_var_dir,\n",
    "    shuffle_flod = False,\n",
    "    \n",
    "    \n",
    ")\n",
    "\n",
    "if args.debug:\n",
    "    debug_number = 2000\n",
    "    sub_train_user = train_user[:debug_number]\n",
    "    sub_train_gender = train_gender[:debug_number] - 1\n",
    "    sub_train_age = train_age[:debug_number] - 1\n",
    "    sub_test_user = test_user[:debug_number]\n",
    "else:\n",
    "    sub_train_user = train_user\n",
    "    sub_train_gender = train_gender - 1\n",
    "    sub_train_age = train_age - 1\n",
    "    sub_test_user = test_user"
   ]
  },
  {
   "cell_type": "markdown",
   "metadata": {},
   "source": [
    "# dataset"
   ]
  },
  {
   "cell_type": "code",
   "execution_count": 6,
   "metadata": {
    "scrolled": true
   },
   "outputs": [],
   "source": [
    "class AdDataset(Data.Dataset):\n",
    "    def __init__(self, user_ids, gender = None, age = None):\n",
    "        self.user_id = list(user_ids)\n",
    "        self.gender = gender if gender is not None else [-1 for _ in range(len(self.user_id))]\n",
    "        self.age = age if age is not None else [-1 for _ in range(len(self.user_id))]\n",
    "        \n",
    "    def __len__(self):\n",
    "        return len(self.user_id)\n",
    "    \n",
    "    def __getitem__(self,idx):\n",
    "        return [self.user_id[idx], self.gender[idx], self.age[idx]]\n",
    "    \n",
    "feature_name = ['ad_id', 'product_category', 'advertiser_id', 'industry']\n",
    "\n",
    "n_embedding = 100\n",
    "x_dict = {\n",
    "    'time' :  np.zeros((args.batch_size, args.max_length)).astype('int'),\n",
    "    'click_time' :  np.zeros((args.batch_size, args.max_length)).astype('int'),\n",
    "\n",
    "    'creative_id' : np.zeros((args.batch_size, args.max_length, 200)).astype('float32'),\n",
    "    'ad_id' : np.zeros((args.batch_size, args.max_length, 200)).astype('float32'),\n",
    "    'product_id' : np.zeros((args.batch_size, args.max_length, n_embedding)).astype('float32'), \n",
    "    'product_category' : np.zeros((args.batch_size, args.max_length, n_embedding)).astype('float32'), \n",
    "    'advertiser_id' :  np.zeros((args.batch_size, args.max_length, 200)).astype('float32') , \n",
    "    'industry' : np.zeros((args.batch_size, args.max_length, n_embedding)).astype('float32'),\n",
    "    \n",
    "    'advertiser_id_industry' : np.zeros((args.batch_size, args.max_length, n_embedding)).astype('float32'),\n",
    "    'product_category_advertiser_id' : np.zeros((args.batch_size, args.max_length, n_embedding)).astype('float32'),\n",
    "    'product_category_industry' : np.zeros((args.batch_size, args.max_length, n_embedding)).astype('float32'),\n",
    "    'product_id_advertiser_id' : np.zeros((args.batch_size, args.max_length, n_embedding)).astype('float32'),\n",
    "    'product_id_industry' : np.zeros((args.batch_size, args.max_length, n_embedding)).astype('float32'),\n",
    "    'product_id_product_category' : np.zeros((args.batch_size, args.max_length, n_embedding)).astype('float32'),\n",
    "    \n",
    "    'x_len' :  np.zeros((args.batch_size,)).astype('long'),\n",
    "}\n",
    "\n",
    "\n",
    "x_target_encode = np.zeros((args.batch_size, args.max_length, 72)).astype('float32')\n",
    "def collate_fn(samples):\n",
    "    sample_np = np.array(samples)\n",
    "    user_ids = sample_np[:, 0]\n",
    "    gender = sample_np[:, 1]\n",
    "    age = sample_np[:, 2]\n",
    "    \n",
    "    \n",
    "    for i, user in enumerate(user_ids):\n",
    "        S = time.time()\n",
    "        df_user_info_sub = df_user_info.loc[user]\n",
    "        creative_ids = df_user_info_sub['creative_id'][:args.max_length]\n",
    "        \n",
    "        len_data = len(creative_ids)\n",
    "        \n",
    "        x_dict['time'][i][:len_data] = df_user_info_sub['time'][:len_data]\n",
    "        x_dict['click_time'][i][:len_data] = df_user_info_sub['click_time'][:len_data]\n",
    "                \n",
    "        flod = target_encode_user_dict[user]\n",
    "        x_target_encode[i][:len_data] = np.array(list(mp_target_encode[flod].loc[creative_ids]))\n",
    "        \n",
    "        id_embeddings = id_embedding_feq[creative_ids]\n",
    "        x_dict['creative_id'][i][:len_data] = id_embeddings[:, :200]\n",
    "        x_dict['ad_id'][i][:len_data] = id_embeddings[:, 200:400]\n",
    "        x_dict['advertiser_id'][i][:len_data] = id_embeddings[:, 400:600]\n",
    "        \n",
    "        x_dict['advertiser_id_industry'][i][:len_data] = id_embeddings[:, 600:700]\n",
    "        x_dict['product_category_advertiser_id'][i][:len_data] = id_embeddings[:, 700:800]\n",
    "        x_dict['product_id_advertiser_id'][i][:len_data] = id_embeddings[:, 800:900]\n",
    "        x_dict['product_id_product_category'][i][:len_data] = id_embeddings[:, 900:1000]\n",
    "\n",
    "        x_dict['x_len'][i] = len_data\n",
    "        \n",
    "\n",
    "    len_user = sample_np.shape[0]\n",
    "    \n",
    "#     cat_feature = torch.cat([torch.tensor(x_dict['ad_id'][:len_user]), torch.tensor(x_dict['product_category'][:len_user]),\n",
    "#                             torch.tensor(x_dict['advertiser_id'][:len_user]), torch.tensor(x_dict['industry'][:len_user])], dim = 2)\n",
    "    \n",
    "\n",
    "    if gender[0] == -1:\n",
    "        gender = None\n",
    "        age = None\n",
    "    else:\n",
    "        gender = torch.tensor(gender)\n",
    "        age = torch.tensor(age)\n",
    "    \n",
    "    \n",
    "    return {\n",
    "        'time' : torch.tensor(x_dict['time'][:len_user]).long(),\n",
    "        'click_time' : torch.tensor(x_dict['click_time'][:len_user]).long(),\n",
    "        'creative_id' : torch.tensor(x_dict['creative_id'][:len_user]),\n",
    "        'ad_id' : torch.tensor(x_dict['ad_id'][:len_user]),\n",
    "        'advertiser_id' : torch.tensor(x_dict['advertiser_id'][:len_user]), \n",
    "        \n",
    "        'advertiser_id_industry' : torch.tensor(x_dict['advertiser_id_industry'][:len_user]),\n",
    "        'product_category_advertiser_id' : torch.tensor(x_dict['product_category_advertiser_id'][:len_user]),\n",
    "        'product_id_advertiser_id' : torch.tensor(x_dict['product_id_advertiser_id'][:len_user]),\n",
    "        'product_id_product_category' : torch.tensor(x_dict['product_id_product_category'][:len_user]),\n",
    "\n",
    "        'target_encode_sequence' : torch.tensor(x_target_encode[:len_user]).float(),\n",
    "        'x_len' :  torch.tensor(x_dict['x_len'][:len_user]),\n",
    "        'x_flatten' : torch.tensor(list(se_tfidf_stack[user_ids].values)).float(),\n",
    "        'gender' : gender,\n",
    "        'age' : age,\n",
    "        }"
   ]
  },
  {
   "cell_type": "markdown",
   "metadata": {},
   "source": [
    "# train"
   ]
  },
  {
   "cell_type": "code",
   "execution_count": 7,
   "metadata": {
    "code_folding": [
     31,
     43
    ]
   },
   "outputs": [],
   "source": [
    "TIME_FORWARD = 0\n",
    "TIME_BACKWARD = 0\n",
    "    \n",
    "\n",
    "def predict_batch_multi_task(model, user_ids, batch_size = args.batch_size):\n",
    "    len_user_ids = len(user_ids)\n",
    "    pre_list_gender = []\n",
    "    pre_list_age = []\n",
    "    pre_list_hidden = []\n",
    "    \n",
    "    train_dataset=AdDataset(user_ids)\n",
    "    data_loader = Data.DataLoader(\n",
    "        dataset=train_dataset,      \n",
    "        batch_size=args.batch_size,      \n",
    "        shuffle=False,\n",
    "        collate_fn=collate_fn,\n",
    "        num_workers = args.n_worker,\n",
    "    )\n",
    "    with torch.no_grad():\n",
    "        for step, data in enumerate(tqdm(data_loader)):\n",
    "            pre_gender, pre_age, pre_hidden = model(**data)\n",
    "            pre_list_gender.append(pre_gender.cpu().detach().numpy())\n",
    "            pre_list_age.append(pre_age.cpu().detach().numpy())      \n",
    "            \n",
    "    return {\n",
    "        'gender' : np.concatenate(pre_list_gender), \n",
    "        'age' : np.concatenate(pre_list_age),\n",
    "    }\n",
    "\n",
    "def eval_data(model, user_ids, gender_labels, age_labels):\n",
    "    choose_idx = list(range(len(user_ids)))\n",
    "    if(len(user_ids) > args.n_eval):\n",
    "        choose_idx = random.sample(choose_idx, args.n_eval)\n",
    "    ret_dict = predict_batch_multi_task(model, user_ids[choose_idx])\n",
    "\n",
    "    predict_gender = np.argmax(ret_dict['gender'], axis = 1)\n",
    "    predict_age = np.argmax(ret_dict['age'], axis = 1)\n",
    "    acc_gender = accuracy_score(gender_labels[choose_idx], predict_gender)\n",
    "    acc_age = accuracy_score(age_labels[choose_idx], predict_age)\n",
    "    return acc_gender, acc_age\n",
    "    \n",
    "def train_multi_task(n_fold, model_class, class_parms, train_dataset, val_dataset, test_user_id):\n",
    "    \n",
    "    global TIME_FORWARD, TIME_BACKWARD\n",
    "    \n",
    "    train_user_id = train_dataset['x']\n",
    "    train_gender = train_dataset['gender']\n",
    "    train_age = train_dataset['age']\n",
    "    \n",
    "    logging.info('train number %d, val number %d' % (len(train_user_id), len(val_dataset['x'])))\n",
    "    \n",
    "    torch_dataset = AdDataset(train_user_id, train_gender, train_age)\n",
    "    data_loader = Data.DataLoader(\n",
    "        dataset=torch_dataset,      \n",
    "        batch_size=args.batch_size,      \n",
    "        shuffle=True,\n",
    "        collate_fn=collate_fn,\n",
    "        num_workers = args.n_worker,\n",
    "    )\n",
    "    \n",
    "    model = model_class(**class_parms).to(args.device)\n",
    "            \n",
    "    \n",
    "    no_decay = [\"bias\", \"gamma\",\"beta\"]\n",
    "    optimizer_grouped_parameters = [\n",
    "        {\n",
    "            \"params\": [p for n, p in model.named_parameters() if not any(nd in n for nd in no_decay)],\n",
    "            \"weight_decay\": args.weight_decay,\n",
    "        },\n",
    "        {\"params\": [p for n, p in model.named_parameters() if any(nd in n for nd in no_decay)], \"weight_decay\": 0.0},\n",
    "    ]\n",
    "    optimizer = AdamW(optimizer_grouped_parameters, lr = args.lr, weight_decay = args.weight_decay)\n",
    "    scheduler = get_linear_schedule_with_warmup(\n",
    "        optimizer, num_warmup_steps=int(len(train_user_id)//(args.batch_size)), num_training_steps=int(len(train_user_id) / args.batch_size * args.epoch)\n",
    "    )\n",
    "\n",
    "    for epoch in range(args.epoch):\n",
    "        loss_list, loss_gender_list, loss_age_list = [], [], []\n",
    "        model.train()\n",
    "        \n",
    "        for step, data in enumerate(tqdm(data_loader)):\n",
    "            #forward\n",
    "            S = time.time()\n",
    "\n",
    "            loss, loss_gender, loss_age, pre_gender, pre_age, _ = model(**data)\n",
    "        \n",
    "            TIME_FORWARD += time.time() - S\n",
    "            \n",
    "            loss_list.append(float(loss))\n",
    "            loss_gender_list.append(float(loss_gender))\n",
    "            loss_age_list.append(float(loss_age))\n",
    "            \n",
    "            #backward\n",
    "            S = time.time()\n",
    "            optimizer.zero_grad()\n",
    "            loss.backward()\n",
    "            torch.nn.utils.clip_grad_norm_(model.parameters(), max_norm = 5)\n",
    "            optimizer.step()\n",
    "            scheduler.step()\n",
    "            TIME_BACKWARD += time.time() - S\n",
    "        \n",
    "        model.eval()\n",
    "\n",
    "        train_acc_gender, train_acc_age = eval_data(model, train_dataset['x'], train_dataset['gender'], train_dataset['age'])\n",
    "\n",
    "        val_acc_gender, val_acc_age = eval_data(model, val_dataset['x'], val_dataset['gender'], val_dataset['age'])\n",
    "        \n",
    "        logging.info(\"flod %d epoch %d : \\n loss: %f loss_gender : %f, loss_age : %f, gender : %f, %f, age : %f, %f, score:%f\" %\\\n",
    "                     (n_fold, epoch, np.mean(loss_list), np.mean(loss_gender_list), np.mean(loss_age_list), \\\n",
    "                      train_acc_gender, val_acc_gender, train_acc_age, val_acc_age, val_acc_gender + val_acc_age))\n",
    "        \n",
    "    val_ret_dict = predict_batch_multi_task(model, val_dataset['x'])\n",
    "    test_ret_dict = predict_batch_multi_task(model, test_user_id)\n",
    "    \n",
    "    return model, val_ret_dict, test_ret_dict\n",
    "\n",
    "\n",
    "def nn_cross_validation_multi_task(x_train, gender, age, x_test, model_class, class_parms, func_train, is_cross = True, random_seed = 0):\n",
    "    \n",
    "    folds = KFold(n_splits=args.n_fold, shuffle=False)              \n",
    "    \n",
    "    if os.path.exists(args.save_path) == False:\n",
    "        os.mkdir(args.save_path)\n",
    "    \n",
    "    x_train_val = np.array(x_train)\n",
    "    gender_train_val = np.array(gender)\n",
    "    age_train_val = np.array(age)\n",
    "\n",
    "\n",
    "    score_gender_val = np.zeros((len(x_train), 2))\n",
    "    score_age_val = np.zeros((len(x_train), 10))\n",
    "    \n",
    "\n",
    "    for n_fold, (trn_idx, val_idx) in enumerate(folds.split(x_train, gender_train_val)):\n",
    "        save_trn_idx = trn_idx\n",
    "        save_val_idx = val_idx\n",
    "        \n",
    "        train_x, train_gender, train_age = x_train_val[trn_idx], gender_train_val[trn_idx], age_train_val[trn_idx]\n",
    "        val_x, val_gender, val_age = x_train_val[val_idx], gender_train_val[val_idx], age_train_val[val_idx]\n",
    "        train_dataset = {\n",
    "            'x' : train_x,\n",
    "            'gender' : train_gender,\n",
    "            'age' : train_age,\n",
    "        }\n",
    "        val_dataset = {\n",
    "            'x' : val_x,\n",
    "            'gender' : val_gender,\n",
    "            'age' : val_age\n",
    "        }\n",
    "        \n",
    "        model, val_ret_dict, test_ret_dict = func_train(n_fold, model_class, class_parms, train_dataset, val_dataset, x_test)\n",
    "        \n",
    "        score_gender_val[val_idx] = val_ret_dict['gender']\n",
    "        score_age_val[val_idx] = val_ret_dict['age']\n",
    "        \n",
    "        val_predict_gender = np.argmax(score_gender_val[val_idx] , axis = 1)\n",
    "        val_predict_age = np.argmax(score_age_val[val_idx] , axis = 1)\n",
    "\n",
    "        if is_cross == False:\n",
    "            eda_val_dict = {\n",
    "                'user' : val_x,\n",
    "                'pre_gender' : val_predict_gender,\n",
    "                'gender' : val_gender,\n",
    "                'pre_age' : val_predict_age,\n",
    "                'age' : val_age,\n",
    "                'score_gender' : score_gender_val[val_idx],\n",
    "                'score_age' :  score_age_val[val_idx]\n",
    "            }\n",
    "\n",
    "            return model, eda_val_dict, test_ret_dict\n",
    "        \n",
    "        acc_gender = accuracy_score(val_gender, val_predict_gender)\n",
    "        acc_age = accuracy_score(val_age, val_predict_age)\n",
    "\n",
    "        logging.info(\"%d : gender : %f, age: %f, score :%f\" % (n_fold, acc_gender, acc_age, acc_gender + acc_age))\n",
    "        \n",
    "        torch.save(model, '%s/model_%d' % (args.save_path, n_fold))\n",
    "        pickle.dump(test_ret_dict, open('%s/test_dict_flod_%d.pickle' % (args.save_path, n_fold), 'wb'))\n",
    "        \n",
    "        test_gender_pre = np.argmax(test_ret_dict['gender'], axis = 1) + 1\n",
    "        test_age_pre = np.argmax(test_ret_dict['age'], axis = 1) + 1\n",
    "        df_submit = pd.DataFrame()\n",
    "        df_submit['user_id'] = x_test\n",
    "        df_submit['predicted_gender'] = test_gender_pre\n",
    "        df_submit['predicted_age'] = test_age_pre\n",
    "        df_submit.to_csv('%s/df_submit_flod_%d.csv' % (args.save_path, n_fold), index=False)\n",
    "        \n",
    "        \n",
    "    return score_gender_val, score_age_val\n"
   ]
  },
  {
   "cell_type": "markdown",
   "metadata": {},
   "source": [
    "# Model"
   ]
  },
  {
   "cell_type": "code",
   "execution_count": 8,
   "metadata": {
    "code_folding": [
     11,
     15,
     33,
     70,
     78,
     82,
     96,
     199
    ],
    "scrolled": true
   },
   "outputs": [
    {
     "name": "stderr",
     "output_type": "stream",
     "text": [
      "2020-07-23 10:27:59,308 - INFO - start training \n",
      "2020-07-23 10:27:59,310 - INFO - train number 240, val number 60\n"
     ]
    },
    {
     "name": "stdout",
     "output_type": "stream",
     "text": [
      "8027468\n"
     ]
    },
    {
     "data": {
      "application/vnd.jupyter.widget-view+json": {
       "model_id": "4c46db380eac45b0a65e129356719085",
       "version_major": 2,
       "version_minor": 0
      },
      "text/plain": [
       "HBox(children=(IntProgress(value=0, max=1), HTML(value='')))"
      ]
     },
     "metadata": {},
     "output_type": "display_data"
    },
    {
     "name": "stdout",
     "output_type": "stream",
     "text": [
      "\n"
     ]
    },
    {
     "data": {
      "application/vnd.jupyter.widget-view+json": {
       "model_id": "7a9e0b4d67d34652b79f55c8fa54c0ab",
       "version_major": 2,
       "version_minor": 0
      },
      "text/plain": [
       "HBox(children=(IntProgress(value=0, max=1), HTML(value='')))"
      ]
     },
     "metadata": {},
     "output_type": "display_data"
    },
    {
     "name": "stdout",
     "output_type": "stream",
     "text": [
      "\n"
     ]
    },
    {
     "data": {
      "application/vnd.jupyter.widget-view+json": {
       "model_id": "18b4d7380d3444a2ab67f28cb272066e",
       "version_major": 2,
       "version_minor": 0
      },
      "text/plain": [
       "HBox(children=(IntProgress(value=0, max=1), HTML(value='')))"
      ]
     },
     "metadata": {},
     "output_type": "display_data"
    },
    {
     "name": "stderr",
     "output_type": "stream",
     "text": [
      "2020-07-23 10:28:03,131 - INFO - flod 0 epoch 0 : \n",
      " loss: 1.494681 loss_gender : 0.595380, loss_age : 2.393983, gender : 0.620833, 0.600000, age : 0.204167, 0.100000, score:0.700000\n"
     ]
    },
    {
     "name": "stdout",
     "output_type": "stream",
     "text": [
      "\n"
     ]
    },
    {
     "data": {
      "application/vnd.jupyter.widget-view+json": {
       "model_id": "ac84fb9c42dd4684adc492bcd5f44b72",
       "version_major": 2,
       "version_minor": 0
      },
      "text/plain": [
       "HBox(children=(IntProgress(value=0, max=1), HTML(value='')))"
      ]
     },
     "metadata": {},
     "output_type": "display_data"
    },
    {
     "name": "stdout",
     "output_type": "stream",
     "text": [
      "\n"
     ]
    },
    {
     "data": {
      "application/vnd.jupyter.widget-view+json": {
       "model_id": "04fcb358976a449fb197fd8aea6d7ee9",
       "version_major": 2,
       "version_minor": 0
      },
      "text/plain": [
       "HBox(children=(IntProgress(value=0, max=1), HTML(value='')))"
      ]
     },
     "metadata": {},
     "output_type": "display_data"
    },
    {
     "name": "stdout",
     "output_type": "stream",
     "text": [
      "\n"
     ]
    },
    {
     "data": {
      "application/vnd.jupyter.widget-view+json": {
       "model_id": "b6371e40d3514640a24160bd740c7bcf",
       "version_major": 2,
       "version_minor": 0
      },
      "text/plain": [
       "HBox(children=(IntProgress(value=0, max=1), HTML(value='')))"
      ]
     },
     "metadata": {},
     "output_type": "display_data"
    },
    {
     "name": "stderr",
     "output_type": "stream",
     "text": [
      "2020-07-23 10:28:05,551 - INFO - flod 0 epoch 1 : \n",
      " loss: 3.159226 loss_gender : 3.151627, loss_age : 3.166825, gender : 0.620833, 0.600000, age : 0.133333, 0.100000, score:0.700000\n"
     ]
    },
    {
     "name": "stdout",
     "output_type": "stream",
     "text": [
      "\n"
     ]
    },
    {
     "data": {
      "application/vnd.jupyter.widget-view+json": {
       "model_id": "7a8dfc88ed4a42f5afa6d219f5186622",
       "version_major": 2,
       "version_minor": 0
      },
      "text/plain": [
       "HBox(children=(IntProgress(value=0, max=1), HTML(value='')))"
      ]
     },
     "metadata": {},
     "output_type": "display_data"
    },
    {
     "name": "stdout",
     "output_type": "stream",
     "text": [
      "\n"
     ]
    },
    {
     "data": {
      "application/vnd.jupyter.widget-view+json": {
       "model_id": "cd2c18ed30c14e1a802a5bb047909854",
       "version_major": 2,
       "version_minor": 0
      },
      "text/plain": [
       "HBox(children=(IntProgress(value=0, max=1), HTML(value='')))"
      ]
     },
     "metadata": {},
     "output_type": "display_data"
    },
    {
     "name": "stdout",
     "output_type": "stream",
     "text": [
      "\n"
     ]
    },
    {
     "data": {
      "application/vnd.jupyter.widget-view+json": {
       "model_id": "afaee08cb4ec4c6690c1b6368e88fd8c",
       "version_major": 2,
       "version_minor": 0
      },
      "text/plain": [
       "HBox(children=(IntProgress(value=0, max=1), HTML(value='')))"
      ]
     },
     "metadata": {},
     "output_type": "display_data"
    },
    {
     "name": "stderr",
     "output_type": "stream",
     "text": [
      "2020-07-23 10:28:07,981 - INFO - flod 0 epoch 2 : \n",
      " loss: 1.956090 loss_gender : 1.373787, loss_age : 2.538393, gender : 0.745833, 0.683333, age : 0.183333, 0.150000, score:0.833333\n"
     ]
    },
    {
     "name": "stdout",
     "output_type": "stream",
     "text": [
      "\n"
     ]
    },
    {
     "data": {
      "application/vnd.jupyter.widget-view+json": {
       "model_id": "7d88e3487b54442ebc9c68f64ef406a8",
       "version_major": 2,
       "version_minor": 0
      },
      "text/plain": [
       "HBox(children=(IntProgress(value=0, max=1), HTML(value='')))"
      ]
     },
     "metadata": {},
     "output_type": "display_data"
    },
    {
     "name": "stdout",
     "output_type": "stream",
     "text": [
      "\n"
     ]
    },
    {
     "data": {
      "application/vnd.jupyter.widget-view+json": {
       "model_id": "3b0bf148ea0b4118b801e836657e17c7",
       "version_major": 2,
       "version_minor": 0
      },
      "text/plain": [
       "HBox(children=(IntProgress(value=0, max=1), HTML(value='')))"
      ]
     },
     "metadata": {},
     "output_type": "display_data"
    },
    {
     "name": "stdout",
     "output_type": "stream",
     "text": [
      "\n"
     ]
    },
    {
     "data": {
      "application/vnd.jupyter.widget-view+json": {
       "model_id": "9c8d6a73713e446e8f7de5aaa759a97b",
       "version_major": 2,
       "version_minor": 0
      },
      "text/plain": [
       "HBox(children=(IntProgress(value=0, max=1), HTML(value='')))"
      ]
     },
     "metadata": {},
     "output_type": "display_data"
    },
    {
     "name": "stderr",
     "output_type": "stream",
     "text": [
      "2020-07-23 10:28:10,461 - INFO - flod 0 epoch 3 : \n",
      " loss: 1.434064 loss_gender : 0.544056, loss_age : 2.324073, gender : 0.462500, 0.433333, age : 0.150000, 0.100000, score:0.533333\n"
     ]
    },
    {
     "name": "stdout",
     "output_type": "stream",
     "text": [
      "\n"
     ]
    },
    {
     "data": {
      "application/vnd.jupyter.widget-view+json": {
       "model_id": "671c71f6fc5740d88bf2b768cfa4ffa1",
       "version_major": 2,
       "version_minor": 0
      },
      "text/plain": [
       "HBox(children=(IntProgress(value=0, max=1), HTML(value='')))"
      ]
     },
     "metadata": {},
     "output_type": "display_data"
    },
    {
     "name": "stdout",
     "output_type": "stream",
     "text": [
      "\n"
     ]
    },
    {
     "data": {
      "application/vnd.jupyter.widget-view+json": {
       "model_id": "cdd4686f33584081a4193f01c364066d",
       "version_major": 2,
       "version_minor": 0
      },
      "text/plain": [
       "HBox(children=(IntProgress(value=0, max=1), HTML(value='')))"
      ]
     },
     "metadata": {},
     "output_type": "display_data"
    },
    {
     "name": "stdout",
     "output_type": "stream",
     "text": [
      "\n"
     ]
    },
    {
     "data": {
      "application/vnd.jupyter.widget-view+json": {
       "model_id": "6dcdae4abb5d46e1acce8d3bf8f8e549",
       "version_major": 2,
       "version_minor": 0
      },
      "text/plain": [
       "HBox(children=(IntProgress(value=0, max=1), HTML(value='')))"
      ]
     },
     "metadata": {},
     "output_type": "display_data"
    },
    {
     "name": "stderr",
     "output_type": "stream",
     "text": [
      "2020-07-23 10:28:12,900 - INFO - flod 0 epoch 4 : \n",
      " loss: 1.343250 loss_gender : 0.641117, loss_age : 2.045383, gender : 0.745833, 0.683333, age : 0.187500, 0.116667, score:0.800000\n"
     ]
    },
    {
     "name": "stdout",
     "output_type": "stream",
     "text": [
      "\n"
     ]
    },
    {
     "data": {
      "application/vnd.jupyter.widget-view+json": {
       "model_id": "6e65bfa7324c41c3992d5cc6a01a53ef",
       "version_major": 2,
       "version_minor": 0
      },
      "text/plain": [
       "HBox(children=(IntProgress(value=0, max=1), HTML(value='')))"
      ]
     },
     "metadata": {},
     "output_type": "display_data"
    },
    {
     "name": "stdout",
     "output_type": "stream",
     "text": [
      "\n"
     ]
    },
    {
     "data": {
      "application/vnd.jupyter.widget-view+json": {
       "model_id": "4dffd62cc8224182995154053d824bbe",
       "version_major": 2,
       "version_minor": 0
      },
      "text/plain": [
       "HBox(children=(IntProgress(value=0, max=1), HTML(value='')))"
      ]
     },
     "metadata": {},
     "output_type": "display_data"
    },
    {
     "name": "stdout",
     "output_type": "stream",
     "text": [
      "\n"
     ]
    },
    {
     "data": {
      "application/vnd.jupyter.widget-view+json": {
       "model_id": "f11f51fdc27e473189cf47df40dbb3b2",
       "version_major": 2,
       "version_minor": 0
      },
      "text/plain": [
       "HBox(children=(IntProgress(value=0, max=1), HTML(value='')))"
      ]
     },
     "metadata": {},
     "output_type": "display_data"
    },
    {
     "name": "stderr",
     "output_type": "stream",
     "text": [
      "2020-07-23 10:28:15,740 - INFO - flod 0 epoch 5 : \n",
      " loss: 1.262386 loss_gender : 0.539986, loss_age : 1.984787, gender : 0.633333, 0.616667, age : 0.204167, 0.100000, score:0.716667\n"
     ]
    },
    {
     "name": "stdout",
     "output_type": "stream",
     "text": [
      "\n"
     ]
    },
    {
     "data": {
      "application/vnd.jupyter.widget-view+json": {
       "model_id": "a82dabfb29114e2cba40a892692cf103",
       "version_major": 2,
       "version_minor": 0
      },
      "text/plain": [
       "HBox(children=(IntProgress(value=0, max=1), HTML(value='')))"
      ]
     },
     "metadata": {},
     "output_type": "display_data"
    },
    {
     "name": "stdout",
     "output_type": "stream",
     "text": [
      "\n"
     ]
    },
    {
     "data": {
      "application/vnd.jupyter.widget-view+json": {
       "model_id": "2fa01a27df564312bc814ffeef84e955",
       "version_major": 2,
       "version_minor": 0
      },
      "text/plain": [
       "HBox(children=(IntProgress(value=0, max=1), HTML(value='')))"
      ]
     },
     "metadata": {},
     "output_type": "display_data"
    },
    {
     "name": "stdout",
     "output_type": "stream",
     "text": [
      "\n"
     ]
    },
    {
     "data": {
      "application/vnd.jupyter.widget-view+json": {
       "model_id": "5ba28fb6bb4046768cf06669098d080f",
       "version_major": 2,
       "version_minor": 0
      },
      "text/plain": [
       "HBox(children=(IntProgress(value=0, max=1), HTML(value='')))"
      ]
     },
     "metadata": {},
     "output_type": "display_data"
    },
    {
     "name": "stderr",
     "output_type": "stream",
     "text": [
      "2020-07-23 10:28:18,127 - INFO - flod 0 epoch 6 : \n",
      " loss: 1.243438 loss_gender : 0.543818, loss_age : 1.943058, gender : 0.633333, 0.600000, age : 0.204167, 0.100000, score:0.700000\n"
     ]
    },
    {
     "name": "stdout",
     "output_type": "stream",
     "text": [
      "\n"
     ]
    },
    {
     "data": {
      "application/vnd.jupyter.widget-view+json": {
       "model_id": "bf56aa60463b4eb78f64ccd419a18fb4",
       "version_major": 2,
       "version_minor": 0
      },
      "text/plain": [
       "HBox(children=(IntProgress(value=0, max=1), HTML(value='')))"
      ]
     },
     "metadata": {},
     "output_type": "display_data"
    },
    {
     "name": "stdout",
     "output_type": "stream",
     "text": [
      "\n"
     ]
    },
    {
     "data": {
      "application/vnd.jupyter.widget-view+json": {
       "model_id": "416b838b1a7141e5874ee34803c83f6f",
       "version_major": 2,
       "version_minor": 0
      },
      "text/plain": [
       "HBox(children=(IntProgress(value=0, max=1), HTML(value='')))"
      ]
     },
     "metadata": {},
     "output_type": "display_data"
    },
    {
     "name": "stdout",
     "output_type": "stream",
     "text": [
      "\n"
     ]
    },
    {
     "data": {
      "application/vnd.jupyter.widget-view+json": {
       "model_id": "8ecbf05015104127beb5147f06db8887",
       "version_major": 2,
       "version_minor": 0
      },
      "text/plain": [
       "HBox(children=(IntProgress(value=0, max=1), HTML(value='')))"
      ]
     },
     "metadata": {},
     "output_type": "display_data"
    },
    {
     "name": "stderr",
     "output_type": "stream",
     "text": [
      "2020-07-23 10:28:20,640 - INFO - flod 0 epoch 7 : \n",
      " loss: 1.230206 loss_gender : 0.554898, loss_age : 1.905515, gender : 0.633333, 0.616667, age : 0.208333, 0.100000, score:0.716667\n"
     ]
    },
    {
     "name": "stdout",
     "output_type": "stream",
     "text": [
      "\n"
     ]
    },
    {
     "data": {
      "application/vnd.jupyter.widget-view+json": {
       "model_id": "13a4b70f822b4d3390de00a8dd0e1101",
       "version_major": 2,
       "version_minor": 0
      },
      "text/plain": [
       "HBox(children=(IntProgress(value=0, max=1), HTML(value='')))"
      ]
     },
     "metadata": {},
     "output_type": "display_data"
    },
    {
     "name": "stdout",
     "output_type": "stream",
     "text": [
      "\n"
     ]
    },
    {
     "data": {
      "application/vnd.jupyter.widget-view+json": {
       "model_id": "6ae135d162d6488a9f9451b00a2591b0",
       "version_major": 2,
       "version_minor": 0
      },
      "text/plain": [
       "HBox(children=(IntProgress(value=0, max=1), HTML(value='')))"
      ]
     },
     "metadata": {},
     "output_type": "display_data"
    },
    {
     "name": "stdout",
     "output_type": "stream",
     "text": [
      "\n"
     ]
    },
    {
     "data": {
      "application/vnd.jupyter.widget-view+json": {
       "model_id": "4ee46b8f880a487abb5b2a83737d06cf",
       "version_major": 2,
       "version_minor": 0
      },
      "text/plain": [
       "HBox(children=(IntProgress(value=0, max=1), HTML(value='')))"
      ]
     },
     "metadata": {},
     "output_type": "display_data"
    },
    {
     "name": "stderr",
     "output_type": "stream",
     "text": [
      "2020-07-23 10:28:23,091 - INFO - flod 0 epoch 8 : \n",
      " loss: 1.217592 loss_gender : 0.548685, loss_age : 1.886499, gender : 0.633333, 0.616667, age : 0.212500, 0.100000, score:0.716667\n"
     ]
    },
    {
     "name": "stdout",
     "output_type": "stream",
     "text": [
      "\n"
     ]
    },
    {
     "data": {
      "application/vnd.jupyter.widget-view+json": {
       "model_id": "ae7f8fb63b7e4d839c7173b1eefec562",
       "version_major": 2,
       "version_minor": 0
      },
      "text/plain": [
       "HBox(children=(IntProgress(value=0, max=1), HTML(value='')))"
      ]
     },
     "metadata": {},
     "output_type": "display_data"
    },
    {
     "name": "stdout",
     "output_type": "stream",
     "text": [
      "\n"
     ]
    },
    {
     "data": {
      "application/vnd.jupyter.widget-view+json": {
       "model_id": "5d8237697c5d4c5ea6e9066c585363b8",
       "version_major": 2,
       "version_minor": 0
      },
      "text/plain": [
       "HBox(children=(IntProgress(value=0, max=1), HTML(value='')))"
      ]
     },
     "metadata": {},
     "output_type": "display_data"
    },
    {
     "name": "stdout",
     "output_type": "stream",
     "text": [
      "\n"
     ]
    },
    {
     "data": {
      "application/vnd.jupyter.widget-view+json": {
       "model_id": "43ec20b81dfd451d8f82176a9f387fb2",
       "version_major": 2,
       "version_minor": 0
      },
      "text/plain": [
       "HBox(children=(IntProgress(value=0, max=1), HTML(value='')))"
      ]
     },
     "metadata": {},
     "output_type": "display_data"
    },
    {
     "name": "stderr",
     "output_type": "stream",
     "text": [
      "2020-07-23 10:28:25,584 - INFO - flod 0 epoch 9 : \n",
      " loss: 1.211073 loss_gender : 0.542660, loss_age : 1.879486, gender : 0.633333, 0.616667, age : 0.212500, 0.100000, score:0.716667\n"
     ]
    },
    {
     "name": "stdout",
     "output_type": "stream",
     "text": [
      "\n"
     ]
    },
    {
     "data": {
      "application/vnd.jupyter.widget-view+json": {
       "model_id": "6e4d003334f54b39bb93511f043b369d",
       "version_major": 2,
       "version_minor": 0
      },
      "text/plain": [
       "HBox(children=(IntProgress(value=0, max=1), HTML(value='')))"
      ]
     },
     "metadata": {},
     "output_type": "display_data"
    },
    {
     "name": "stdout",
     "output_type": "stream",
     "text": [
      "\n"
     ]
    },
    {
     "data": {
      "application/vnd.jupyter.widget-view+json": {
       "model_id": "ebef1ac8397741918752e1333862ff0c",
       "version_major": 2,
       "version_minor": 0
      },
      "text/plain": [
       "HBox(children=(IntProgress(value=0, max=1), HTML(value='')))"
      ]
     },
     "metadata": {},
     "output_type": "display_data"
    },
    {
     "name": "stderr",
     "output_type": "stream",
     "text": [
      "2020-07-23 10:28:26,582 - INFO - 0 : gender : 0.616667, age: 0.100000, score :0.716667\n",
      "/home/huangweilin/anaconda3/envs/fjw/lib/python3.6/site-packages/torch/serialization.py:256: UserWarning: Couldn't retrieve source code for container of type RE2. It won't be checked for correctness upon loading.\n",
      "  \"type \" + obj.__name__ + \". It won't be checked \"\n",
      "/home/huangweilin/anaconda3/envs/fjw/lib/python3.6/site-packages/torch/serialization.py:256: UserWarning: Couldn't retrieve source code for container of type LayerNorm. It won't be checked for correctness upon loading.\n",
      "  \"type \" + obj.__name__ + \". It won't be checked \"\n",
      "/home/huangweilin/anaconda3/envs/fjw/lib/python3.6/site-packages/torch/serialization.py:256: UserWarning: Couldn't retrieve source code for container of type Linear. It won't be checked for correctness upon loading.\n",
      "  \"type \" + obj.__name__ + \". It won't be checked \"\n",
      "/home/huangweilin/anaconda3/envs/fjw/lib/python3.6/site-packages/torch/serialization.py:256: UserWarning: Couldn't retrieve source code for container of type LabelSmoothingCrossEntropy. It won't be checked for correctness upon loading.\n",
      "  \"type \" + obj.__name__ + \". It won't be checked \"\n",
      "/home/huangweilin/anaconda3/envs/fjw/lib/python3.6/site-packages/torch/serialization.py:256: UserWarning: Couldn't retrieve source code for container of type RE2One. It won't be checked for correctness upon loading.\n",
      "  \"type \" + obj.__name__ + \". It won't be checked \"\n",
      "/home/huangweilin/anaconda3/envs/fjw/lib/python3.6/site-packages/torch/serialization.py:256: UserWarning: Couldn't retrieve source code for container of type AlignmentOne. It won't be checked for correctness upon loading.\n",
      "  \"type \" + obj.__name__ + \". It won't be checked \"\n",
      "/home/huangweilin/anaconda3/envs/fjw/lib/python3.6/site-packages/torch/serialization.py:256: UserWarning: Couldn't retrieve source code for container of type GeLU. It won't be checked for correctness upon loading.\n",
      "  \"type \" + obj.__name__ + \". It won't be checked \"\n",
      "/home/huangweilin/anaconda3/envs/fjw/lib/python3.6/site-packages/torch/serialization.py:256: UserWarning: Couldn't retrieve source code for container of type Encoder. It won't be checked for correctness upon loading.\n",
      "  \"type \" + obj.__name__ + \". It won't be checked \"\n",
      "/home/huangweilin/anaconda3/envs/fjw/lib/python3.6/site-packages/torch/serialization.py:256: UserWarning: Couldn't retrieve source code for container of type Conv1d. It won't be checked for correctness upon loading.\n",
      "  \"type \" + obj.__name__ + \". It won't be checked \"\n",
      "/home/huangweilin/anaconda3/envs/fjw/lib/python3.6/site-packages/torch/serialization.py:256: UserWarning: Couldn't retrieve source code for container of type FullFusion. It won't be checked for correctness upon loading.\n",
      "  \"type \" + obj.__name__ + \". It won't be checked \"\n",
      "/home/huangweilin/anaconda3/envs/fjw/lib/python3.6/site-packages/torch/serialization.py:256: UserWarning: Couldn't retrieve source code for container of type AugmentedResidual. It won't be checked for correctness upon loading.\n",
      "  \"type \" + obj.__name__ + \". It won't be checked \"\n",
      "/home/huangweilin/anaconda3/envs/fjw/lib/python3.6/site-packages/torch/serialization.py:256: UserWarning: Couldn't retrieve source code for container of type Pooling. It won't be checked for correctness upon loading.\n",
      "  \"type \" + obj.__name__ + \". It won't be checked \"\n",
      "2020-07-23 10:28:26,733 - INFO - train number 240, val number 60\n"
     ]
    },
    {
     "name": "stdout",
     "output_type": "stream",
     "text": [
      "\n"
     ]
    },
    {
     "data": {
      "application/vnd.jupyter.widget-view+json": {
       "model_id": "069ceba586744adb9f2fb0eac9331152",
       "version_major": 2,
       "version_minor": 0
      },
      "text/plain": [
       "HBox(children=(IntProgress(value=0, max=1), HTML(value='')))"
      ]
     },
     "metadata": {},
     "output_type": "display_data"
    },
    {
     "name": "stdout",
     "output_type": "stream",
     "text": [
      "\n"
     ]
    },
    {
     "data": {
      "application/vnd.jupyter.widget-view+json": {
       "model_id": "1f223ede013b4e7a9e7c1b28ba98855a",
       "version_major": 2,
       "version_minor": 0
      },
      "text/plain": [
       "HBox(children=(IntProgress(value=0, max=1), HTML(value='')))"
      ]
     },
     "metadata": {},
     "output_type": "display_data"
    },
    {
     "name": "stdout",
     "output_type": "stream",
     "text": [
      "\n"
     ]
    },
    {
     "data": {
      "application/vnd.jupyter.widget-view+json": {
       "model_id": "a453892ff12246db8c175194c0ebd22b",
       "version_major": 2,
       "version_minor": 0
      },
      "text/plain": [
       "HBox(children=(IntProgress(value=0, max=1), HTML(value='')))"
      ]
     },
     "metadata": {},
     "output_type": "display_data"
    },
    {
     "name": "stderr",
     "output_type": "stream",
     "text": [
      "2020-07-23 10:28:29,494 - INFO - flod 1 epoch 0 : \n",
      " loss: 1.483852 loss_gender : 0.670550, loss_age : 2.297155, gender : 0.379167, 0.400000, age : 0.183333, 0.166667, score:0.566667\n"
     ]
    },
    {
     "name": "stdout",
     "output_type": "stream",
     "text": [
      "\n"
     ]
    },
    {
     "data": {
      "application/vnd.jupyter.widget-view+json": {
       "model_id": "4bfbf36b96374cc78f9b7a392ee26c68",
       "version_major": 2,
       "version_minor": 0
      },
      "text/plain": [
       "HBox(children=(IntProgress(value=0, max=1), HTML(value='')))"
      ]
     },
     "metadata": {},
     "output_type": "display_data"
    },
    {
     "name": "stdout",
     "output_type": "stream",
     "text": [
      "\n"
     ]
    },
    {
     "data": {
      "application/vnd.jupyter.widget-view+json": {
       "model_id": "f828dd5d2fa8401b8e31745a72f9c9da",
       "version_major": 2,
       "version_minor": 0
      },
      "text/plain": [
       "HBox(children=(IntProgress(value=0, max=1), HTML(value='')))"
      ]
     },
     "metadata": {},
     "output_type": "display_data"
    },
    {
     "name": "stdout",
     "output_type": "stream",
     "text": [
      "\n"
     ]
    },
    {
     "data": {
      "application/vnd.jupyter.widget-view+json": {
       "model_id": "d971aa8fb5bf4144a9bad341fd3a123c",
       "version_major": 2,
       "version_minor": 0
      },
      "text/plain": [
       "HBox(children=(IntProgress(value=0, max=1), HTML(value='')))"
      ]
     },
     "metadata": {},
     "output_type": "display_data"
    },
    {
     "name": "stderr",
     "output_type": "stream",
     "text": [
      "2020-07-23 10:28:31,977 - INFO - flod 1 epoch 1 : \n",
      " loss: 3.009988 loss_gender : 2.401726, loss_age : 3.618251, gender : 0.579167, 0.700000, age : 0.183333, 0.033333, score:0.733333\n"
     ]
    },
    {
     "name": "stdout",
     "output_type": "stream",
     "text": [
      "\n"
     ]
    },
    {
     "data": {
      "application/vnd.jupyter.widget-view+json": {
       "model_id": "d296913536bc470aabfc6067742daa0d",
       "version_major": 2,
       "version_minor": 0
      },
      "text/plain": [
       "HBox(children=(IntProgress(value=0, max=1), HTML(value='')))"
      ]
     },
     "metadata": {},
     "output_type": "display_data"
    },
    {
     "name": "stdout",
     "output_type": "stream",
     "text": [
      "\n"
     ]
    },
    {
     "data": {
      "application/vnd.jupyter.widget-view+json": {
       "model_id": "ecf209a105534f189cfdb8828c3cb2c3",
       "version_major": 2,
       "version_minor": 0
      },
      "text/plain": [
       "HBox(children=(IntProgress(value=0, max=1), HTML(value='')))"
      ]
     },
     "metadata": {},
     "output_type": "display_data"
    },
    {
     "name": "stdout",
     "output_type": "stream",
     "text": [
      "\n"
     ]
    },
    {
     "data": {
      "application/vnd.jupyter.widget-view+json": {
       "model_id": "7a061d32a34149fa927e47ac8a749662",
       "version_major": 2,
       "version_minor": 0
      },
      "text/plain": [
       "HBox(children=(IntProgress(value=0, max=1), HTML(value='')))"
      ]
     },
     "metadata": {},
     "output_type": "display_data"
    },
    {
     "name": "stderr",
     "output_type": "stream",
     "text": [
      "2020-07-23 10:28:34,498 - INFO - flod 1 epoch 2 : \n",
      " loss: 1.584672 loss_gender : 0.620924, loss_age : 2.548421, gender : 0.620833, 0.600000, age : 0.158333, 0.216667, score:0.816667\n"
     ]
    },
    {
     "name": "stdout",
     "output_type": "stream",
     "text": [
      "\n"
     ]
    },
    {
     "data": {
      "application/vnd.jupyter.widget-view+json": {
       "model_id": "3ed3755988594b248f82bb1713a1bd65",
       "version_major": 2,
       "version_minor": 0
      },
      "text/plain": [
       "HBox(children=(IntProgress(value=0, max=1), HTML(value='')))"
      ]
     },
     "metadata": {},
     "output_type": "display_data"
    },
    {
     "name": "stdout",
     "output_type": "stream",
     "text": [
      "\n"
     ]
    },
    {
     "data": {
      "application/vnd.jupyter.widget-view+json": {
       "model_id": "0350e0f746074f2ebe7dc48cc153e8a5",
       "version_major": 2,
       "version_minor": 0
      },
      "text/plain": [
       "HBox(children=(IntProgress(value=0, max=1), HTML(value='')))"
      ]
     },
     "metadata": {},
     "output_type": "display_data"
    },
    {
     "name": "stdout",
     "output_type": "stream",
     "text": [
      "\n"
     ]
    },
    {
     "data": {
      "application/vnd.jupyter.widget-view+json": {
       "model_id": "1dac9da3e6004e0f907ce419c3f89fc1",
       "version_major": 2,
       "version_minor": 0
      },
      "text/plain": [
       "HBox(children=(IntProgress(value=0, max=1), HTML(value='')))"
      ]
     },
     "metadata": {},
     "output_type": "display_data"
    },
    {
     "name": "stderr",
     "output_type": "stream",
     "text": [
      "2020-07-23 10:28:36,943 - INFO - flod 1 epoch 3 : \n",
      " loss: 1.503168 loss_gender : 0.681604, loss_age : 2.324733, gender : 0.620833, 0.616667, age : 0.179167, 0.166667, score:0.783333\n"
     ]
    },
    {
     "name": "stdout",
     "output_type": "stream",
     "text": [
      "\n"
     ]
    },
    {
     "data": {
      "application/vnd.jupyter.widget-view+json": {
       "model_id": "f02e489c6e0b45478c2e17b4df89d17e",
       "version_major": 2,
       "version_minor": 0
      },
      "text/plain": [
       "HBox(children=(IntProgress(value=0, max=1), HTML(value='')))"
      ]
     },
     "metadata": {},
     "output_type": "display_data"
    },
    {
     "name": "stdout",
     "output_type": "stream",
     "text": [
      "\n"
     ]
    },
    {
     "data": {
      "application/vnd.jupyter.widget-view+json": {
       "model_id": "91a803da4cb940e6a6e7703b87750f7f",
       "version_major": 2,
       "version_minor": 0
      },
      "text/plain": [
       "HBox(children=(IntProgress(value=0, max=1), HTML(value='')))"
      ]
     },
     "metadata": {},
     "output_type": "display_data"
    },
    {
     "name": "stdout",
     "output_type": "stream",
     "text": [
      "\n"
     ]
    },
    {
     "data": {
      "application/vnd.jupyter.widget-view+json": {
       "model_id": "6235958b554c4d92920bbd21a8150b1b",
       "version_major": 2,
       "version_minor": 0
      },
      "text/plain": [
       "HBox(children=(IntProgress(value=0, max=1), HTML(value='')))"
      ]
     },
     "metadata": {},
     "output_type": "display_data"
    },
    {
     "name": "stderr",
     "output_type": "stream",
     "text": [
      "2020-07-23 10:28:39,405 - INFO - flod 1 epoch 4 : \n",
      " loss: 1.363181 loss_gender : 0.622657, loss_age : 2.103705, gender : 0.583333, 0.700000, age : 0.129167, 0.183333, score:0.883333\n"
     ]
    },
    {
     "name": "stdout",
     "output_type": "stream",
     "text": [
      "\n"
     ]
    },
    {
     "data": {
      "application/vnd.jupyter.widget-view+json": {
       "model_id": "d750373b8bae4c018e1d93eff9c6e18b",
       "version_major": 2,
       "version_minor": 0
      },
      "text/plain": [
       "HBox(children=(IntProgress(value=0, max=1), HTML(value='')))"
      ]
     },
     "metadata": {},
     "output_type": "display_data"
    },
    {
     "name": "stdout",
     "output_type": "stream",
     "text": [
      "\n"
     ]
    },
    {
     "data": {
      "application/vnd.jupyter.widget-view+json": {
       "model_id": "b9137ec8a7cb4298b9c48438275850a8",
       "version_major": 2,
       "version_minor": 0
      },
      "text/plain": [
       "HBox(children=(IntProgress(value=0, max=1), HTML(value='')))"
      ]
     },
     "metadata": {},
     "output_type": "display_data"
    },
    {
     "name": "stdout",
     "output_type": "stream",
     "text": [
      "\n"
     ]
    },
    {
     "data": {
      "application/vnd.jupyter.widget-view+json": {
       "model_id": "afb34ff5bf9c4eafa60210983ad56d3d",
       "version_major": 2,
       "version_minor": 0
      },
      "text/plain": [
       "HBox(children=(IntProgress(value=0, max=1), HTML(value='')))"
      ]
     },
     "metadata": {},
     "output_type": "display_data"
    },
    {
     "name": "stderr",
     "output_type": "stream",
     "text": [
      "2020-07-23 10:28:41,809 - INFO - flod 1 epoch 5 : \n",
      " loss: 1.308718 loss_gender : 0.613015, loss_age : 2.004422, gender : 0.579167, 0.650000, age : 0.145833, 0.116667, score:0.766667\n"
     ]
    },
    {
     "name": "stdout",
     "output_type": "stream",
     "text": [
      "\n"
     ]
    },
    {
     "data": {
      "application/vnd.jupyter.widget-view+json": {
       "model_id": "5e785b8a5f664823b3539d0895ef983e",
       "version_major": 2,
       "version_minor": 0
      },
      "text/plain": [
       "HBox(children=(IntProgress(value=0, max=1), HTML(value='')))"
      ]
     },
     "metadata": {},
     "output_type": "display_data"
    },
    {
     "name": "stdout",
     "output_type": "stream",
     "text": [
      "\n"
     ]
    },
    {
     "data": {
      "application/vnd.jupyter.widget-view+json": {
       "model_id": "a91902cffe484f19b5fe2644c1a03507",
       "version_major": 2,
       "version_minor": 0
      },
      "text/plain": [
       "HBox(children=(IntProgress(value=0, max=1), HTML(value='')))"
      ]
     },
     "metadata": {},
     "output_type": "display_data"
    },
    {
     "name": "stdout",
     "output_type": "stream",
     "text": [
      "\n"
     ]
    },
    {
     "data": {
      "application/vnd.jupyter.widget-view+json": {
       "model_id": "e51e2ad2ab0c4c878f19692ab0995de4",
       "version_major": 2,
       "version_minor": 0
      },
      "text/plain": [
       "HBox(children=(IntProgress(value=0, max=1), HTML(value='')))"
      ]
     },
     "metadata": {},
     "output_type": "display_data"
    },
    {
     "name": "stderr",
     "output_type": "stream",
     "text": [
      "2020-07-23 10:28:44,354 - INFO - flod 1 epoch 6 : \n",
      " loss: 1.298997 loss_gender : 0.617358, loss_age : 1.980635, gender : 0.579167, 0.716667, age : 0.141667, 0.083333, score:0.800000\n"
     ]
    },
    {
     "name": "stdout",
     "output_type": "stream",
     "text": [
      "\n"
     ]
    },
    {
     "data": {
      "application/vnd.jupyter.widget-view+json": {
       "model_id": "3cde62651aac453c82a5bb18290f2b0e",
       "version_major": 2,
       "version_minor": 0
      },
      "text/plain": [
       "HBox(children=(IntProgress(value=0, max=1), HTML(value='')))"
      ]
     },
     "metadata": {},
     "output_type": "display_data"
    },
    {
     "name": "stdout",
     "output_type": "stream",
     "text": [
      "\n"
     ]
    },
    {
     "data": {
      "application/vnd.jupyter.widget-view+json": {
       "model_id": "546b6454150b498a9f02c753c110d06c",
       "version_major": 2,
       "version_minor": 0
      },
      "text/plain": [
       "HBox(children=(IntProgress(value=0, max=1), HTML(value='')))"
      ]
     },
     "metadata": {},
     "output_type": "display_data"
    },
    {
     "name": "stdout",
     "output_type": "stream",
     "text": [
      "\n"
     ]
    },
    {
     "data": {
      "application/vnd.jupyter.widget-view+json": {
       "model_id": "5c1012977b2c47d9912120799866144e",
       "version_major": 2,
       "version_minor": 0
      },
      "text/plain": [
       "HBox(children=(IntProgress(value=0, max=1), HTML(value='')))"
      ]
     },
     "metadata": {},
     "output_type": "display_data"
    },
    {
     "name": "stderr",
     "output_type": "stream",
     "text": [
      "2020-07-23 10:28:46,824 - INFO - flod 1 epoch 7 : \n",
      " loss: 1.298324 loss_gender : 0.614458, loss_age : 1.982190, gender : 0.579167, 0.716667, age : 0.133333, 0.066667, score:0.783333\n"
     ]
    },
    {
     "name": "stdout",
     "output_type": "stream",
     "text": [
      "\n"
     ]
    },
    {
     "data": {
      "application/vnd.jupyter.widget-view+json": {
       "model_id": "7261a72f56604799b9c4aa74cfb4acbe",
       "version_major": 2,
       "version_minor": 0
      },
      "text/plain": [
       "HBox(children=(IntProgress(value=0, max=1), HTML(value='')))"
      ]
     },
     "metadata": {},
     "output_type": "display_data"
    },
    {
     "name": "stdout",
     "output_type": "stream",
     "text": [
      "\n"
     ]
    },
    {
     "data": {
      "application/vnd.jupyter.widget-view+json": {
       "model_id": "75d8b8fd261f47e6bfdbdc09bed29049",
       "version_major": 2,
       "version_minor": 0
      },
      "text/plain": [
       "HBox(children=(IntProgress(value=0, max=1), HTML(value='')))"
      ]
     },
     "metadata": {},
     "output_type": "display_data"
    },
    {
     "name": "stdout",
     "output_type": "stream",
     "text": [
      "\n"
     ]
    },
    {
     "data": {
      "application/vnd.jupyter.widget-view+json": {
       "model_id": "212b89cc7005431f8d0944bd7a6d5416",
       "version_major": 2,
       "version_minor": 0
      },
      "text/plain": [
       "HBox(children=(IntProgress(value=0, max=1), HTML(value='')))"
      ]
     },
     "metadata": {},
     "output_type": "display_data"
    },
    {
     "name": "stderr",
     "output_type": "stream",
     "text": [
      "2020-07-23 10:28:49,395 - INFO - flod 1 epoch 8 : \n",
      " loss: 1.296941 loss_gender : 0.610279, loss_age : 1.983603, gender : 0.595833, 0.683333, age : 0.137500, 0.066667, score:0.750000\n"
     ]
    },
    {
     "name": "stdout",
     "output_type": "stream",
     "text": [
      "\n"
     ]
    },
    {
     "data": {
      "application/vnd.jupyter.widget-view+json": {
       "model_id": "7f1f8da491534900a6767c4834c00575",
       "version_major": 2,
       "version_minor": 0
      },
      "text/plain": [
       "HBox(children=(IntProgress(value=0, max=1), HTML(value='')))"
      ]
     },
     "metadata": {},
     "output_type": "display_data"
    },
    {
     "name": "stdout",
     "output_type": "stream",
     "text": [
      "\n"
     ]
    },
    {
     "data": {
      "application/vnd.jupyter.widget-view+json": {
       "model_id": "4c0ab76f74274b76a63b113ebc8fb210",
       "version_major": 2,
       "version_minor": 0
      },
      "text/plain": [
       "HBox(children=(IntProgress(value=0, max=1), HTML(value='')))"
      ]
     },
     "metadata": {},
     "output_type": "display_data"
    },
    {
     "name": "stdout",
     "output_type": "stream",
     "text": [
      "\n"
     ]
    },
    {
     "data": {
      "application/vnd.jupyter.widget-view+json": {
       "model_id": "09fcb5c1dab74543a987a5123994ab29",
       "version_major": 2,
       "version_minor": 0
      },
      "text/plain": [
       "HBox(children=(IntProgress(value=0, max=1), HTML(value='')))"
      ]
     },
     "metadata": {},
     "output_type": "display_data"
    },
    {
     "name": "stderr",
     "output_type": "stream",
     "text": [
      "2020-07-23 10:28:51,801 - INFO - flod 1 epoch 9 : \n",
      " loss: 1.294416 loss_gender : 0.608555, loss_age : 1.980278, gender : 0.595833, 0.683333, age : 0.137500, 0.066667, score:0.750000\n"
     ]
    },
    {
     "name": "stdout",
     "output_type": "stream",
     "text": [
      "\n"
     ]
    },
    {
     "data": {
      "application/vnd.jupyter.widget-view+json": {
       "model_id": "bcab8dd87461481faa66d66f30751adb",
       "version_major": 2,
       "version_minor": 0
      },
      "text/plain": [
       "HBox(children=(IntProgress(value=0, max=1), HTML(value='')))"
      ]
     },
     "metadata": {},
     "output_type": "display_data"
    },
    {
     "name": "stdout",
     "output_type": "stream",
     "text": [
      "\n"
     ]
    },
    {
     "data": {
      "application/vnd.jupyter.widget-view+json": {
       "model_id": "ddfa3aa457de4e978816af66ceeb3195",
       "version_major": 2,
       "version_minor": 0
      },
      "text/plain": [
       "HBox(children=(IntProgress(value=0, max=1), HTML(value='')))"
      ]
     },
     "metadata": {},
     "output_type": "display_data"
    },
    {
     "name": "stderr",
     "output_type": "stream",
     "text": [
      "2020-07-23 10:28:52,886 - INFO - 1 : gender : 0.683333, age: 0.066667, score :0.750000\n",
      "2020-07-23 10:28:53,015 - INFO - train number 240, val number 60\n"
     ]
    },
    {
     "name": "stdout",
     "output_type": "stream",
     "text": [
      "\n"
     ]
    },
    {
     "data": {
      "application/vnd.jupyter.widget-view+json": {
       "model_id": "f515fe1a69a14e609971473e0311d7fd",
       "version_major": 2,
       "version_minor": 0
      },
      "text/plain": [
       "HBox(children=(IntProgress(value=0, max=1), HTML(value='')))"
      ]
     },
     "metadata": {},
     "output_type": "display_data"
    },
    {
     "name": "stdout",
     "output_type": "stream",
     "text": [
      "\n"
     ]
    },
    {
     "data": {
      "application/vnd.jupyter.widget-view+json": {
       "model_id": "d76810a8bed549d29e12c8f626290575",
       "version_major": 2,
       "version_minor": 0
      },
      "text/plain": [
       "HBox(children=(IntProgress(value=0, max=1), HTML(value='')))"
      ]
     },
     "metadata": {},
     "output_type": "display_data"
    },
    {
     "name": "stdout",
     "output_type": "stream",
     "text": [
      "\n"
     ]
    },
    {
     "data": {
      "application/vnd.jupyter.widget-view+json": {
       "model_id": "dfc898371b2b46f38a69ea32caa82f9d",
       "version_major": 2,
       "version_minor": 0
      },
      "text/plain": [
       "HBox(children=(IntProgress(value=0, max=1), HTML(value='')))"
      ]
     },
     "metadata": {},
     "output_type": "display_data"
    },
    {
     "name": "stderr",
     "output_type": "stream",
     "text": [
      "2020-07-23 10:28:55,723 - INFO - flod 2 epoch 0 : \n",
      " loss: 1.621727 loss_gender : 0.618963, loss_age : 2.624492, gender : 0.620833, 0.600000, age : 0.183333, 0.150000, score:0.750000\n"
     ]
    },
    {
     "name": "stdout",
     "output_type": "stream",
     "text": [
      "\n"
     ]
    },
    {
     "data": {
      "application/vnd.jupyter.widget-view+json": {
       "model_id": "2fe449e2f4434be58e19a9b509b9d603",
       "version_major": 2,
       "version_minor": 0
      },
      "text/plain": [
       "HBox(children=(IntProgress(value=0, max=1), HTML(value='')))"
      ]
     },
     "metadata": {},
     "output_type": "display_data"
    },
    {
     "name": "stdout",
     "output_type": "stream",
     "text": [
      "\n"
     ]
    },
    {
     "data": {
      "application/vnd.jupyter.widget-view+json": {
       "model_id": "8d17150d0caa45f882da224ea057b81d",
       "version_major": 2,
       "version_minor": 0
      },
      "text/plain": [
       "HBox(children=(IntProgress(value=0, max=1), HTML(value='')))"
      ]
     },
     "metadata": {},
     "output_type": "display_data"
    },
    {
     "name": "stdout",
     "output_type": "stream",
     "text": [
      "\n"
     ]
    },
    {
     "data": {
      "application/vnd.jupyter.widget-view+json": {
       "model_id": "7e457b179061431b841e93d64565bc73",
       "version_major": 2,
       "version_minor": 0
      },
      "text/plain": [
       "HBox(children=(IntProgress(value=0, max=1), HTML(value='')))"
      ]
     },
     "metadata": {},
     "output_type": "display_data"
    },
    {
     "name": "stderr",
     "output_type": "stream",
     "text": [
      "2020-07-23 10:28:58,139 - INFO - flod 2 epoch 1 : \n",
      " loss: 2.065214 loss_gender : 1.095172, loss_age : 3.035256, gender : 0.379167, 0.400000, age : 0.191667, 0.100000, score:0.500000\n"
     ]
    },
    {
     "name": "stdout",
     "output_type": "stream",
     "text": [
      "\n"
     ]
    },
    {
     "data": {
      "application/vnd.jupyter.widget-view+json": {
       "model_id": "f862f85369324421847e5bead603ded5",
       "version_major": 2,
       "version_minor": 0
      },
      "text/plain": [
       "HBox(children=(IntProgress(value=0, max=1), HTML(value='')))"
      ]
     },
     "metadata": {},
     "output_type": "display_data"
    },
    {
     "name": "stdout",
     "output_type": "stream",
     "text": [
      "\n"
     ]
    },
    {
     "data": {
      "application/vnd.jupyter.widget-view+json": {
       "model_id": "2538784a772a4db5b2fe4bf23a00e037",
       "version_major": 2,
       "version_minor": 0
      },
      "text/plain": [
       "HBox(children=(IntProgress(value=0, max=1), HTML(value='')))"
      ]
     },
     "metadata": {},
     "output_type": "display_data"
    },
    {
     "name": "stdout",
     "output_type": "stream",
     "text": [
      "\n"
     ]
    },
    {
     "data": {
      "application/vnd.jupyter.widget-view+json": {
       "model_id": "f445a4b8f0604540bcf2ead06dedf941",
       "version_major": 2,
       "version_minor": 0
      },
      "text/plain": [
       "HBox(children=(IntProgress(value=0, max=1), HTML(value='')))"
      ]
     },
     "metadata": {},
     "output_type": "display_data"
    },
    {
     "name": "stderr",
     "output_type": "stream",
     "text": [
      "2020-07-23 10:29:00,457 - INFO - flod 2 epoch 2 : \n",
      " loss: 2.391098 loss_gender : 2.247531, loss_age : 2.534664, gender : 0.379167, 0.400000, age : 0.162500, 0.083333, score:0.483333\n"
     ]
    },
    {
     "name": "stdout",
     "output_type": "stream",
     "text": [
      "\n"
     ]
    },
    {
     "data": {
      "application/vnd.jupyter.widget-view+json": {
       "model_id": "6012d596d83145f9a2a8bc63874b6b2b",
       "version_major": 2,
       "version_minor": 0
      },
      "text/plain": [
       "HBox(children=(IntProgress(value=0, max=1), HTML(value='')))"
      ]
     },
     "metadata": {},
     "output_type": "display_data"
    },
    {
     "name": "stdout",
     "output_type": "stream",
     "text": [
      "\n"
     ]
    },
    {
     "data": {
      "application/vnd.jupyter.widget-view+json": {
       "model_id": "4bd9cc81797246dd9ee5087744dca5e0",
       "version_major": 2,
       "version_minor": 0
      },
      "text/plain": [
       "HBox(children=(IntProgress(value=0, max=1), HTML(value='')))"
      ]
     },
     "metadata": {},
     "output_type": "display_data"
    },
    {
     "name": "stdout",
     "output_type": "stream",
     "text": [
      "\n"
     ]
    },
    {
     "data": {
      "application/vnd.jupyter.widget-view+json": {
       "model_id": "f110c0b9140c44889ed6b241f0e11d9d",
       "version_major": 2,
       "version_minor": 0
      },
      "text/plain": [
       "HBox(children=(IntProgress(value=0, max=1), HTML(value='')))"
      ]
     },
     "metadata": {},
     "output_type": "display_data"
    },
    {
     "name": "stderr",
     "output_type": "stream",
     "text": [
      "2020-07-23 10:29:02,789 - INFO - flod 2 epoch 3 : \n",
      " loss: 1.620229 loss_gender : 1.014849, loss_age : 2.225609, gender : 0.620833, 0.600000, age : 0.162500, 0.050000, score:0.650000\n"
     ]
    },
    {
     "name": "stdout",
     "output_type": "stream",
     "text": [
      "\n"
     ]
    },
    {
     "data": {
      "application/vnd.jupyter.widget-view+json": {
       "model_id": "3573ad9f27f048dd8133596050d47633",
       "version_major": 2,
       "version_minor": 0
      },
      "text/plain": [
       "HBox(children=(IntProgress(value=0, max=1), HTML(value='')))"
      ]
     },
     "metadata": {},
     "output_type": "display_data"
    },
    {
     "name": "stdout",
     "output_type": "stream",
     "text": [
      "\n"
     ]
    },
    {
     "data": {
      "application/vnd.jupyter.widget-view+json": {
       "model_id": "9c0114f4e1d34137b6aa0daf558c65d0",
       "version_major": 2,
       "version_minor": 0
      },
      "text/plain": [
       "HBox(children=(IntProgress(value=0, max=1), HTML(value='')))"
      ]
     },
     "metadata": {},
     "output_type": "display_data"
    },
    {
     "name": "stdout",
     "output_type": "stream",
     "text": [
      "\n"
     ]
    },
    {
     "data": {
      "application/vnd.jupyter.widget-view+json": {
       "model_id": "e8e2a16c2c9f464da043a14a76fcb0ac",
       "version_major": 2,
       "version_minor": 0
      },
      "text/plain": [
       "HBox(children=(IntProgress(value=0, max=1), HTML(value='')))"
      ]
     },
     "metadata": {},
     "output_type": "display_data"
    },
    {
     "name": "stderr",
     "output_type": "stream",
     "text": [
      "2020-07-23 10:29:05,133 - INFO - flod 2 epoch 4 : \n",
      " loss: 1.334813 loss_gender : 0.602604, loss_age : 2.067023, gender : 0.620833, 0.600000, age : 0.175000, 0.233333, score:0.833333\n"
     ]
    },
    {
     "name": "stdout",
     "output_type": "stream",
     "text": [
      "\n"
     ]
    },
    {
     "data": {
      "application/vnd.jupyter.widget-view+json": {
       "model_id": "c4d93fe9fdb54692a1b27a6b95a9bd9a",
       "version_major": 2,
       "version_minor": 0
      },
      "text/plain": [
       "HBox(children=(IntProgress(value=0, max=1), HTML(value='')))"
      ]
     },
     "metadata": {},
     "output_type": "display_data"
    },
    {
     "name": "stdout",
     "output_type": "stream",
     "text": [
      "\n"
     ]
    },
    {
     "data": {
      "application/vnd.jupyter.widget-view+json": {
       "model_id": "4db23045e732406eb281d4d6022f54cb",
       "version_major": 2,
       "version_minor": 0
      },
      "text/plain": [
       "HBox(children=(IntProgress(value=0, max=1), HTML(value='')))"
      ]
     },
     "metadata": {},
     "output_type": "display_data"
    },
    {
     "name": "stdout",
     "output_type": "stream",
     "text": [
      "\n"
     ]
    },
    {
     "data": {
      "application/vnd.jupyter.widget-view+json": {
       "model_id": "0c4e72a733624f0eaddc08353788ede9",
       "version_major": 2,
       "version_minor": 0
      },
      "text/plain": [
       "HBox(children=(IntProgress(value=0, max=1), HTML(value='')))"
      ]
     },
     "metadata": {},
     "output_type": "display_data"
    },
    {
     "name": "stderr",
     "output_type": "stream",
     "text": [
      "2020-07-23 10:29:07,621 - INFO - flod 2 epoch 5 : \n",
      " loss: 1.336147 loss_gender : 0.706777, loss_age : 1.965517, gender : 0.620833, 0.600000, age : 0.175000, 0.216667, score:0.816667\n"
     ]
    },
    {
     "name": "stdout",
     "output_type": "stream",
     "text": [
      "\n"
     ]
    },
    {
     "data": {
      "application/vnd.jupyter.widget-view+json": {
       "model_id": "26c4702a84fa480b89fe414bd390fc01",
       "version_major": 2,
       "version_minor": 0
      },
      "text/plain": [
       "HBox(children=(IntProgress(value=0, max=1), HTML(value='')))"
      ]
     },
     "metadata": {},
     "output_type": "display_data"
    },
    {
     "name": "stdout",
     "output_type": "stream",
     "text": [
      "\n"
     ]
    },
    {
     "data": {
      "application/vnd.jupyter.widget-view+json": {
       "model_id": "f5948c3f7fc048b39d0c4e4ec74aa05b",
       "version_major": 2,
       "version_minor": 0
      },
      "text/plain": [
       "HBox(children=(IntProgress(value=0, max=1), HTML(value='')))"
      ]
     },
     "metadata": {},
     "output_type": "display_data"
    },
    {
     "name": "stdout",
     "output_type": "stream",
     "text": [
      "\n"
     ]
    },
    {
     "data": {
      "application/vnd.jupyter.widget-view+json": {
       "model_id": "d0971af99c4e440d87ee1e9ac90c235c",
       "version_major": 2,
       "version_minor": 0
      },
      "text/plain": [
       "HBox(children=(IntProgress(value=0, max=1), HTML(value='')))"
      ]
     },
     "metadata": {},
     "output_type": "display_data"
    },
    {
     "name": "stderr",
     "output_type": "stream",
     "text": [
      "2020-07-23 10:29:10,048 - INFO - flod 2 epoch 6 : \n",
      " loss: 1.292538 loss_gender : 0.656661, loss_age : 1.928415, gender : 0.620833, 0.583333, age : 0.158333, 0.233333, score:0.816667\n"
     ]
    },
    {
     "name": "stdout",
     "output_type": "stream",
     "text": [
      "\n"
     ]
    },
    {
     "data": {
      "application/vnd.jupyter.widget-view+json": {
       "model_id": "1d91edb7db494fba87734f621206a2b0",
       "version_major": 2,
       "version_minor": 0
      },
      "text/plain": [
       "HBox(children=(IntProgress(value=0, max=1), HTML(value='')))"
      ]
     },
     "metadata": {},
     "output_type": "display_data"
    },
    {
     "name": "stdout",
     "output_type": "stream",
     "text": [
      "\n"
     ]
    },
    {
     "data": {
      "application/vnd.jupyter.widget-view+json": {
       "model_id": "4f0e729a723d41d0afa75ea56b796afc",
       "version_major": 2,
       "version_minor": 0
      },
      "text/plain": [
       "HBox(children=(IntProgress(value=0, max=1), HTML(value='')))"
      ]
     },
     "metadata": {},
     "output_type": "display_data"
    },
    {
     "name": "stdout",
     "output_type": "stream",
     "text": [
      "\n"
     ]
    },
    {
     "data": {
      "application/vnd.jupyter.widget-view+json": {
       "model_id": "6b5fa32ce0cb498fa177849b15c4fe48",
       "version_major": 2,
       "version_minor": 0
      },
      "text/plain": [
       "HBox(children=(IntProgress(value=0, max=1), HTML(value='')))"
      ]
     },
     "metadata": {},
     "output_type": "display_data"
    },
    {
     "name": "stderr",
     "output_type": "stream",
     "text": [
      "2020-07-23 10:29:12,498 - INFO - flod 2 epoch 7 : \n",
      " loss: 1.256500 loss_gender : 0.594513, loss_age : 1.918487, gender : 0.616667, 0.600000, age : 0.191667, 0.166667, score:0.766667\n"
     ]
    },
    {
     "name": "stdout",
     "output_type": "stream",
     "text": [
      "\n"
     ]
    },
    {
     "data": {
      "application/vnd.jupyter.widget-view+json": {
       "model_id": "e4726745d45d4d92ab249921c172d994",
       "version_major": 2,
       "version_minor": 0
      },
      "text/plain": [
       "HBox(children=(IntProgress(value=0, max=1), HTML(value='')))"
      ]
     },
     "metadata": {},
     "output_type": "display_data"
    },
    {
     "name": "stdout",
     "output_type": "stream",
     "text": [
      "\n"
     ]
    },
    {
     "data": {
      "application/vnd.jupyter.widget-view+json": {
       "model_id": "e346155ef6f1453cb4cca23d40d97f5c",
       "version_major": 2,
       "version_minor": 0
      },
      "text/plain": [
       "HBox(children=(IntProgress(value=0, max=1), HTML(value='')))"
      ]
     },
     "metadata": {},
     "output_type": "display_data"
    },
    {
     "name": "stdout",
     "output_type": "stream",
     "text": [
      "\n"
     ]
    },
    {
     "data": {
      "application/vnd.jupyter.widget-view+json": {
       "model_id": "c29dd55bcf6040c189acb6cdf7328174",
       "version_major": 2,
       "version_minor": 0
      },
      "text/plain": [
       "HBox(children=(IntProgress(value=0, max=1), HTML(value='')))"
      ]
     },
     "metadata": {},
     "output_type": "display_data"
    },
    {
     "name": "stderr",
     "output_type": "stream",
     "text": [
      "2020-07-23 10:29:14,861 - INFO - flod 2 epoch 8 : \n",
      " loss: 1.244902 loss_gender : 0.570409, loss_age : 1.919394, gender : 0.633333, 0.633333, age : 0.175000, 0.166667, score:0.800000\n"
     ]
    },
    {
     "name": "stdout",
     "output_type": "stream",
     "text": [
      "\n"
     ]
    },
    {
     "data": {
      "application/vnd.jupyter.widget-view+json": {
       "model_id": "a0b89a61666842f78e8f3a529effac19",
       "version_major": 2,
       "version_minor": 0
      },
      "text/plain": [
       "HBox(children=(IntProgress(value=0, max=1), HTML(value='')))"
      ]
     },
     "metadata": {},
     "output_type": "display_data"
    },
    {
     "name": "stdout",
     "output_type": "stream",
     "text": [
      "\n"
     ]
    },
    {
     "data": {
      "application/vnd.jupyter.widget-view+json": {
       "model_id": "e650622097a14422b7a5472bb0a0d885",
       "version_major": 2,
       "version_minor": 0
      },
      "text/plain": [
       "HBox(children=(IntProgress(value=0, max=1), HTML(value='')))"
      ]
     },
     "metadata": {},
     "output_type": "display_data"
    },
    {
     "name": "stdout",
     "output_type": "stream",
     "text": [
      "\n"
     ]
    },
    {
     "data": {
      "application/vnd.jupyter.widget-view+json": {
       "model_id": "553337176e444ccb850bbcb9ff915bab",
       "version_major": 2,
       "version_minor": 0
      },
      "text/plain": [
       "HBox(children=(IntProgress(value=0, max=1), HTML(value='')))"
      ]
     },
     "metadata": {},
     "output_type": "display_data"
    },
    {
     "name": "stderr",
     "output_type": "stream",
     "text": [
      "2020-07-23 10:29:17,254 - INFO - flod 2 epoch 9 : \n",
      " loss: 1.243595 loss_gender : 0.567390, loss_age : 1.919801, gender : 0.633333, 0.633333, age : 0.175000, 0.166667, score:0.800000\n"
     ]
    },
    {
     "name": "stdout",
     "output_type": "stream",
     "text": [
      "\n"
     ]
    },
    {
     "data": {
      "application/vnd.jupyter.widget-view+json": {
       "model_id": "214842500d0142949d4165f1998bedd2",
       "version_major": 2,
       "version_minor": 0
      },
      "text/plain": [
       "HBox(children=(IntProgress(value=0, max=1), HTML(value='')))"
      ]
     },
     "metadata": {},
     "output_type": "display_data"
    },
    {
     "name": "stdout",
     "output_type": "stream",
     "text": [
      "\n"
     ]
    },
    {
     "data": {
      "application/vnd.jupyter.widget-view+json": {
       "model_id": "e2787a81cd6f45d896fffe4ce6e52104",
       "version_major": 2,
       "version_minor": 0
      },
      "text/plain": [
       "HBox(children=(IntProgress(value=0, max=1), HTML(value='')))"
      ]
     },
     "metadata": {},
     "output_type": "display_data"
    },
    {
     "name": "stderr",
     "output_type": "stream",
     "text": [
      "2020-07-23 10:29:18,288 - INFO - 2 : gender : 0.633333, age: 0.166667, score :0.800000\n",
      "2020-07-23 10:29:18,400 - INFO - train number 240, val number 60\n"
     ]
    },
    {
     "name": "stdout",
     "output_type": "stream",
     "text": [
      "\n"
     ]
    },
    {
     "data": {
      "application/vnd.jupyter.widget-view+json": {
       "model_id": "968ec6943557498599f161a467a0b002",
       "version_major": 2,
       "version_minor": 0
      },
      "text/plain": [
       "HBox(children=(IntProgress(value=0, max=1), HTML(value='')))"
      ]
     },
     "metadata": {},
     "output_type": "display_data"
    },
    {
     "name": "stdout",
     "output_type": "stream",
     "text": [
      "\n"
     ]
    },
    {
     "data": {
      "application/vnd.jupyter.widget-view+json": {
       "model_id": "7610521bdd2c4b1ca374f83977200dfe",
       "version_major": 2,
       "version_minor": 0
      },
      "text/plain": [
       "HBox(children=(IntProgress(value=0, max=1), HTML(value='')))"
      ]
     },
     "metadata": {},
     "output_type": "display_data"
    },
    {
     "name": "stdout",
     "output_type": "stream",
     "text": [
      "\n"
     ]
    },
    {
     "data": {
      "application/vnd.jupyter.widget-view+json": {
       "model_id": "7e0a9ee44017449898d04fddeb0212be",
       "version_major": 2,
       "version_minor": 0
      },
      "text/plain": [
       "HBox(children=(IntProgress(value=0, max=1), HTML(value='')))"
      ]
     },
     "metadata": {},
     "output_type": "display_data"
    },
    {
     "name": "stderr",
     "output_type": "stream",
     "text": [
      "2020-07-23 10:29:21,142 - INFO - flod 3 epoch 0 : \n",
      " loss: 1.930436 loss_gender : 0.718883, loss_age : 3.141989, gender : 0.337500, 0.366667, age : 0.195833, 0.083333, score:0.450000\n"
     ]
    },
    {
     "name": "stdout",
     "output_type": "stream",
     "text": [
      "\n"
     ]
    },
    {
     "data": {
      "application/vnd.jupyter.widget-view+json": {
       "model_id": "b6b6a3471ea14268846a5c8a33a34825",
       "version_major": 2,
       "version_minor": 0
      },
      "text/plain": [
       "HBox(children=(IntProgress(value=0, max=1), HTML(value='')))"
      ]
     },
     "metadata": {},
     "output_type": "display_data"
    },
    {
     "name": "stdout",
     "output_type": "stream",
     "text": [
      "\n"
     ]
    },
    {
     "data": {
      "application/vnd.jupyter.widget-view+json": {
       "model_id": "a85d9923bb084ab29e4dcb10d4a5e495",
       "version_major": 2,
       "version_minor": 0
      },
      "text/plain": [
       "HBox(children=(IntProgress(value=0, max=1), HTML(value='')))"
      ]
     },
     "metadata": {},
     "output_type": "display_data"
    },
    {
     "name": "stdout",
     "output_type": "stream",
     "text": [
      "\n"
     ]
    },
    {
     "data": {
      "application/vnd.jupyter.widget-view+json": {
       "model_id": "7eb4949c59084751a245aef271614bcf",
       "version_major": 2,
       "version_minor": 0
      },
      "text/plain": [
       "HBox(children=(IntProgress(value=0, max=1), HTML(value='')))"
      ]
     },
     "metadata": {},
     "output_type": "display_data"
    },
    {
     "name": "stderr",
     "output_type": "stream",
     "text": [
      "2020-07-23 10:29:23,552 - INFO - flod 3 epoch 1 : \n",
      " loss: 1.613894 loss_gender : 0.692786, loss_age : 2.535002, gender : 0.633333, 0.550000, age : 0.187500, 0.233333, score:0.783333\n"
     ]
    },
    {
     "name": "stdout",
     "output_type": "stream",
     "text": [
      "\n"
     ]
    },
    {
     "data": {
      "application/vnd.jupyter.widget-view+json": {
       "model_id": "6bdab5b6dd464a92b8d77ec51f1807dd",
       "version_major": 2,
       "version_minor": 0
      },
      "text/plain": [
       "HBox(children=(IntProgress(value=0, max=1), HTML(value='')))"
      ]
     },
     "metadata": {},
     "output_type": "display_data"
    },
    {
     "name": "stdout",
     "output_type": "stream",
     "text": [
      "\n"
     ]
    },
    {
     "data": {
      "application/vnd.jupyter.widget-view+json": {
       "model_id": "7b268e5367e04952a4107f21fce2836b",
       "version_major": 2,
       "version_minor": 0
      },
      "text/plain": [
       "HBox(children=(IntProgress(value=0, max=1), HTML(value='')))"
      ]
     },
     "metadata": {},
     "output_type": "display_data"
    },
    {
     "name": "stdout",
     "output_type": "stream",
     "text": [
      "\n"
     ]
    },
    {
     "data": {
      "application/vnd.jupyter.widget-view+json": {
       "model_id": "d9aa2bf6edf54a2d82843994be71cce8",
       "version_major": 2,
       "version_minor": 0
      },
      "text/plain": [
       "HBox(children=(IntProgress(value=0, max=1), HTML(value='')))"
      ]
     },
     "metadata": {},
     "output_type": "display_data"
    },
    {
     "name": "stderr",
     "output_type": "stream",
     "text": [
      "2020-07-23 10:29:25,867 - INFO - flod 3 epoch 2 : \n",
      " loss: 2.045832 loss_gender : 1.405570, loss_age : 2.686094, gender : 0.633333, 0.550000, age : 0.116667, 0.166667, score:0.716667\n"
     ]
    },
    {
     "name": "stdout",
     "output_type": "stream",
     "text": [
      "\n"
     ]
    },
    {
     "data": {
      "application/vnd.jupyter.widget-view+json": {
       "model_id": "473f1e77706f49e69bd7f48f43a71511",
       "version_major": 2,
       "version_minor": 0
      },
      "text/plain": [
       "HBox(children=(IntProgress(value=0, max=1), HTML(value='')))"
      ]
     },
     "metadata": {},
     "output_type": "display_data"
    },
    {
     "name": "stdout",
     "output_type": "stream",
     "text": [
      "\n"
     ]
    },
    {
     "data": {
      "application/vnd.jupyter.widget-view+json": {
       "model_id": "a41c1d946e084185814091f1ec24bcd8",
       "version_major": 2,
       "version_minor": 0
      },
      "text/plain": [
       "HBox(children=(IntProgress(value=0, max=1), HTML(value='')))"
      ]
     },
     "metadata": {},
     "output_type": "display_data"
    },
    {
     "name": "stdout",
     "output_type": "stream",
     "text": [
      "\n"
     ]
    },
    {
     "data": {
      "application/vnd.jupyter.widget-view+json": {
       "model_id": "d9dc8854dcc247e0954fbf2c010f8256",
       "version_major": 2,
       "version_minor": 0
      },
      "text/plain": [
       "HBox(children=(IntProgress(value=0, max=1), HTML(value='')))"
      ]
     },
     "metadata": {},
     "output_type": "display_data"
    },
    {
     "name": "stderr",
     "output_type": "stream",
     "text": [
      "2020-07-23 10:29:28,201 - INFO - flod 3 epoch 3 : \n",
      " loss: 1.554375 loss_gender : 0.660581, loss_age : 2.448170, gender : 0.362500, 0.450000, age : 0.150000, 0.216667, score:0.666667\n"
     ]
    },
    {
     "name": "stdout",
     "output_type": "stream",
     "text": [
      "\n"
     ]
    },
    {
     "data": {
      "application/vnd.jupyter.widget-view+json": {
       "model_id": "9797223de8004da6a5789024e685ab1c",
       "version_major": 2,
       "version_minor": 0
      },
      "text/plain": [
       "HBox(children=(IntProgress(value=0, max=1), HTML(value='')))"
      ]
     },
     "metadata": {},
     "output_type": "display_data"
    },
    {
     "name": "stdout",
     "output_type": "stream",
     "text": [
      "\n"
     ]
    },
    {
     "data": {
      "application/vnd.jupyter.widget-view+json": {
       "model_id": "d2ee2cfa16d74826b35d83fbdf905e7f",
       "version_major": 2,
       "version_minor": 0
      },
      "text/plain": [
       "HBox(children=(IntProgress(value=0, max=1), HTML(value='')))"
      ]
     },
     "metadata": {},
     "output_type": "display_data"
    },
    {
     "name": "stdout",
     "output_type": "stream",
     "text": [
      "\n"
     ]
    },
    {
     "data": {
      "application/vnd.jupyter.widget-view+json": {
       "model_id": "ea1dee1d675b4dc7b481d2c77d05f5f2",
       "version_major": 2,
       "version_minor": 0
      },
      "text/plain": [
       "HBox(children=(IntProgress(value=0, max=1), HTML(value='')))"
      ]
     },
     "metadata": {},
     "output_type": "display_data"
    },
    {
     "name": "stderr",
     "output_type": "stream",
     "text": [
      "2020-07-23 10:29:30,592 - INFO - flod 3 epoch 4 : \n",
      " loss: 1.480051 loss_gender : 0.811452, loss_age : 2.148649, gender : 0.400000, 0.400000, age : 0.204167, 0.116667, score:0.516667\n"
     ]
    },
    {
     "name": "stdout",
     "output_type": "stream",
     "text": [
      "\n"
     ]
    },
    {
     "data": {
      "application/vnd.jupyter.widget-view+json": {
       "model_id": "ee06d814329a49c98f7783767b482111",
       "version_major": 2,
       "version_minor": 0
      },
      "text/plain": [
       "HBox(children=(IntProgress(value=0, max=1), HTML(value='')))"
      ]
     },
     "metadata": {},
     "output_type": "display_data"
    },
    {
     "name": "stdout",
     "output_type": "stream",
     "text": [
      "\n"
     ]
    },
    {
     "data": {
      "application/vnd.jupyter.widget-view+json": {
       "model_id": "1ed54236d22743daa8ebbc5aaca94a2b",
       "version_major": 2,
       "version_minor": 0
      },
      "text/plain": [
       "HBox(children=(IntProgress(value=0, max=1), HTML(value='')))"
      ]
     },
     "metadata": {},
     "output_type": "display_data"
    },
    {
     "name": "stdout",
     "output_type": "stream",
     "text": [
      "\n"
     ]
    },
    {
     "data": {
      "application/vnd.jupyter.widget-view+json": {
       "model_id": "0d03a5db245a405e89bfee53215bcc45",
       "version_major": 2,
       "version_minor": 0
      },
      "text/plain": [
       "HBox(children=(IntProgress(value=0, max=1), HTML(value='')))"
      ]
     },
     "metadata": {},
     "output_type": "display_data"
    },
    {
     "name": "stderr",
     "output_type": "stream",
     "text": [
      "2020-07-23 10:29:33,118 - INFO - flod 3 epoch 5 : \n",
      " loss: 1.348449 loss_gender : 0.666050, loss_age : 2.030847, gender : 0.629167, 0.550000, age : 0.191667, 0.083333, score:0.633333\n"
     ]
    },
    {
     "name": "stdout",
     "output_type": "stream",
     "text": [
      "\n"
     ]
    },
    {
     "data": {
      "application/vnd.jupyter.widget-view+json": {
       "model_id": "fbefd4f490d34881b8b2d8ae82eb8f45",
       "version_major": 2,
       "version_minor": 0
      },
      "text/plain": [
       "HBox(children=(IntProgress(value=0, max=1), HTML(value='')))"
      ]
     },
     "metadata": {},
     "output_type": "display_data"
    },
    {
     "name": "stdout",
     "output_type": "stream",
     "text": [
      "\n"
     ]
    },
    {
     "data": {
      "application/vnd.jupyter.widget-view+json": {
       "model_id": "f5d75871b3104235b026cd8407043541",
       "version_major": 2,
       "version_minor": 0
      },
      "text/plain": [
       "HBox(children=(IntProgress(value=0, max=1), HTML(value='')))"
      ]
     },
     "metadata": {},
     "output_type": "display_data"
    },
    {
     "name": "stdout",
     "output_type": "stream",
     "text": [
      "\n"
     ]
    },
    {
     "data": {
      "application/vnd.jupyter.widget-view+json": {
       "model_id": "b8fb4ef3df8144fc9bf18cb02a08f158",
       "version_major": 2,
       "version_minor": 0
      },
      "text/plain": [
       "HBox(children=(IntProgress(value=0, max=1), HTML(value='')))"
      ]
     },
     "metadata": {},
     "output_type": "display_data"
    },
    {
     "name": "stderr",
     "output_type": "stream",
     "text": [
      "2020-07-23 10:29:35,567 - INFO - flod 3 epoch 6 : \n",
      " loss: 1.338493 loss_gender : 0.644821, loss_age : 2.032164, gender : 0.633333, 0.550000, age : 0.191667, 0.083333, score:0.633333\n"
     ]
    },
    {
     "name": "stdout",
     "output_type": "stream",
     "text": [
      "\n"
     ]
    },
    {
     "data": {
      "application/vnd.jupyter.widget-view+json": {
       "model_id": "d757b42673dd4febb22b4401707ba584",
       "version_major": 2,
       "version_minor": 0
      },
      "text/plain": [
       "HBox(children=(IntProgress(value=0, max=1), HTML(value='')))"
      ]
     },
     "metadata": {},
     "output_type": "display_data"
    },
    {
     "name": "stdout",
     "output_type": "stream",
     "text": [
      "\n"
     ]
    },
    {
     "data": {
      "application/vnd.jupyter.widget-view+json": {
       "model_id": "14d26becc7214bdba7ea5f09a8f5d94d",
       "version_major": 2,
       "version_minor": 0
      },
      "text/plain": [
       "HBox(children=(IntProgress(value=0, max=1), HTML(value='')))"
      ]
     },
     "metadata": {},
     "output_type": "display_data"
    },
    {
     "name": "stdout",
     "output_type": "stream",
     "text": [
      "\n"
     ]
    },
    {
     "data": {
      "application/vnd.jupyter.widget-view+json": {
       "model_id": "95b6e7b5fc63404ba9c698f4e9453fa0",
       "version_major": 2,
       "version_minor": 0
      },
      "text/plain": [
       "HBox(children=(IntProgress(value=0, max=1), HTML(value='')))"
      ]
     },
     "metadata": {},
     "output_type": "display_data"
    },
    {
     "name": "stderr",
     "output_type": "stream",
     "text": [
      "2020-07-23 10:29:38,064 - INFO - flod 3 epoch 7 : \n",
      " loss: 1.334312 loss_gender : 0.669256, loss_age : 1.999368, gender : 0.633333, 0.550000, age : 0.204167, 0.100000, score:0.650000\n"
     ]
    },
    {
     "name": "stdout",
     "output_type": "stream",
     "text": [
      "\n"
     ]
    },
    {
     "data": {
      "application/vnd.jupyter.widget-view+json": {
       "model_id": "266f81b43e8e4b3894d7b14bf5ff761e",
       "version_major": 2,
       "version_minor": 0
      },
      "text/plain": [
       "HBox(children=(IntProgress(value=0, max=1), HTML(value='')))"
      ]
     },
     "metadata": {},
     "output_type": "display_data"
    },
    {
     "name": "stdout",
     "output_type": "stream",
     "text": [
      "\n"
     ]
    },
    {
     "data": {
      "application/vnd.jupyter.widget-view+json": {
       "model_id": "3055c01ec57847baa67ee86ab8f61304",
       "version_major": 2,
       "version_minor": 0
      },
      "text/plain": [
       "HBox(children=(IntProgress(value=0, max=1), HTML(value='')))"
      ]
     },
     "metadata": {},
     "output_type": "display_data"
    },
    {
     "name": "stdout",
     "output_type": "stream",
     "text": [
      "\n"
     ]
    },
    {
     "data": {
      "application/vnd.jupyter.widget-view+json": {
       "model_id": "3162599a52b94adcb4492305bbee79d0",
       "version_major": 2,
       "version_minor": 0
      },
      "text/plain": [
       "HBox(children=(IntProgress(value=0, max=1), HTML(value='')))"
      ]
     },
     "metadata": {},
     "output_type": "display_data"
    },
    {
     "name": "stderr",
     "output_type": "stream",
     "text": [
      "2020-07-23 10:29:40,470 - INFO - flod 3 epoch 8 : \n",
      " loss: 1.317079 loss_gender : 0.669705, loss_age : 1.964452, gender : 0.633333, 0.550000, age : 0.195833, 0.100000, score:0.650000\n"
     ]
    },
    {
     "name": "stdout",
     "output_type": "stream",
     "text": [
      "\n"
     ]
    },
    {
     "data": {
      "application/vnd.jupyter.widget-view+json": {
       "model_id": "562eeee7e31440ef912ae1f633127617",
       "version_major": 2,
       "version_minor": 0
      },
      "text/plain": [
       "HBox(children=(IntProgress(value=0, max=1), HTML(value='')))"
      ]
     },
     "metadata": {},
     "output_type": "display_data"
    },
    {
     "name": "stdout",
     "output_type": "stream",
     "text": [
      "\n"
     ]
    },
    {
     "data": {
      "application/vnd.jupyter.widget-view+json": {
       "model_id": "ed8cab2fde8c416b959ce2c809ab03b4",
       "version_major": 2,
       "version_minor": 0
      },
      "text/plain": [
       "HBox(children=(IntProgress(value=0, max=1), HTML(value='')))"
      ]
     },
     "metadata": {},
     "output_type": "display_data"
    },
    {
     "name": "stdout",
     "output_type": "stream",
     "text": [
      "\n"
     ]
    },
    {
     "data": {
      "application/vnd.jupyter.widget-view+json": {
       "model_id": "c7907f4d98e74ca7a44a39af70a4dceb",
       "version_major": 2,
       "version_minor": 0
      },
      "text/plain": [
       "HBox(children=(IntProgress(value=0, max=1), HTML(value='')))"
      ]
     },
     "metadata": {},
     "output_type": "display_data"
    },
    {
     "name": "stderr",
     "output_type": "stream",
     "text": [
      "2020-07-23 10:29:42,881 - INFO - flod 3 epoch 9 : \n",
      " loss: 1.304866 loss_gender : 0.662579, loss_age : 1.947154, gender : 0.633333, 0.550000, age : 0.195833, 0.100000, score:0.650000\n"
     ]
    },
    {
     "name": "stdout",
     "output_type": "stream",
     "text": [
      "\n"
     ]
    },
    {
     "data": {
      "application/vnd.jupyter.widget-view+json": {
       "model_id": "f2352eecfede4ee8b48edfc9a1cd8287",
       "version_major": 2,
       "version_minor": 0
      },
      "text/plain": [
       "HBox(children=(IntProgress(value=0, max=1), HTML(value='')))"
      ]
     },
     "metadata": {},
     "output_type": "display_data"
    },
    {
     "name": "stdout",
     "output_type": "stream",
     "text": [
      "\n"
     ]
    },
    {
     "data": {
      "application/vnd.jupyter.widget-view+json": {
       "model_id": "cf7bb945eede41ebb0263d960e3c036d",
       "version_major": 2,
       "version_minor": 0
      },
      "text/plain": [
       "HBox(children=(IntProgress(value=0, max=1), HTML(value='')))"
      ]
     },
     "metadata": {},
     "output_type": "display_data"
    },
    {
     "name": "stderr",
     "output_type": "stream",
     "text": [
      "2020-07-23 10:29:43,893 - INFO - 3 : gender : 0.550000, age: 0.100000, score :0.650000\n",
      "2020-07-23 10:29:44,005 - INFO - train number 240, val number 60\n"
     ]
    },
    {
     "name": "stdout",
     "output_type": "stream",
     "text": [
      "\n"
     ]
    },
    {
     "data": {
      "application/vnd.jupyter.widget-view+json": {
       "model_id": "48016e60b9004047bcccc1e484d918e3",
       "version_major": 2,
       "version_minor": 0
      },
      "text/plain": [
       "HBox(children=(IntProgress(value=0, max=1), HTML(value='')))"
      ]
     },
     "metadata": {},
     "output_type": "display_data"
    },
    {
     "name": "stdout",
     "output_type": "stream",
     "text": [
      "\n"
     ]
    },
    {
     "data": {
      "application/vnd.jupyter.widget-view+json": {
       "model_id": "30d202403b7e4f3f97cf87a2af4726a9",
       "version_major": 2,
       "version_minor": 0
      },
      "text/plain": [
       "HBox(children=(IntProgress(value=0, max=1), HTML(value='')))"
      ]
     },
     "metadata": {},
     "output_type": "display_data"
    },
    {
     "name": "stdout",
     "output_type": "stream",
     "text": [
      "\n"
     ]
    },
    {
     "data": {
      "application/vnd.jupyter.widget-view+json": {
       "model_id": "4d11bc41747744e29b67b30b9b7ebcce",
       "version_major": 2,
       "version_minor": 0
      },
      "text/plain": [
       "HBox(children=(IntProgress(value=0, max=1), HTML(value='')))"
      ]
     },
     "metadata": {},
     "output_type": "display_data"
    },
    {
     "name": "stderr",
     "output_type": "stream",
     "text": [
      "2020-07-23 10:29:46,697 - INFO - flod 4 epoch 0 : \n",
      " loss: 1.640334 loss_gender : 0.638983, loss_age : 2.641684, gender : 0.412500, 0.266667, age : 0.200000, 0.183333, score:0.450000\n"
     ]
    },
    {
     "name": "stdout",
     "output_type": "stream",
     "text": [
      "\n"
     ]
    },
    {
     "data": {
      "application/vnd.jupyter.widget-view+json": {
       "model_id": "4be5e65b43d74ca48786cd17e483f57c",
       "version_major": 2,
       "version_minor": 0
      },
      "text/plain": [
       "HBox(children=(IntProgress(value=0, max=1), HTML(value='')))"
      ]
     },
     "metadata": {},
     "output_type": "display_data"
    },
    {
     "name": "stdout",
     "output_type": "stream",
     "text": [
      "\n"
     ]
    },
    {
     "data": {
      "application/vnd.jupyter.widget-view+json": {
       "model_id": "cea074ab34ed4aa58ecd98fc59c25928",
       "version_major": 2,
       "version_minor": 0
      },
      "text/plain": [
       "HBox(children=(IntProgress(value=0, max=1), HTML(value='')))"
      ]
     },
     "metadata": {},
     "output_type": "display_data"
    },
    {
     "name": "stdout",
     "output_type": "stream",
     "text": [
      "\n"
     ]
    },
    {
     "data": {
      "application/vnd.jupyter.widget-view+json": {
       "model_id": "9cad6daa6c1744c29ca18a7134903cc3",
       "version_major": 2,
       "version_minor": 0
      },
      "text/plain": [
       "HBox(children=(IntProgress(value=0, max=1), HTML(value='')))"
      ]
     },
     "metadata": {},
     "output_type": "display_data"
    },
    {
     "name": "stderr",
     "output_type": "stream",
     "text": [
      "2020-07-23 10:29:49,606 - INFO - flod 4 epoch 1 : \n",
      " loss: 1.955719 loss_gender : 0.953553, loss_age : 2.957884, gender : 0.587500, 0.733333, age : 0.129167, 0.100000, score:0.833333\n"
     ]
    },
    {
     "name": "stdout",
     "output_type": "stream",
     "text": [
      "\n"
     ]
    },
    {
     "data": {
      "application/vnd.jupyter.widget-view+json": {
       "model_id": "c45b1a1d2f35406585aac99fc1118884",
       "version_major": 2,
       "version_minor": 0
      },
      "text/plain": [
       "HBox(children=(IntProgress(value=0, max=1), HTML(value='')))"
      ]
     },
     "metadata": {},
     "output_type": "display_data"
    },
    {
     "name": "stdout",
     "output_type": "stream",
     "text": [
      "\n"
     ]
    },
    {
     "data": {
      "application/vnd.jupyter.widget-view+json": {
       "model_id": "00878c3885a6487c8c64d83a1ed3a0fe",
       "version_major": 2,
       "version_minor": 0
      },
      "text/plain": [
       "HBox(children=(IntProgress(value=0, max=1), HTML(value='')))"
      ]
     },
     "metadata": {},
     "output_type": "display_data"
    },
    {
     "name": "stdout",
     "output_type": "stream",
     "text": [
      "\n"
     ]
    },
    {
     "data": {
      "application/vnd.jupyter.widget-view+json": {
       "model_id": "2b172cc2171743aaba8b37e497c4475f",
       "version_major": 2,
       "version_minor": 0
      },
      "text/plain": [
       "HBox(children=(IntProgress(value=0, max=1), HTML(value='')))"
      ]
     },
     "metadata": {},
     "output_type": "display_data"
    },
    {
     "name": "stderr",
     "output_type": "stream",
     "text": [
      "2020-07-23 10:29:52,127 - INFO - flod 4 epoch 2 : \n",
      " loss: 2.361301 loss_gender : 2.291651, loss_age : 2.430952, gender : 0.587500, 0.733333, age : 0.100000, 0.083333, score:0.816667\n"
     ]
    },
    {
     "name": "stdout",
     "output_type": "stream",
     "text": [
      "\n"
     ]
    },
    {
     "data": {
      "application/vnd.jupyter.widget-view+json": {
       "model_id": "cb95f2252677489fa3b4fe68741cf5f7",
       "version_major": 2,
       "version_minor": 0
      },
      "text/plain": [
       "HBox(children=(IntProgress(value=0, max=1), HTML(value='')))"
      ]
     },
     "metadata": {},
     "output_type": "display_data"
    },
    {
     "name": "stdout",
     "output_type": "stream",
     "text": [
      "\n"
     ]
    },
    {
     "data": {
      "application/vnd.jupyter.widget-view+json": {
       "model_id": "5e19d5bc201c436c99723e80b50143d6",
       "version_major": 2,
       "version_minor": 0
      },
      "text/plain": [
       "HBox(children=(IntProgress(value=0, max=1), HTML(value='')))"
      ]
     },
     "metadata": {},
     "output_type": "display_data"
    },
    {
     "name": "stdout",
     "output_type": "stream",
     "text": [
      "\n"
     ]
    },
    {
     "data": {
      "application/vnd.jupyter.widget-view+json": {
       "model_id": "9bed39c121e3430291fd66828ed2eeea",
       "version_major": 2,
       "version_minor": 0
      },
      "text/plain": [
       "HBox(children=(IntProgress(value=0, max=1), HTML(value='')))"
      ]
     },
     "metadata": {},
     "output_type": "display_data"
    },
    {
     "name": "stderr",
     "output_type": "stream",
     "text": [
      "2020-07-23 10:29:54,552 - INFO - flod 4 epoch 3 : \n",
      " loss: 1.709183 loss_gender : 1.201470, loss_age : 2.216895, gender : 0.637500, 0.666667, age : 0.170833, 0.133333, score:0.800000\n"
     ]
    },
    {
     "name": "stdout",
     "output_type": "stream",
     "text": [
      "\n"
     ]
    },
    {
     "data": {
      "application/vnd.jupyter.widget-view+json": {
       "model_id": "3dd68aeeaee0434ca7d57271641442ac",
       "version_major": 2,
       "version_minor": 0
      },
      "text/plain": [
       "HBox(children=(IntProgress(value=0, max=1), HTML(value='')))"
      ]
     },
     "metadata": {},
     "output_type": "display_data"
    },
    {
     "name": "stdout",
     "output_type": "stream",
     "text": [
      "\n"
     ]
    },
    {
     "data": {
      "application/vnd.jupyter.widget-view+json": {
       "model_id": "ad9fc367b2f34d71a4e55043e3502e5a",
       "version_major": 2,
       "version_minor": 0
      },
      "text/plain": [
       "HBox(children=(IntProgress(value=0, max=1), HTML(value='')))"
      ]
     },
     "metadata": {},
     "output_type": "display_data"
    },
    {
     "name": "stdout",
     "output_type": "stream",
     "text": [
      "\n"
     ]
    },
    {
     "data": {
      "application/vnd.jupyter.widget-view+json": {
       "model_id": "d5497d2b0ec14fef821879e263c4d3b3",
       "version_major": 2,
       "version_minor": 0
      },
      "text/plain": [
       "HBox(children=(IntProgress(value=0, max=1), HTML(value='')))"
      ]
     },
     "metadata": {},
     "output_type": "display_data"
    },
    {
     "name": "stderr",
     "output_type": "stream",
     "text": [
      "2020-07-23 10:29:56,915 - INFO - flod 4 epoch 4 : \n",
      " loss: 1.334901 loss_gender : 0.588692, loss_age : 2.081110, gender : 0.412500, 0.266667, age : 0.166667, 0.150000, score:0.416667\n"
     ]
    },
    {
     "name": "stdout",
     "output_type": "stream",
     "text": [
      "\n"
     ]
    },
    {
     "data": {
      "application/vnd.jupyter.widget-view+json": {
       "model_id": "e7cb7d29f27e4c2bae797bcd71540105",
       "version_major": 2,
       "version_minor": 0
      },
      "text/plain": [
       "HBox(children=(IntProgress(value=0, max=1), HTML(value='')))"
      ]
     },
     "metadata": {},
     "output_type": "display_data"
    },
    {
     "name": "stdout",
     "output_type": "stream",
     "text": [
      "\n"
     ]
    },
    {
     "data": {
      "application/vnd.jupyter.widget-view+json": {
       "model_id": "26b6afd3d4304c2689a1fb8ffb2d8e1c",
       "version_major": 2,
       "version_minor": 0
      },
      "text/plain": [
       "HBox(children=(IntProgress(value=0, max=1), HTML(value='')))"
      ]
     },
     "metadata": {},
     "output_type": "display_data"
    },
    {
     "name": "stdout",
     "output_type": "stream",
     "text": [
      "\n"
     ]
    },
    {
     "data": {
      "application/vnd.jupyter.widget-view+json": {
       "model_id": "d78c776e21984d80b4fce2eb97007e87",
       "version_major": 2,
       "version_minor": 0
      },
      "text/plain": [
       "HBox(children=(IntProgress(value=0, max=1), HTML(value='')))"
      ]
     },
     "metadata": {},
     "output_type": "display_data"
    },
    {
     "name": "stderr",
     "output_type": "stream",
     "text": [
      "2020-07-23 10:29:59,351 - INFO - flod 4 epoch 5 : \n",
      " loss: 1.368819 loss_gender : 0.745285, loss_age : 1.992353, gender : 0.454167, 0.300000, age : 0.158333, 0.216667, score:0.516667\n"
     ]
    },
    {
     "name": "stdout",
     "output_type": "stream",
     "text": [
      "\n"
     ]
    },
    {
     "data": {
      "application/vnd.jupyter.widget-view+json": {
       "model_id": "55bf7c485e324cefba5229598640d53b",
       "version_major": 2,
       "version_minor": 0
      },
      "text/plain": [
       "HBox(children=(IntProgress(value=0, max=1), HTML(value='')))"
      ]
     },
     "metadata": {},
     "output_type": "display_data"
    },
    {
     "name": "stdout",
     "output_type": "stream",
     "text": [
      "\n"
     ]
    },
    {
     "data": {
      "application/vnd.jupyter.widget-view+json": {
       "model_id": "419e0e1337f745d7beee4184480bcf2e",
       "version_major": 2,
       "version_minor": 0
      },
      "text/plain": [
       "HBox(children=(IntProgress(value=0, max=1), HTML(value='')))"
      ]
     },
     "metadata": {},
     "output_type": "display_data"
    },
    {
     "name": "stdout",
     "output_type": "stream",
     "text": [
      "\n"
     ]
    },
    {
     "data": {
      "application/vnd.jupyter.widget-view+json": {
       "model_id": "436a96ccf97d4c50be69dba994251284",
       "version_major": 2,
       "version_minor": 0
      },
      "text/plain": [
       "HBox(children=(IntProgress(value=0, max=1), HTML(value='')))"
      ]
     },
     "metadata": {},
     "output_type": "display_data"
    },
    {
     "name": "stderr",
     "output_type": "stream",
     "text": [
      "2020-07-23 10:30:01,687 - INFO - flod 4 epoch 6 : \n",
      " loss: 1.312216 loss_gender : 0.646613, loss_age : 1.977819, gender : 0.650000, 0.666667, age : 0.158333, 0.166667, score:0.833333\n"
     ]
    },
    {
     "name": "stdout",
     "output_type": "stream",
     "text": [
      "\n"
     ]
    },
    {
     "data": {
      "application/vnd.jupyter.widget-view+json": {
       "model_id": "199d19fc731741c3800b7937a7e3be0c",
       "version_major": 2,
       "version_minor": 0
      },
      "text/plain": [
       "HBox(children=(IntProgress(value=0, max=1), HTML(value='')))"
      ]
     },
     "metadata": {},
     "output_type": "display_data"
    },
    {
     "name": "stdout",
     "output_type": "stream",
     "text": [
      "\n"
     ]
    },
    {
     "data": {
      "application/vnd.jupyter.widget-view+json": {
       "model_id": "64c3c61743fc46b3b4e79f88de3e42a7",
       "version_major": 2,
       "version_minor": 0
      },
      "text/plain": [
       "HBox(children=(IntProgress(value=0, max=1), HTML(value='')))"
      ]
     },
     "metadata": {},
     "output_type": "display_data"
    },
    {
     "name": "stdout",
     "output_type": "stream",
     "text": [
      "\n"
     ]
    },
    {
     "data": {
      "application/vnd.jupyter.widget-view+json": {
       "model_id": "ff6d04e1b2ad433b80c63b6a2ab3d89a",
       "version_major": 2,
       "version_minor": 0
      },
      "text/plain": [
       "HBox(children=(IntProgress(value=0, max=1), HTML(value='')))"
      ]
     },
     "metadata": {},
     "output_type": "display_data"
    },
    {
     "name": "stderr",
     "output_type": "stream",
     "text": [
      "2020-07-23 10:30:04,208 - INFO - flod 4 epoch 7 : \n",
      " loss: 1.285772 loss_gender : 0.579877, loss_age : 1.991667, gender : 0.600000, 0.716667, age : 0.187500, 0.166667, score:0.883333\n"
     ]
    },
    {
     "name": "stdout",
     "output_type": "stream",
     "text": [
      "\n"
     ]
    },
    {
     "data": {
      "application/vnd.jupyter.widget-view+json": {
       "model_id": "ac1c497200ff42e0b38ca853a81d648d",
       "version_major": 2,
       "version_minor": 0
      },
      "text/plain": [
       "HBox(children=(IntProgress(value=0, max=1), HTML(value='')))"
      ]
     },
     "metadata": {},
     "output_type": "display_data"
    },
    {
     "name": "stdout",
     "output_type": "stream",
     "text": [
      "\n"
     ]
    },
    {
     "data": {
      "application/vnd.jupyter.widget-view+json": {
       "model_id": "0a2b81c1f8c440d883981bac15c016d2",
       "version_major": 2,
       "version_minor": 0
      },
      "text/plain": [
       "HBox(children=(IntProgress(value=0, max=1), HTML(value='')))"
      ]
     },
     "metadata": {},
     "output_type": "display_data"
    },
    {
     "name": "stdout",
     "output_type": "stream",
     "text": [
      "\n"
     ]
    },
    {
     "data": {
      "application/vnd.jupyter.widget-view+json": {
       "model_id": "e4f7745c1a78422c8739bfd1389703ff",
       "version_major": 2,
       "version_minor": 0
      },
      "text/plain": [
       "HBox(children=(IntProgress(value=0, max=1), HTML(value='')))"
      ]
     },
     "metadata": {},
     "output_type": "display_data"
    },
    {
     "name": "stderr",
     "output_type": "stream",
     "text": [
      "2020-07-23 10:30:06,612 - INFO - flod 4 epoch 8 : \n",
      " loss: 1.288747 loss_gender : 0.576750, loss_age : 2.000743, gender : 0.591667, 0.716667, age : 0.183333, 0.183333, score:0.900000\n"
     ]
    },
    {
     "name": "stdout",
     "output_type": "stream",
     "text": [
      "\n"
     ]
    },
    {
     "data": {
      "application/vnd.jupyter.widget-view+json": {
       "model_id": "c240fe0c51a549dea9de6af7be69e925",
       "version_major": 2,
       "version_minor": 0
      },
      "text/plain": [
       "HBox(children=(IntProgress(value=0, max=1), HTML(value='')))"
      ]
     },
     "metadata": {},
     "output_type": "display_data"
    },
    {
     "name": "stdout",
     "output_type": "stream",
     "text": [
      "\n"
     ]
    },
    {
     "data": {
      "application/vnd.jupyter.widget-view+json": {
       "model_id": "43bb6bd823394aac864a6277c57ea9b7",
       "version_major": 2,
       "version_minor": 0
      },
      "text/plain": [
       "HBox(children=(IntProgress(value=0, max=1), HTML(value='')))"
      ]
     },
     "metadata": {},
     "output_type": "display_data"
    },
    {
     "name": "stdout",
     "output_type": "stream",
     "text": [
      "\n"
     ]
    },
    {
     "data": {
      "application/vnd.jupyter.widget-view+json": {
       "model_id": "7a906777d681461d907c5d895abb0fec",
       "version_major": 2,
       "version_minor": 0
      },
      "text/plain": [
       "HBox(children=(IntProgress(value=0, max=1), HTML(value='')))"
      ]
     },
     "metadata": {},
     "output_type": "display_data"
    },
    {
     "name": "stderr",
     "output_type": "stream",
     "text": [
      "2020-07-23 10:30:09,064 - INFO - flod 4 epoch 9 : \n",
      " loss: 1.290801 loss_gender : 0.582248, loss_age : 1.999353, gender : 0.591667, 0.716667, age : 0.183333, 0.183333, score:0.900000\n"
     ]
    },
    {
     "name": "stdout",
     "output_type": "stream",
     "text": [
      "\n"
     ]
    },
    {
     "data": {
      "application/vnd.jupyter.widget-view+json": {
       "model_id": "3f1213f856f14d049ff84cafaf668967",
       "version_major": 2,
       "version_minor": 0
      },
      "text/plain": [
       "HBox(children=(IntProgress(value=0, max=1), HTML(value='')))"
      ]
     },
     "metadata": {},
     "output_type": "display_data"
    },
    {
     "name": "stdout",
     "output_type": "stream",
     "text": [
      "\n"
     ]
    },
    {
     "data": {
      "application/vnd.jupyter.widget-view+json": {
       "model_id": "9160ff9782b9491c8cb93612dd808607",
       "version_major": 2,
       "version_minor": 0
      },
      "text/plain": [
       "HBox(children=(IntProgress(value=0, max=1), HTML(value='')))"
      ]
     },
     "metadata": {},
     "output_type": "display_data"
    },
    {
     "name": "stderr",
     "output_type": "stream",
     "text": [
      "2020-07-23 10:30:10,090 - INFO - 4 : gender : 0.716667, age: 0.183333, score :0.900000\n",
      "2020-07-23 10:30:10,191 - INFO - finish training \n"
     ]
    },
    {
     "name": "stdout",
     "output_type": "stream",
     "text": [
      "\n"
     ]
    }
   ],
   "source": [
    "class LayerNorm(nn.Module):\n",
    "    def __init__(self,features,eps=1e-6):\n",
    "        super(LayerNorm,self).__init__()\n",
    "        self.gamma=nn.Parameter(torch.ones(features))\n",
    "        self.beta=nn.Parameter(torch.zeros(features))\n",
    "        self.eps=eps\n",
    "    def forward(self,X):\n",
    "        mean=X.mean(-1,keepdim=True)\n",
    "        std=X.std(-1,keepdim=True)\n",
    "        return self.gamma*(X-mean)/(std+self.eps)+self.beta\n",
    "    \n",
    "class GeLU(nn.Module):\n",
    "    def forward(self, x):\n",
    "        return 0.5 * x * (1. + torch.tanh(x * 0.7978845608 * (1. + 0.044715 * x * x)))\n",
    "\n",
    "class LabelSmoothingCrossEntropy(nn.Module):\n",
    "\n",
    "\n",
    "    def __init__(self, smoothing=0.1,weights=torch.ones(2)/2):\n",
    "\n",
    "        super(LabelSmoothingCrossEntropy, self).__init__()\n",
    "        assert smoothing < 1.0\n",
    "        self.smoothing = smoothing\n",
    "        self.confidence = 1. - smoothing\n",
    "        self.weights=weights.to(args.device)\n",
    "\n",
    "    def forward(self, x, target):\n",
    "        logprobs = F.log_softmax(x, dim=-1)\n",
    "#         new_target=torch.zeros(X.shape).scatter_(1,target.unsqueeze(1),1)\n",
    "#         smooth_target=new_target*0.9+torch.ones_like(new_target)*(0.1/new_target.shape[1])\n",
    "#         -(F.log_softmax(X,dim=-1)*smooth_target).sum(dim=-1).mean()\n",
    "        nll_loss = -logprobs.gather(dim=-1, index=target.unsqueeze(1))\n",
    "        nll_loss = nll_loss.squeeze(1)\n",
    "        smooth_loss = (-logprobs*self.weights).sum(dim=-1)\n",
    "        loss = self.confidence * nll_loss + self.smoothing * smooth_loss\n",
    "        return loss.mean()\n",
    "\n",
    "class Conv1d(nn.Module):\n",
    "    def __init__(self, in_channels, out_channels, kernel_sizes):\n",
    "        super().__init__()\n",
    "        assert all(k % 2 == 1 for k in kernel_sizes), 'only support odd kernel sizes'\n",
    "        assert out_channels % len(kernel_sizes) == 0, 'out channels must be dividable by kernels'\n",
    "        out_channels = out_channels // len(kernel_sizes)\n",
    "        convs = []\n",
    "        for kernel_size in kernel_sizes:\n",
    "            conv = nn.Conv1d(in_channels, out_channels, kernel_size,\n",
    "                             padding=(kernel_size - 1) // 2)\n",
    "            nn.init.normal_(conv.weight, std=math.sqrt(2. / (in_channels * kernel_size)))\n",
    "            nn.init.zeros_(conv.bias)\n",
    "            convs.append(nn.Sequential(nn.utils.weight_norm(conv), GeLU()))\n",
    "        self.model = nn.ModuleList(convs)\n",
    "\n",
    "    def forward(self, x):\n",
    "        return torch.cat([encoder(x) for encoder in self.model], dim=-1)\n",
    "\n",
    "class Encoder(nn.Module):\n",
    "    def __init__(self, args, input_size):\n",
    "        super().__init__()\n",
    "        self.dropout = args.dropout\n",
    "        self.encoders = nn.ModuleList([Conv1d(\n",
    "                in_channels=input_size if i == 0 else args.hidden_size,\n",
    "                out_channels=args.hidden_size,\n",
    "                kernel_sizes=args.kernel_sizes) for i in range(args.enc_layers)])\n",
    "\n",
    "    def forward(self, x, mask):\n",
    "        x = x.transpose(1, 2)  # B x C x L\n",
    "        mask = mask.transpose(1, 2)\n",
    "        for i, encoder in enumerate(self.encoders):\n",
    "            x.masked_fill_(~mask, 0.)\n",
    "            if i > 0:\n",
    "                x = f.dropout(x, self.dropout, self.training)\n",
    "            x = encoder(x)\n",
    "        x = f.dropout(x, self.dropout, self.training)\n",
    "        return x.transpose(1, 2)  # B x L x C\n",
    "    \n",
    "class FullFusion(nn.Module):\n",
    "    def __init__(self, args, input_size):\n",
    "        super().__init__()\n",
    "        self.dropout = args.dropout\n",
    "        self.fusion1 = Linear(input_size * 2, args.hidden_size, activations=True)\n",
    "        self.fusion2 = Linear(input_size * 2, args.hidden_size, activations=True)\n",
    "        self.fusion3 = Linear(input_size * 2, args.hidden_size, activations=True)\n",
    "        self.fusion = Linear(args.hidden_size * 3, args.hidden_size, activations=True)\n",
    "\n",
    "    def forward(self, x, align):\n",
    "        x1 = self.fusion1(torch.cat([x, align], dim=-1))\n",
    "        x2 = self.fusion2(torch.cat([x, x - align], dim=-1))\n",
    "        x3 = self.fusion3(torch.cat([x, x * align], dim=-1))\n",
    "        x = torch.cat([x1, x2, x3], dim=-1)\n",
    "        x = f.dropout(x, self.dropout, self.training)\n",
    "        return self.fusion(x)\n",
    "    \n",
    "class AugmentedResidual(nn.Module):\n",
    "    def forward(self, x, res, i):\n",
    "        if i == 1:\n",
    "            return torch.cat([x, res], dim=-1)  # res is embedding\n",
    "        hidden_size = x.size(-1)\n",
    "        x = (res[:, :, :hidden_size] + x) * math.sqrt(0.5)\n",
    "        return torch.cat([x, res[:, :, hidden_size:]], dim=-1)  # latter half of res is embedding\n",
    "    \n",
    "class Pooling(nn.Module):\n",
    "    def forward(self, x, mask):\n",
    "        return x.masked_fill_(~mask, -float('inf')).max(dim=1)[0]\n",
    "\n",
    "class Linear(nn.Module):\n",
    "    def __init__(self, in_features, out_features, activations=False):\n",
    "        super().__init__()\n",
    "        linear = nn.Linear(in_features, out_features)\n",
    "        nn.init.normal_(linear.weight, std=math.sqrt((2. if activations else 1.) / in_features))\n",
    "        nn.init.zeros_(linear.bias)\n",
    "        modules = [nn.utils.weight_norm(linear)]\n",
    "        if activations:\n",
    "            modules.append(GeLU())\n",
    "        self.model = nn.Sequential(*modules)\n",
    "\n",
    "    def forward(self, x):\n",
    "        return self.model(x)\n",
    "\n",
    "class Alignment(nn.Module):\n",
    "    def __init__(self, args, __):\n",
    "        super().__init__()\n",
    "        self.temperature = nn.Parameter(torch.tensor(1 / math.sqrt(args.hidden_size)))\n",
    "        self.summary = {}\n",
    "\n",
    "    def _attention(self, a, b):\n",
    "        return torch.matmul(a, b.transpose(1, 2)) * self.temperature\n",
    "    \n",
    "    def add_summary(self, name, val):\n",
    "        if self.training:\n",
    "            self.summary[name] = val.clone().detach().cpu().numpy()\n",
    "\n",
    "    def forward(self, a, b, mask_a, mask_b):\n",
    "        attn = self._attention(a, b)\n",
    "        mask = torch.matmul(mask_a.float(), mask_b.transpose(1, 2).float()).byte()\n",
    "        attn.masked_fill_(~mask, -1e7)\n",
    "        attn_a = f.softmax(attn, dim=1)\n",
    "        attn_b = f.softmax(attn, dim=2)\n",
    "        feature_b = torch.matmul(attn_a.transpose(1, 2), a)\n",
    "        feature_a = torch.matmul(attn_b, b)\n",
    "        self.add_summary('temperature', self.temperature)\n",
    "        self.add_summary('attention_a', attn_a)\n",
    "        self.add_summary('attention_b', attn_b)\n",
    "        return feature_a, feature_b\n",
    "\n",
    "class MappedAlignment(Alignment):\n",
    "    def __init__(self, args, input_size):\n",
    "        super().__init__(args, input_size)\n",
    "        self.projection = nn.Sequential(\n",
    "            nn.Dropout(args.dropout),\n",
    "            Linear(input_size, args.hidden_size, activations=True),\n",
    "        )\n",
    "\n",
    "    def _attention(self, a, b):\n",
    "        a = self.projection(a)\n",
    "        b = self.projection(b)\n",
    "        return super()._attention(a, b)\n",
    "\n",
    "class AlignmentOne(nn.Module):\n",
    "    def __init__(self, args, input_size):\n",
    "        super().__init__()\n",
    "        self.temperature = nn.Parameter(torch.tensor(1 / math.sqrt(args.hidden_size)))\n",
    "        self.summary = {}\n",
    "        self.projection = nn.Sequential(\n",
    "            nn.Dropout(args.dropout),\n",
    "            Linear(input_size, args.hidden_size, activations=True),\n",
    "        )\n",
    "        \n",
    "    def _attention(self, a):\n",
    "        a = self.projection(a)\n",
    "        return torch.matmul(a, a.transpose(1, 2)) * self.temperature\n",
    "    \n",
    "\n",
    "    def forward(self, a, mask_a):\n",
    "        attn = self._attention(a)\n",
    "#         mask = torch.matmul(mask_a.float(), mask_a.transpose(1, 2).float()).byte()\n",
    "        mask = mask_a.byte()\n",
    "        attn.masked_fill_(~mask, -1e7)\n",
    "        attn_a = f.softmax(attn, dim=1)\n",
    "        feature_a = torch.matmul(attn_a.transpose(1, 2), a)\n",
    "        return feature_a\n",
    "\n",
    "class RE2One(nn.Module):\n",
    "    def __init__(self, args):\n",
    "        super().__init__()\n",
    "        self.dropout = args.dropout\n",
    "        self.blocks = nn.ModuleList([nn.ModuleDict({\n",
    "            'encoder': Encoder(args, args.embedding_dim if i == 0 else args.embedding_dim + args.hidden_size),\n",
    "            'alignment': AlignmentOne(\n",
    "                args, args.embedding_dim + args.hidden_size if i == 0 else args.embedding_dim + args.hidden_size * 2),\n",
    "            'fusion': FullFusion(\n",
    "                args, args.embedding_dim + args.hidden_size if i == 0 else args.embedding_dim + args.hidden_size * 2),\n",
    "        }) for i in range(args.blocks)])\n",
    "        self.connection = AugmentedResidual()\n",
    "        self.pooling = Pooling()\n",
    "            \n",
    "    def make_mask(self, X, valid_len):\n",
    "        shape=X.shape\n",
    "        if valid_len.dim()==1:\n",
    "            valid_len=valid_len.view(-1,1).repeat(1,shape[1])\n",
    "        mask=(torch.arange(0,X.shape[1]).repeat(X.shape[0],1).to(X.device)<valid_len).float()\n",
    "        return mask.unsqueeze(2).byte()\n",
    "\n",
    "    def forward(self, a, x_len):\n",
    "        mask_a = self.make_mask(a, x_len)\n",
    "        res_a = a\n",
    "        for i, block in enumerate(self.blocks):\n",
    "            if i > 0:\n",
    "                a = self.connection(a, res_a, i)\n",
    "                res_a = a\n",
    "            a_enc = block['encoder'](a, mask_a)\n",
    "            a = torch.cat([a, a_enc], dim=-1)\n",
    "            align_a = block['alignment'](a, mask_a)\n",
    "            a = block['fusion'](a, align_a)        \n",
    "        \n",
    "\n",
    "        hidden= self.pooling(a, mask_a)\n",
    "        \n",
    "        \n",
    "        \n",
    "        return hidden\n",
    "    \n",
    "class RE2Block(nn.Module):\n",
    "    def __init__(self, args):\n",
    "        super().__init__()\n",
    "        self.dropout = args.dropout\n",
    "        self.blocks = nn.ModuleList([nn.ModuleDict({\n",
    "            'encoder': Encoder(args, args.embedding_dim if i == 0 else args.embedding_dim + args.hidden_size),\n",
    "            'alignment': MappedAlignment(\n",
    "                args, args.embedding_dim + args.hidden_size if i == 0 else args.embedding_dim + args.hidden_size * 2),\n",
    "            'fusion': FullFusion(\n",
    "                args, args.embedding_dim + args.hidden_size if i == 0 else args.embedding_dim + args.hidden_size * 2),\n",
    "        }) for i in range(args.blocks)])\n",
    "        self.connection = AugmentedResidual()\n",
    "        self.pooling = Pooling()\n",
    "        \n",
    "        \n",
    "    \n",
    "    def make_mask(self, X, valid_len):\n",
    "        shape=X.shape\n",
    "        if valid_len.dim()==1:\n",
    "            valid_len=valid_len.view(-1,1).repeat(1,shape[1])\n",
    "        mask=(torch.arange(0,X.shape[1]).repeat(X.shape[0],1).to(X.device)<valid_len).float()\n",
    "        return mask.unsqueeze(2).byte()\n",
    "       \n",
    "\n",
    "    def forward(self, a, b, x_len):\n",
    "        mask_a = self.make_mask(a, x_len)\n",
    "        mask_b = self.make_mask(b, x_len)\n",
    "        \n",
    "        res_a, res_b = a, b\n",
    "        \n",
    "        for i, block in enumerate(self.blocks):\n",
    "            if i > 0:\n",
    "                a = self.connection(a, res_a, i)\n",
    "                b = self.connection(b, res_b, i)\n",
    "                res_a, res_b = a, b\n",
    "            a_enc = block['encoder'](a, mask_a)\n",
    "            b_enc = block['encoder'](b, mask_b)\n",
    "            a = torch.cat([a, a_enc], dim=-1)\n",
    "            b = torch.cat([b, b_enc], dim=-1)\n",
    "            align_a, align_b = block['alignment'](a, b, mask_a, mask_b)\n",
    "            a = block['fusion'](a, align_a)\n",
    "            b = block['fusion'](b, align_b)\n",
    "        \n",
    "        \n",
    "\n",
    "        a = self.pooling(a, mask_a)\n",
    "        b = self.pooling(b, mask_b)\n",
    "        \n",
    "        hidden = torch.cat([a, b, (a - b).abs(), a * b], dim=-1) #symmetric\n",
    "        \n",
    "        return hidden\n",
    "    \n",
    "gender_weight = torch.tensor((df_train_user['gender'].value_counts().sort_index() / 3000000).values).float()\n",
    "age_weight = torch.tensor((df_train_user['age'].value_counts().sort_index() / 3000000).values).float()\n",
    "\n",
    "class RE2(nn.Module):\n",
    "    def __init__(self, args):\n",
    "        super().__init__()\n",
    "        n_dim = 50\n",
    "        self.ln_tfidf_stack = LayerNorm(55)\n",
    "        self.ln_one_hot_target = LayerNorm(72)\n",
    "\n",
    "        n_time_embedding = 16\n",
    "        self.position_embeddings = nn.Embedding(92, n_time_embedding)\n",
    "        self.click_time_embeddings = nn.Embedding(33, n_time_embedding)\n",
    "\n",
    "        self.ln_200s = nn.ModuleList([LayerNorm(200) for _ in range(3)])\n",
    "        self.ln_100s = nn.ModuleList([LayerNorm(100) for _ in range(4)])\n",
    "\n",
    "        \n",
    "        n_cat_hidden = 1\n",
    "        n_flatten = 55\n",
    "        self.decoder_gender = nn.Sequential(Linear( n_cat_hidden * args.hidden_size + n_flatten, 2))\n",
    "        self.decoder_age = nn.Sequential(Linear(n_cat_hidden * args.hidden_size + n_flatten, 10))   \n",
    "        \n",
    "        self.label_smooth_gender = LabelSmoothingCrossEntropy(0.1, weights = gender_weight)\n",
    "        self.label_smooth_age = LabelSmoothingCrossEntropy(0.1, weights = age_weight)\n",
    "\n",
    "\n",
    "        self.ln_hidden = LayerNorm(n_cat_hidden * args.hidden_size)\n",
    "        self.ln_tfidf_stack = LayerNorm(55)\n",
    "        \n",
    "        self.re2_one = RE2One(args)\n",
    "\n",
    "\n",
    "    def forward(self,\n",
    "                time,\n",
    "                click_time,\n",
    "                \n",
    "                creative_id,\n",
    "                ad_id,\n",
    "                advertiser_id,\n",
    "                \n",
    "                advertiser_id_industry,\n",
    "                product_category_advertiser_id,\n",
    "                product_id_advertiser_id,\n",
    "                product_id_product_category,\n",
    "                \n",
    "                target_encode_sequence,\n",
    "                x_len,\n",
    "                x_flatten,\n",
    "                gender = None,\\\n",
    "                age = None):\n",
    "        \n",
    "        \n",
    "        time = time.to(args.device)\n",
    "        click_time = click_time.to(args.device)\n",
    "        \n",
    "        creative_id = creative_id.to(args.device) \n",
    "        ad_id = ad_id.to(args.device) \n",
    "        advertiser_id = advertiser_id.to(args.device) \n",
    "        \n",
    "        advertiser_id_industry = advertiser_id_industry.to(args.device)\n",
    "        product_category_advertiser_id = product_category_advertiser_id.to(args.device) \n",
    "        product_id_advertiser_id = product_id_advertiser_id.to(args.device)\n",
    "        product_id_product_category = product_id_product_category.to(args.device) \n",
    "        \n",
    "        target_encode_sequence = target_encode_sequence.to(args.device) \n",
    "        x_len = x_len.to(args.device) \n",
    "        x_flatten = x_flatten.to(args.device)\n",
    "        \n",
    "        if gender is not None:\n",
    "            gender = gender.to(args.device) \n",
    "            age = age.to(args.device) \n",
    "    \n",
    "        \n",
    "        a_wv = torch.cat([\n",
    "            self.ln_200s[0](ad_id),\n",
    "            self.ln_200s[1](creative_id),\n",
    "            self.ln_100s[0](product_id_product_category),\n",
    "            self.ln_200s[2](advertiser_id),\n",
    "            self.ln_100s[1](advertiser_id_industry),\n",
    "            self.ln_100s[2](product_category_advertiser_id),\n",
    "            self.ln_100s[3](product_id_advertiser_id),\n",
    "            self.ln_one_hot_target(target_encode_sequence),\n",
    "            self.position_embeddings(time),\n",
    "            self.click_time_embeddings(click_time),\n",
    "        ],dim=-1)\n",
    "\n",
    "\n",
    "        hidden = self.re2_one(a_wv, x_len)\n",
    "        \n",
    "        cat = torch.cat([self.ln_hidden(hidden), self.ln_tfidf_stack(x_flatten)], dim = -1)\n",
    "        output_age = self.decoder_age(cat)\n",
    "        output_gender = self.decoder_gender(cat)\n",
    "\n",
    "        if(gender is None):\n",
    "            return output_gender, output_age, hidden\n",
    "        \n",
    "        \n",
    "#         loss_age = nn.CrossEntropyLoss()\n",
    "#         loss_gender = nn.CrossEntropyLoss()\n",
    "#         l_age = loss_age(output_age,age.long())        \n",
    "#         l_gender = loss_gender(output_gender,gender.long())\n",
    "\n",
    "        l_gender = self.label_smooth_gender(output_gender, gender.long())  \n",
    "        l_age = self.label_smooth_age(output_age, age.long())\n",
    "        l=0.5*l_gender + 0.5*l_age\n",
    "            \n",
    "        \n",
    "        l=0.5*l_gender + 0.5*l_age\n",
    "        \n",
    "        \n",
    "        return l,l_gender,l_age,output_gender, output_age, hidden\n",
    "\n",
    "from collections import namedtuple\n",
    "\n",
    "RE2_ARG = namedtuple('ARG', [\n",
    "    'dropout',\n",
    "    'hidden_size',\n",
    "    'enc_layers',\n",
    "    'kernel_sizes',\n",
    "    'blocks',\n",
    "    'embedding_dim',\n",
    "    'device',\n",
    "])\n",
    "\n",
    "re2_args = RE2_ARG(\n",
    "    dropout = 0.,\n",
    "    hidden_size = 256,\n",
    "    enc_layers = 2,\n",
    "    kernel_sizes = (3,),\n",
    "    blocks = 2,\n",
    "    embedding_dim = 1000 + 72 + 16 + 16,\n",
    "    device = args.device,\n",
    "#       device = torch.device('cpu')\n",
    ")\n",
    "\n",
    "model = RE2(re2_args)\n",
    "print(sum(param.numel() for param in model.parameters()))\n",
    "\n",
    "logging.info('start training ')\n",
    "# model, val_ret_dict, test_ret_dict = nn_cross_validation_multi_task(sub_train_user, sub_train_gender, sub_train_age,\\\n",
    "#                                                                     sub_test_user, \\\n",
    "#                                                                     RE2, {'args' : re2_args}, train_multi_task, False)\n",
    "score_gender_val, score_age_val = nn_cross_validation_multi_task(sub_train_user, sub_train_gender, sub_train_age,\\\n",
    "                                                                    sub_test_user, \\\n",
    "                                                                    RE2, {'args' : re2_args}, train_multi_task, True)\n",
    "\n",
    "pickle.dump(score_gender_val, open('%s/score_gender_val.pickle' % args.save_path, 'wb'))\n",
    "pickle.dump(score_age_val, open('%s/score_age_val.pickle' % args.save_path, 'wb'))\n",
    "# np.save('%s/hidden_val.pickle' % args.save_path, hidden_val)\n",
    "\n",
    "logging.info('finish training ')\n"
   ]
  },
  {
   "cell_type": "code",
   "execution_count": null,
   "metadata": {},
   "outputs": [],
   "source": []
  },
  {
   "cell_type": "code",
   "execution_count": null,
   "metadata": {},
   "outputs": [],
   "source": []
  }
 ],
 "metadata": {
  "kernelspec": {
   "display_name": "fjw",
   "language": "python",
   "name": "fjw"
  },
  "language_info": {
   "codemirror_mode": {
    "name": "ipython",
    "version": 3
   },
   "file_extension": ".py",
   "mimetype": "text/x-python",
   "name": "python",
   "nbconvert_exporter": "python",
   "pygments_lexer": "ipython3",
   "version": "3.6.9"
  },
  "toc": {
   "base_numbering": 1,
   "nav_menu": {},
   "number_sections": true,
   "sideBar": true,
   "skip_h1_title": false,
   "title_cell": "Table of Contents",
   "title_sidebar": "Contents",
   "toc_cell": false,
   "toc_position": {
    "height": "calc(100% - 180px)",
    "left": "10px",
    "top": "150px",
    "width": "349.091px"
   },
   "toc_section_display": true,
   "toc_window_display": true
  }
 },
 "nbformat": 4,
 "nbformat_minor": 4
}

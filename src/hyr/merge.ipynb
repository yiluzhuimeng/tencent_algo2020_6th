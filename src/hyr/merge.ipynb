{
 "cells": [
  {
   "cell_type": "code",
   "execution_count": 1,
   "metadata": {},
   "outputs": [
    {
     "name": "stdout",
     "output_type": "stream",
     "text": [
      "INFO: Pandarallel will run on 32 workers.\n",
      "INFO: Pandarallel will use Memory file system to transfer data between the main process and workers.\n"
     ]
    }
   ],
   "source": [
    "import torch\n",
    "import torch.nn.functional as F\n",
    "import torch.utils.data as Data\n",
    "from torch.autograd import Variable\n",
    "import pandas as pd\n",
    "import numpy as np\n",
    "import time\n",
    "from sklearn.metrics import roc_auc_score\n",
    "from sklearn.feature_selection import mutual_info_classif\n",
    "import datetime\n",
    "import pickle\n",
    "import scipy.sparse as ss\n",
    "import logging\n",
    "LOG_FORMAT = \"%(asctime)s - %(levelname)s - %(message)s\"\n",
    "logging.basicConfig(level=logging.INFO, format=LOG_FORMAT)\n",
    "import os\n",
    "os.environ[\"CUDA_VISIBLE_DEVICES\"] = \"1\"\n",
    "os.environ['NUMEXPR_MAX_THREADS'] = '32'\n",
    "# import seaborn as sns\n",
    "\n",
    "import IPython.display as ipd\n",
    "import copy\n",
    "import random\n",
    "from pandarallel import pandarallel\n",
    "# Initialization\n",
    "pandarallel.initialize(progress_bar=True)\n",
    "# df.parallel_apply(func)\n",
    "from gensim.models.word2vec import Word2Vec \n",
    "import lightgbm as lgb\n",
    "from sklearn.metrics import accuracy_score\n",
    "from sklearn.model_selection import StratifiedKFold,KFold"
   ]
  },
  {
   "cell_type": "code",
   "execution_count": 2,
   "metadata": {},
   "outputs": [],
   "source": [
    "var_dir = '../../var'\n",
    "my_var_dir = '../../var/hyr'"
   ]
  },
  {
   "cell_type": "code",
   "execution_count": 3,
   "metadata": {},
   "outputs": [],
   "source": [
    "df_train_user = pd.read_csv('%s/data/train_semi_final/user.csv'% var_dir)\n",
    "pre_df_train_user = pd.read_csv('%s/data/train_preliminary/user.csv'% var_dir)\n",
    "df_train_user = pd.concat([pre_df_train_user, df_train_user])\n",
    "offline = df_train_user.shape[0] < 30000"
   ]
  },
  {
   "cell_type": "markdown",
   "metadata": {},
   "source": [
    "# wv id_embedding_caa_200"
   ]
  },
  {
   "cell_type": "code",
   "execution_count": 4,
   "metadata": {},
   "outputs": [
    {
     "name": "stderr",
     "output_type": "stream",
     "text": [
      "2020-07-23 11:04:32,531 - INFO - load wv\n",
      "2020-07-23 11:04:58,332 - INFO - finish wv\n",
      "2020-07-23 11:04:58,334 - INFO - load\n",
      "2020-07-23 11:04:58,364 - INFO - finish load\n"
     ]
    }
   ],
   "source": [
    "logging.info('load wv')\n",
    "wv_model_dict = {\n",
    "    'creative_id' : pickle.load(open('%s/wv_creative_id_sg_window175_dim200.pickle' % var_dir, 'rb')),\n",
    "    'ad_id' : pickle.load(open('%s/wv_ad_id_sg_window175_dim200.pickle' % var_dir, 'rb')),\n",
    "    'product_id' : pickle.load(open('%s/wv_product_id_sg_window175_dim100.pickle'% var_dir, 'rb')), \n",
    "    'product_category' : pickle.load(open('%s/wv_product_category_sg_window175_dim100.pickle'% var_dir, 'rb')), \n",
    "    'advertiser_id' :  pickle.load(open('%s/wv_advertiser_id_sg_window175_dim200.pickle'% var_dir, 'rb')), \n",
    "    'industry' : pickle.load(open('%s/wv_industry_sg_window175_dim100.pickle'% var_dir, 'rb')),\n",
    "    \n",
    "    'advertiser_id_industry' : pickle.load(open('%s/cross_wv_model_advertiser_id_industry_sg_window175_dim100.pickle'% var_dir, 'rb')), \n",
    "    'product_category_advertiser_id' : pickle.load(open('%s/cross_wv_model_product_category_advertiser_id_sg_window175_dim100.pickle'% var_dir, 'rb')), \n",
    "    'product_category_industry' : pickle.load(open('%s/cross_wv_model_product_category_industry_sg_window175_dim100.pickle'% var_dir, 'rb')), \n",
    "    'product_id_advertiser_id' : pickle.load(open('%s/cross_wv_model_product_id_advertiser_id_sg_window175_dim100.pickle'% var_dir, 'rb')), \n",
    "    'product_id_industry' : pickle.load(open('%s/cross_wv_model_product_id_industry_sg_window175_dim100.pickle'% var_dir, 'rb')), \n",
    "    'product_id_product_category' : pickle.load(open('%s/cross_wv_model_product_id_product_category_sg_window175_dim100.pickle'% var_dir, 'rb')), \n",
    "}\n",
    "logging.info('finish wv')\n",
    "\n",
    "logging.info('load')\n",
    "mp_creative_other = {\n",
    "    'ad_id' : pickle.load(open('%s/se_creative_id_ad_id.pickle'% my_var_dir, 'rb')),\n",
    "    'advertiser_id' : pickle.load(open('%s/se_creative_id_advertiser_id.pickle'% my_var_dir, 'rb')),\n",
    "    'industry' : pickle.load(open('%s/se_creative_id_industry.pickle'% my_var_dir, 'rb')),\n",
    "    'product_category' : pickle.load(open('%s/se_creative_id_product_category.pickle'% my_var_dir, 'rb')),\n",
    "    'product_id' : pickle.load(open('%s/se_creative_id_product_id.pickle'% my_var_dir, 'rb')),\n",
    "}\n",
    "logging.info('finish load')\n",
    "\n",
    "mp_creative_other['product_id'] = mp_creative_other['product_id'].replace(\"\\\\N\", 0)\n",
    "mp_creative_other['industry'] = mp_creative_other['industry'].replace(\"\\\\N\", 0)\n",
    "mp_creative_other['product_id'] = mp_creative_other['product_id'].apply(lambda x : int(x))\n",
    "mp_creative_other['industry'] = mp_creative_other['industry'].apply(lambda x : int(x))"
   ]
  },
  {
   "cell_type": "code",
   "execution_count": 5,
   "metadata": {},
   "outputs": [
    {
     "name": "stderr",
     "output_type": "stream",
     "text": [
      "2020-07-23 11:05:50,042 - INFO - start save id embedding\n",
      "2020-07-23 11:06:21,185 - INFO - finish save id embedding\n"
     ]
    }
   ],
   "source": [
    "embedding = np.zeros((4445721, 1000)).astype('float32')\n",
    "if offline == False:\n",
    "    creative_ids_str = [str(i) for i in range(1, 4445721)]\n",
    "    creative_ids = list(range(1, 4445721))\n",
    "\n",
    "    product_id_str = [ str(item) for item in mp_creative_other['product_id'][creative_ids].values]\n",
    "    product_category_str = [ str(item) for item in mp_creative_other['product_category'][creative_ids].values]\n",
    "    industry_str = [ str(item) for item in mp_creative_other['industry'][creative_ids].values]\n",
    "\n",
    "\n",
    "    embedding[1:, : 200] = wv_model_dict['creative_id'].wv[creative_ids_str]\n",
    "\n",
    "    ad_id_str = [ str(item) for item in mp_creative_other['ad_id'][creative_ids].values]\n",
    "    embedding[1:, 200 : 400] = wv_model_dict['ad_id'].wv[ad_id_str]\n",
    "\n",
    "    advertiser_id_str = [ str(item) for item in mp_creative_other['advertiser_id'][creative_ids].values]\n",
    "    embedding[1:, 400 : 600] = wv_model_dict['advertiser_id'].wv[advertiser_id_str]\n",
    "\n",
    "    advertiser_id_industry_str = [str(a) + \"_\" + str(b) for (a, b) in zip(advertiser_id_str, industry_str)]\n",
    "    embedding[1:, 600 : 700] = wv_model_dict['advertiser_id_industry'].wv[advertiser_id_industry_str]\n",
    "\n",
    "    product_category_advertiser_id_str = [str(a) + \"_\" + str(b) for (a, b) in zip(product_category_str, advertiser_id_str)]\n",
    "    embedding[1:, 700 : 800] = wv_model_dict['product_category_advertiser_id'].wv[product_category_advertiser_id_str]\n",
    "\n",
    "\n",
    "    product_id_advertiser_id_str = [str(a) + \"_\" + str(b) for (a, b) in zip(product_id_str, advertiser_id_str)]\n",
    "    embedding[1:, 800 : 900] = wv_model_dict['product_id_advertiser_id'].wv[product_id_advertiser_id_str]\n",
    "\n",
    "\n",
    "    product_id_product_category_str = [str(a) + \"_\" + str(b) for (a, b) in zip(product_id_str, product_category_str)]\n",
    "    embedding[1:, 900 : 1000] = wv_model_dict['product_id_product_category'].wv[product_id_product_category_str]\n",
    "\n",
    "logging.info('start save id embedding')\n",
    "np.save('%s/id_embedding_caa_200.npy' % my_var_dir, embedding)\n",
    "logging.info('finish save id embedding')"
   ]
  },
  {
   "cell_type": "markdown",
   "metadata": {},
   "source": [
    "# wv id_embedding50"
   ]
  },
  {
   "cell_type": "code",
   "execution_count": 20,
   "metadata": {},
   "outputs": [
    {
     "name": "stderr",
     "output_type": "stream",
     "text": [
      "2020-07-22 20:51:59,426 - INFO - load wv\n",
      "2020-07-22 20:51:59,594 - INFO - finish wv\n",
      "2020-07-22 20:51:59,595 - INFO - load\n",
      "2020-07-22 20:51:59,598 - INFO - finish load\n"
     ]
    }
   ],
   "source": [
    "logging.info('load wv')\n",
    "wv_model_dict = {\n",
    "    'creative_id' : pickle.load(open('%s/wv_creative_id_sg_window175_dim50.pickle' % var_dir, 'rb')),\n",
    "    'ad_id' : pickle.load(open('%s/wv_ad_id_sg_window175_dim50.pickle' % var_dir, 'rb')),\n",
    "    'product_id' : pickle.load(open('%s/wv_product_id_sg_window175_dim50.pickle'% var_dir, 'rb')), \n",
    "    'product_category' : pickle.load(open('%s/wv_product_category_sg_window175_dim50.pickle'% var_dir, 'rb')), \n",
    "    'advertiser_id' :  pickle.load(open('%s/wv_advertiser_id_sg_window175_dim50.pickle'% var_dir, 'rb')), \n",
    "    'industry' : pickle.load(open('%s/wv_industry_sg_window175_dim50.pickle'% var_dir, 'rb')),\n",
    "    \n",
    "    'advertiser_id_industry' : pickle.load(open('%s/cross_wv_model_advertiser_id_industry_sg_window175_dim50.pickle'% var_dir, 'rb')), \n",
    "    'product_category_advertiser_id' : pickle.load(open('%s/cross_wv_model_product_category_advertiser_id_sg_window175_dim50.pickle'% var_dir, 'rb')), \n",
    "    'product_category_industry' : pickle.load(open('%s/cross_wv_model_product_category_industry_sg_window175_dim50.pickle'% var_dir, 'rb')), \n",
    "    'product_id_advertiser_id' : pickle.load(open('%s/cross_wv_model_product_id_advertiser_id_sg_window175_dim50.pickle'% var_dir, 'rb')), \n",
    "    'product_id_industry' : pickle.load(open('%s/cross_wv_model_product_id_industry_sg_window175_dim50.pickle'% var_dir, 'rb')), \n",
    "    'product_id_product_category' : pickle.load(open('%s/cross_wv_model_product_id_product_category_sg_window175_dim50.pickle'% var_dir, 'rb')), \n",
    "}\n",
    "logging.info('finish wv')\n",
    "\n",
    "logging.info('load')\n",
    "mp_creative_other = {\n",
    "    'ad_id' : pickle.load(open('%s/se_creative_id_ad_id.pickle'% my_var_dir, 'rb')),\n",
    "    'advertiser_id' : pickle.load(open('%s/se_creative_id_advertiser_id.pickle'% my_var_dir, 'rb')),\n",
    "    'industry' : pickle.load(open('%s/se_creative_id_industry.pickle'% my_var_dir, 'rb')),\n",
    "    'product_category' : pickle.load(open('%s/se_creative_id_product_category.pickle'% my_var_dir, 'rb')),\n",
    "    'product_id' : pickle.load(open('%s/se_creative_id_product_id.pickle'% my_var_dir, 'rb')),\n",
    "}\n",
    "logging.info('finish load')\n",
    "\n",
    "mp_creative_other['product_id'] = mp_creative_other['product_id'].replace(\"\\\\N\", 0)\n",
    "mp_creative_other['industry'] = mp_creative_other['industry'].replace(\"\\\\N\", 0)\n",
    "mp_creative_other['product_id'] = mp_creative_other['product_id'].apply(lambda x : int(x))\n",
    "mp_creative_other['industry'] = mp_creative_other['industry'].apply(lambda x : int(x))"
   ]
  },
  {
   "cell_type": "code",
   "execution_count": null,
   "metadata": {},
   "outputs": [],
   "source": [
    "embedding = np.zeros((4445721, 600)).astype('float32')\n",
    "if offline == False:\n",
    "    creative_ids_str = [str(i) for i in range(1, 4445721)]\n",
    "    creative_ids = list(range(1, 4445721))\n",
    "\n",
    "    embedding[1:, : 50] = wv_model_dict['creative_id'].wv[creative_ids_str]\n",
    "\n",
    "    ad_id_str = [ str(item) for item in mp_creative_other['ad_id'][creative_ids].values]\n",
    "    embedding[1:, 50 : 100] = wv_model_dict['ad_id'].wv[ad_id_str]\n",
    "\n",
    "    product_id_str = [ str(item) for item in mp_creative_other['product_id'][creative_ids].values]\n",
    "    embedding[1:, 100 : 150] = wv_model_dict['product_id'].wv[product_id_str]\n",
    "\n",
    "    product_category_str = [ str(item) for item in mp_creative_other['product_category'][creative_ids].values]\n",
    "    embedding[1:, 150 : 200] = wv_model_dict['product_category'].wv[product_category_str]\n",
    "\n",
    "    advertiser_id_str = [ str(item) for item in mp_creative_other['advertiser_id'][creative_ids].values]\n",
    "    embedding[1:, 200 : 250] = wv_model_dict['advertiser_id'].wv[advertiser_id_str]\n",
    "\n",
    "    industry_str = [ str(item) for item in mp_creative_other['industry'][creative_ids].values]\n",
    "    embedding[1:, 250 : 300] = wv_model_dict['industry'].wv[industry_str]\n",
    "\n",
    "\n",
    "    advertiser_id_industry_str = [str(a) + \"_\" + str(b) for (a, b) in zip(advertiser_id_str, industry_str)]\n",
    "    embedding[1:, 300 : 350] = wv_model_dict['advertiser_id_industry'].wv[advertiser_id_industry_str]\n",
    "\n",
    "    product_category_advertiser_id_str = [str(a) + \"_\" + str(b) for (a, b) in zip(product_category_str, advertiser_id_str)]\n",
    "    embedding[1:, 350 : 400] = wv_model_dict['product_category_advertiser_id'].wv[product_category_advertiser_id_str]\n",
    "\n",
    "    product_category_industry_str = [str(a) + \"_\" + str(b) for (a, b) in zip(product_category_str, industry_str)]\n",
    "    embedding[1:, 400 : 450] = wv_model_dict['product_category_industry'].wv[product_category_industry_str]\n",
    "\n",
    "    product_id_advertiser_id_str = [str(a) + \"_\" + str(b) for (a, b) in zip(product_id_str, advertiser_id_str)]\n",
    "    embedding[1:, 450 : 500] = wv_model_dict['product_id_advertiser_id'].wv[product_id_advertiser_id_str]\n",
    "\n",
    "    product_id_industry_str = [str(a) + \"_\" + str(b) for (a, b) in zip(product_id_str, industry_str)]\n",
    "    embedding[1:, 500 : 550] = wv_model_dict['product_id_industry'].wv[product_id_industry_str]\n",
    "\n",
    "    product_id_product_category_str = [str(a) + \"_\" + str(b) for (a, b) in zip(product_id_str, product_category_str)]\n",
    "    embedding[1:, 550 : 600] = wv_model_dict['product_id_product_category'].wv[product_id_product_category_str]\n",
    "\n",
    "logging.info('start save id embedding')\n",
    "np.save('%s/id_embedding50.npy'%my_var_dir, embedding)\n",
    "logging.info('finish save id embedding')"
   ]
  },
  {
   "cell_type": "markdown",
   "metadata": {},
   "source": [
    "# id_embedding_glove50、id_embedding_glove_short.npy、id_embedding_glove_short_pair.npy"
   ]
  },
  {
   "cell_type": "code",
   "execution_count": 24,
   "metadata": {},
   "outputs": [],
   "source": [
    "id_embeddings = np.load('%s/id_embedding_glove50.npy'% my_var_dir)\n",
    "creative_id = id_embeddings[:, :50]\n",
    "ad_id = id_embeddings[:, 50:100]\n",
    "product_id = id_embeddings[:, 100:150]\n",
    "product_category = id_embeddings[:, 150:200]\n",
    "advertiser_id= id_embeddings[:, 200:250]\n",
    "industry = id_embeddings[:, 250:300]\n",
    "\n",
    "advertiser_id_industry = id_embeddings[:, 300:350]\n",
    "product_category_advertiser_id = id_embeddings[:, 350:400]\n",
    "product_category_industry = id_embeddings[:, 400:450]\n",
    "product_id_advertiser_id = id_embeddings[:, 450:500]\n",
    "product_id_industry = id_embeddings[:, 500:550]\n",
    "product_id_product_category = id_embeddings[:, 550:600]\n",
    "\n",
    "id_embedding_glove_short = np.concatenate([ad_id, creative_id, product_id_product_category, advertiser_id, advertiser_id_industry, product_category_advertiser_id, product_id_advertiser_id], axis=1)\n",
    "id_embedding_glove_short_pair = np.concatenate([ad_id, creative_id, product_id_product_category, advertiser_id, advertiser_id_industry, product_category_advertiser_id, product_id_advertiser_id, product_id], axis=1)\n",
    "np.save('%s/id_embedding_glove_short.npy' % my_var_dir, id_embedding_glove_short)\n",
    "np.save('%s/id_embedding_glove_short_pair.npy' % my_var_dir, id_embedding_glove_short_pair)"
   ]
  },
  {
   "cell_type": "markdown",
   "metadata": {},
   "source": [
    "# id_embedding_wv_short"
   ]
  },
  {
   "cell_type": "code",
   "execution_count": 8,
   "metadata": {},
   "outputs": [],
   "source": [
    "id_embeddings = np.load('%s/id_embedding50.npy' % my_var_dir)\n",
    "creative_id = id_embeddings[:, :50]\n",
    "ad_id = id_embeddings[:, 50:100]\n",
    "product_id = id_embeddings[:, 100:150]\n",
    "product_category = id_embeddings[:, 150:200]\n",
    "advertiser_id= id_embeddings[:, 200:250]\n",
    "industry = id_embeddings[:, 250:300]\n",
    "\n",
    "advertiser_id_industry = id_embeddings[:, 300:350]\n",
    "product_category_advertiser_id = id_embeddings[:, 350:400]\n",
    "product_category_industry = id_embeddings[:, 400:450]\n",
    "product_id_advertiser_id = id_embeddings[:, 450:500]\n",
    "product_id_industry = id_embeddings[:, 500:550]\n",
    "product_id_product_category = id_embeddings[:, 550:600]\n",
    "id_embedding_wv_short = np.concatenate([ad_id, creative_id, product_id_product_category, advertiser_id, advertiser_id_industry, product_category_advertiser_id, product_id_advertiser_id], axis=1)\n",
    "np.save('%s/id_embedding_wv_short.npy'%my_var_dir, id_embedding_wv_short)"
   ]
  },
  {
   "cell_type": "markdown",
   "metadata": {},
   "source": [
    "# id_embedding_glove_100"
   ]
  },
  {
   "cell_type": "code",
   "execution_count": 9,
   "metadata": {},
   "outputs": [
    {
     "name": "stderr",
     "output_type": "stream",
     "text": [
      "2020-07-22 22:09:02,582 - INFO - load\n",
      "2020-07-22 22:09:02,944 - INFO - finish load\n"
     ]
    }
   ],
   "source": [
    "logging.info('load')\n",
    "mp_creative_other = {\n",
    "    'ad_id' : pickle.load(open('%s/se_creative_id_ad_id.pickle'%my_var_dir, 'rb')),\n",
    "    'advertiser_id' : pickle.load(open('%s/se_creative_id_advertiser_id.pickle'%my_var_dir, 'rb')),\n",
    "    'industry' : pickle.load(open('%s/se_creative_id_industry.pickle'%my_var_dir, 'rb')),\n",
    "    'product_category' : pickle.load(open('%s/se_creative_id_product_category.pickle'%my_var_dir, 'rb')),\n",
    "    'product_id' : pickle.load(open('%s/se_creative_id_product_id.pickle'%my_var_dir, 'rb')),\n",
    "}\n",
    "logging.info('finish load')\n",
    "mp_creative_other['product_id'] = mp_creative_other['product_id'].replace(\"\\\\N\", 0)\n",
    "mp_creative_other['industry'] = mp_creative_other['industry'].replace(\"\\\\N\", 0)\n",
    "mp_creative_other['product_id'] = mp_creative_other['product_id'].apply(lambda x : int(x))\n",
    "mp_creative_other['industry'] = mp_creative_other['industry'].apply(lambda x : int(x))\n",
    "\n",
    "root_path = var_dir\n",
    "\n",
    "se_creative_id = pickle.load(open('%s/se_glove_creative_id_100dim.pickle' % root_path, 'rb'))\n",
    "se_glove_ad_id = pickle.load(open('%s/se_glove_ad_id_100dim.pickle' % root_path, 'rb'))\n",
    "se_glove_product_id = pickle.load(open('%s/se_glove_product_id_100dim.pickle' % root_path, 'rb'))\n",
    "se_glove_product_category = pickle.load(open('%s/se_glove_product_category_100dim.pickle' % root_path, 'rb'))\n",
    "se_glove_advertiser_id = pickle.load(open('%s/se_glove_advertiser_id_100dim.pickle' % root_path, 'rb'))\n",
    "se_glove_industry = pickle.load(open('%s/se_glove_industry_100dim.pickle' % root_path, 'rb'))\n",
    "\n",
    "se_glove_advertiser_id_industry = pickle.load(open('%s/se_glove_advertiser_id_industry_100dim.pickle' % root_path, 'rb'))\n",
    "se_glove_product_category_advertiser_id = pickle.load(open('%s/se_glove_product_category_advertiser_id_100dim.pickle' % root_path, 'rb'))\n",
    "se_glove_product_category_industry = pickle.load(open('%s/se_glove_product_category_industry_100dim.pickle' % root_path, 'rb'))\n",
    "se_glove_product_id_advertiser_id = pickle.load(open('%s/se_glove_product_id_advertiser_id_100dim.pickle' % root_path, 'rb'))\n",
    "se_glove_product_id_industry = pickle.load(open('%s/se_glove_product_id_industry_100dim.pickle' % root_path, 'rb'))\n",
    "se_glove_product_id_product_category = pickle.load(open('%s/se_glove_product_id_product_category_100dim.pickle' % root_path, 'rb'))\n"
   ]
  },
  {
   "cell_type": "code",
   "execution_count": null,
   "metadata": {},
   "outputs": [],
   "source": [
    "def se2np(se):\n",
    "    return np.array(list(se)).astype('float32')\n",
    "embedding = np.zeros((4445721, 1200)).astype('float32')\n",
    "if offline == False:\n",
    "\n",
    "    creative_ids_str = [str(i) for i in range(1, 4445721)]\n",
    "    creative_ids = list(range(1, 4445721))\n",
    "\n",
    "    embedding[1:, : 100] = se2np(se_creative_id[creative_ids_str])\n",
    "    print(1)\n",
    "\n",
    "    ad_id_str = [ str(item) for item in mp_creative_other['ad_id'][creative_ids].values]\n",
    "    embedding[1:, 100 : 200] = se2np(se_glove_ad_id[ad_id_str])\n",
    "    print(2)\n",
    "\n",
    "    product_id_str = [ str(item) for item in mp_creative_other['product_id'][creative_ids].values]\n",
    "    embedding[1:, 200 : 300] = se2np(se_glove_product_id[product_id_str])\n",
    "    print(3)\n",
    "\n",
    "    product_category_str = [ str(item) for item in mp_creative_other['product_category'][creative_ids].values]\n",
    "    embedding[1:, 300 : 400] = se2np(se_glove_product_category[product_category_str])\n",
    "    print(4)\n",
    "\n",
    "    advertiser_id_str = [ str(item) for item in mp_creative_other['advertiser_id'][creative_ids].values]\n",
    "    embedding[1:, 400 : 500] = se2np(se_glove_advertiser_id[advertiser_id_str])\n",
    "    print(5)\n",
    "\n",
    "    industry_str = [ str(item) for item in mp_creative_other['industry'][creative_ids].values]\n",
    "    embedding[1:, 500 : 600] = se2np(se_glove_industry[industry_str])\n",
    "    print(6)\n",
    "\n",
    "    advertiser_id_industry_str = [str(a) + \"_\" + str(b) for (a, b) in zip(advertiser_id_str, industry_str)]\n",
    "    embedding[1:, 600 : 700] = se2np(se_glove_advertiser_id_industry[advertiser_id_industry_str])\n",
    "    print(7)\n",
    "\n",
    "    product_category_advertiser_id_str = [str(a) + \"_\" + str(b) for (a, b) in zip(product_category_str, advertiser_id_str)]\n",
    "    embedding[1:, 700 : 800] = se2np(se_glove_product_category_advertiser_id[product_category_advertiser_id_str])\n",
    "    print(8)\n",
    "\n",
    "    product_category_industry_str = [str(a) + \"_\" + str(b) for (a, b) in zip(product_category_str, industry_str)]\n",
    "    embedding[1:, 800 : 900] = se2np(se_glove_product_category_industry[product_category_industry_str])\n",
    "    print(9)\n",
    "\n",
    "    product_id_advertiser_id_str = [str(a) + \"_\" + str(b) for (a, b) in zip(product_id_str, advertiser_id_str)]\n",
    "    embedding[1:, 900 : 1000] = se2np(se_glove_product_id_advertiser_id[product_id_advertiser_id_str])\n",
    "    print(10)\n",
    "\n",
    "    product_id_industry_str = [str(a) + \"_\" + str(b) for (a, b) in zip(product_id_str, industry_str)]\n",
    "    embedding[1:, 1000 : 1100] = se2np(se_glove_product_id_industry[product_id_industry_str])\n",
    "    print(11)\n",
    "\n",
    "    product_id_product_category_str = [str(a) + \"_\" + str(b) for (a, b) in zip(product_id_str, product_category_str)]\n",
    "    embedding[1:, 1100 : 1200] = se2np(se_glove_product_id_product_category[product_id_product_category_str])\n",
    "    print(12)\n",
    "\n",
    "logging.info('start save id embedding')\n",
    "np.save('var/id_embedding_glove_100.npy', embedding)\n",
    "logging.info('finish save id embedding')"
   ]
  },
  {
   "cell_type": "markdown",
   "metadata": {},
   "source": [
    "# id_embedding_glove_200acc"
   ]
  },
  {
   "cell_type": "code",
   "execution_count": 5,
   "metadata": {},
   "outputs": [],
   "source": [
    "glove_fjw = np.load('%s/glove_model_200dim.npy' % my_var_dir)\n",
    "glove_100 = np.load('%s/id_embedding_glove_100.npy' % my_var_dir)"
   ]
  },
  {
   "cell_type": "code",
   "execution_count": 6,
   "metadata": {},
   "outputs": [],
   "source": [
    "creative_id = glove_fjw[:, :200]\n",
    "ad_id = glove_fjw[:, 200:400]\n",
    "advertiser_id = glove_fjw[:, 600:800]"
   ]
  },
  {
   "cell_type": "code",
   "execution_count": 7,
   "metadata": {},
   "outputs": [],
   "source": [
    "product_id_product_category = glove_100[:, 1100 : 1200]\n",
    "advertiser_id_industry = glove_100[:, 600: 700]\n",
    "product_category_advertiser_id = glove_100[:, 700:800]\n",
    "product_id_advertiser_id = glove_100[:, 900:1000]"
   ]
  },
  {
   "cell_type": "code",
   "execution_count": 8,
   "metadata": {},
   "outputs": [],
   "source": [
    "id_embedding_glove_200acc = np.concatenate([creative_id, ad_id, advertiser_id, advertiser_id_industry, product_category_advertiser_id, \n",
    "                product_id_advertiser_id, product_id_product_category], axis=1)"
   ]
  },
  {
   "cell_type": "code",
   "execution_count": 9,
   "metadata": {},
   "outputs": [
    {
     "name": "stderr",
     "output_type": "stream",
     "text": [
      "2020-07-22 22:28:06,034 - INFO - start save id embedding\n",
      "2020-07-22 22:29:08,663 - INFO - finish save id embedding\n"
     ]
    }
   ],
   "source": [
    "logging.info('start save id embedding')\n",
    "np.save('%s/id_embedding_glove_200acc.npy'%my_var_dir, id_embedding_glove_200acc)\n",
    "logging.info('finish save id embedding')"
   ]
  },
  {
   "cell_type": "markdown",
   "metadata": {},
   "source": [
    "# id_embedding_glove100origin"
   ]
  },
  {
   "cell_type": "code",
   "execution_count": null,
   "metadata": {},
   "outputs": [],
   "source": [
    "id_embeddings = np.load('%s/id_embedding_glove_100.npy'%my_var_dir)\n",
    "np.save('%s/id_embedding_glove100origin.npy'%my_var_dir, id_embeddings[:, :600])"
   ]
  },
  {
   "cell_type": "markdown",
   "metadata": {},
   "source": [
    "# id_embedding_wv100"
   ]
  },
  {
   "cell_type": "code",
   "execution_count": 6,
   "metadata": {},
   "outputs": [
    {
     "name": "stderr",
     "output_type": "stream",
     "text": [
      "2020-07-23 09:13:47,601 - INFO - load wv\n",
      "2020-07-23 09:13:47,719 - INFO - finish wv\n",
      "2020-07-23 09:13:47,720 - INFO - load\n",
      "2020-07-23 09:13:47,905 - INFO - finish load\n"
     ]
    }
   ],
   "source": [
    "logging.info('load wv')\n",
    "wv_model_dict = {\n",
    "    'creative_id' : pickle.load(open('%s/wv_creative_id_sg_window175_dim100.pickle'%var_dir, 'rb')),\n",
    "    'ad_id' : pickle.load(open('%s/wv_ad_id_sg_window175_dim100.pickle'%var_dir, 'rb')),\n",
    "    'product_id' : pickle.load(open('%s/wv_product_id_sg_window175_dim100.pickle'%var_dir, 'rb')), \n",
    "    'product_category' : pickle.load(open('%s/wv_product_category_sg_window175_dim100.pickle'%var_dir, 'rb')), \n",
    "    'advertiser_id' :  pickle.load(open('%s/wv_advertiser_id_sg_window175_dim100.pickle'%var_dir, 'rb')), \n",
    "    'industry' : pickle.load(open('%s/wv_industry_sg_window175_dim100.pickle'%var_dir, 'rb')),\n",
    "    \n",
    "    'advertiser_id_industry' : pickle.load(open('%s/cross_wv_model_advertiser_id_industry_sg_window175_dim100.pickle'%var_dir, 'rb')), \n",
    "    'product_category_advertiser_id' : pickle.load(open('%s/cross_wv_model_product_category_advertiser_id_sg_window175_dim100.pickle'%var_dir, 'rb')), \n",
    "    'product_category_industry' : pickle.load(open('%s/cross_wv_model_product_category_industry_sg_window175_dim100.pickle'%var_dir, 'rb')), \n",
    "    'product_id_advertiser_id' : pickle.load(open('%s/cross_wv_model_product_id_advertiser_id_sg_window175_dim100.pickle'%var_dir, 'rb')), \n",
    "    'product_id_industry' : pickle.load(open('%s/cross_wv_model_product_id_industry_sg_window175_dim100.pickle'%var_dir, 'rb')), \n",
    "    'product_id_product_category' : pickle.load(open('%s/cross_wv_model_product_id_product_category_sg_window175_dim100.pickle'%var_dir, 'rb')), \n",
    "}\n",
    "logging.info('finish wv')\n",
    "\n",
    "logging.info('load')\n",
    "mp_creative_other = {\n",
    "    'ad_id' : pickle.load(open('%s/se_creative_id_ad_id.pickle'%my_var_dir, 'rb')),\n",
    "    'advertiser_id' : pickle.load(open('%s/se_creative_id_advertiser_id.pickle'%my_var_dir, 'rb')),\n",
    "    'industry' : pickle.load(open('%s/se_creative_id_industry.pickle'%my_var_dir, 'rb')),\n",
    "    'product_category' : pickle.load(open('%s/se_creative_id_product_category.pickle'%my_var_dir, 'rb')),\n",
    "    'product_id' : pickle.load(open('%s/se_creative_id_product_id.pickle'%my_var_dir, 'rb')),\n",
    "}\n",
    "logging.info('finish load')\n",
    "\n",
    "mp_creative_other['product_id'] = mp_creative_other['product_id'].replace(\"\\\\N\", 0)\n",
    "mp_creative_other['industry'] = mp_creative_other['industry'].replace(\"\\\\N\", 0)\n",
    "mp_creative_other['product_id'] = mp_creative_other['product_id'].apply(lambda x : int(x))\n",
    "mp_creative_other['industry'] = mp_creative_other['industry'].apply(lambda x : int(x))\n"
   ]
  },
  {
   "cell_type": "code",
   "execution_count": 7,
   "metadata": {},
   "outputs": [],
   "source": [
    "# np.save('%s/id_embedding_wv100.npy'%my_var_dir,  np.zeros((4445721, 1200)).astype('float32'))\n"
   ]
  },
  {
   "cell_type": "code",
   "execution_count": null,
   "metadata": {},
   "outputs": [],
   "source": [
    "embedding = np.zeros((4445721, 1200)).astype('float32')\n",
    "if offline == False:\n",
    "\n",
    "    creative_ids_str = [str(i) for i in range(1, 4445721)]\n",
    "    creative_ids = list(range(1, 4445721))\n",
    "\n",
    "    embedding[1:, : 100] = wv_model_dict['creative_id'].wv[creative_ids_str]\n",
    "\n",
    "    ad_id_str = [ str(item) for item in mp_creative_other['ad_id'][creative_ids].values]\n",
    "    embedding[1:, 100 : 200] = wv_model_dict['ad_id'].wv[ad_id_str]\n",
    "\n",
    "    product_id_str = [ str(item) for item in mp_creative_other['product_id'][creative_ids].values]\n",
    "    embedding[1:, 200 : 300] = wv_model_dict['product_id'].wv[product_id_str]\n",
    "\n",
    "    product_category_str = [ str(item) for item in mp_creative_other['product_category'][creative_ids].values]\n",
    "    embedding[1:, 300 : 400] = wv_model_dict['product_category'].wv[product_category_str]\n",
    "\n",
    "    advertiser_id_str = [ str(item) for item in mp_creative_other['advertiser_id'][creative_ids].values]\n",
    "    embedding[1:, 400 : 500] = wv_model_dict['advertiser_id'].wv[advertiser_id_str]\n",
    "\n",
    "    industry_str = [ str(item) for item in mp_creative_other['industry'][creative_ids].values]\n",
    "    embedding[1:, 500 : 600] = wv_model_dict['industry'].wv[industry_str]\n",
    "\n",
    "\n",
    "    advertiser_id_industry_str = [str(a) + \"_\" + str(b) for (a, b) in zip(advertiser_id_str, industry_str)]\n",
    "    embedding[1:, 600 : 700] = wv_model_dict['advertiser_id_industry'].wv[advertiser_id_industry_str]\n",
    "\n",
    "    product_category_advertiser_id_str = [str(a) + \"_\" + str(b) for (a, b) in zip(product_category_str, advertiser_id_str)]\n",
    "    embedding[1:, 700 : 800] = wv_model_dict['product_category_advertiser_id'].wv[product_category_advertiser_id_str]\n",
    "\n",
    "    product_category_industry_str = [str(a) + \"_\" + str(b) for (a, b) in zip(product_category_str, industry_str)]\n",
    "    embedding[1:, 800 : 900] = wv_model_dict['product_category_industry'].wv[product_category_industry_str]\n",
    "\n",
    "    product_id_advertiser_id_str = [str(a) + \"_\" + str(b) for (a, b) in zip(product_id_str, advertiser_id_str)]\n",
    "    embedding[1:, 900 : 1000] = wv_model_dict['product_id_advertiser_id'].wv[product_id_advertiser_id_str]\n",
    "\n",
    "    product_id_industry_str = [str(a) + \"_\" + str(b) for (a, b) in zip(product_id_str, industry_str)]\n",
    "    embedding[1:, 1000 : 1100] = wv_model_dict['product_id_industry'].wv[product_id_industry_str]\n",
    "\n",
    "    product_id_product_category_str = [str(a) + \"_\" + str(b) for (a, b) in zip(product_id_str, product_category_str)]\n",
    "    embedding[1:, 1100 : 1200] = wv_model_dict['product_id_product_category'].wv[product_id_product_category_str]\n",
    "\n",
    "logging.info('start save id embedding')\n",
    "np.save('%s/id_embedding_wv100.npy'%my_var_dir, embedding)\n",
    "logging.info('finish save id embedding')"
   ]
  },
  {
   "cell_type": "markdown",
   "metadata": {},
   "source": [
    "# id_embedding_aa100_wv_glove"
   ]
  },
  {
   "cell_type": "code",
   "execution_count": null,
   "metadata": {},
   "outputs": [],
   "source": [
    "id_embedding_wv = np.load('%s/id_embedding_wv100.npy'%my_var_dir)\n",
    "id_embedding_glove = np.load('%s/id_embedding_glove_100.npy'%my_var_dir)\n",
    "id_embedding_wv_glove_graph = np.concatenate([id_embedding_wv, id_embedding_glove], axis = 1)\n",
    "id_embedding_wv_glove_graph = id_embedding_wv_glove_graph.astype('float32')\n",
    "logging.info('start save id embedding')\n",
    "np.save('%s/id_embedding_wv_glove_graph.npy'%my_var_dir, id_embedding_wv_glove_graph)\n",
    "logging.info('finish save id embedding')"
   ]
  },
  {
   "cell_type": "code",
   "execution_count": 5,
   "metadata": {},
   "outputs": [],
   "source": [
    "# np.save('%s/id_embedding_aa100_wv_glove'%my_var_dir, np.zeros((4445721, 400)))"
   ]
  },
  {
   "cell_type": "code",
   "execution_count": null,
   "metadata": {},
   "outputs": [],
   "source": [
    "id_embedding_wv_glove_graph = np.load('%s/id_embedding_wv_glove_graph.npy'%my_var_dir)\n",
    "ad_id_wv = id_embedding_wv_glove_graph[:, 100:200]\n",
    "advertiser_id_wv = id_embedding_wv_glove_graph[:, 400:500]\n",
    "\n",
    "ad_id_glove = id_embedding_wv_glove_graph[:, 1200+100:1200+200]\n",
    "advertiser_id_glove = id_embedding_wv_glove_graph[:, 1200+400:1200+500]\n",
    "id_embedding_aa100_wv_glove = np.concatenate([ad_id_wv, ad_id_glove, advertiser_id_wv, advertiser_id_glove], axis = 1)\n",
    "np.save('%s/id_embedding_aa100_wv_glove'%my_var_dir, id_embedding_aa100_wv_glove)"
   ]
  },
  {
   "cell_type": "markdown",
   "metadata": {},
   "source": [
    "# id_embedding_aa200_epoch16"
   ]
  },
  {
   "cell_type": "code",
   "execution_count": 4,
   "metadata": {},
   "outputs": [
    {
     "name": "stderr",
     "output_type": "stream",
     "text": [
      "2020-07-23 09:36:11,954 - INFO - load wv\n",
      "2020-07-23 09:36:12,021 - INFO - load\n",
      "2020-07-23 09:36:12,038 - INFO - finish load\n"
     ]
    }
   ],
   "source": [
    "logging.info('load wv')\n",
    "wv_model_dict = {\n",
    "    'ad_id' : pickle.load(open('%s/wv_ad_id_sg_window175_dim200_epoch16.pickle'%var_dir, 'rb')),\n",
    "    'advertiser_id' :  pickle.load(open('%s/wv_advertiser_id_sg_window175_dim200_epoch16.pickle'%var_dir, 'rb')), \n",
    "}\n",
    "logging.info('load')\n",
    "mp_creative_other = {\n",
    "    'ad_id' : pickle.load(open('%s/se_creative_id_ad_id.pickle'%my_var_dir, 'rb')),\n",
    "    'advertiser_id' : pickle.load(open('%s/se_creative_id_advertiser_id.pickle'%my_var_dir, 'rb')),\n",
    "}\n",
    "logging.info('finish load')\n"
   ]
  },
  {
   "cell_type": "code",
   "execution_count": 5,
   "metadata": {},
   "outputs": [],
   "source": [
    "np.save('%s/id_embedding_aa200_epoch16.npy'%my_var_dir, np.zeros((4445721, 400)).astype('float32'))"
   ]
  },
  {
   "cell_type": "code",
   "execution_count": null,
   "metadata": {},
   "outputs": [],
   "source": [
    "embedding = np.zeros((4445721, 400)).astype('float32')\n",
    "creative_ids_str = [str(i) for i in range(1, 4445721)]\n",
    "creative_ids = list(range(1, 4445721))\n",
    "ad_id_str = [ str(item) for item in mp_creative_other['ad_id'][creative_ids].values]\n",
    "embedding[1:,  : 200] = wv_model_dict['ad_id'].wv[ad_id_str]\n",
    "advertiser_id_str = [ str(item) for item in mp_creative_other['advertiser_id'][creative_ids].values]\n",
    "embedding[1:, 200 : 400] = wv_model_dict['advertiser_id'].wv[advertiser_id_str]\n",
    "\n",
    "logging.info('start save id embedding')\n",
    "np.save('%s/id_embedding_aa200_epoch16.npy'%my_var_dir, embedding)\n",
    "logging.info('finish save id embedding')"
   ]
  }
 ],
 "metadata": {
  "kernelspec": {
   "display_name": "Python(hyr)\n",
   "language": "python",
   "name": "hyr"
  },
  "language_info": {
   "codemirror_mode": {
    "name": "ipython",
    "version": 3
   },
   "file_extension": ".py",
   "mimetype": "text/x-python",
   "name": "python",
   "nbconvert_exporter": "python",
   "pygments_lexer": "ipython3",
   "version": "3.6.9"
  },
  "toc": {
   "base_numbering": 1,
   "nav_menu": {},
   "number_sections": true,
   "sideBar": true,
   "skip_h1_title": false,
   "title_cell": "Table of Contents",
   "title_sidebar": "Contents",
   "toc_cell": false,
   "toc_position": {
    "height": "calc(100% - 180px)",
    "left": "10px",
    "top": "150px",
    "width": "349.091px"
   },
   "toc_section_display": true,
   "toc_window_display": true
  }
 },
 "nbformat": 4,
 "nbformat_minor": 2
}

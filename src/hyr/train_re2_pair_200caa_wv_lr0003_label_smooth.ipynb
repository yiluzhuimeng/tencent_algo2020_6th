{
 "cells": [
  {
   "cell_type": "code",
   "execution_count": 1,
   "metadata": {
    "scrolled": true
   },
   "outputs": [
    {
     "name": "stderr",
     "output_type": "stream",
     "text": [
      "2020-07-23 10:03:35,360 - INFO - PyTorch version 1.1.0 available.\n",
      "/home/huangweilin/anaconda3/envs/fjw/lib/python3.6/site-packages/tensorflow/python/framework/dtypes.py:523: FutureWarning: Passing (type, 1) or '1type' as a synonym of type is deprecated; in a future version of numpy, it will be understood as (type, (1,)) / '(1,)type'.\n",
      "  _np_qint8 = np.dtype([(\"qint8\", np.int8, 1)])\n",
      "/home/huangweilin/anaconda3/envs/fjw/lib/python3.6/site-packages/tensorflow/python/framework/dtypes.py:524: FutureWarning: Passing (type, 1) or '1type' as a synonym of type is deprecated; in a future version of numpy, it will be understood as (type, (1,)) / '(1,)type'.\n",
      "  _np_quint8 = np.dtype([(\"quint8\", np.uint8, 1)])\n",
      "/home/huangweilin/anaconda3/envs/fjw/lib/python3.6/site-packages/tensorflow/python/framework/dtypes.py:525: FutureWarning: Passing (type, 1) or '1type' as a synonym of type is deprecated; in a future version of numpy, it will be understood as (type, (1,)) / '(1,)type'.\n",
      "  _np_qint16 = np.dtype([(\"qint16\", np.int16, 1)])\n",
      "/home/huangweilin/anaconda3/envs/fjw/lib/python3.6/site-packages/tensorflow/python/framework/dtypes.py:526: FutureWarning: Passing (type, 1) or '1type' as a synonym of type is deprecated; in a future version of numpy, it will be understood as (type, (1,)) / '(1,)type'.\n",
      "  _np_quint16 = np.dtype([(\"quint16\", np.uint16, 1)])\n",
      "/home/huangweilin/anaconda3/envs/fjw/lib/python3.6/site-packages/tensorflow/python/framework/dtypes.py:527: FutureWarning: Passing (type, 1) or '1type' as a synonym of type is deprecated; in a future version of numpy, it will be understood as (type, (1,)) / '(1,)type'.\n",
      "  _np_qint32 = np.dtype([(\"qint32\", np.int32, 1)])\n",
      "/home/huangweilin/anaconda3/envs/fjw/lib/python3.6/site-packages/tensorflow/python/framework/dtypes.py:532: FutureWarning: Passing (type, 1) or '1type' as a synonym of type is deprecated; in a future version of numpy, it will be understood as (type, (1,)) / '(1,)type'.\n",
      "  np_resource = np.dtype([(\"resource\", np.ubyte, 1)])\n"
     ]
    }
   ],
   "source": [
    "import torch\n",
    "import torch.nn.functional as F\n",
    "f = F\n",
    "import torch.utils.data as Data\n",
    "from torch.autograd import Variable\n",
    "import pandas as pd\n",
    "import numpy as np\n",
    "import time\n",
    "from sklearn.metrics import roc_auc_score\n",
    "from sklearn.feature_selection import mutual_info_classif\n",
    "import datetime\n",
    "import pickle\n",
    "import scipy.sparse as ss\n",
    "import logging\n",
    "LOG_FORMAT = \"%(asctime)s - %(levelname)s - %(message)s\"\n",
    "logging.basicConfig(level=logging.INFO, format=LOG_FORMAT)\n",
    "import os\n",
    "# os.environ[\"CUDA_VISIBLE_DEVICES\"] = \"1\"\n",
    "os.environ['NUMEXPR_MAX_THREADS'] = '32'\n",
    "# import seaborn as sns\n",
    "\n",
    "import IPython.display as ipd\n",
    "import copy\n",
    "import random\n",
    "# from pandarallel import pandarallel\n",
    "# Initialization\n",
    "# pandarallel.initialize(progress_bar=True)\n",
    "# df.parallel_apply(func)\n",
    "import time\n",
    "from sklearn.metrics import accuracy_score\n",
    "from sklearn.metrics import confusion_matrix\n",
    "from sklearn.model_selection import StratifiedKFold,KFold\n",
    "\n",
    "from transformers import *\n",
    "import torch.nn as nn\n",
    "import math\n",
    "from tqdm.notebook import tqdm \n",
    "from transformers.modeling_bert import BertConfig, BertEncoder, BertAttention,\\\n",
    "BertSelfAttention,BertLayer,BertPooler,BertLayerNorm\n"
   ]
  },
  {
   "cell_type": "code",
   "execution_count": 2,
   "metadata": {},
   "outputs": [],
   "source": [
    "var_dir = '../../var'\n",
    "my_var_dir = '../../var/hyr'"
   ]
  },
  {
   "cell_type": "markdown",
   "metadata": {},
   "source": [
    "# Read"
   ]
  },
  {
   "cell_type": "code",
   "execution_count": 3,
   "metadata": {
    "scrolled": true
   },
   "outputs": [
    {
     "name": "stderr",
     "output_type": "stream",
     "text": [
      "2020-07-23 10:03:36,519 - INFO - start read df data\n",
      "2020-07-23 10:03:44,527 - INFO - finish read df data\n"
     ]
    }
   ],
   "source": [
    "logging.info('start read df data')\n",
    "\n",
    "df_train_user = pd.read_csv('%s/data/train_semi_final/user.csv'% var_dir)\n",
    "pre_df_train_user = pd.read_csv('%s/data/train_preliminary/user.csv'% var_dir)\n",
    "df_train_user = pd.concat([pre_df_train_user, df_train_user])\n",
    "\n",
    "train_user = list(range(1, 3000001))\n",
    "test_user = list(range(3000001, 4000001))\n",
    "\n",
    "train_gender = np.array(list(df_train_user['gender']))\n",
    "train_age = np.array(list(df_train_user['age']))\n",
    "id_embedding_feq = np.load('%s/id_embedding_glove_200acc.npy'%my_var_dir)\n",
    "se_tfidf_stack = pickle.load(open('%s/se_tfidf_stack_new.pickle'%my_var_dir, 'rb'))\n",
    "df_user_info = pickle.load(open('%s/df_user_info.pickle'%my_var_dir, 'rb'))\n",
    "target_encode_user_dict, mp_target_encode = pickle.load(open('%s/target_info_new.pickle'%my_var_dir, 'rb'))\n",
    "\n",
    "logging.info('finish read df data')"
   ]
  },
  {
   "cell_type": "code",
   "execution_count": 4,
   "metadata": {},
   "outputs": [],
   "source": [
    "offline = df_train_user.shape[0] < 30000\n",
    "if offline:\n",
    "    train_user = list(range(1, 301))\n",
    "    test_user = list(range(3000001, 3000101))"
   ]
  },
  {
   "cell_type": "markdown",
   "metadata": {},
   "source": [
    "# 调参"
   ]
  },
  {
   "cell_type": "code",
   "execution_count": 6,
   "metadata": {},
   "outputs": [],
   "source": [
    "from collections import namedtuple\n",
    "\n",
    "ARG = namedtuple('ARG', [\n",
    "    'batch_size',\n",
    "    'epoch',\n",
    "    'lr',\n",
    "    'weight_decay',\n",
    "    'debug',\n",
    "    'n_embedding',\n",
    "    'max_length',\n",
    "    'n_eval',\n",
    "    'n_worker',\n",
    "    'device',\n",
    "    \n",
    "    'n_gpu',\n",
    "    'card_list',\n",
    "    \n",
    "    'n_fold',\n",
    "    'save_path',\n",
    "    'shuffle_flod',\n",
    "])\n",
    " \n",
    "args = ARG(\n",
    "    batch_size = 64 if offline else 256,\n",
    "    epoch = 10,\n",
    "    lr = 0.003,\n",
    "    weight_decay = 0.1,\n",
    "    debug = False,\n",
    "    n_embedding = 100,\n",
    "    max_length = 128,\n",
    "    n_eval = 100000,\n",
    "    n_worker = 1,\n",
    "    device=torch.device(\"cuda:0\"),\n",
    "#     device=torch.device(\"cpu\"),\n",
    "\n",
    "    n_gpu = 2,\n",
    "    card_list = [0, 1],\n",
    "    \n",
    "    n_fold = 5,\n",
    "    save_path = '%s/model_pair_200acc_wv_lr0003_label_smooth/' % my_var_dir,\n",
    "    shuffle_flod = True,\n",
    "    \n",
    "    \n",
    ")\n",
    "\n",
    "if args.debug:\n",
    "    debug_number = 600\n",
    "    sub_train_user = train_user[:debug_number]\n",
    "    sub_train_gender = train_gender[:debug_number] - 1\n",
    "    sub_train_age = train_age[:debug_number] - 1\n",
    "    sub_test_user = test_user[:debug_number]\n",
    "else:\n",
    "    sub_train_user = train_user\n",
    "    sub_train_gender = train_gender - 1\n",
    "    sub_train_age = train_age - 1\n",
    "    sub_test_user = test_user"
   ]
  },
  {
   "cell_type": "markdown",
   "metadata": {},
   "source": [
    "# dataset"
   ]
  },
  {
   "cell_type": "code",
   "execution_count": 7,
   "metadata": {
    "scrolled": true
   },
   "outputs": [],
   "source": [
    "class AdDataset(Data.Dataset):\n",
    "    def __init__(self, user_ids, gender = None, age = None):\n",
    "        self.user_id = list(user_ids)\n",
    "        self.gender = gender if gender is not None else [-1 for _ in range(len(self.user_id))]\n",
    "        self.age = age if age is not None else [-1 for _ in range(len(self.user_id))]\n",
    "        \n",
    "    def __len__(self):\n",
    "        return len(self.user_id)\n",
    "    \n",
    "    def __getitem__(self,idx):\n",
    "        return [self.user_id[idx], self.gender[idx], self.age[idx]]\n",
    "    \n",
    "feature_name = ['ad_id', 'product_category', 'advertiser_id', 'industry']\n",
    "\n",
    "n_embedding = 100\n",
    "x_dict = {\n",
    "    'time' :  np.zeros((args.batch_size, args.max_length)).astype('int'),\n",
    "    'click_time' :  np.zeros((args.batch_size, args.max_length)).astype('int'),\n",
    "\n",
    "    'creative_id' : np.zeros((args.batch_size, args.max_length, 200)).astype('float32'),\n",
    "    'ad_id' : np.zeros((args.batch_size, args.max_length, 200)).astype('float32'),\n",
    "    'product_id' : np.zeros((args.batch_size, args.max_length, n_embedding)).astype('float32'), \n",
    "    'product_category' : np.zeros((args.batch_size, args.max_length, n_embedding)).astype('float32'), \n",
    "    'advertiser_id' :  np.zeros((args.batch_size, args.max_length, 200)).astype('float32') , \n",
    "    'industry' : np.zeros((args.batch_size, args.max_length, n_embedding)).astype('float32'),\n",
    "    \n",
    "    'advertiser_id_industry' : np.zeros((args.batch_size, args.max_length, n_embedding)).astype('float32'),\n",
    "    'product_category_advertiser_id' : np.zeros((args.batch_size, args.max_length, n_embedding)).astype('float32'),\n",
    "    'product_category_industry' : np.zeros((args.batch_size, args.max_length, n_embedding)).astype('float32'),\n",
    "    'product_id_advertiser_id' : np.zeros((args.batch_size, args.max_length, n_embedding)).astype('float32'),\n",
    "    'product_id_industry' : np.zeros((args.batch_size, args.max_length, n_embedding)).astype('float32'),\n",
    "    'product_id_product_category' : np.zeros((args.batch_size, args.max_length, n_embedding)).astype('float32'),\n",
    "    \n",
    "    'x_len' :  np.zeros((args.batch_size,)).astype('long'),\n",
    "}\n",
    "\n",
    "\n",
    "x_target_encode = np.zeros((args.batch_size, args.max_length, 72)).astype('float32')\n",
    "def collate_fn(samples):\n",
    "    sample_np = np.array(samples)\n",
    "    user_ids = sample_np[:, 0]\n",
    "    gender = sample_np[:, 1]\n",
    "    age = sample_np[:, 2]\n",
    "    \n",
    "    \n",
    "    for i, user in enumerate(user_ids):\n",
    "        S = time.time()\n",
    "        df_user_info_sub = df_user_info.loc[user]\n",
    "        creative_ids = df_user_info_sub['creative_id'][:args.max_length]\n",
    "        \n",
    "        len_data = len(creative_ids)\n",
    "        \n",
    "        x_dict['time'][i][:len_data] = df_user_info_sub['time'][:len_data]\n",
    "        x_dict['click_time'][i][:len_data] = df_user_info_sub['click_time'][:len_data]\n",
    "                \n",
    "        flod = target_encode_user_dict[user]\n",
    "        x_target_encode[i][:len_data] = np.array(list(mp_target_encode[flod].loc[creative_ids]))\n",
    "        \n",
    "        id_embeddings = id_embedding_feq[creative_ids]\n",
    "        x_dict['creative_id'][i][:len_data] = id_embeddings[:, :200]\n",
    "        x_dict['ad_id'][i][:len_data] = id_embeddings[:, 200:400]\n",
    "        x_dict['advertiser_id'][i][:len_data] = id_embeddings[:, 400:600]\n",
    "        \n",
    "        x_dict['advertiser_id_industry'][i][:len_data] = id_embeddings[:, 600:700]\n",
    "        x_dict['product_category_advertiser_id'][i][:len_data] = id_embeddings[:, 700:800]\n",
    "        x_dict['product_id_advertiser_id'][i][:len_data] = id_embeddings[:, 800:900]\n",
    "        x_dict['product_id_product_category'][i][:len_data] = id_embeddings[:, 900:1000]\n",
    "\n",
    "        x_dict['x_len'][i] = len_data\n",
    "        \n",
    "\n",
    "    len_user = sample_np.shape[0]\n",
    "    \n",
    "#     cat_feature = torch.cat([torch.tensor(x_dict['ad_id'][:len_user]), torch.tensor(x_dict['product_category'][:len_user]),\n",
    "#                             torch.tensor(x_dict['advertiser_id'][:len_user]), torch.tensor(x_dict['industry'][:len_user])], dim = 2)\n",
    "    \n",
    "\n",
    "    if gender[0] == -1:\n",
    "        gender = None\n",
    "        age = None\n",
    "    else:\n",
    "        gender = torch.tensor(gender)\n",
    "        age = torch.tensor(age)\n",
    "    \n",
    "    \n",
    "    return {\n",
    "        'time' : torch.tensor(x_dict['time'][:len_user]).long(),\n",
    "        'click_time' : torch.tensor(x_dict['click_time'][:len_user]).long(),\n",
    "        'creative_id' : torch.tensor(x_dict['creative_id'][:len_user]),\n",
    "        'ad_id' : torch.tensor(x_dict['ad_id'][:len_user]),\n",
    "        'advertiser_id' : torch.tensor(x_dict['advertiser_id'][:len_user]), \n",
    "        \n",
    "        'advertiser_id_industry' : torch.tensor(x_dict['advertiser_id_industry'][:len_user]),\n",
    "        'product_category_advertiser_id' : torch.tensor(x_dict['product_category_advertiser_id'][:len_user]),\n",
    "        'product_id_advertiser_id' : torch.tensor(x_dict['product_id_advertiser_id'][:len_user]),\n",
    "        'product_id_product_category' : torch.tensor(x_dict['product_id_product_category'][:len_user]),\n",
    "\n",
    "        'target_encode_sequence' : torch.tensor(x_target_encode[:len_user]).float(),\n",
    "        'x_len' :  torch.tensor(x_dict['x_len'][:len_user]),\n",
    "        'x_flatten' : torch.tensor(list(se_tfidf_stack[user_ids].values)).float(),\n",
    "        'gender' : gender,\n",
    "        'age' : age,\n",
    "        }"
   ]
  },
  {
   "cell_type": "markdown",
   "metadata": {},
   "source": [
    "# train"
   ]
  },
  {
   "cell_type": "code",
   "execution_count": 8,
   "metadata": {
    "code_folding": [
     31,
     43
    ]
   },
   "outputs": [],
   "source": [
    "TIME_FORWARD = 0\n",
    "TIME_BACKWARD = 0\n",
    "    \n",
    "\n",
    "def predict_batch_multi_task(model, user_ids, batch_size = args.batch_size):\n",
    "    len_user_ids = len(user_ids)\n",
    "    pre_list_gender = []\n",
    "    pre_list_age = []\n",
    "    pre_list_hidden = []\n",
    "    \n",
    "    train_dataset=AdDataset(user_ids)\n",
    "    data_loader = Data.DataLoader(\n",
    "        dataset=train_dataset,      \n",
    "        batch_size=args.batch_size,      \n",
    "        shuffle=False,\n",
    "        collate_fn=collate_fn,\n",
    "        num_workers = args.n_worker,\n",
    "    )\n",
    "    with torch.no_grad():\n",
    "        for step, data in enumerate(tqdm(data_loader)):\n",
    "            pre_gender, pre_age, pre_hidden = model(**data)\n",
    "            pre_list_gender.append(pre_gender.cpu().detach().numpy())\n",
    "            pre_list_age.append(pre_age.cpu().detach().numpy())      \n",
    "            \n",
    "    return {\n",
    "        'gender' : np.concatenate(pre_list_gender), \n",
    "        'age' : np.concatenate(pre_list_age),\n",
    "    }\n",
    "\n",
    "def eval_data(model, user_ids, gender_labels, age_labels):\n",
    "    choose_idx = list(range(len(user_ids)))\n",
    "    if(len(user_ids) > args.n_eval):\n",
    "        choose_idx = random.sample(choose_idx, args.n_eval)\n",
    "    ret_dict = predict_batch_multi_task(model, user_ids[choose_idx])\n",
    "\n",
    "    predict_gender = np.argmax(ret_dict['gender'], axis = 1)\n",
    "    predict_age = np.argmax(ret_dict['age'], axis = 1)\n",
    "    acc_gender = accuracy_score(gender_labels[choose_idx], predict_gender)\n",
    "    acc_age = accuracy_score(age_labels[choose_idx], predict_age)\n",
    "    return acc_gender, acc_age\n",
    "    \n",
    "def train_multi_task(n_fold, model_class, class_parms, train_dataset, val_dataset, test_user_id):\n",
    "    \n",
    "    global TIME_FORWARD, TIME_BACKWARD\n",
    "    \n",
    "    train_user_id = train_dataset['x']\n",
    "    train_gender = train_dataset['gender']\n",
    "    train_age = train_dataset['age']\n",
    "    \n",
    "    logging.info('train number %d, val number %d' % (len(train_user_id), len(val_dataset['x'])))\n",
    "    \n",
    "    torch_dataset = AdDataset(train_user_id, train_gender, train_age)\n",
    "    data_loader = Data.DataLoader(\n",
    "        dataset=torch_dataset,      \n",
    "        batch_size=args.batch_size,      \n",
    "        shuffle=True,\n",
    "        collate_fn=collate_fn,\n",
    "        num_workers = args.n_worker,\n",
    "    )\n",
    "    \n",
    "    model = model_class(**class_parms).to(args.device)\n",
    "            \n",
    "    \n",
    "    no_decay = [\"bias\", \"gamma\",\"beta\"]\n",
    "    optimizer_grouped_parameters = [\n",
    "        {\n",
    "            \"params\": [p for n, p in model.named_parameters() if not any(nd in n for nd in no_decay)],\n",
    "            \"weight_decay\": args.weight_decay,\n",
    "        },\n",
    "        {\"params\": [p for n, p in model.named_parameters() if any(nd in n for nd in no_decay)], \"weight_decay\": 0.0},\n",
    "    ]\n",
    "    optimizer = AdamW(optimizer_grouped_parameters, lr = args.lr, weight_decay = args.weight_decay)\n",
    "    scheduler = get_linear_schedule_with_warmup(\n",
    "        optimizer, num_warmup_steps=int(len(train_user_id)//(args.batch_size)), num_training_steps=int(len(train_user_id) / args.batch_size * args.epoch)\n",
    "    )\n",
    "\n",
    "    for epoch in range(args.epoch):\n",
    "        loss_list, loss_gender_list, loss_age_list = [], [], []\n",
    "        model.train()\n",
    "        \n",
    "        for step, data in enumerate(tqdm(data_loader)):\n",
    "            #forward\n",
    "            S = time.time()\n",
    "\n",
    "            loss, loss_gender, loss_age, pre_gender, pre_age, _ = model(**data)\n",
    "        \n",
    "            TIME_FORWARD += time.time() - S\n",
    "            \n",
    "            loss_list.append(float(loss))\n",
    "            loss_gender_list.append(float(loss_gender))\n",
    "            loss_age_list.append(float(loss_age))\n",
    "            \n",
    "            #backward\n",
    "            S = time.time()\n",
    "            optimizer.zero_grad()\n",
    "            loss.backward()\n",
    "            torch.nn.utils.clip_grad_norm_(model.parameters(), max_norm = 5)\n",
    "            optimizer.step()\n",
    "            scheduler.step()\n",
    "            TIME_BACKWARD += time.time() - S\n",
    "        \n",
    "        model.eval()\n",
    "\n",
    "        train_acc_gender, train_acc_age = eval_data(model, train_dataset['x'], train_dataset['gender'], train_dataset['age'])\n",
    "\n",
    "        val_acc_gender, val_acc_age = eval_data(model, val_dataset['x'], val_dataset['gender'], val_dataset['age'])\n",
    "        \n",
    "        logging.info('forward:%f backward:%f'%(TIME_FORWARD,TIME_BACKWARD))\n",
    "        logging.info(\"flod %d epoch %d : \\n loss: %f loss_gender : %f, loss_age : %f, gender : %f, %f, age : %f, %f, score:%f\" %\\\n",
    "                     (n_fold, epoch, np.mean(loss_list), np.mean(loss_gender_list), np.mean(loss_age_list), \\\n",
    "                      train_acc_gender, val_acc_gender, train_acc_age, val_acc_age, val_acc_gender + val_acc_age))\n",
    "        \n",
    "    val_ret_dict = predict_batch_multi_task(model, val_dataset['x'])\n",
    "    test_ret_dict = predict_batch_multi_task(model, test_user_id)\n",
    "    \n",
    "    return model, val_ret_dict, test_ret_dict\n",
    "\n",
    "def nn_cross_validation_multi_task(x_train, gender, age, x_test, model_class, class_parms, func_train, is_cross = True, random_seed = 0):\n",
    "    \n",
    "    folds = KFold(n_splits=args.n_fold, shuffle=False)\n",
    "    \n",
    "    if os.path.exists(args.save_path) == False:\n",
    "        os.mkdir(args.save_path)\n",
    "    \n",
    "    x_train_val = np.array(x_train)\n",
    "    gender_train_val = np.array(gender)\n",
    "    age_train_val = np.array(age)\n",
    "\n",
    "\n",
    "    score_gender_val = np.zeros((len(x_train), 2))\n",
    "    score_age_val = np.zeros((len(x_train), 10))\n",
    "    \n",
    "\n",
    "    for n_fold, (trn_idx, val_idx) in enumerate(folds.split(x_train, gender_train_val)):\n",
    "        save_trn_idx = trn_idx\n",
    "        save_val_idx = val_idx\n",
    "        \n",
    "        train_x, train_gender, train_age = x_train_val[trn_idx], gender_train_val[trn_idx], age_train_val[trn_idx]\n",
    "        val_x, val_gender, val_age = x_train_val[val_idx], gender_train_val[val_idx], age_train_val[val_idx]\n",
    "        train_dataset = {\n",
    "            'x' : train_x,\n",
    "            'gender' : train_gender,\n",
    "            'age' : train_age,\n",
    "        }\n",
    "        val_dataset = {\n",
    "            'x' : val_x,\n",
    "            'gender' : val_gender,\n",
    "            'age' : val_age\n",
    "        }\n",
    "        \n",
    "        model, val_ret_dict, test_ret_dict = func_train(n_fold, model_class, class_parms, train_dataset, val_dataset, x_test)\n",
    "        \n",
    "        score_gender_val[val_idx] = val_ret_dict['gender']\n",
    "        score_age_val[val_idx] = val_ret_dict['age']\n",
    "        \n",
    "        val_predict_gender = np.argmax(score_gender_val[val_idx] , axis = 1)\n",
    "        val_predict_age = np.argmax(score_age_val[val_idx] , axis = 1)\n",
    "\n",
    "        if is_cross == False:\n",
    "            eda_val_dict = {\n",
    "                'user' : val_x,\n",
    "                'pre_gender' : val_predict_gender,\n",
    "                'gender' : val_gender,\n",
    "                'pre_age' : val_predict_age,\n",
    "                'age' : val_age,\n",
    "                'score_gender' : score_gender_val[val_idx],\n",
    "                'score_age' :  score_age_val[val_idx]\n",
    "            }\n",
    "\n",
    "            return model, eda_val_dict, test_ret_dict\n",
    "        \n",
    "        \n",
    "        torch.save(model, '%s/model_%d' % (args.save_path, n_fold))\n",
    "        pickle.dump(test_ret_dict, open('%s/test_dict_flod_%d.pickle' % (args.save_path, n_fold), 'wb'))\n",
    "        \n",
    "        test_gender_pre = np.argmax(test_ret_dict['gender'], axis = 1) + 1\n",
    "        test_age_pre = np.argmax(test_ret_dict['age'], axis = 1) + 1\n",
    "        df_submit = pd.DataFrame()\n",
    "        df_submit['user_id'] = x_test\n",
    "        df_submit['predicted_gender'] = test_gender_pre\n",
    "        df_submit['predicted_age'] = test_age_pre\n",
    "        df_submit.to_csv('%s/df_submit_flod_%d.csv' % (args.save_path, n_fold), index=False)\n",
    "        \n",
    "        \n",
    "    return score_gender_val, score_age_val\n"
   ]
  },
  {
   "cell_type": "markdown",
   "metadata": {},
   "source": [
    "# Model"
   ]
  },
  {
   "cell_type": "code",
   "execution_count": null,
   "metadata": {
    "code_folding": [
     11,
     15,
     33,
     70,
     78,
     82,
     96,
     199
    ],
    "scrolled": true
   },
   "outputs": [
    {
     "name": "stderr",
     "output_type": "stream",
     "text": [
      "2020-07-23 10:04:02,434 - INFO - start training \n",
      "2020-07-23 10:04:02,436 - INFO - train number 240, val number 60\n"
     ]
    },
    {
     "name": "stdout",
     "output_type": "stream",
     "text": [
      "5478220\n"
     ]
    },
    {
     "data": {
      "application/vnd.jupyter.widget-view+json": {
       "model_id": "a612a75ec39d45378b891fe2b22006e5",
       "version_major": 2,
       "version_minor": 0
      },
      "text/plain": [
       "HBox(children=(IntProgress(value=0, max=4), HTML(value='')))"
      ]
     },
     "metadata": {},
     "output_type": "display_data"
    },
    {
     "name": "stdout",
     "output_type": "stream",
     "text": [
      "\n"
     ]
    },
    {
     "data": {
      "application/vnd.jupyter.widget-view+json": {
       "model_id": "e75015b2bfa2407c91ab87c16b4f2d47",
       "version_major": 2,
       "version_minor": 0
      },
      "text/plain": [
       "HBox(children=(IntProgress(value=0, max=4), HTML(value='')))"
      ]
     },
     "metadata": {},
     "output_type": "display_data"
    },
    {
     "name": "stdout",
     "output_type": "stream",
     "text": [
      "\n"
     ]
    },
    {
     "data": {
      "application/vnd.jupyter.widget-view+json": {
       "model_id": "1f727bf29cb5480e90cdded56273099a",
       "version_major": 2,
       "version_minor": 0
      },
      "text/plain": [
       "HBox(children=(IntProgress(value=0, max=1), HTML(value='')))"
      ]
     },
     "metadata": {},
     "output_type": "display_data"
    },
    {
     "name": "stderr",
     "output_type": "stream",
     "text": [
      "2020-07-23 10:04:04,779 - INFO - forward:0.353230 backward:0.442982\n",
      "2020-07-23 10:04:04,780 - INFO - flod 0 epoch 0 : \n",
      " loss: 2.028562 loss_gender : 1.612459, loss_age : 2.444666, gender : 0.620833, 0.600000, age : 0.170833, 0.216667, score:0.816667\n"
     ]
    },
    {
     "name": "stdout",
     "output_type": "stream",
     "text": [
      "\n"
     ]
    },
    {
     "data": {
      "application/vnd.jupyter.widget-view+json": {
       "model_id": "b540399154554250b5ce9f4f783231e2",
       "version_major": 2,
       "version_minor": 0
      },
      "text/plain": [
       "HBox(children=(IntProgress(value=0, max=4), HTML(value='')))"
      ]
     },
     "metadata": {},
     "output_type": "display_data"
    },
    {
     "name": "stdout",
     "output_type": "stream",
     "text": [
      "\n"
     ]
    },
    {
     "data": {
      "application/vnd.jupyter.widget-view+json": {
       "model_id": "971a39e2b8a442e7a73f43c3be2bcfe8",
       "version_major": 2,
       "version_minor": 0
      },
      "text/plain": [
       "HBox(children=(IntProgress(value=0, max=4), HTML(value='')))"
      ]
     },
     "metadata": {},
     "output_type": "display_data"
    },
    {
     "name": "stdout",
     "output_type": "stream",
     "text": [
      "\n"
     ]
    },
    {
     "data": {
      "application/vnd.jupyter.widget-view+json": {
       "model_id": "d2de662a66b641599b091afe29b7410b",
       "version_major": 2,
       "version_minor": 0
      },
      "text/plain": [
       "HBox(children=(IntProgress(value=0, max=1), HTML(value='')))"
      ]
     },
     "metadata": {},
     "output_type": "display_data"
    },
    {
     "name": "stderr",
     "output_type": "stream",
     "text": [
      "2020-07-23 10:04:06,918 - INFO - forward:0.557362 backward:0.856042\n",
      "2020-07-23 10:04:06,920 - INFO - flod 0 epoch 1 : \n",
      " loss: 1.284473 loss_gender : 0.582597, loss_age : 1.986348, gender : 0.629167, 0.583333, age : 0.187500, 0.250000, score:0.833333\n"
     ]
    },
    {
     "name": "stdout",
     "output_type": "stream",
     "text": [
      "\n"
     ]
    },
    {
     "data": {
      "application/vnd.jupyter.widget-view+json": {
       "model_id": "702a880ec6664229822a9691a6e7135d",
       "version_major": 2,
       "version_minor": 0
      },
      "text/plain": [
       "HBox(children=(IntProgress(value=0, max=4), HTML(value='')))"
      ]
     },
     "metadata": {},
     "output_type": "display_data"
    },
    {
     "name": "stdout",
     "output_type": "stream",
     "text": [
      "\n"
     ]
    },
    {
     "data": {
      "application/vnd.jupyter.widget-view+json": {
       "model_id": "ade47bb34a4e46c69992174dcedae8fd",
       "version_major": 2,
       "version_minor": 0
      },
      "text/plain": [
       "HBox(children=(IntProgress(value=0, max=4), HTML(value='')))"
      ]
     },
     "metadata": {},
     "output_type": "display_data"
    },
    {
     "name": "stdout",
     "output_type": "stream",
     "text": [
      "\n"
     ]
    },
    {
     "data": {
      "application/vnd.jupyter.widget-view+json": {
       "model_id": "2b48c6b5110a4f3eaa771b332d5cad7c",
       "version_major": 2,
       "version_minor": 0
      },
      "text/plain": [
       "HBox(children=(IntProgress(value=0, max=1), HTML(value='')))"
      ]
     },
     "metadata": {},
     "output_type": "display_data"
    },
    {
     "name": "stderr",
     "output_type": "stream",
     "text": [
      "2020-07-23 10:04:09,142 - INFO - forward:0.774153 backward:1.276592\n",
      "2020-07-23 10:04:09,144 - INFO - flod 0 epoch 2 : \n",
      " loss: 1.202230 loss_gender : 0.556496, loss_age : 1.847963, gender : 0.633333, 0.583333, age : 0.187500, 0.133333, score:0.716667\n"
     ]
    },
    {
     "name": "stdout",
     "output_type": "stream",
     "text": [
      "\n"
     ]
    },
    {
     "data": {
      "application/vnd.jupyter.widget-view+json": {
       "model_id": "541d54ad4fe6498b8431c715d8c382f8",
       "version_major": 2,
       "version_minor": 0
      },
      "text/plain": [
       "HBox(children=(IntProgress(value=0, max=4), HTML(value='')))"
      ]
     },
     "metadata": {},
     "output_type": "display_data"
    },
    {
     "name": "stdout",
     "output_type": "stream",
     "text": [
      "\n"
     ]
    },
    {
     "data": {
      "application/vnd.jupyter.widget-view+json": {
       "model_id": "0415ba4fc3e345158990144141bdd44c",
       "version_major": 2,
       "version_minor": 0
      },
      "text/plain": [
       "HBox(children=(IntProgress(value=0, max=4), HTML(value='')))"
      ]
     },
     "metadata": {},
     "output_type": "display_data"
    },
    {
     "name": "stdout",
     "output_type": "stream",
     "text": [
      "\n"
     ]
    },
    {
     "data": {
      "application/vnd.jupyter.widget-view+json": {
       "model_id": "5b0718e6946840faa6c54da1ea84679b",
       "version_major": 2,
       "version_minor": 0
      },
      "text/plain": [
       "HBox(children=(IntProgress(value=0, max=1), HTML(value='')))"
      ]
     },
     "metadata": {},
     "output_type": "display_data"
    },
    {
     "name": "stderr",
     "output_type": "stream",
     "text": [
      "2020-07-23 10:04:11,369 - INFO - forward:0.990665 backward:1.698978\n",
      "2020-07-23 10:04:11,371 - INFO - flod 0 epoch 3 : \n",
      " loss: 1.196455 loss_gender : 0.548316, loss_age : 1.844593, gender : 0.641667, 0.616667, age : 0.187500, 0.100000, score:0.716667\n"
     ]
    },
    {
     "name": "stdout",
     "output_type": "stream",
     "text": [
      "\n"
     ]
    },
    {
     "data": {
      "application/vnd.jupyter.widget-view+json": {
       "model_id": "996900f66f4e4a01a51431fb02c21b35",
       "version_major": 2,
       "version_minor": 0
      },
      "text/plain": [
       "HBox(children=(IntProgress(value=0, max=4), HTML(value='')))"
      ]
     },
     "metadata": {},
     "output_type": "display_data"
    },
    {
     "name": "stdout",
     "output_type": "stream",
     "text": [
      "\n"
     ]
    },
    {
     "data": {
      "application/vnd.jupyter.widget-view+json": {
       "model_id": "33c34302405748089235a697385b4512",
       "version_major": 2,
       "version_minor": 0
      },
      "text/plain": [
       "HBox(children=(IntProgress(value=0, max=4), HTML(value='')))"
      ]
     },
     "metadata": {},
     "output_type": "display_data"
    },
    {
     "name": "stdout",
     "output_type": "stream",
     "text": [
      "\n"
     ]
    },
    {
     "data": {
      "application/vnd.jupyter.widget-view+json": {
       "model_id": "73a970320ac9459b9bac21cd151e71cc",
       "version_major": 2,
       "version_minor": 0
      },
      "text/plain": [
       "HBox(children=(IntProgress(value=0, max=1), HTML(value='')))"
      ]
     },
     "metadata": {},
     "output_type": "display_data"
    },
    {
     "name": "stderr",
     "output_type": "stream",
     "text": [
      "2020-07-23 10:04:13,558 - INFO - forward:1.209686 backward:2.118483\n",
      "2020-07-23 10:04:13,559 - INFO - flod 0 epoch 4 : \n",
      " loss: 1.178210 loss_gender : 0.537998, loss_age : 1.818421, gender : 0.641667, 0.600000, age : 0.191667, 0.100000, score:0.700000\n"
     ]
    },
    {
     "name": "stdout",
     "output_type": "stream",
     "text": [
      "\n"
     ]
    },
    {
     "data": {
      "application/vnd.jupyter.widget-view+json": {
       "model_id": "db22ccf291384be888b5da6a7343d729",
       "version_major": 2,
       "version_minor": 0
      },
      "text/plain": [
       "HBox(children=(IntProgress(value=0, max=4), HTML(value='')))"
      ]
     },
     "metadata": {},
     "output_type": "display_data"
    },
    {
     "name": "stdout",
     "output_type": "stream",
     "text": [
      "\n"
     ]
    },
    {
     "data": {
      "application/vnd.jupyter.widget-view+json": {
       "model_id": "5e88826624744ce9b187d8a60ce7d90a",
       "version_major": 2,
       "version_minor": 0
      },
      "text/plain": [
       "HBox(children=(IntProgress(value=0, max=4), HTML(value='')))"
      ]
     },
     "metadata": {},
     "output_type": "display_data"
    },
    {
     "name": "stdout",
     "output_type": "stream",
     "text": [
      "\n"
     ]
    },
    {
     "data": {
      "application/vnd.jupyter.widget-view+json": {
       "model_id": "0c69b6e60a584457b7f7d7f1d57a1e81",
       "version_major": 2,
       "version_minor": 0
      },
      "text/plain": [
       "HBox(children=(IntProgress(value=0, max=1), HTML(value='')))"
      ]
     },
     "metadata": {},
     "output_type": "display_data"
    },
    {
     "name": "stderr",
     "output_type": "stream",
     "text": [
      "2020-07-23 10:04:15,770 - INFO - forward:1.435043 backward:2.542795\n",
      "2020-07-23 10:04:15,771 - INFO - flod 0 epoch 5 : \n",
      " loss: 1.173292 loss_gender : 0.534554, loss_age : 1.812031, gender : 0.658333, 0.600000, age : 0.204167, 0.116667, score:0.716667\n"
     ]
    },
    {
     "name": "stdout",
     "output_type": "stream",
     "text": [
      "\n"
     ]
    },
    {
     "data": {
      "application/vnd.jupyter.widget-view+json": {
       "model_id": "b0d5fd8a65104bc68b6e399212a069e7",
       "version_major": 2,
       "version_minor": 0
      },
      "text/plain": [
       "HBox(children=(IntProgress(value=0, max=4), HTML(value='')))"
      ]
     },
     "metadata": {},
     "output_type": "display_data"
    },
    {
     "name": "stdout",
     "output_type": "stream",
     "text": [
      "\n"
     ]
    },
    {
     "data": {
      "application/vnd.jupyter.widget-view+json": {
       "model_id": "6a719634ed2b4f8888f954ae8072154d",
       "version_major": 2,
       "version_minor": 0
      },
      "text/plain": [
       "HBox(children=(IntProgress(value=0, max=4), HTML(value='')))"
      ]
     },
     "metadata": {},
     "output_type": "display_data"
    },
    {
     "name": "stdout",
     "output_type": "stream",
     "text": [
      "\n"
     ]
    },
    {
     "data": {
      "application/vnd.jupyter.widget-view+json": {
       "model_id": "8d2a02f7ae1246e18efb8e5ac187f1c0",
       "version_major": 2,
       "version_minor": 0
      },
      "text/plain": [
       "HBox(children=(IntProgress(value=0, max=1), HTML(value='')))"
      ]
     },
     "metadata": {},
     "output_type": "display_data"
    },
    {
     "name": "stderr",
     "output_type": "stream",
     "text": [
      "2020-07-23 10:04:17,993 - INFO - forward:1.651420 backward:2.961892\n",
      "2020-07-23 10:04:17,994 - INFO - flod 0 epoch 6 : \n",
      " loss: 1.167730 loss_gender : 0.526722, loss_age : 1.808737, gender : 0.666667, 0.600000, age : 0.204167, 0.116667, score:0.716667\n"
     ]
    },
    {
     "name": "stdout",
     "output_type": "stream",
     "text": [
      "\n"
     ]
    },
    {
     "data": {
      "application/vnd.jupyter.widget-view+json": {
       "model_id": "3e0f351d69ba4a888e7153a3e17d64fd",
       "version_major": 2,
       "version_minor": 0
      },
      "text/plain": [
       "HBox(children=(IntProgress(value=0, max=4), HTML(value='')))"
      ]
     },
     "metadata": {},
     "output_type": "display_data"
    },
    {
     "name": "stdout",
     "output_type": "stream",
     "text": [
      "\n"
     ]
    },
    {
     "data": {
      "application/vnd.jupyter.widget-view+json": {
       "model_id": "978648aaf75a43fb88ade7e24d7a62fc",
       "version_major": 2,
       "version_minor": 0
      },
      "text/plain": [
       "HBox(children=(IntProgress(value=0, max=4), HTML(value='')))"
      ]
     },
     "metadata": {},
     "output_type": "display_data"
    },
    {
     "name": "stdout",
     "output_type": "stream",
     "text": [
      "\n"
     ]
    },
    {
     "data": {
      "application/vnd.jupyter.widget-view+json": {
       "model_id": "cee9bbb02a2242c1a62520037d772cc8",
       "version_major": 2,
       "version_minor": 0
      },
      "text/plain": [
       "HBox(children=(IntProgress(value=0, max=1), HTML(value='')))"
      ]
     },
     "metadata": {},
     "output_type": "display_data"
    },
    {
     "name": "stderr",
     "output_type": "stream",
     "text": [
      "2020-07-23 10:04:20,174 - INFO - forward:1.865639 backward:3.381086\n",
      "2020-07-23 10:04:20,175 - INFO - flod 0 epoch 7 : \n",
      " loss: 1.165872 loss_gender : 0.526749, loss_age : 1.804995, gender : 0.666667, 0.600000, age : 0.208333, 0.100000, score:0.700000\n"
     ]
    },
    {
     "name": "stdout",
     "output_type": "stream",
     "text": [
      "\n"
     ]
    },
    {
     "data": {
      "application/vnd.jupyter.widget-view+json": {
       "model_id": "4a283134ca9e42778c9b717fa69ec012",
       "version_major": 2,
       "version_minor": 0
      },
      "text/plain": [
       "HBox(children=(IntProgress(value=0, max=4), HTML(value='')))"
      ]
     },
     "metadata": {},
     "output_type": "display_data"
    },
    {
     "name": "stdout",
     "output_type": "stream",
     "text": [
      "\n"
     ]
    },
    {
     "data": {
      "application/vnd.jupyter.widget-view+json": {
       "model_id": "33a210f828264178bc3d596c48f27d67",
       "version_major": 2,
       "version_minor": 0
      },
      "text/plain": [
       "HBox(children=(IntProgress(value=0, max=4), HTML(value='')))"
      ]
     },
     "metadata": {},
     "output_type": "display_data"
    },
    {
     "name": "stdout",
     "output_type": "stream",
     "text": [
      "\n"
     ]
    },
    {
     "data": {
      "application/vnd.jupyter.widget-view+json": {
       "model_id": "4cc354114bb541bda2d4fe2d2fe7f150",
       "version_major": 2,
       "version_minor": 0
      },
      "text/plain": [
       "HBox(children=(IntProgress(value=0, max=1), HTML(value='')))"
      ]
     },
     "metadata": {},
     "output_type": "display_data"
    },
    {
     "name": "stderr",
     "output_type": "stream",
     "text": [
      "2020-07-23 10:04:22,385 - INFO - forward:2.112896 backward:3.806201\n",
      "2020-07-23 10:04:22,387 - INFO - flod 0 epoch 8 : \n",
      " loss: 1.160430 loss_gender : 0.520921, loss_age : 1.799939, gender : 0.670833, 0.600000, age : 0.212500, 0.100000, score:0.700000\n"
     ]
    },
    {
     "name": "stdout",
     "output_type": "stream",
     "text": [
      "\n"
     ]
    },
    {
     "data": {
      "application/vnd.jupyter.widget-view+json": {
       "model_id": "25e0b78ab8c94242b9f980ce5e1529b5",
       "version_major": 2,
       "version_minor": 0
      },
      "text/plain": [
       "HBox(children=(IntProgress(value=0, max=4), HTML(value='')))"
      ]
     },
     "metadata": {},
     "output_type": "display_data"
    },
    {
     "name": "stdout",
     "output_type": "stream",
     "text": [
      "\n"
     ]
    },
    {
     "data": {
      "application/vnd.jupyter.widget-view+json": {
       "model_id": "2238a0451fb643e4b2c56fc6486309c0",
       "version_major": 2,
       "version_minor": 0
      },
      "text/plain": [
       "HBox(children=(IntProgress(value=0, max=4), HTML(value='')))"
      ]
     },
     "metadata": {},
     "output_type": "display_data"
    },
    {
     "name": "stdout",
     "output_type": "stream",
     "text": [
      "\n"
     ]
    },
    {
     "data": {
      "application/vnd.jupyter.widget-view+json": {
       "model_id": "105c07500e824c3f989fba2020808b09",
       "version_major": 2,
       "version_minor": 0
      },
      "text/plain": [
       "HBox(children=(IntProgress(value=0, max=1), HTML(value='')))"
      ]
     },
     "metadata": {},
     "output_type": "display_data"
    },
    {
     "name": "stderr",
     "output_type": "stream",
     "text": [
      "2020-07-23 10:04:24,654 - INFO - forward:2.329103 backward:4.232054\n",
      "2020-07-23 10:04:24,655 - INFO - flod 0 epoch 9 : \n",
      " loss: 1.163766 loss_gender : 0.523039, loss_age : 1.804492, gender : 0.670833, 0.600000, age : 0.212500, 0.100000, score:0.700000\n"
     ]
    },
    {
     "name": "stdout",
     "output_type": "stream",
     "text": [
      "\n"
     ]
    },
    {
     "data": {
      "application/vnd.jupyter.widget-view+json": {
       "model_id": "698d50f72cd2486e82ab1481a8bba27d",
       "version_major": 2,
       "version_minor": 0
      },
      "text/plain": [
       "HBox(children=(IntProgress(value=0, max=1), HTML(value='')))"
      ]
     },
     "metadata": {},
     "output_type": "display_data"
    },
    {
     "name": "stdout",
     "output_type": "stream",
     "text": [
      "\n"
     ]
    },
    {
     "data": {
      "application/vnd.jupyter.widget-view+json": {
       "model_id": "c8a1c05ccad040818ddc37a80a9ac431",
       "version_major": 2,
       "version_minor": 0
      },
      "text/plain": [
       "HBox(children=(IntProgress(value=0, max=2), HTML(value='')))"
      ]
     },
     "metadata": {},
     "output_type": "display_data"
    },
    {
     "name": "stdout",
     "output_type": "stream",
     "text": [
      "\n"
     ]
    },
    {
     "name": "stderr",
     "output_type": "stream",
     "text": [
      "/home/huangweilin/anaconda3/envs/fjw/lib/python3.6/site-packages/torch/serialization.py:256: UserWarning: Couldn't retrieve source code for container of type RE2. It won't be checked for correctness upon loading.\n",
      "  \"type \" + obj.__name__ + \". It won't be checked \"\n",
      "/home/huangweilin/anaconda3/envs/fjw/lib/python3.6/site-packages/torch/serialization.py:256: UserWarning: Couldn't retrieve source code for container of type LayerNorm. It won't be checked for correctness upon loading.\n",
      "  \"type \" + obj.__name__ + \". It won't be checked \"\n",
      "/home/huangweilin/anaconda3/envs/fjw/lib/python3.6/site-packages/torch/serialization.py:256: UserWarning: Couldn't retrieve source code for container of type Linear. It won't be checked for correctness upon loading.\n",
      "  \"type \" + obj.__name__ + \". It won't be checked \"\n",
      "/home/huangweilin/anaconda3/envs/fjw/lib/python3.6/site-packages/torch/serialization.py:256: UserWarning: Couldn't retrieve source code for container of type LabelSmoothingCrossEntropy. It won't be checked for correctness upon loading.\n",
      "  \"type \" + obj.__name__ + \". It won't be checked \"\n",
      "/home/huangweilin/anaconda3/envs/fjw/lib/python3.6/site-packages/torch/serialization.py:256: UserWarning: Couldn't retrieve source code for container of type RE2Block. It won't be checked for correctness upon loading.\n",
      "  \"type \" + obj.__name__ + \". It won't be checked \"\n",
      "/home/huangweilin/anaconda3/envs/fjw/lib/python3.6/site-packages/torch/serialization.py:256: UserWarning: Couldn't retrieve source code for container of type MappedAlignment. It won't be checked for correctness upon loading.\n",
      "  \"type \" + obj.__name__ + \". It won't be checked \"\n",
      "/home/huangweilin/anaconda3/envs/fjw/lib/python3.6/site-packages/torch/serialization.py:256: UserWarning: Couldn't retrieve source code for container of type GeLU. It won't be checked for correctness upon loading.\n",
      "  \"type \" + obj.__name__ + \". It won't be checked \"\n",
      "/home/huangweilin/anaconda3/envs/fjw/lib/python3.6/site-packages/torch/serialization.py:256: UserWarning: Couldn't retrieve source code for container of type Encoder. It won't be checked for correctness upon loading.\n",
      "  \"type \" + obj.__name__ + \". It won't be checked \"\n",
      "/home/huangweilin/anaconda3/envs/fjw/lib/python3.6/site-packages/torch/serialization.py:256: UserWarning: Couldn't retrieve source code for container of type Conv1d. It won't be checked for correctness upon loading.\n",
      "  \"type \" + obj.__name__ + \". It won't be checked \"\n",
      "/home/huangweilin/anaconda3/envs/fjw/lib/python3.6/site-packages/torch/serialization.py:256: UserWarning: Couldn't retrieve source code for container of type FullFusion. It won't be checked for correctness upon loading.\n",
      "  \"type \" + obj.__name__ + \". It won't be checked \"\n",
      "/home/huangweilin/anaconda3/envs/fjw/lib/python3.6/site-packages/torch/serialization.py:256: UserWarning: Couldn't retrieve source code for container of type AugmentedResidual. It won't be checked for correctness upon loading.\n",
      "  \"type \" + obj.__name__ + \". It won't be checked \"\n",
      "/home/huangweilin/anaconda3/envs/fjw/lib/python3.6/site-packages/torch/serialization.py:256: UserWarning: Couldn't retrieve source code for container of type Pooling. It won't be checked for correctness upon loading.\n",
      "  \"type \" + obj.__name__ + \". It won't be checked \"\n",
      "2020-07-23 10:04:25,784 - INFO - train number 240, val number 60\n"
     ]
    },
    {
     "data": {
      "application/vnd.jupyter.widget-view+json": {
       "model_id": "994d1735e3484399a1d31144801f2582",
       "version_major": 2,
       "version_minor": 0
      },
      "text/plain": [
       "HBox(children=(IntProgress(value=0, max=4), HTML(value='')))"
      ]
     },
     "metadata": {},
     "output_type": "display_data"
    },
    {
     "name": "stdout",
     "output_type": "stream",
     "text": [
      "\n"
     ]
    },
    {
     "data": {
      "application/vnd.jupyter.widget-view+json": {
       "model_id": "c9a2e86a13e34713a739ceac0336d710",
       "version_major": 2,
       "version_minor": 0
      },
      "text/plain": [
       "HBox(children=(IntProgress(value=0, max=4), HTML(value='')))"
      ]
     },
     "metadata": {},
     "output_type": "display_data"
    },
    {
     "name": "stdout",
     "output_type": "stream",
     "text": [
      "\n"
     ]
    },
    {
     "data": {
      "application/vnd.jupyter.widget-view+json": {
       "model_id": "1a4c3f04f11649d09558671dafb12145",
       "version_major": 2,
       "version_minor": 0
      },
      "text/plain": [
       "HBox(children=(IntProgress(value=0, max=1), HTML(value='')))"
      ]
     },
     "metadata": {},
     "output_type": "display_data"
    },
    {
     "name": "stderr",
     "output_type": "stream",
     "text": [
      "2020-07-23 10:04:28,153 - INFO - forward:2.545127 backward:4.674190\n",
      "2020-07-23 10:04:28,155 - INFO - flod 1 epoch 0 : \n",
      " loss: 1.913122 loss_gender : 1.451546, loss_age : 2.374697, gender : 0.466667, 0.400000, age : 0.187500, 0.150000, score:0.550000\n"
     ]
    },
    {
     "name": "stdout",
     "output_type": "stream",
     "text": [
      "\n"
     ]
    },
    {
     "data": {
      "application/vnd.jupyter.widget-view+json": {
       "model_id": "91483e7ad2594273b1ec392f4fba373a",
       "version_major": 2,
       "version_minor": 0
      },
      "text/plain": [
       "HBox(children=(IntProgress(value=0, max=4), HTML(value='')))"
      ]
     },
     "metadata": {},
     "output_type": "display_data"
    },
    {
     "name": "stdout",
     "output_type": "stream",
     "text": [
      "\n"
     ]
    },
    {
     "data": {
      "application/vnd.jupyter.widget-view+json": {
       "model_id": "c39b8098cd3440a181d9fd8fcf109cdf",
       "version_major": 2,
       "version_minor": 0
      },
      "text/plain": [
       "HBox(children=(IntProgress(value=0, max=4), HTML(value='')))"
      ]
     },
     "metadata": {},
     "output_type": "display_data"
    },
    {
     "name": "stdout",
     "output_type": "stream",
     "text": [
      "\n"
     ]
    },
    {
     "data": {
      "application/vnd.jupyter.widget-view+json": {
       "model_id": "3d5132c382be415ab993e8293831c712",
       "version_major": 2,
       "version_minor": 0
      },
      "text/plain": [
       "HBox(children=(IntProgress(value=0, max=1), HTML(value='')))"
      ]
     },
     "metadata": {},
     "output_type": "display_data"
    },
    {
     "name": "stderr",
     "output_type": "stream",
     "text": [
      "2020-07-23 10:04:30,311 - INFO - forward:2.779869 backward:5.105884\n",
      "2020-07-23 10:04:30,312 - INFO - flod 1 epoch 1 : \n",
      " loss: 1.359217 loss_gender : 0.682616, loss_age : 2.035817, gender : 0.379167, 0.383333, age : 0.187500, 0.183333, score:0.566667\n"
     ]
    },
    {
     "name": "stdout",
     "output_type": "stream",
     "text": [
      "\n"
     ]
    },
    {
     "data": {
      "application/vnd.jupyter.widget-view+json": {
       "model_id": "4d5162e33f614769a4a243189ce08cfa",
       "version_major": 2,
       "version_minor": 0
      },
      "text/plain": [
       "HBox(children=(IntProgress(value=0, max=4), HTML(value='')))"
      ]
     },
     "metadata": {},
     "output_type": "display_data"
    },
    {
     "name": "stdout",
     "output_type": "stream",
     "text": [
      "\n"
     ]
    },
    {
     "data": {
      "application/vnd.jupyter.widget-view+json": {
       "model_id": "e942dead5a6a4cd3817d698c17ff45bc",
       "version_major": 2,
       "version_minor": 0
      },
      "text/plain": [
       "HBox(children=(IntProgress(value=0, max=4), HTML(value='')))"
      ]
     },
     "metadata": {},
     "output_type": "display_data"
    },
    {
     "name": "stdout",
     "output_type": "stream",
     "text": [
      "\n"
     ]
    },
    {
     "data": {
      "application/vnd.jupyter.widget-view+json": {
       "model_id": "74e5fade2f0944adbd68e9bf19967192",
       "version_major": 2,
       "version_minor": 0
      },
      "text/plain": [
       "HBox(children=(IntProgress(value=0, max=1), HTML(value='')))"
      ]
     },
     "metadata": {},
     "output_type": "display_data"
    },
    {
     "name": "stderr",
     "output_type": "stream",
     "text": [
      "2020-07-23 10:04:32,540 - INFO - forward:3.003008 backward:5.536690\n",
      "2020-07-23 10:04:32,542 - INFO - flod 1 epoch 2 : \n",
      " loss: 1.281069 loss_gender : 0.673140, loss_age : 1.888998, gender : 0.620833, 0.600000, age : 0.187500, 0.150000, score:0.750000\n"
     ]
    },
    {
     "name": "stdout",
     "output_type": "stream",
     "text": [
      "\n"
     ]
    },
    {
     "data": {
      "application/vnd.jupyter.widget-view+json": {
       "model_id": "98d77811669a4cbcb13a9d984019f68b",
       "version_major": 2,
       "version_minor": 0
      },
      "text/plain": [
       "HBox(children=(IntProgress(value=0, max=4), HTML(value='')))"
      ]
     },
     "metadata": {},
     "output_type": "display_data"
    },
    {
     "name": "stdout",
     "output_type": "stream",
     "text": [
      "\n"
     ]
    },
    {
     "data": {
      "application/vnd.jupyter.widget-view+json": {
       "model_id": "7cb6b96e5eaf42edb435e2fa319fca66",
       "version_major": 2,
       "version_minor": 0
      },
      "text/plain": [
       "HBox(children=(IntProgress(value=0, max=4), HTML(value='')))"
      ]
     },
     "metadata": {},
     "output_type": "display_data"
    },
    {
     "name": "stdout",
     "output_type": "stream",
     "text": [
      "\n"
     ]
    },
    {
     "data": {
      "application/vnd.jupyter.widget-view+json": {
       "model_id": "db85d4c52cb04445b88df9b6583af87f",
       "version_major": 2,
       "version_minor": 0
      },
      "text/plain": [
       "HBox(children=(IntProgress(value=0, max=1), HTML(value='')))"
      ]
     },
     "metadata": {},
     "output_type": "display_data"
    },
    {
     "name": "stderr",
     "output_type": "stream",
     "text": [
      "2020-07-23 10:04:34,715 - INFO - forward:3.222265 backward:5.967864\n",
      "2020-07-23 10:04:34,716 - INFO - flod 1 epoch 3 : \n",
      " loss: 1.250496 loss_gender : 0.631475, loss_age : 1.869518, gender : 0.604167, 0.583333, age : 0.200000, 0.266667, score:0.850000\n"
     ]
    },
    {
     "name": "stdout",
     "output_type": "stream",
     "text": [
      "\n"
     ]
    },
    {
     "data": {
      "application/vnd.jupyter.widget-view+json": {
       "model_id": "faf6347c47354300a022ac2e1cdf2796",
       "version_major": 2,
       "version_minor": 0
      },
      "text/plain": [
       "HBox(children=(IntProgress(value=0, max=4), HTML(value='')))"
      ]
     },
     "metadata": {},
     "output_type": "display_data"
    },
    {
     "name": "stdout",
     "output_type": "stream",
     "text": [
      "\n"
     ]
    },
    {
     "data": {
      "application/vnd.jupyter.widget-view+json": {
       "model_id": "800117316afa486bae86ea7d47a09f83",
       "version_major": 2,
       "version_minor": 0
      },
      "text/plain": [
       "HBox(children=(IntProgress(value=0, max=4), HTML(value='')))"
      ]
     },
     "metadata": {},
     "output_type": "display_data"
    },
    {
     "name": "stdout",
     "output_type": "stream",
     "text": [
      "\n"
     ]
    },
    {
     "data": {
      "application/vnd.jupyter.widget-view+json": {
       "model_id": "8a575e1594b84cb48d8a4fbdc81e79f6",
       "version_major": 2,
       "version_minor": 0
      },
      "text/plain": [
       "HBox(children=(IntProgress(value=0, max=1), HTML(value='')))"
      ]
     },
     "metadata": {},
     "output_type": "display_data"
    },
    {
     "name": "stderr",
     "output_type": "stream",
     "text": [
      "2020-07-23 10:04:36,871 - INFO - forward:3.438055 backward:6.391233\n",
      "2020-07-23 10:04:36,873 - INFO - flod 1 epoch 4 : \n",
      " loss: 1.239469 loss_gender : 0.613420, loss_age : 1.865519, gender : 0.604167, 0.583333, age : 0.183333, 0.300000, score:0.883333\n"
     ]
    },
    {
     "name": "stdout",
     "output_type": "stream",
     "text": [
      "\n"
     ]
    },
    {
     "data": {
      "application/vnd.jupyter.widget-view+json": {
       "model_id": "325b275431f04c3c92a22c50a0d35194",
       "version_major": 2,
       "version_minor": 0
      },
      "text/plain": [
       "HBox(children=(IntProgress(value=0, max=4), HTML(value='')))"
      ]
     },
     "metadata": {},
     "output_type": "display_data"
    },
    {
     "name": "stdout",
     "output_type": "stream",
     "text": [
      "\n"
     ]
    },
    {
     "data": {
      "application/vnd.jupyter.widget-view+json": {
       "model_id": "82ae60e3790645dfad917a4a90250764",
       "version_major": 2,
       "version_minor": 0
      },
      "text/plain": [
       "HBox(children=(IntProgress(value=0, max=4), HTML(value='')))"
      ]
     },
     "metadata": {},
     "output_type": "display_data"
    },
    {
     "name": "stdout",
     "output_type": "stream",
     "text": [
      "\n"
     ]
    },
    {
     "data": {
      "application/vnd.jupyter.widget-view+json": {
       "model_id": "db3da5dc77b74d0292925f283ffe85e6",
       "version_major": 2,
       "version_minor": 0
      },
      "text/plain": [
       "HBox(children=(IntProgress(value=0, max=1), HTML(value='')))"
      ]
     },
     "metadata": {},
     "output_type": "display_data"
    },
    {
     "name": "stderr",
     "output_type": "stream",
     "text": [
      "2020-07-23 10:04:39,030 - INFO - forward:3.675558 backward:6.818901\n",
      "2020-07-23 10:04:39,031 - INFO - flod 1 epoch 5 : \n",
      " loss: 1.234983 loss_gender : 0.608542, loss_age : 1.861423, gender : 0.608333, 0.600000, age : 0.233333, 0.233333, score:0.833333\n"
     ]
    },
    {
     "name": "stdout",
     "output_type": "stream",
     "text": [
      "\n"
     ]
    },
    {
     "data": {
      "application/vnd.jupyter.widget-view+json": {
       "model_id": "163782e2cb4c482b94af0235c09724cd",
       "version_major": 2,
       "version_minor": 0
      },
      "text/plain": [
       "HBox(children=(IntProgress(value=0, max=4), HTML(value='')))"
      ]
     },
     "metadata": {},
     "output_type": "display_data"
    },
    {
     "name": "stdout",
     "output_type": "stream",
     "text": [
      "\n"
     ]
    },
    {
     "data": {
      "application/vnd.jupyter.widget-view+json": {
       "model_id": "b87c2f4913684ab6bb9629cb21eafae0",
       "version_major": 2,
       "version_minor": 0
      },
      "text/plain": [
       "HBox(children=(IntProgress(value=0, max=4), HTML(value='')))"
      ]
     },
     "metadata": {},
     "output_type": "display_data"
    },
    {
     "name": "stdout",
     "output_type": "stream",
     "text": [
      "\n"
     ]
    },
    {
     "data": {
      "application/vnd.jupyter.widget-view+json": {
       "model_id": "fdaca395926e4aeea6aed9df47e730cb",
       "version_major": 2,
       "version_minor": 0
      },
      "text/plain": [
       "HBox(children=(IntProgress(value=0, max=1), HTML(value='')))"
      ]
     },
     "metadata": {},
     "output_type": "display_data"
    },
    {
     "name": "stderr",
     "output_type": "stream",
     "text": [
      "2020-07-23 10:04:41,230 - INFO - forward:3.900118 backward:7.250170\n",
      "2020-07-23 10:04:41,232 - INFO - flod 1 epoch 6 : \n",
      " loss: 1.223890 loss_gender : 0.600875, loss_age : 1.846905, gender : 0.620833, 0.600000, age : 0.183333, 0.166667, score:0.766667\n"
     ]
    },
    {
     "name": "stdout",
     "output_type": "stream",
     "text": [
      "\n"
     ]
    },
    {
     "data": {
      "application/vnd.jupyter.widget-view+json": {
       "model_id": "a95d8dc1c414462da8eba36820e9d4e2",
       "version_major": 2,
       "version_minor": 0
      },
      "text/plain": [
       "HBox(children=(IntProgress(value=0, max=4), HTML(value='')))"
      ]
     },
     "metadata": {},
     "output_type": "display_data"
    },
    {
     "name": "stdout",
     "output_type": "stream",
     "text": [
      "\n"
     ]
    },
    {
     "data": {
      "application/vnd.jupyter.widget-view+json": {
       "model_id": "8fc9194a4d3547bc8c519e81d0e3327b",
       "version_major": 2,
       "version_minor": 0
      },
      "text/plain": [
       "HBox(children=(IntProgress(value=0, max=4), HTML(value='')))"
      ]
     },
     "metadata": {},
     "output_type": "display_data"
    },
    {
     "name": "stdout",
     "output_type": "stream",
     "text": [
      "\n"
     ]
    },
    {
     "data": {
      "application/vnd.jupyter.widget-view+json": {
       "model_id": "5f322028a8f04b5e8badad9942f782f9",
       "version_major": 2,
       "version_minor": 0
      },
      "text/plain": [
       "HBox(children=(IntProgress(value=0, max=1), HTML(value='')))"
      ]
     },
     "metadata": {},
     "output_type": "display_data"
    },
    {
     "name": "stderr",
     "output_type": "stream",
     "text": [
      "2020-07-23 10:04:43,366 - INFO - forward:4.111081 backward:7.684097\n",
      "2020-07-23 10:04:43,367 - INFO - flod 1 epoch 7 : \n",
      " loss: 1.223372 loss_gender : 0.597951, loss_age : 1.848793, gender : 0.620833, 0.600000, age : 0.183333, 0.166667, score:0.766667\n"
     ]
    },
    {
     "name": "stdout",
     "output_type": "stream",
     "text": [
      "\n"
     ]
    },
    {
     "data": {
      "application/vnd.jupyter.widget-view+json": {
       "model_id": "65a075dfbafe433ba9351e083a807ed1",
       "version_major": 2,
       "version_minor": 0
      },
      "text/plain": [
       "HBox(children=(IntProgress(value=0, max=4), HTML(value='')))"
      ]
     },
     "metadata": {},
     "output_type": "display_data"
    },
    {
     "name": "stdout",
     "output_type": "stream",
     "text": [
      "\n"
     ]
    },
    {
     "data": {
      "application/vnd.jupyter.widget-view+json": {
       "model_id": "e1ab36e266e448edbb0cc23e9c4378fc",
       "version_major": 2,
       "version_minor": 0
      },
      "text/plain": [
       "HBox(children=(IntProgress(value=0, max=4), HTML(value='')))"
      ]
     },
     "metadata": {},
     "output_type": "display_data"
    },
    {
     "name": "stdout",
     "output_type": "stream",
     "text": [
      "\n"
     ]
    },
    {
     "data": {
      "application/vnd.jupyter.widget-view+json": {
       "model_id": "84c445dacdb249d3b132df9a9c23a12f",
       "version_major": 2,
       "version_minor": 0
      },
      "text/plain": [
       "HBox(children=(IntProgress(value=0, max=1), HTML(value='')))"
      ]
     },
     "metadata": {},
     "output_type": "display_data"
    },
    {
     "name": "stderr",
     "output_type": "stream",
     "text": [
      "2020-07-23 10:04:45,533 - INFO - forward:4.312759 backward:8.106694\n",
      "2020-07-23 10:04:45,534 - INFO - flod 1 epoch 8 : \n",
      " loss: 1.219287 loss_gender : 0.595007, loss_age : 1.843567, gender : 0.620833, 0.600000, age : 0.187500, 0.166667, score:0.766667\n"
     ]
    },
    {
     "name": "stdout",
     "output_type": "stream",
     "text": [
      "\n"
     ]
    },
    {
     "data": {
      "application/vnd.jupyter.widget-view+json": {
       "model_id": "77832fbaf1154759be71c2dc95174312",
       "version_major": 2,
       "version_minor": 0
      },
      "text/plain": [
       "HBox(children=(IntProgress(value=0, max=4), HTML(value='')))"
      ]
     },
     "metadata": {},
     "output_type": "display_data"
    },
    {
     "name": "stdout",
     "output_type": "stream",
     "text": [
      "\n"
     ]
    },
    {
     "data": {
      "application/vnd.jupyter.widget-view+json": {
       "model_id": "376adcc8000d41048ca8639b65643b0f",
       "version_major": 2,
       "version_minor": 0
      },
      "text/plain": [
       "HBox(children=(IntProgress(value=0, max=4), HTML(value='')))"
      ]
     },
     "metadata": {},
     "output_type": "display_data"
    },
    {
     "name": "stdout",
     "output_type": "stream",
     "text": [
      "\n"
     ]
    },
    {
     "data": {
      "application/vnd.jupyter.widget-view+json": {
       "model_id": "e123c8c65b914abdb7cb5833a2d80b16",
       "version_major": 2,
       "version_minor": 0
      },
      "text/plain": [
       "HBox(children=(IntProgress(value=0, max=1), HTML(value='')))"
      ]
     },
     "metadata": {},
     "output_type": "display_data"
    },
    {
     "name": "stderr",
     "output_type": "stream",
     "text": [
      "2020-07-23 10:04:47,827 - INFO - forward:4.525342 backward:8.532624\n",
      "2020-07-23 10:04:47,828 - INFO - flod 1 epoch 9 : \n",
      " loss: 1.215959 loss_gender : 0.596023, loss_age : 1.835895, gender : 0.620833, 0.600000, age : 0.187500, 0.166667, score:0.766667\n"
     ]
    },
    {
     "name": "stdout",
     "output_type": "stream",
     "text": [
      "\n"
     ]
    },
    {
     "data": {
      "application/vnd.jupyter.widget-view+json": {
       "model_id": "0bac78ddebc24f669c92aaf9d0c4a414",
       "version_major": 2,
       "version_minor": 0
      },
      "text/plain": [
       "HBox(children=(IntProgress(value=0, max=1), HTML(value='')))"
      ]
     },
     "metadata": {},
     "output_type": "display_data"
    },
    {
     "name": "stdout",
     "output_type": "stream",
     "text": [
      "\n"
     ]
    },
    {
     "data": {
      "application/vnd.jupyter.widget-view+json": {
       "model_id": "be955778e5c449f3b1a5d3db0a6a1041",
       "version_major": 2,
       "version_minor": 0
      },
      "text/plain": [
       "HBox(children=(IntProgress(value=0, max=2), HTML(value='')))"
      ]
     },
     "metadata": {},
     "output_type": "display_data"
    },
    {
     "name": "stderr",
     "output_type": "stream",
     "text": [
      "2020-07-23 10:04:48,880 - INFO - train number 240, val number 60\n"
     ]
    },
    {
     "name": "stdout",
     "output_type": "stream",
     "text": [
      "\n"
     ]
    },
    {
     "data": {
      "application/vnd.jupyter.widget-view+json": {
       "model_id": "785e45bd23104fd3af92ac01c848ee88",
       "version_major": 2,
       "version_minor": 0
      },
      "text/plain": [
       "HBox(children=(IntProgress(value=0, max=4), HTML(value='')))"
      ]
     },
     "metadata": {},
     "output_type": "display_data"
    },
    {
     "name": "stdout",
     "output_type": "stream",
     "text": [
      "\n"
     ]
    },
    {
     "data": {
      "application/vnd.jupyter.widget-view+json": {
       "model_id": "0d34080c1d48475a85314bd697f294e5",
       "version_major": 2,
       "version_minor": 0
      },
      "text/plain": [
       "HBox(children=(IntProgress(value=0, max=4), HTML(value='')))"
      ]
     },
     "metadata": {},
     "output_type": "display_data"
    },
    {
     "name": "stdout",
     "output_type": "stream",
     "text": [
      "\n"
     ]
    },
    {
     "data": {
      "application/vnd.jupyter.widget-view+json": {
       "model_id": "88e4f25b4188403885a7327096b9a6f0",
       "version_major": 2,
       "version_minor": 0
      },
      "text/plain": [
       "HBox(children=(IntProgress(value=0, max=1), HTML(value='')))"
      ]
     },
     "metadata": {},
     "output_type": "display_data"
    },
    {
     "name": "stderr",
     "output_type": "stream",
     "text": [
      "2020-07-23 10:04:51,248 - INFO - forward:4.732007 backward:8.939997\n",
      "2020-07-23 10:04:51,249 - INFO - flod 2 epoch 0 : \n",
      " loss: 2.015812 loss_gender : 1.184132, loss_age : 2.847492, gender : 0.620833, 0.600000, age : 0.129167, 0.116667, score:0.716667\n"
     ]
    },
    {
     "name": "stdout",
     "output_type": "stream",
     "text": [
      "\n"
     ]
    },
    {
     "data": {
      "application/vnd.jupyter.widget-view+json": {
       "model_id": "24877759ad97404db10cfbab64469ef9",
       "version_major": 2,
       "version_minor": 0
      },
      "text/plain": [
       "HBox(children=(IntProgress(value=0, max=4), HTML(value='')))"
      ]
     },
     "metadata": {},
     "output_type": "display_data"
    },
    {
     "name": "stdout",
     "output_type": "stream",
     "text": [
      "\n"
     ]
    },
    {
     "data": {
      "application/vnd.jupyter.widget-view+json": {
       "model_id": "b26dc0a1bc554db098c05175b8de76de",
       "version_major": 2,
       "version_minor": 0
      },
      "text/plain": [
       "HBox(children=(IntProgress(value=0, max=4), HTML(value='')))"
      ]
     },
     "metadata": {},
     "output_type": "display_data"
    },
    {
     "name": "stdout",
     "output_type": "stream",
     "text": [
      "\n"
     ]
    },
    {
     "data": {
      "application/vnd.jupyter.widget-view+json": {
       "model_id": "8c6c3bba926e49a4bba8973080a672db",
       "version_major": 2,
       "version_minor": 0
      },
      "text/plain": [
       "HBox(children=(IntProgress(value=0, max=1), HTML(value='')))"
      ]
     },
     "metadata": {},
     "output_type": "display_data"
    },
    {
     "name": "stderr",
     "output_type": "stream",
     "text": [
      "2020-07-23 10:04:53,438 - INFO - forward:4.930807 backward:9.341737\n",
      "2020-07-23 10:04:53,439 - INFO - flod 2 epoch 1 : \n",
      " loss: 1.337506 loss_gender : 0.662725, loss_age : 2.012288, gender : 0.629167, 0.600000, age : 0.208333, 0.250000, score:0.850000\n"
     ]
    },
    {
     "name": "stdout",
     "output_type": "stream",
     "text": [
      "\n"
     ]
    },
    {
     "data": {
      "application/vnd.jupyter.widget-view+json": {
       "model_id": "dc70de1709c246beaed6dd2bda949735",
       "version_major": 2,
       "version_minor": 0
      },
      "text/plain": [
       "HBox(children=(IntProgress(value=0, max=4), HTML(value='')))"
      ]
     },
     "metadata": {},
     "output_type": "display_data"
    },
    {
     "name": "stdout",
     "output_type": "stream",
     "text": [
      "\n"
     ]
    },
    {
     "data": {
      "application/vnd.jupyter.widget-view+json": {
       "model_id": "5d88d9e7ea5a49a79a9a2a7fafa401e0",
       "version_major": 2,
       "version_minor": 0
      },
      "text/plain": [
       "HBox(children=(IntProgress(value=0, max=4), HTML(value='')))"
      ]
     },
     "metadata": {},
     "output_type": "display_data"
    },
    {
     "name": "stdout",
     "output_type": "stream",
     "text": [
      "\n"
     ]
    },
    {
     "data": {
      "application/vnd.jupyter.widget-view+json": {
       "model_id": "29ff449a4d364756b4554e5ef208dca6",
       "version_major": 2,
       "version_minor": 0
      },
      "text/plain": [
       "HBox(children=(IntProgress(value=0, max=1), HTML(value='')))"
      ]
     },
     "metadata": {},
     "output_type": "display_data"
    },
    {
     "name": "stderr",
     "output_type": "stream",
     "text": [
      "2020-07-23 10:04:55,609 - INFO - forward:5.132267 backward:9.742559\n",
      "2020-07-23 10:04:55,610 - INFO - flod 2 epoch 2 : \n",
      " loss: 1.232598 loss_gender : 0.590847, loss_age : 1.874350, gender : 0.620833, 0.600000, age : 0.216667, 0.116667, score:0.716667\n"
     ]
    },
    {
     "name": "stdout",
     "output_type": "stream",
     "text": [
      "\n"
     ]
    },
    {
     "data": {
      "application/vnd.jupyter.widget-view+json": {
       "model_id": "7f33b9be77ec4b388e995263e995f7b4",
       "version_major": 2,
       "version_minor": 0
      },
      "text/plain": [
       "HBox(children=(IntProgress(value=0, max=4), HTML(value='')))"
      ]
     },
     "metadata": {},
     "output_type": "display_data"
    },
    {
     "name": "stdout",
     "output_type": "stream",
     "text": [
      "\n"
     ]
    },
    {
     "data": {
      "application/vnd.jupyter.widget-view+json": {
       "model_id": "c54325bcf1a94c1f8d60388e7356cf78",
       "version_major": 2,
       "version_minor": 0
      },
      "text/plain": [
       "HBox(children=(IntProgress(value=0, max=4), HTML(value='')))"
      ]
     },
     "metadata": {},
     "output_type": "display_data"
    },
    {
     "name": "stdout",
     "output_type": "stream",
     "text": [
      "\n"
     ]
    },
    {
     "data": {
      "application/vnd.jupyter.widget-view+json": {
       "model_id": "ce9987cb43f34b1287108b58fd4ef08e",
       "version_major": 2,
       "version_minor": 0
      },
      "text/plain": [
       "HBox(children=(IntProgress(value=0, max=1), HTML(value='')))"
      ]
     },
     "metadata": {},
     "output_type": "display_data"
    },
    {
     "name": "stderr",
     "output_type": "stream",
     "text": [
      "2020-07-23 10:04:57,737 - INFO - forward:5.332486 backward:10.165665\n",
      "2020-07-23 10:04:57,738 - INFO - flod 2 epoch 3 : \n",
      " loss: 1.222476 loss_gender : 0.578300, loss_age : 1.866652, gender : 0.620833, 0.600000, age : 0.195833, 0.116667, score:0.716667\n"
     ]
    },
    {
     "name": "stdout",
     "output_type": "stream",
     "text": [
      "\n"
     ]
    },
    {
     "data": {
      "application/vnd.jupyter.widget-view+json": {
       "model_id": "e215e8c3f9574a84af6f841bbaa55993",
       "version_major": 2,
       "version_minor": 0
      },
      "text/plain": [
       "HBox(children=(IntProgress(value=0, max=4), HTML(value='')))"
      ]
     },
     "metadata": {},
     "output_type": "display_data"
    },
    {
     "name": "stdout",
     "output_type": "stream",
     "text": [
      "\n"
     ]
    },
    {
     "data": {
      "application/vnd.jupyter.widget-view+json": {
       "model_id": "df06cf624ce14fe0b956de6691543e9f",
       "version_major": 2,
       "version_minor": 0
      },
      "text/plain": [
       "HBox(children=(IntProgress(value=0, max=4), HTML(value='')))"
      ]
     },
     "metadata": {},
     "output_type": "display_data"
    },
    {
     "name": "stdout",
     "output_type": "stream",
     "text": [
      "\n"
     ]
    },
    {
     "data": {
      "application/vnd.jupyter.widget-view+json": {
       "model_id": "45b7659205bf406298e90eca7ddc0e0d",
       "version_major": 2,
       "version_minor": 0
      },
      "text/plain": [
       "HBox(children=(IntProgress(value=0, max=1), HTML(value='')))"
      ]
     },
     "metadata": {},
     "output_type": "display_data"
    },
    {
     "name": "stderr",
     "output_type": "stream",
     "text": [
      "2020-07-23 10:04:59,954 - INFO - forward:5.543667 backward:10.581817\n",
      "2020-07-23 10:04:59,955 - INFO - flod 2 epoch 4 : \n",
      " loss: 1.204844 loss_gender : 0.569097, loss_age : 1.840591, gender : 0.625000, 0.600000, age : 0.245833, 0.183333, score:0.783333\n"
     ]
    },
    {
     "name": "stdout",
     "output_type": "stream",
     "text": [
      "\n"
     ]
    },
    {
     "data": {
      "application/vnd.jupyter.widget-view+json": {
       "model_id": "d733838ef7244a3fa62c9901423e66f4",
       "version_major": 2,
       "version_minor": 0
      },
      "text/plain": [
       "HBox(children=(IntProgress(value=0, max=4), HTML(value='')))"
      ]
     },
     "metadata": {},
     "output_type": "display_data"
    },
    {
     "name": "stdout",
     "output_type": "stream",
     "text": [
      "\n"
     ]
    },
    {
     "data": {
      "application/vnd.jupyter.widget-view+json": {
       "model_id": "76a0e987d8734ee08ab7d394c40394f0",
       "version_major": 2,
       "version_minor": 0
      },
      "text/plain": [
       "HBox(children=(IntProgress(value=0, max=4), HTML(value='')))"
      ]
     },
     "metadata": {},
     "output_type": "display_data"
    },
    {
     "name": "stdout",
     "output_type": "stream",
     "text": [
      "\n"
     ]
    },
    {
     "data": {
      "application/vnd.jupyter.widget-view+json": {
       "model_id": "6a91b1f68dff4fdea60298491a6b1deb",
       "version_major": 2,
       "version_minor": 0
      },
      "text/plain": [
       "HBox(children=(IntProgress(value=0, max=1), HTML(value='')))"
      ]
     },
     "metadata": {},
     "output_type": "display_data"
    },
    {
     "name": "stderr",
     "output_type": "stream",
     "text": [
      "2020-07-23 10:05:02,174 - INFO - forward:5.748762 backward:10.996880\n",
      "2020-07-23 10:05:02,176 - INFO - flod 2 epoch 5 : \n",
      " loss: 1.201590 loss_gender : 0.568624, loss_age : 1.834557, gender : 0.620833, 0.616667, age : 0.212500, 0.133333, score:0.750000\n"
     ]
    },
    {
     "name": "stdout",
     "output_type": "stream",
     "text": [
      "\n"
     ]
    },
    {
     "data": {
      "application/vnd.jupyter.widget-view+json": {
       "model_id": "c23924edb7e04b22a2124e1212b779d2",
       "version_major": 2,
       "version_minor": 0
      },
      "text/plain": [
       "HBox(children=(IntProgress(value=0, max=4), HTML(value='')))"
      ]
     },
     "metadata": {},
     "output_type": "display_data"
    },
    {
     "name": "stdout",
     "output_type": "stream",
     "text": [
      "\n"
     ]
    },
    {
     "data": {
      "application/vnd.jupyter.widget-view+json": {
       "model_id": "b26eaed28169471f83a89e6ff2128a35",
       "version_major": 2,
       "version_minor": 0
      },
      "text/plain": [
       "HBox(children=(IntProgress(value=0, max=4), HTML(value='')))"
      ]
     },
     "metadata": {},
     "output_type": "display_data"
    },
    {
     "name": "stdout",
     "output_type": "stream",
     "text": [
      "\n"
     ]
    },
    {
     "data": {
      "application/vnd.jupyter.widget-view+json": {
       "model_id": "b3d7522e2874460390052fe61c7dc899",
       "version_major": 2,
       "version_minor": 0
      },
      "text/plain": [
       "HBox(children=(IntProgress(value=0, max=1), HTML(value='')))"
      ]
     },
     "metadata": {},
     "output_type": "display_data"
    },
    {
     "name": "stderr",
     "output_type": "stream",
     "text": [
      "2020-07-23 10:05:04,463 - INFO - forward:5.953407 backward:11.412028\n",
      "2020-07-23 10:05:04,464 - INFO - flod 2 epoch 6 : \n",
      " loss: 1.196277 loss_gender : 0.562198, loss_age : 1.830356, gender : 0.620833, 0.600000, age : 0.241667, 0.216667, score:0.816667\n"
     ]
    },
    {
     "name": "stdout",
     "output_type": "stream",
     "text": [
      "\n"
     ]
    },
    {
     "data": {
      "application/vnd.jupyter.widget-view+json": {
       "model_id": "118ba47b867946a781d0622768da0ddb",
       "version_major": 2,
       "version_minor": 0
      },
      "text/plain": [
       "HBox(children=(IntProgress(value=0, max=4), HTML(value='')))"
      ]
     },
     "metadata": {},
     "output_type": "display_data"
    },
    {
     "name": "stdout",
     "output_type": "stream",
     "text": [
      "\n"
     ]
    },
    {
     "data": {
      "application/vnd.jupyter.widget-view+json": {
       "model_id": "220fc553bdca4b46b989ebbbe907abde",
       "version_major": 2,
       "version_minor": 0
      },
      "text/plain": [
       "HBox(children=(IntProgress(value=0, max=4), HTML(value='')))"
      ]
     },
     "metadata": {},
     "output_type": "display_data"
    },
    {
     "name": "stdout",
     "output_type": "stream",
     "text": [
      "\n"
     ]
    },
    {
     "data": {
      "application/vnd.jupyter.widget-view+json": {
       "model_id": "3974a325fc034632baf500d8d1d0d239",
       "version_major": 2,
       "version_minor": 0
      },
      "text/plain": [
       "HBox(children=(IntProgress(value=0, max=1), HTML(value='')))"
      ]
     },
     "metadata": {},
     "output_type": "display_data"
    },
    {
     "name": "stderr",
     "output_type": "stream",
     "text": [
      "2020-07-23 10:05:06,764 - INFO - forward:6.170403 backward:11.836272\n",
      "2020-07-23 10:05:06,765 - INFO - flod 2 epoch 7 : \n",
      " loss: 1.191891 loss_gender : 0.560054, loss_age : 1.823729, gender : 0.620833, 0.600000, age : 0.220833, 0.133333, score:0.733333\n"
     ]
    },
    {
     "name": "stdout",
     "output_type": "stream",
     "text": [
      "\n"
     ]
    },
    {
     "data": {
      "application/vnd.jupyter.widget-view+json": {
       "model_id": "8717b7cbe2f64eb383f493c3dd3ec425",
       "version_major": 2,
       "version_minor": 0
      },
      "text/plain": [
       "HBox(children=(IntProgress(value=0, max=4), HTML(value='')))"
      ]
     },
     "metadata": {},
     "output_type": "display_data"
    },
    {
     "name": "stdout",
     "output_type": "stream",
     "text": [
      "\n"
     ]
    },
    {
     "data": {
      "application/vnd.jupyter.widget-view+json": {
       "model_id": "759abceac7274d7cacceb45457d7c608",
       "version_major": 2,
       "version_minor": 0
      },
      "text/plain": [
       "HBox(children=(IntProgress(value=0, max=4), HTML(value='')))"
      ]
     },
     "metadata": {},
     "output_type": "display_data"
    },
    {
     "name": "stdout",
     "output_type": "stream",
     "text": [
      "\n"
     ]
    },
    {
     "data": {
      "application/vnd.jupyter.widget-view+json": {
       "model_id": "b5af8f611399474ba98fd1a2f635da69",
       "version_major": 2,
       "version_minor": 0
      },
      "text/plain": [
       "HBox(children=(IntProgress(value=0, max=1), HTML(value='')))"
      ]
     },
     "metadata": {},
     "output_type": "display_data"
    },
    {
     "name": "stderr",
     "output_type": "stream",
     "text": [
      "2020-07-23 10:05:09,015 - INFO - forward:6.407544 backward:12.262744\n",
      "2020-07-23 10:05:09,016 - INFO - flod 2 epoch 8 : \n",
      " loss: 1.190805 loss_gender : 0.556192, loss_age : 1.825418, gender : 0.625000, 0.600000, age : 0.229167, 0.116667, score:0.716667\n"
     ]
    },
    {
     "name": "stdout",
     "output_type": "stream",
     "text": [
      "\n"
     ]
    },
    {
     "data": {
      "application/vnd.jupyter.widget-view+json": {
       "model_id": "254dfe2b5afb445185ac39797b6230f6",
       "version_major": 2,
       "version_minor": 0
      },
      "text/plain": [
       "HBox(children=(IntProgress(value=0, max=4), HTML(value='')))"
      ]
     },
     "metadata": {},
     "output_type": "display_data"
    },
    {
     "name": "stdout",
     "output_type": "stream",
     "text": [
      "\n"
     ]
    },
    {
     "data": {
      "application/vnd.jupyter.widget-view+json": {
       "model_id": "5cc148804bb947a2aababfe19dbe4892",
       "version_major": 2,
       "version_minor": 0
      },
      "text/plain": [
       "HBox(children=(IntProgress(value=0, max=4), HTML(value='')))"
      ]
     },
     "metadata": {},
     "output_type": "display_data"
    },
    {
     "name": "stdout",
     "output_type": "stream",
     "text": [
      "\n"
     ]
    },
    {
     "data": {
      "application/vnd.jupyter.widget-view+json": {
       "model_id": "d1c691a979ac44f6a0ad793755697954",
       "version_major": 2,
       "version_minor": 0
      },
      "text/plain": [
       "HBox(children=(IntProgress(value=0, max=1), HTML(value='')))"
      ]
     },
     "metadata": {},
     "output_type": "display_data"
    },
    {
     "name": "stderr",
     "output_type": "stream",
     "text": [
      "2020-07-23 10:05:11,343 - INFO - forward:6.623601 backward:12.687358\n",
      "2020-07-23 10:05:11,344 - INFO - flod 2 epoch 9 : \n",
      " loss: 1.190582 loss_gender : 0.554737, loss_age : 1.826428, gender : 0.616667, 0.600000, age : 0.229167, 0.116667, score:0.716667\n"
     ]
    },
    {
     "name": "stdout",
     "output_type": "stream",
     "text": [
      "\n"
     ]
    },
    {
     "data": {
      "application/vnd.jupyter.widget-view+json": {
       "model_id": "e1cec681fdb04dd18d6957d24b8d3f67",
       "version_major": 2,
       "version_minor": 0
      },
      "text/plain": [
       "HBox(children=(IntProgress(value=0, max=1), HTML(value='')))"
      ]
     },
     "metadata": {},
     "output_type": "display_data"
    },
    {
     "name": "stdout",
     "output_type": "stream",
     "text": [
      "\n"
     ]
    },
    {
     "data": {
      "application/vnd.jupyter.widget-view+json": {
       "model_id": "da49e265c6b947dca4e79008a0d9848c",
       "version_major": 2,
       "version_minor": 0
      },
      "text/plain": [
       "HBox(children=(IntProgress(value=0, max=2), HTML(value='')))"
      ]
     },
     "metadata": {},
     "output_type": "display_data"
    },
    {
     "name": "stderr",
     "output_type": "stream",
     "text": [
      "2020-07-23 10:05:12,417 - INFO - train number 240, val number 60\n"
     ]
    },
    {
     "name": "stdout",
     "output_type": "stream",
     "text": [
      "\n"
     ]
    },
    {
     "data": {
      "application/vnd.jupyter.widget-view+json": {
       "model_id": "11ced74ea5e64df082c066e0f00d7f49",
       "version_major": 2,
       "version_minor": 0
      },
      "text/plain": [
       "HBox(children=(IntProgress(value=0, max=4), HTML(value='')))"
      ]
     },
     "metadata": {},
     "output_type": "display_data"
    },
    {
     "name": "stdout",
     "output_type": "stream",
     "text": [
      "\n"
     ]
    },
    {
     "data": {
      "application/vnd.jupyter.widget-view+json": {
       "model_id": "6bc0b73e452640a3bfa1adfe17fc9458",
       "version_major": 2,
       "version_minor": 0
      },
      "text/plain": [
       "HBox(children=(IntProgress(value=0, max=4), HTML(value='')))"
      ]
     },
     "metadata": {},
     "output_type": "display_data"
    },
    {
     "name": "stdout",
     "output_type": "stream",
     "text": [
      "\n"
     ]
    },
    {
     "data": {
      "application/vnd.jupyter.widget-view+json": {
       "model_id": "40d16774d47a47c6a5033ec2e112bc84",
       "version_major": 2,
       "version_minor": 0
      },
      "text/plain": [
       "HBox(children=(IntProgress(value=0, max=1), HTML(value='')))"
      ]
     },
     "metadata": {},
     "output_type": "display_data"
    },
    {
     "name": "stderr",
     "output_type": "stream",
     "text": [
      "2020-07-23 10:05:14,802 - INFO - forward:6.838061 backward:13.117586\n",
      "2020-07-23 10:05:14,803 - INFO - flod 3 epoch 0 : \n",
      " loss: 1.768551 loss_gender : 1.323720, loss_age : 2.213381, gender : 0.366667, 0.450000, age : 0.154167, 0.250000, score:0.700000\n"
     ]
    },
    {
     "name": "stdout",
     "output_type": "stream",
     "text": [
      "\n"
     ]
    },
    {
     "data": {
      "application/vnd.jupyter.widget-view+json": {
       "model_id": "accb798431c54fe2a0be4fc9a329b422",
       "version_major": 2,
       "version_minor": 0
      },
      "text/plain": [
       "HBox(children=(IntProgress(value=0, max=4), HTML(value='')))"
      ]
     },
     "metadata": {},
     "output_type": "display_data"
    },
    {
     "name": "stdout",
     "output_type": "stream",
     "text": [
      "\n"
     ]
    },
    {
     "data": {
      "application/vnd.jupyter.widget-view+json": {
       "model_id": "3a7933a0173e4c2ea6dc20fa4a2e1b3e",
       "version_major": 2,
       "version_minor": 0
      },
      "text/plain": [
       "HBox(children=(IntProgress(value=0, max=4), HTML(value='')))"
      ]
     },
     "metadata": {},
     "output_type": "display_data"
    },
    {
     "name": "stdout",
     "output_type": "stream",
     "text": [
      "\n"
     ]
    },
    {
     "data": {
      "application/vnd.jupyter.widget-view+json": {
       "model_id": "bc58c623e7eb44b18b1cb66ca3905d36",
       "version_major": 2,
       "version_minor": 0
      },
      "text/plain": [
       "HBox(children=(IntProgress(value=0, max=1), HTML(value='')))"
      ]
     },
     "metadata": {},
     "output_type": "display_data"
    },
    {
     "name": "stderr",
     "output_type": "stream",
     "text": [
      "2020-07-23 10:05:17,127 - INFO - forward:7.061286 backward:13.556679\n",
      "2020-07-23 10:05:17,129 - INFO - flod 3 epoch 1 : \n",
      " loss: 1.332697 loss_gender : 0.667909, loss_age : 1.997484, gender : 0.633333, 0.550000, age : 0.195833, 0.083333, score:0.633333\n"
     ]
    },
    {
     "name": "stdout",
     "output_type": "stream",
     "text": [
      "\n"
     ]
    },
    {
     "data": {
      "application/vnd.jupyter.widget-view+json": {
       "model_id": "1c71e669efc34c4c945235c7e362854e",
       "version_major": 2,
       "version_minor": 0
      },
      "text/plain": [
       "HBox(children=(IntProgress(value=0, max=4), HTML(value='')))"
      ]
     },
     "metadata": {},
     "output_type": "display_data"
    },
    {
     "name": "stdout",
     "output_type": "stream",
     "text": [
      "\n"
     ]
    },
    {
     "data": {
      "application/vnd.jupyter.widget-view+json": {
       "model_id": "a43191b104f44d6eacf3db9665acb331",
       "version_major": 2,
       "version_minor": 0
      },
      "text/plain": [
       "HBox(children=(IntProgress(value=0, max=4), HTML(value='')))"
      ]
     },
     "metadata": {},
     "output_type": "display_data"
    },
    {
     "name": "stdout",
     "output_type": "stream",
     "text": [
      "\n"
     ]
    },
    {
     "data": {
      "application/vnd.jupyter.widget-view+json": {
       "model_id": "e5d93ddbe6ad4043a6a561ef5e728705",
       "version_major": 2,
       "version_minor": 0
      },
      "text/plain": [
       "HBox(children=(IntProgress(value=0, max=1), HTML(value='')))"
      ]
     },
     "metadata": {},
     "output_type": "display_data"
    },
    {
     "name": "stderr",
     "output_type": "stream",
     "text": [
      "2020-07-23 10:05:19,435 - INFO - forward:7.280031 backward:13.984796\n",
      "2020-07-23 10:05:19,436 - INFO - flod 3 epoch 2 : \n",
      " loss: 1.265660 loss_gender : 0.591186, loss_age : 1.940135, gender : 0.633333, 0.550000, age : 0.179167, 0.100000, score:0.650000\n"
     ]
    },
    {
     "name": "stdout",
     "output_type": "stream",
     "text": [
      "\n"
     ]
    },
    {
     "data": {
      "application/vnd.jupyter.widget-view+json": {
       "model_id": "224b8dcc77cc445384d8b94f30f523a4",
       "version_major": 2,
       "version_minor": 0
      },
      "text/plain": [
       "HBox(children=(IntProgress(value=0, max=4), HTML(value='')))"
      ]
     },
     "metadata": {},
     "output_type": "display_data"
    },
    {
     "name": "stdout",
     "output_type": "stream",
     "text": [
      "\n"
     ]
    },
    {
     "data": {
      "application/vnd.jupyter.widget-view+json": {
       "model_id": "df37e6de5d1a41a3a9dd0429ae77b6af",
       "version_major": 2,
       "version_minor": 0
      },
      "text/plain": [
       "HBox(children=(IntProgress(value=0, max=4), HTML(value='')))"
      ]
     },
     "metadata": {},
     "output_type": "display_data"
    },
    {
     "name": "stdout",
     "output_type": "stream",
     "text": [
      "\n"
     ]
    },
    {
     "data": {
      "application/vnd.jupyter.widget-view+json": {
       "model_id": "0f2d32a19be24630a17ac9e83a4ace7e",
       "version_major": 2,
       "version_minor": 0
      },
      "text/plain": [
       "HBox(children=(IntProgress(value=0, max=1), HTML(value='')))"
      ]
     },
     "metadata": {},
     "output_type": "display_data"
    },
    {
     "name": "stderr",
     "output_type": "stream",
     "text": [
      "2020-07-23 10:05:21,810 - INFO - forward:7.498647 backward:14.416046\n",
      "2020-07-23 10:05:21,812 - INFO - flod 3 epoch 3 : \n",
      " loss: 1.225132 loss_gender : 0.581912, loss_age : 1.868351, gender : 0.629167, 0.550000, age : 0.179167, 0.216667, score:0.766667\n"
     ]
    },
    {
     "name": "stdout",
     "output_type": "stream",
     "text": [
      "\n"
     ]
    },
    {
     "data": {
      "application/vnd.jupyter.widget-view+json": {
       "model_id": "d04a67ab719244448d6fd5512f7a2fbb",
       "version_major": 2,
       "version_minor": 0
      },
      "text/plain": [
       "HBox(children=(IntProgress(value=0, max=4), HTML(value='')))"
      ]
     },
     "metadata": {},
     "output_type": "display_data"
    },
    {
     "name": "stdout",
     "output_type": "stream",
     "text": [
      "\n"
     ]
    },
    {
     "data": {
      "application/vnd.jupyter.widget-view+json": {
       "model_id": "f13ee9130bb14385bcaabf0125bf67f7",
       "version_major": 2,
       "version_minor": 0
      },
      "text/plain": [
       "HBox(children=(IntProgress(value=0, max=4), HTML(value='')))"
      ]
     },
     "metadata": {},
     "output_type": "display_data"
    },
    {
     "name": "stdout",
     "output_type": "stream",
     "text": [
      "\n"
     ]
    },
    {
     "data": {
      "application/vnd.jupyter.widget-view+json": {
       "model_id": "56ee47616e7e4f4f8f56de075a1d00a8",
       "version_major": 2,
       "version_minor": 0
      },
      "text/plain": [
       "HBox(children=(IntProgress(value=0, max=1), HTML(value='')))"
      ]
     },
     "metadata": {},
     "output_type": "display_data"
    },
    {
     "name": "stderr",
     "output_type": "stream",
     "text": [
      "2020-07-23 10:05:24,136 - INFO - forward:7.730461 backward:14.843064\n",
      "2020-07-23 10:05:24,137 - INFO - flod 3 epoch 4 : \n",
      " loss: 1.205036 loss_gender : 0.570339, loss_age : 1.839734, gender : 0.633333, 0.550000, age : 0.150000, 0.233333, score:0.783333\n"
     ]
    },
    {
     "name": "stdout",
     "output_type": "stream",
     "text": [
      "\n"
     ]
    },
    {
     "data": {
      "application/vnd.jupyter.widget-view+json": {
       "model_id": "442560e736c7419d81603c565e0a4624",
       "version_major": 2,
       "version_minor": 0
      },
      "text/plain": [
       "HBox(children=(IntProgress(value=0, max=4), HTML(value='')))"
      ]
     },
     "metadata": {},
     "output_type": "display_data"
    },
    {
     "name": "stdout",
     "output_type": "stream",
     "text": [
      "\n"
     ]
    },
    {
     "data": {
      "application/vnd.jupyter.widget-view+json": {
       "model_id": "95db6907828f4b90b0b5fb3331d62866",
       "version_major": 2,
       "version_minor": 0
      },
      "text/plain": [
       "HBox(children=(IntProgress(value=0, max=4), HTML(value='')))"
      ]
     },
     "metadata": {},
     "output_type": "display_data"
    },
    {
     "name": "stdout",
     "output_type": "stream",
     "text": [
      "\n"
     ]
    },
    {
     "data": {
      "application/vnd.jupyter.widget-view+json": {
       "model_id": "b06f395d35924dbd944c9d4ad8d1e7e5",
       "version_major": 2,
       "version_minor": 0
      },
      "text/plain": [
       "HBox(children=(IntProgress(value=0, max=1), HTML(value='')))"
      ]
     },
     "metadata": {},
     "output_type": "display_data"
    },
    {
     "name": "stderr",
     "output_type": "stream",
     "text": [
      "2020-07-23 10:05:26,401 - INFO - forward:7.944692 backward:15.271223\n",
      "2020-07-23 10:05:26,402 - INFO - flod 3 epoch 5 : \n",
      " loss: 1.200344 loss_gender : 0.566382, loss_age : 1.834305, gender : 0.633333, 0.550000, age : 0.187500, 0.133333, score:0.683333\n"
     ]
    },
    {
     "name": "stdout",
     "output_type": "stream",
     "text": [
      "\n"
     ]
    },
    {
     "data": {
      "application/vnd.jupyter.widget-view+json": {
       "model_id": "e8f806fc9aba4f20a52ce8cef0222272",
       "version_major": 2,
       "version_minor": 0
      },
      "text/plain": [
       "HBox(children=(IntProgress(value=0, max=4), HTML(value='')))"
      ]
     },
     "metadata": {},
     "output_type": "display_data"
    },
    {
     "name": "stdout",
     "output_type": "stream",
     "text": [
      "\n"
     ]
    },
    {
     "data": {
      "application/vnd.jupyter.widget-view+json": {
       "model_id": "f1120cb834194b2c95c46135806e0259",
       "version_major": 2,
       "version_minor": 0
      },
      "text/plain": [
       "HBox(children=(IntProgress(value=0, max=4), HTML(value='')))"
      ]
     },
     "metadata": {},
     "output_type": "display_data"
    },
    {
     "name": "stdout",
     "output_type": "stream",
     "text": [
      "\n"
     ]
    },
    {
     "data": {
      "application/vnd.jupyter.widget-view+json": {
       "model_id": "6a686a3fb45b452689c1492e274ac817",
       "version_major": 2,
       "version_minor": 0
      },
      "text/plain": [
       "HBox(children=(IntProgress(value=0, max=1), HTML(value='')))"
      ]
     },
     "metadata": {},
     "output_type": "display_data"
    },
    {
     "name": "stderr",
     "output_type": "stream",
     "text": [
      "2020-07-23 10:05:28,724 - INFO - forward:8.160708 backward:15.699337\n",
      "2020-07-23 10:05:28,725 - INFO - flod 3 epoch 6 : \n",
      " loss: 1.196656 loss_gender : 0.558542, loss_age : 1.834770, gender : 0.633333, 0.550000, age : 0.191667, 0.133333, score:0.683333\n"
     ]
    },
    {
     "name": "stdout",
     "output_type": "stream",
     "text": [
      "\n"
     ]
    },
    {
     "data": {
      "application/vnd.jupyter.widget-view+json": {
       "model_id": "b8776810ae8a499e8f2b65934587aebd",
       "version_major": 2,
       "version_minor": 0
      },
      "text/plain": [
       "HBox(children=(IntProgress(value=0, max=4), HTML(value='')))"
      ]
     },
     "metadata": {},
     "output_type": "display_data"
    },
    {
     "name": "stdout",
     "output_type": "stream",
     "text": [
      "\n"
     ]
    },
    {
     "data": {
      "application/vnd.jupyter.widget-view+json": {
       "model_id": "afc5dddde24445a0a1436b408cb222a9",
       "version_major": 2,
       "version_minor": 0
      },
      "text/plain": [
       "HBox(children=(IntProgress(value=0, max=4), HTML(value='')))"
      ]
     },
     "metadata": {},
     "output_type": "display_data"
    },
    {
     "name": "stdout",
     "output_type": "stream",
     "text": [
      "\n"
     ]
    },
    {
     "data": {
      "application/vnd.jupyter.widget-view+json": {
       "model_id": "54abe245333d4a599245724b93877345",
       "version_major": 2,
       "version_minor": 0
      },
      "text/plain": [
       "HBox(children=(IntProgress(value=0, max=1), HTML(value='')))"
      ]
     },
     "metadata": {},
     "output_type": "display_data"
    },
    {
     "name": "stderr",
     "output_type": "stream",
     "text": [
      "2020-07-23 10:05:31,001 - INFO - forward:8.379540 backward:16.130609\n",
      "2020-07-23 10:05:31,002 - INFO - flod 3 epoch 7 : \n",
      " loss: 1.192017 loss_gender : 0.555575, loss_age : 1.828459, gender : 0.633333, 0.550000, age : 0.187500, 0.100000, score:0.650000\n"
     ]
    },
    {
     "name": "stdout",
     "output_type": "stream",
     "text": [
      "\n"
     ]
    },
    {
     "data": {
      "application/vnd.jupyter.widget-view+json": {
       "model_id": "95d7bef43ab44573b545c1165c73783d",
       "version_major": 2,
       "version_minor": 0
      },
      "text/plain": [
       "HBox(children=(IntProgress(value=0, max=4), HTML(value='')))"
      ]
     },
     "metadata": {},
     "output_type": "display_data"
    },
    {
     "name": "stdout",
     "output_type": "stream",
     "text": [
      "\n"
     ]
    },
    {
     "data": {
      "application/vnd.jupyter.widget-view+json": {
       "model_id": "8ab75409993a4135ad4b18a661d23608",
       "version_major": 2,
       "version_minor": 0
      },
      "text/plain": [
       "HBox(children=(IntProgress(value=0, max=4), HTML(value='')))"
      ]
     },
     "metadata": {},
     "output_type": "display_data"
    },
    {
     "name": "stdout",
     "output_type": "stream",
     "text": [
      "\n"
     ]
    },
    {
     "data": {
      "application/vnd.jupyter.widget-view+json": {
       "model_id": "2f9af74acc744f0f85ab16a746a20626",
       "version_major": 2,
       "version_minor": 0
      },
      "text/plain": [
       "HBox(children=(IntProgress(value=0, max=1), HTML(value='')))"
      ]
     },
     "metadata": {},
     "output_type": "display_data"
    },
    {
     "name": "stderr",
     "output_type": "stream",
     "text": [
      "2020-07-23 10:05:33,330 - INFO - forward:8.598490 backward:16.559792\n",
      "2020-07-23 10:05:33,332 - INFO - flod 3 epoch 8 : \n",
      " loss: 1.185537 loss_gender : 0.550469, loss_age : 1.820606, gender : 0.633333, 0.550000, age : 0.208333, 0.100000, score:0.650000\n"
     ]
    },
    {
     "name": "stdout",
     "output_type": "stream",
     "text": [
      "\n"
     ]
    },
    {
     "data": {
      "application/vnd.jupyter.widget-view+json": {
       "model_id": "e731556df97a4ab3b10c96e10e07e0fc",
       "version_major": 2,
       "version_minor": 0
      },
      "text/plain": [
       "HBox(children=(IntProgress(value=0, max=4), HTML(value='')))"
      ]
     },
     "metadata": {},
     "output_type": "display_data"
    },
    {
     "name": "stdout",
     "output_type": "stream",
     "text": [
      "\n"
     ]
    },
    {
     "data": {
      "application/vnd.jupyter.widget-view+json": {
       "model_id": "df31d81bfbae4b2f88310ee4196e7770",
       "version_major": 2,
       "version_minor": 0
      },
      "text/plain": [
       "HBox(children=(IntProgress(value=0, max=4), HTML(value='')))"
      ]
     },
     "metadata": {},
     "output_type": "display_data"
    },
    {
     "name": "stdout",
     "output_type": "stream",
     "text": [
      "\n"
     ]
    },
    {
     "data": {
      "application/vnd.jupyter.widget-view+json": {
       "model_id": "40b0a5d5c59c4c148dc3d2fc44261222",
       "version_major": 2,
       "version_minor": 0
      },
      "text/plain": [
       "HBox(children=(IntProgress(value=0, max=1), HTML(value='')))"
      ]
     },
     "metadata": {},
     "output_type": "display_data"
    },
    {
     "name": "stderr",
     "output_type": "stream",
     "text": [
      "2020-07-23 10:05:35,597 - INFO - forward:8.820879 backward:16.990832\n",
      "2020-07-23 10:05:35,599 - INFO - flod 3 epoch 9 : \n",
      " loss: 1.188741 loss_gender : 0.553891, loss_age : 1.823592, gender : 0.633333, 0.550000, age : 0.208333, 0.100000, score:0.650000\n"
     ]
    },
    {
     "name": "stdout",
     "output_type": "stream",
     "text": [
      "\n"
     ]
    },
    {
     "data": {
      "application/vnd.jupyter.widget-view+json": {
       "model_id": "d0350b6bb9c24a39ac560b309b636a8e",
       "version_major": 2,
       "version_minor": 0
      },
      "text/plain": [
       "HBox(children=(IntProgress(value=0, max=1), HTML(value='')))"
      ]
     },
     "metadata": {},
     "output_type": "display_data"
    },
    {
     "name": "stdout",
     "output_type": "stream",
     "text": [
      "\n"
     ]
    },
    {
     "data": {
      "application/vnd.jupyter.widget-view+json": {
       "model_id": "a24a528241af4f8db56a8966e71c55c6",
       "version_major": 2,
       "version_minor": 0
      },
      "text/plain": [
       "HBox(children=(IntProgress(value=0, max=2), HTML(value='')))"
      ]
     },
     "metadata": {},
     "output_type": "display_data"
    },
    {
     "name": "stderr",
     "output_type": "stream",
     "text": [
      "2020-07-23 10:05:36,794 - INFO - train number 240, val number 60\n"
     ]
    },
    {
     "name": "stdout",
     "output_type": "stream",
     "text": [
      "\n"
     ]
    },
    {
     "data": {
      "application/vnd.jupyter.widget-view+json": {
       "model_id": "b8c853b0e3e44b1185059600ac75007d",
       "version_major": 2,
       "version_minor": 0
      },
      "text/plain": [
       "HBox(children=(IntProgress(value=0, max=4), HTML(value='')))"
      ]
     },
     "metadata": {},
     "output_type": "display_data"
    },
    {
     "name": "stdout",
     "output_type": "stream",
     "text": [
      "\n"
     ]
    },
    {
     "data": {
      "application/vnd.jupyter.widget-view+json": {
       "model_id": "f3eff57529974f159b8db1bbe3298ff0",
       "version_major": 2,
       "version_minor": 0
      },
      "text/plain": [
       "HBox(children=(IntProgress(value=0, max=4), HTML(value='')))"
      ]
     },
     "metadata": {},
     "output_type": "display_data"
    },
    {
     "name": "stdout",
     "output_type": "stream",
     "text": [
      "\n"
     ]
    },
    {
     "data": {
      "application/vnd.jupyter.widget-view+json": {
       "model_id": "7572e613bbe845a2b020fa6681bc10cf",
       "version_major": 2,
       "version_minor": 0
      },
      "text/plain": [
       "HBox(children=(IntProgress(value=0, max=1), HTML(value='')))"
      ]
     },
     "metadata": {},
     "output_type": "display_data"
    },
    {
     "name": "stderr",
     "output_type": "stream",
     "text": [
      "2020-07-23 10:05:39,235 - INFO - forward:9.029878 backward:17.421658\n",
      "2020-07-23 10:05:39,237 - INFO - flod 4 epoch 0 : \n",
      " loss: 1.737727 loss_gender : 1.041677, loss_age : 2.433777, gender : 0.587500, 0.733333, age : 0.125000, 0.150000, score:0.883333\n"
     ]
    },
    {
     "name": "stdout",
     "output_type": "stream",
     "text": [
      "\n"
     ]
    },
    {
     "data": {
      "application/vnd.jupyter.widget-view+json": {
       "model_id": "85369dd1b5c24a27b989839f24e657a7",
       "version_major": 2,
       "version_minor": 0
      },
      "text/plain": [
       "HBox(children=(IntProgress(value=0, max=4), HTML(value='')))"
      ]
     },
     "metadata": {},
     "output_type": "display_data"
    },
    {
     "name": "stdout",
     "output_type": "stream",
     "text": [
      "\n"
     ]
    },
    {
     "data": {
      "application/vnd.jupyter.widget-view+json": {
       "model_id": "f092a00e2fd743dcbf0d028f05cf7934",
       "version_major": 2,
       "version_minor": 0
      },
      "text/plain": [
       "HBox(children=(IntProgress(value=0, max=4), HTML(value='')))"
      ]
     },
     "metadata": {},
     "output_type": "display_data"
    },
    {
     "name": "stdout",
     "output_type": "stream",
     "text": [
      "\n"
     ]
    },
    {
     "data": {
      "application/vnd.jupyter.widget-view+json": {
       "model_id": "2bb99ca17dc14b30b02ec2d98b0033c3",
       "version_major": 2,
       "version_minor": 0
      },
      "text/plain": [
       "HBox(children=(IntProgress(value=0, max=1), HTML(value='')))"
      ]
     },
     "metadata": {},
     "output_type": "display_data"
    },
    {
     "name": "stderr",
     "output_type": "stream",
     "text": [
      "2020-07-23 10:05:41,522 - INFO - forward:9.241882 backward:17.849725\n",
      "2020-07-23 10:05:41,524 - INFO - flod 4 epoch 1 : \n",
      " loss: 1.388582 loss_gender : 0.679540, loss_age : 2.097623, gender : 0.587500, 0.733333, age : 0.200000, 0.100000, score:0.833333\n"
     ]
    },
    {
     "name": "stdout",
     "output_type": "stream",
     "text": [
      "\n"
     ]
    },
    {
     "data": {
      "application/vnd.jupyter.widget-view+json": {
       "model_id": "f3c328c708774b468a7718f2922431fe",
       "version_major": 2,
       "version_minor": 0
      },
      "text/plain": [
       "HBox(children=(IntProgress(value=0, max=4), HTML(value='')))"
      ]
     },
     "metadata": {},
     "output_type": "display_data"
    },
    {
     "name": "stdout",
     "output_type": "stream",
     "text": [
      "\n"
     ]
    },
    {
     "data": {
      "application/vnd.jupyter.widget-view+json": {
       "model_id": "1d27368dd76c45bd8edb2fa3b989c73f",
       "version_major": 2,
       "version_minor": 0
      },
      "text/plain": [
       "HBox(children=(IntProgress(value=0, max=4), HTML(value='')))"
      ]
     },
     "metadata": {},
     "output_type": "display_data"
    },
    {
     "name": "stdout",
     "output_type": "stream",
     "text": [
      "\n"
     ]
    },
    {
     "data": {
      "application/vnd.jupyter.widget-view+json": {
       "model_id": "5ce87036dac1415ba2c14d73ee6b94d4",
       "version_major": 2,
       "version_minor": 0
      },
      "text/plain": [
       "HBox(children=(IntProgress(value=0, max=1), HTML(value='')))"
      ]
     },
     "metadata": {},
     "output_type": "display_data"
    },
    {
     "name": "stderr",
     "output_type": "stream",
     "text": [
      "2020-07-23 10:05:43,734 - INFO - forward:9.444895 backward:18.275152\n",
      "2020-07-23 10:05:43,736 - INFO - flod 4 epoch 2 : \n",
      " loss: 1.249393 loss_gender : 0.611923, loss_age : 1.886864, gender : 0.658333, 0.716667, age : 0.191667, 0.183333, score:0.900000\n"
     ]
    },
    {
     "name": "stdout",
     "output_type": "stream",
     "text": [
      "\n"
     ]
    },
    {
     "data": {
      "application/vnd.jupyter.widget-view+json": {
       "model_id": "412fd741d43a4bc6834b1f96afd14b4d",
       "version_major": 2,
       "version_minor": 0
      },
      "text/plain": [
       "HBox(children=(IntProgress(value=0, max=4), HTML(value='')))"
      ]
     },
     "metadata": {},
     "output_type": "display_data"
    },
    {
     "name": "stdout",
     "output_type": "stream",
     "text": [
      "\n"
     ]
    },
    {
     "data": {
      "application/vnd.jupyter.widget-view+json": {
       "model_id": "5046ca1ad44e42a49fa3d30f15efcd54",
       "version_major": 2,
       "version_minor": 0
      },
      "text/plain": [
       "HBox(children=(IntProgress(value=0, max=4), HTML(value='')))"
      ]
     },
     "metadata": {},
     "output_type": "display_data"
    },
    {
     "name": "stdout",
     "output_type": "stream",
     "text": [
      "\n"
     ]
    },
    {
     "data": {
      "application/vnd.jupyter.widget-view+json": {
       "model_id": "0e07c45057d64f35bf19ed1c12df14f3",
       "version_major": 2,
       "version_minor": 0
      },
      "text/plain": [
       "HBox(children=(IntProgress(value=0, max=1), HTML(value='')))"
      ]
     },
     "metadata": {},
     "output_type": "display_data"
    },
    {
     "name": "stderr",
     "output_type": "stream",
     "text": [
      "2020-07-23 10:05:45,926 - INFO - forward:9.661392 backward:18.699711\n",
      "2020-07-23 10:05:45,927 - INFO - flod 4 epoch 3 : \n",
      " loss: 1.230476 loss_gender : 0.597076, loss_age : 1.863876, gender : 0.587500, 0.700000, age : 0.187500, 0.300000, score:1.000000\n"
     ]
    },
    {
     "name": "stdout",
     "output_type": "stream",
     "text": [
      "\n"
     ]
    },
    {
     "data": {
      "application/vnd.jupyter.widget-view+json": {
       "model_id": "dd5b6a6b0dfc476f97da666afa06bc8c",
       "version_major": 2,
       "version_minor": 0
      },
      "text/plain": [
       "HBox(children=(IntProgress(value=0, max=4), HTML(value='')))"
      ]
     },
     "metadata": {},
     "output_type": "display_data"
    },
    {
     "name": "stdout",
     "output_type": "stream",
     "text": [
      "\n"
     ]
    },
    {
     "data": {
      "application/vnd.jupyter.widget-view+json": {
       "model_id": "e2aad983ff484f91b229545804a97573",
       "version_major": 2,
       "version_minor": 0
      },
      "text/plain": [
       "HBox(children=(IntProgress(value=0, max=4), HTML(value='')))"
      ]
     },
     "metadata": {},
     "output_type": "display_data"
    },
    {
     "name": "stdout",
     "output_type": "stream",
     "text": [
      "\n"
     ]
    },
    {
     "data": {
      "application/vnd.jupyter.widget-view+json": {
       "model_id": "89ef0a103f564aff9304fa358848ba79",
       "version_major": 2,
       "version_minor": 0
      },
      "text/plain": [
       "HBox(children=(IntProgress(value=0, max=1), HTML(value='')))"
      ]
     },
     "metadata": {},
     "output_type": "display_data"
    },
    {
     "name": "stderr",
     "output_type": "stream",
     "text": [
      "2020-07-23 10:05:48,202 - INFO - forward:9.894637 backward:19.139473\n",
      "2020-07-23 10:05:48,204 - INFO - flod 4 epoch 4 : \n",
      " loss: 1.213362 loss_gender : 0.576289, loss_age : 1.850435, gender : 0.587500, 0.716667, age : 0.216667, 0.116667, score:0.833333\n"
     ]
    },
    {
     "name": "stdout",
     "output_type": "stream",
     "text": [
      "\n"
     ]
    },
    {
     "data": {
      "application/vnd.jupyter.widget-view+json": {
       "model_id": "4d77ccf117cb4810ba6c7333943249ab",
       "version_major": 2,
       "version_minor": 0
      },
      "text/plain": [
       "HBox(children=(IntProgress(value=0, max=4), HTML(value='')))"
      ]
     },
     "metadata": {},
     "output_type": "display_data"
    }
   ],
   "source": [
    "class LayerNorm(nn.Module):\n",
    "    def __init__(self,features,eps=1e-6):\n",
    "        super(LayerNorm,self).__init__()\n",
    "        self.gamma=nn.Parameter(torch.ones(features))\n",
    "        self.beta=nn.Parameter(torch.zeros(features))\n",
    "        self.eps=eps\n",
    "    def forward(self,X):\n",
    "        mean=X.mean(-1,keepdim=True)\n",
    "        std=X.std(-1,keepdim=True)\n",
    "        return self.gamma*(X-mean)/(std+self.eps)+self.beta\n",
    "    \n",
    "class GeLU(nn.Module):\n",
    "    def forward(self, x):\n",
    "        return 0.5 * x * (1. + torch.tanh(x * 0.7978845608 * (1. + 0.044715 * x * x)))\n",
    "\n",
    "class Conv1d(nn.Module):\n",
    "    def __init__(self, in_channels, out_channels, kernel_sizes):\n",
    "        super().__init__()\n",
    "        assert all(k % 2 == 1 for k in kernel_sizes), 'only support odd kernel sizes'\n",
    "        assert out_channels % len(kernel_sizes) == 0, 'out channels must be dividable by kernels'\n",
    "        out_channels = out_channels // len(kernel_sizes)\n",
    "        convs = []\n",
    "        for kernel_size in kernel_sizes:\n",
    "            conv = nn.Conv1d(in_channels, out_channels, kernel_size,\n",
    "                             padding=(kernel_size - 1) // 2)\n",
    "            nn.init.normal_(conv.weight, std=math.sqrt(2. / (in_channels * kernel_size)))\n",
    "            nn.init.zeros_(conv.bias)\n",
    "            convs.append(nn.Sequential(nn.utils.weight_norm(conv), GeLU()))\n",
    "        self.model = nn.ModuleList(convs)\n",
    "\n",
    "    def forward(self, x):\n",
    "        return torch.cat([encoder(x) for encoder in self.model], dim=-1)\n",
    "\n",
    "class Encoder(nn.Module):\n",
    "    def __init__(self, args, input_size):\n",
    "        super().__init__()\n",
    "        self.dropout = args.dropout\n",
    "        self.encoders = nn.ModuleList([Conv1d(\n",
    "                in_channels=input_size if i == 0 else args.hidden_size,\n",
    "                out_channels=args.hidden_size,\n",
    "                kernel_sizes=args.kernel_sizes) for i in range(args.enc_layers)])\n",
    "\n",
    "    def forward(self, x, mask):\n",
    "        x = x.transpose(1, 2)  # B x C x L\n",
    "        mask = mask.transpose(1, 2)\n",
    "        for i, encoder in enumerate(self.encoders):\n",
    "            x.masked_fill_(~mask, 0.)\n",
    "            if i > 0:\n",
    "                x = f.dropout(x, self.dropout, self.training)\n",
    "            x = encoder(x)\n",
    "        x = f.dropout(x, self.dropout, self.training)\n",
    "        return x.transpose(1, 2)  # B x L x C\n",
    "    \n",
    "class FullFusion(nn.Module):\n",
    "    def __init__(self, args, input_size):\n",
    "        super().__init__()\n",
    "        self.dropout = args.dropout\n",
    "        self.fusion1 = Linear(input_size * 2, args.hidden_size, activations=True)\n",
    "        self.fusion2 = Linear(input_size * 2, args.hidden_size, activations=True)\n",
    "        self.fusion3 = Linear(input_size * 2, args.hidden_size, activations=True)\n",
    "        self.fusion = Linear(args.hidden_size * 3, args.hidden_size, activations=True)\n",
    "\n",
    "    def forward(self, x, align):\n",
    "        x1 = self.fusion1(torch.cat([x, align], dim=-1))\n",
    "        x2 = self.fusion2(torch.cat([x, x - align], dim=-1))\n",
    "        x3 = self.fusion3(torch.cat([x, x * align], dim=-1))\n",
    "        x = torch.cat([x1, x2, x3], dim=-1)\n",
    "        x = f.dropout(x, self.dropout, self.training)\n",
    "        return self.fusion(x)\n",
    "    \n",
    "class LabelSmoothingCrossEntropy(nn.Module):\n",
    "\n",
    "\n",
    "    def __init__(self, smoothing=0.1,weights=torch.ones(2)/2):\n",
    "\n",
    "        super(LabelSmoothingCrossEntropy, self).__init__()\n",
    "        assert smoothing < 1.0\n",
    "        self.smoothing = smoothing\n",
    "        self.confidence = 1. - smoothing\n",
    "        self.weights=weights.to(args.device)\n",
    "\n",
    "    def forward(self, x, target):\n",
    "        logprobs = F.log_softmax(x, dim=-1)\n",
    "#         new_target=torch.zeros(X.shape).scatter_(1,target.unsqueeze(1),1)\n",
    "#         smooth_target=new_target*0.9+torch.ones_like(new_target)*(0.1/new_target.shape[1])\n",
    "#         -(F.log_softmax(X,dim=-1)*smooth_target).sum(dim=-1).mean()\n",
    "        nll_loss = -logprobs.gather(dim=-1, index=target.unsqueeze(1))\n",
    "        nll_loss = nll_loss.squeeze(1)\n",
    "        smooth_loss = (-logprobs*self.weights).sum(dim=-1)\n",
    "        loss = self.confidence * nll_loss + self.smoothing * smooth_loss\n",
    "        return loss.mean()\n",
    "\n",
    "    \n",
    "class AugmentedResidual(nn.Module):\n",
    "    def forward(self, x, res, i):\n",
    "        if i == 1:\n",
    "            return torch.cat([x, res], dim=-1)  # res is embedding\n",
    "        hidden_size = x.size(-1)\n",
    "        x = (res[:, :, :hidden_size] + x) * math.sqrt(0.5)\n",
    "        return torch.cat([x, res[:, :, hidden_size:]], dim=-1)  # latter half of res is embedding\n",
    "    \n",
    "class Pooling(nn.Module):\n",
    "    def forward(self, x, mask):\n",
    "        return x.masked_fill_(~mask, -float('inf')).max(dim=1)[0]\n",
    "\n",
    "class Linear(nn.Module):\n",
    "    def __init__(self, in_features, out_features, activations=False):\n",
    "        super().__init__()\n",
    "        linear = nn.Linear(in_features, out_features)\n",
    "        nn.init.normal_(linear.weight, std=math.sqrt((2. if activations else 1.) / in_features))\n",
    "        nn.init.zeros_(linear.bias)\n",
    "        modules = [nn.utils.weight_norm(linear)]\n",
    "        if activations:\n",
    "            modules.append(GeLU())\n",
    "        self.model = nn.Sequential(*modules)\n",
    "\n",
    "    def forward(self, x):\n",
    "        return self.model(x)\n",
    "\n",
    "class Alignment(nn.Module):\n",
    "    def __init__(self, args, __):\n",
    "        super().__init__()\n",
    "        self.temperature = nn.Parameter(torch.tensor(1 / math.sqrt(args.hidden_size)))\n",
    "        self.summary = {}\n",
    "\n",
    "    def _attention(self, a, b):\n",
    "        return torch.matmul(a, b.transpose(1, 2)) * self.temperature\n",
    "    \n",
    "    def add_summary(self, name, val):\n",
    "        if self.training:\n",
    "            self.summary[name] = val.clone().detach().cpu().numpy()\n",
    "\n",
    "    def forward(self, a, b, mask_a, mask_b):\n",
    "        attn = self._attention(a, b)\n",
    "        mask = torch.matmul(mask_a.float(), mask_b.transpose(1, 2).float()).byte()\n",
    "        attn.masked_fill_(~mask, -1e7)\n",
    "        attn_a = f.softmax(attn, dim=1)\n",
    "        attn_b = f.softmax(attn, dim=2)\n",
    "        feature_b = torch.matmul(attn_a.transpose(1, 2), a)\n",
    "        feature_a = torch.matmul(attn_b, b)\n",
    "        self.add_summary('temperature', self.temperature)\n",
    "        self.add_summary('attention_a', attn_a)\n",
    "        self.add_summary('attention_b', attn_b)\n",
    "        return feature_a, feature_b\n",
    "\n",
    "class MappedAlignment(Alignment):\n",
    "    def __init__(self, args, input_size):\n",
    "        super().__init__(args, input_size)\n",
    "        self.projection = nn.Sequential(\n",
    "            nn.Dropout(args.dropout),\n",
    "            Linear(input_size, args.hidden_size, activations=True),\n",
    "        )\n",
    "\n",
    "    def _attention(self, a, b):\n",
    "        a = self.projection(a)\n",
    "        b = self.projection(b)\n",
    "        return super()._attention(a, b)\n",
    "\n",
    "class AlignmentOne(nn.Module):\n",
    "    def __init__(self, args, input_size):\n",
    "        super().__init__()\n",
    "        self.temperature = nn.Parameter(torch.tensor(1 / math.sqrt(args.hidden_size)))\n",
    "        self.summary = {}\n",
    "        self.projection = nn.Sequential(\n",
    "            nn.Dropout(args.dropout),\n",
    "            Linear(input_size, args.hidden_size, activations=True),\n",
    "        )\n",
    "        \n",
    "    def _attention(self, a):\n",
    "        a = self.projection(a)\n",
    "        return torch.matmul(a, a.transpose(1, 2)) * self.temperature\n",
    "    \n",
    "\n",
    "    def forward(self, a, mask_a):\n",
    "        attn = self._attention(a)\n",
    "#         mask = torch.matmul(mask_a.float(), mask_a.transpose(1, 2).float()).byte()\n",
    "        mask = mask_a.byte()\n",
    "        attn.masked_fill_(~mask, -1e7)\n",
    "        attn_a = f.softmax(attn, dim=1)\n",
    "        feature_a = torch.matmul(attn_a.transpose(1, 2), a)\n",
    "        return feature_a\n",
    "\n",
    "class RE2One(nn.Module):\n",
    "    def __init__(self, args):\n",
    "        super().__init__()\n",
    "        self.dropout = args.dropout\n",
    "        self.blocks = nn.ModuleList([nn.ModuleDict({\n",
    "            'encoder': Encoder(args, args.embedding_dim if i == 0 else args.embedding_dim + args.hidden_size),\n",
    "            'alignment': AlignmentOne(\n",
    "                args, args.embedding_dim + args.hidden_size if i == 0 else args.embedding_dim + args.hidden_size * 2),\n",
    "            'fusion': FullFusion(\n",
    "                args, args.embedding_dim + args.hidden_size if i == 0 else args.embedding_dim + args.hidden_size * 2),\n",
    "        }) for i in range(args.blocks)])\n",
    "        self.connection = AugmentedResidual()\n",
    "        self.pooling = Pooling()\n",
    "            \n",
    "    def make_mask(self, X, valid_len):\n",
    "        shape=X.shape\n",
    "        if valid_len.dim()==1:\n",
    "            valid_len=valid_len.view(-1,1).repeat(1,shape[1])\n",
    "        mask=(torch.arange(0,X.shape[1]).repeat(X.shape[0],1).to(X.device)<valid_len).float()\n",
    "        return mask.unsqueeze(2).byte()\n",
    "\n",
    "    def forward(self, a, x_len):\n",
    "        mask_a = self.make_mask(a, x_len)\n",
    "        res_a = a\n",
    "        for i, block in enumerate(self.blocks):\n",
    "            if i > 0:\n",
    "                a = self.connection(a, res_a, i)\n",
    "                res_a = a\n",
    "            a_enc = block['encoder'](a, mask_a)\n",
    "            a = torch.cat([a, a_enc], dim=-1)\n",
    "            align_a = block['alignment'](a, mask_a)\n",
    "            a = block['fusion'](a, align_a)        \n",
    "        \n",
    "\n",
    "        hidden= self.pooling(a, mask_a)\n",
    "        \n",
    "        \n",
    "        \n",
    "        return hidden\n",
    "    \n",
    "class RE2Block(nn.Module):\n",
    "    def __init__(self, args):\n",
    "        super().__init__()\n",
    "        self.dropout = args.dropout\n",
    "        self.blocks = nn.ModuleList([nn.ModuleDict({\n",
    "            'encoder': Encoder(args, args.embedding_dim if i == 0 else args.embedding_dim + args.hidden_size),\n",
    "            'alignment': MappedAlignment(\n",
    "                args, args.embedding_dim + args.hidden_size if i == 0 else args.embedding_dim + args.hidden_size * 2),\n",
    "            'fusion': FullFusion(\n",
    "                args, args.embedding_dim + args.hidden_size if i == 0 else args.embedding_dim + args.hidden_size * 2),\n",
    "        }) for i in range(args.blocks)])\n",
    "        self.connection = AugmentedResidual()\n",
    "        self.pooling = Pooling()\n",
    "        \n",
    "        \n",
    "    \n",
    "    def make_mask(self, X, valid_len):\n",
    "        shape=X.shape\n",
    "        if valid_len.dim()==1:\n",
    "            valid_len=valid_len.view(-1,1).repeat(1,shape[1])\n",
    "        mask=(torch.arange(0,X.shape[1]).repeat(X.shape[0],1).to(X.device)<valid_len).float()\n",
    "        return mask.unsqueeze(2).byte()\n",
    "       \n",
    "\n",
    "    def forward(self, a, b, x_len):\n",
    "        mask_a = self.make_mask(a, x_len)\n",
    "        mask_b = self.make_mask(b, x_len)\n",
    "        \n",
    "        res_a, res_b = a, b\n",
    "        \n",
    "        for i, block in enumerate(self.blocks):\n",
    "            if i > 0:\n",
    "                a = self.connection(a, res_a, i)\n",
    "                b = self.connection(b, res_b, i)\n",
    "                res_a, res_b = a, b\n",
    "            a_enc = block['encoder'](a, mask_a)\n",
    "            b_enc = block['encoder'](b, mask_b)\n",
    "            a = torch.cat([a, a_enc], dim=-1)\n",
    "            b = torch.cat([b, b_enc], dim=-1)\n",
    "            align_a, align_b = block['alignment'](a, b, mask_a, mask_b)\n",
    "            a = block['fusion'](a, align_a)\n",
    "            b = block['fusion'](b, align_b)\n",
    "        \n",
    "        \n",
    "\n",
    "        a = self.pooling(a, mask_a)\n",
    "        b = self.pooling(b, mask_b)\n",
    "        \n",
    "        hidden = torch.cat([a, b, (a - b).abs(), a * b], dim=-1) #symmetric\n",
    "        \n",
    "        return hidden\n",
    "\n",
    "gender_weight = torch.tensor((df_train_user['gender'].value_counts().sort_index() / 3000000).values).float()\n",
    "age_weight = torch.tensor((df_train_user['age'].value_counts().sort_index() / 3000000).values).float()\n",
    "\n",
    "class RE2(nn.Module):\n",
    "    def __init__(self, args):\n",
    "        super().__init__()\n",
    "        n_dim = 50\n",
    "        self.ln_tfidf_stack = LayerNorm(55)\n",
    "        self.ln_one_hot_target = LayerNorm(72)\n",
    "\n",
    "        n_time_embedding = 16\n",
    "        self.position_embeddings = nn.Embedding(92, n_time_embedding)\n",
    "        self.click_time_embeddings = nn.Embedding(33, n_time_embedding)\n",
    "\n",
    "        self.ln_200s = nn.ModuleList([LayerNorm(200) for _ in range(3)])\n",
    "        self.ln_100s = nn.ModuleList([LayerNorm(100) for _ in range(4)])\n",
    "\n",
    "        \n",
    "        n_cat_hidden = 4\n",
    "        n_flatten = 55\n",
    "        self.decoder_gender = nn.Sequential(Linear( n_cat_hidden * args.hidden_size + n_flatten, 2))\n",
    "        self.decoder_age = nn.Sequential(Linear(n_cat_hidden * args.hidden_size + n_flatten, 10))   \n",
    "        \n",
    "\n",
    "        self.ln_hidden = LayerNorm(n_cat_hidden * args.hidden_size)\n",
    "        self.ln_tfidf_stack = LayerNorm(55)\n",
    "        \n",
    "        self.label_smooth_gender = LabelSmoothingCrossEntropy(0.1, weights = gender_weight)\n",
    "        self.label_smooth_age = LabelSmoothingCrossEntropy(0.1, weights = age_weight)\n",
    "\n",
    "        self.re2_block = RE2Block(args)\n",
    "\n",
    "\n",
    "    def forward(self,\n",
    "                time,\n",
    "                click_time,\n",
    "                \n",
    "                creative_id,\n",
    "                ad_id,\n",
    "                advertiser_id,\n",
    "                \n",
    "                advertiser_id_industry,\n",
    "                product_category_advertiser_id,\n",
    "                product_id_advertiser_id,\n",
    "                product_id_product_category,\n",
    "                \n",
    "                target_encode_sequence,\n",
    "                x_len,\n",
    "                x_flatten,\n",
    "                gender = None,\\\n",
    "                age = None):\n",
    "        \n",
    "        \n",
    "        time = time.to(args.device)\n",
    "        click_time = click_time.to(args.device)\n",
    "        \n",
    "        creative_id = creative_id.to(args.device) \n",
    "        ad_id = ad_id.to(args.device) \n",
    "        advertiser_id = advertiser_id.to(args.device) \n",
    "        \n",
    "        advertiser_id_industry = advertiser_id_industry.to(args.device)\n",
    "        product_category_advertiser_id = product_category_advertiser_id.to(args.device) \n",
    "        product_id_advertiser_id = product_id_advertiser_id.to(args.device)\n",
    "        product_id_product_category = product_id_product_category.to(args.device) \n",
    "        \n",
    "        target_encode_sequence = target_encode_sequence.to(args.device) \n",
    "        x_len = x_len.to(args.device) \n",
    "        x_flatten = x_flatten.to(args.device)\n",
    "        \n",
    "        if gender is not None:\n",
    "            gender = gender.to(args.device) \n",
    "            age = age.to(args.device) \n",
    "    \n",
    "        \n",
    "        a_wv = torch.cat([\n",
    "            self.ln_200s[0](ad_id),\n",
    "            self.ln_200s[1](creative_id),\n",
    "            self.ln_100s[0](product_id_product_category),\n",
    "            self.ln_one_hot_target(target_encode_sequence),\n",
    "            self.position_embeddings(time),\n",
    "            self.click_time_embeddings(click_time),\n",
    "        ],dim=-1)\n",
    "\n",
    "\n",
    "        b_wv = torch.cat([\n",
    "            self.ln_200s[2](advertiser_id),\n",
    "            self.ln_100s[1](advertiser_id_industry),\n",
    "            self.ln_100s[2](product_category_advertiser_id),\n",
    "            self.ln_100s[3](product_id_advertiser_id),\n",
    "            self.ln_one_hot_target(target_encode_sequence),\n",
    "            self.position_embeddings(time),\n",
    "            self.click_time_embeddings(click_time),\n",
    "        ],dim=-1)\n",
    "        \n",
    "        hidden = self.re2_block(a_wv, b_wv, x_len)\n",
    "        cat = torch.cat([self.ln_hidden(hidden), self.ln_tfidf_stack(x_flatten)], dim = -1)\n",
    "        output_age = self.decoder_age(cat)\n",
    "        output_gender = self.decoder_gender(cat)\n",
    "\n",
    "        if(gender is None):\n",
    "            return output_gender, output_age, hidden\n",
    "        \n",
    "        \n",
    "#         loss_age = nn.CrossEntropyLoss()\n",
    "#         loss_gender = nn.CrossEntropyLoss()\n",
    "#         l_age = loss_age(output_age,age.long())        \n",
    "#         l_gender = loss_gender(output_gender,gender.long())\n",
    "\n",
    "        l_gender = self.label_smooth_gender(output_gender, gender.long())  \n",
    "        l_age = self.label_smooth_age(output_age, age.long())\n",
    "        l=0.5*l_gender + 0.5*l_age\n",
    "        \n",
    "        \n",
    "        return l,l_gender,l_age,output_gender, output_age, hidden\n",
    "\n",
    "from collections import namedtuple\n",
    "\n",
    "RE2_ARG = namedtuple('ARG', [\n",
    "    'dropout',\n",
    "    'hidden_size',\n",
    "    'enc_layers',\n",
    "    'kernel_sizes',\n",
    "    'blocks',\n",
    "    'embedding_dim',\n",
    "    'device',\n",
    "])\n",
    "\n",
    "re2_args = RE2_ARG(\n",
    "    dropout = 0.,\n",
    "    hidden_size = 256,\n",
    "    enc_layers = 2,\n",
    "    kernel_sizes = (3,),\n",
    "    blocks = 2,\n",
    "    embedding_dim = 500 + 72 + 16 + 16,\n",
    "    device = args.device,\n",
    ")\n",
    "\n",
    "model = RE2(re2_args)\n",
    "print(sum(param.numel() for param in model.parameters()))\n",
    "\n",
    "logging.info('start training ')\n",
    "# model, val_ret_dict, test_ret_dict = nn_cross_validation_multi_task(sub_train_user, sub_train_gender, sub_train_age,\\\n",
    "#                                                                     sub_test_user, \\\n",
    "#                                                                     RE2, {'args' : re2_args}, train_multi_task, False)\n",
    "score_gender_val, score_age_val = nn_cross_validation_multi_task(sub_train_user, sub_train_gender, sub_train_age,\\\n",
    "                                                                    sub_test_user, \\\n",
    "                                                                    RE2, {'args' : re2_args}, train_multi_task, True)\n",
    "\n",
    "pickle.dump(score_gender_val, open('%s/score_gender_val.pickle' % args.save_path, 'wb'))\n",
    "pickle.dump(score_age_val, open('%s/score_age_val.pickle' % args.save_path, 'wb'))\n",
    "\n",
    "logging.info('finish training ')\n"
   ]
  },
  {
   "cell_type": "code",
   "execution_count": null,
   "metadata": {},
   "outputs": [],
   "source": []
  }
 ],
 "metadata": {
  "kernelspec": {
   "display_name": "fjw",
   "language": "python",
   "name": "fjw"
  },
  "language_info": {
   "codemirror_mode": {
    "name": "ipython",
    "version": 3
   },
   "file_extension": ".py",
   "mimetype": "text/x-python",
   "name": "python",
   "nbconvert_exporter": "python",
   "pygments_lexer": "ipython3",
   "version": "3.6.9"
  },
  "toc": {
   "base_numbering": 1,
   "nav_menu": {},
   "number_sections": true,
   "sideBar": true,
   "skip_h1_title": false,
   "title_cell": "Table of Contents",
   "title_sidebar": "Contents",
   "toc_cell": false,
   "toc_position": {
    "height": "calc(100% - 180px)",
    "left": "10px",
    "top": "150px",
    "width": "349.091px"
   },
   "toc_section_display": true,
   "toc_window_display": true
  }
 },
 "nbformat": 4,
 "nbformat_minor": 4
}

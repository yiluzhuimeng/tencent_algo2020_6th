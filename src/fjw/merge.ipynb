{
 "cells": [
  {
   "cell_type": "code",
   "execution_count": 4,
   "metadata": {},
   "outputs": [],
   "source": [
    "import pandas as pd\n",
    "import numpy as np\n",
    "from tqdm import tqdm_notebook as tqdm\n",
    "import _pickle as pk\n",
    "import os\n",
    "from IPython.display import display,HTML\n",
    "from category_encoders import *\n",
    "import pandas as pd\n",
    "import matplotlib.pyplot as plt\n",
    "from sklearn.model_selection import KFold\n",
    "from transformers import *\n",
    "import torch\n",
    "import torch.nn as nn\n",
    "import torch.nn.init as init\n",
    "import torch.nn.functional as F\n",
    "import torch.utils.data as Data\n",
    "from torch.nn.utils.rnn import pad_sequence\n",
    "from torch.nn.utils.rnn import pack_padded_sequence\n",
    "from torch.nn.utils.rnn import pad_packed_sequence\n",
    "from torch.nn.utils.rnn import pack_sequence\n",
    "np.random.seed(13)\n",
    "import collections\n",
    "import time\n",
    "import logging\n",
    "import multiprocessing\n",
    "import copy\n",
    "logger = logging.getLogger(__name__)\n",
    "from collections import defaultdict\n",
    "logging.basicConfig(\n",
    "    format=\"%(asctime)s - %(levelname)s - %(name)s -   %(message)s\",\n",
    "    datefmt=\"%m/%d/%Y %H:%M:%S\",\n",
    "    level=logging.INFO \n",
    ")\n",
    "ARG=collections.namedtuple('ARG',['train_batch_size',\n",
    " 'eval_batch_size',\n",
    " 'weight_decay',\n",
    " 'learning_rate',\n",
    " 'adam_epsilon',\n",
    " 'num_train_epochs',\n",
    " 'warmup_steps',\n",
    " 'gradient_accumulation_steps',\n",
    " 'save_steps',\n",
    " 'max_grad_norm',\n",
    " 'model_name_or_path',\n",
    " 'output_dir',\n",
    " 'seed',\n",
    " 'device',\n",
    " 'n_gpu',\n",
    " 'max_steps',\n",
    " 'output_mode',\n",
    "'fp16_opt_level',\n",
    "'fp16',\n",
    "'card_list'])"
   ]
  },
  {
   "cell_type": "markdown",
   "metadata": {},
   "source": [
    "## 50维"
   ]
  },
  {
   "cell_type": "code",
   "execution_count": 5,
   "metadata": {},
   "outputs": [],
   "source": [
    "creative_id_glove_model=pk.load(open(\"../../var/se_glove_creative_id_50dim.pickle\",\"rb\"))\n",
    "ad_id_glove_model=pk.load(open(\"../../var/se_glove_ad_id_50dim.pickle\",\"rb\"))\n",
    "advertiser_id_glove_model=pk.load(open(\"../../var/se_glove_advertiser_id_50dim.pickle\",\"rb\"))\n",
    "product_id_glove_model=pk.load(open(\"../../var/se_glove_product_id_50dim.pickle\",\"rb\"))\n",
    "product_category_glove_model=pk.load(open(\"../../var/se_glove_product_category_50dim.pickle\",\"rb\"))\n",
    "industry_glove_model=pk.load(open(\"../../var/se_glove_industry_50dim.pickle\",\"rb\"))\n",
    "advertiser_id_industry_glove_model=pk.load(open(\"../../var/se_glove_advertiser_id_industry_50dim.pickle\",\"rb\"))\n",
    "product_category_advertiser_glove_model=pk.load(open(\"../../var/se_glove_product_category_advertiser_id_50dim.pickle\",\"rb\"))\n",
    "product_category_industry_glove_model=pk.load(open(\"../../var/se_glove_product_category_industry_50dim.pickle\",\"rb\"))\n",
    "product_id_advertiser_glove_model=pk.load(open(\"../../var/se_glove_product_id_advertiser_id_50dim.pickle\",\"rb\"))\n",
    "product_id_industry_glove_model=pk.load(open(\"../../var/se_glove_product_id_industry_50dim.pickle\",\"rb\"))\n",
    "product_id_product_category_glove_model=pk.load(open(\"../../var/se_glove_product_id_product_category_50dim.pickle\",\"rb\"))"
   ]
  },
  {
   "cell_type": "code",
   "execution_count": 6,
   "metadata": {},
   "outputs": [],
   "source": [
    "full_info=pd.read_csv(\"../../var/fjw/full_ad.csv\")\n",
    "\n",
    "# glove_models=[creative_id_glove_model,ad_id_glove_model,product_id_glove_model,product_category_glove_model,\\\n",
    "#             advertiser_id_glove_model,industry_glove_model,product_id_advertiser_glove_model,\\\n",
    "#             product_category_industry_glove_model]\n",
    "glove_models=[creative_id_glove_model,ad_id_glove_model,product_id_glove_model,product_category_glove_model,\\\n",
    "            advertiser_id_glove_model,industry_glove_model,advertiser_id_industry_glove_model,\\\n",
    "            product_category_advertiser_glove_model,product_category_industry_glove_model,\\\n",
    "            product_id_advertiser_glove_model,product_id_industry_glove_model,product_id_product_category_glove_model]"
   ]
  },
  {
   "cell_type": "code",
   "execution_count": 7,
   "metadata": {},
   "outputs": [
    {
     "name": "stderr",
     "output_type": "stream",
     "text": [
      "/home/huangweilin/anaconda3/envs/fjw/lib/python3.6/site-packages/ipykernel_launcher.py:3: TqdmDeprecationWarning: This function will be removed in tqdm==5.0.0\n",
      "Please use `tqdm.notebook.tqdm` instead of `tqdm.tqdm_notebook`\n",
      "  This is separate from the ipykernel package so we can avoid doing imports until\n"
     ]
    },
    {
     "data": {
      "application/vnd.jupyter.widget-view+json": {
       "model_id": "4727be0c80aa46e08cc1861ddfb6042a",
       "version_major": 2,
       "version_minor": 0
      },
      "text/plain": [
       "HBox(children=(IntProgress(value=0, max=9984), HTML(value='')))"
      ]
     },
     "metadata": {},
     "output_type": "display_data"
    },
    {
     "name": "stdout",
     "output_type": "stream",
     "text": [
      "\n"
     ]
    },
    {
     "data": {
      "text/plain": [
       "0"
      ]
     },
     "execution_count": 7,
     "metadata": {},
     "output_type": "execute_result"
    }
   ],
   "source": [
    "import gc\n",
    "target_map_dict=dict()\n",
    "for idx in tqdm(range(full_info.shape[0])):\n",
    "    sample=full_info.iloc[idx]\n",
    "    idxs=[ '0' if e=='\\\\N' else str(e) for e in sample.tolist()]\n",
    "    value=[]\n",
    "    for i in range(len(glove_models)):\n",
    "        if i<6:\n",
    "            value.append(glove_models[i][idxs[i]])\n",
    "        elif i==6:\n",
    "            value.append(glove_models[i][idxs[4]+\"_\"+idxs[5]])\n",
    "        elif i==7:\n",
    "            value.append(glove_models[i][idxs[3]+\"_\"+idxs[4]]) \n",
    "        elif i==8:\n",
    "            value.append(glove_models[i][idxs[3]+\"_\"+idxs[5]]) \n",
    "        elif i==9:\n",
    "            value.append(glove_models[i][idxs[2]+\"_\"+idxs[4]]) \n",
    "        elif i==10:\n",
    "            value.append(glove_models[i][idxs[2]+\"_\"+idxs[5]]) \n",
    "        elif i==11:\n",
    "            value.append(glove_models[i][idxs[2]+\"_\"+idxs[3]]) \n",
    "    value=np.concatenate(value)\n",
    "    target_map_dict[\"_\".join(idxs)]=value.astype(np.float32)\n",
    "info=pd.Series(target_map_dict)\n",
    "del target_map_dict,glove_models\n",
    "gc.collect()"
   ]
  },
  {
   "cell_type": "code",
   "execution_count": 8,
   "metadata": {},
   "outputs": [
    {
     "name": "stderr",
     "output_type": "stream",
     "text": [
      "/home/huangweilin/anaconda3/envs/fjw/lib/python3.6/site-packages/ipykernel_launcher.py:2: TqdmDeprecationWarning: This function will be removed in tqdm==5.0.0\n",
      "Please use `tqdm.notebook.tqdm` instead of `tqdm.tqdm_notebook`\n",
      "  \n"
     ]
    },
    {
     "data": {
      "application/vnd.jupyter.widget-view+json": {
       "model_id": "4acadf3acadc4fec879cc0f6a0d0ecb5",
       "version_major": 2,
       "version_minor": 0
      },
      "text/plain": [
       "HBox(children=(IntProgress(value=0, max=9984), HTML(value='')))"
      ]
     },
     "metadata": {},
     "output_type": "display_data"
    },
    {
     "name": "stdout",
     "output_type": "stream",
     "text": [
      "\n"
     ]
    }
   ],
   "source": [
    "new_glove_info=np.zeros((4445720+1,600)).astype(np.float32)\n",
    "for index in tqdm(info.index):\n",
    "    new_glove_info[int(index.split(\"_\")[0])]=info.loc[index]\n",
    "np.save(\"../../var/fjw/glove_model_min_dim50_full.npy\",new_glove_info)"
   ]
  },
  {
   "cell_type": "code",
   "execution_count": 9,
   "metadata": {},
   "outputs": [],
   "source": [
    "np.save(\"../../var/hyr/id_embedding_glove50.npy\",new_glove_info)"
   ]
  },
  {
   "cell_type": "markdown",
   "metadata": {},
   "source": [
    "## 200维"
   ]
  },
  {
   "cell_type": "code",
   "execution_count": 10,
   "metadata": {},
   "outputs": [
    {
     "name": "stderr",
     "output_type": "stream",
     "text": [
      "07/23/2020 13:48:06 - WARNING - smart_open.transport -   unable to import 'smart_open.gcs', disabling that module\n"
     ]
    }
   ],
   "source": [
    "creative_id_w2v_model=pk.load(open(\"../../var/wv_creative_id_sg_window175_dim200.pickle\",\"rb\"))\n",
    "ad_id_w2v_model=pk.load(open(\"../../var/wv_ad_id_sg_window175_dim200.pickle\",\"rb\"))\n",
    "advertiser_id_w2v_model=pk.load(open(\"../../var/wv_advertiser_id_sg_window175_dim200.pickle\",\"rb\"))\n",
    "product_id_w2v_model=pk.load(open(\"../../var/wv_product_id_sg_window175_dim100.pickle\",\"rb\"))\n",
    "product_category_w2v_model=pk.load(open(\"../../var/wv_product_category_sg_window175_dim100.pickle\",\"rb\"))\n",
    "industry_w2v_model=pk.load(open(\"../../var/wv_industry_sg_window175_dim100.pickle\",\"rb\"))\n",
    "# advertiser_id_industry_w2v_model=pk.load(open(\"./wv_dir/wv_model/cross_wv_model_advertiser_id_industry_sg_window175_dim100.pickle\",\"rb\"))\n",
    "# product_category_advertiser_w2v_model=pk.load(open(\"./wv_dir/wv_model/cross_wv_model_product_category_advertiser_id_sg_window175_dim100.pickle\",\"rb\"))\n",
    "product_category_industry_w2v_model=pk.load(open(\"../../var/cross_wv_model_product_category_industry_sg_window175_dim100.pickle\",\"rb\"))\n",
    "product_id_advertiser_w2v_model=pk.load(open(\"../../var/cross_wv_model_product_id_advertiser_id_sg_window175_dim100.pickle\",\"rb\"))\n",
    "# product_id_industry_w2v_model=pk.load(open(\"./wv_dir/wv_model/cross_wv_model_product_id_industry_sg_window175_dim100.pickle\",\"rb\"))\n",
    "# product_id_product_category_w2v_model=pk.load(open(\"./wv_dir/wv_model/cross_wv_model_product_id_product_category_sg_window175_dim100.pickle\",\"rb\"))"
   ]
  },
  {
   "cell_type": "code",
   "execution_count": 11,
   "metadata": {},
   "outputs": [],
   "source": [
    "full_info=pd.read_csv(\"../../var/fjw/full_ad.csv\")\n",
    "w2v_models=[creative_id_w2v_model,ad_id_w2v_model,product_id_w2v_model,product_category_w2v_model,\\\n",
    "            advertiser_id_w2v_model,industry_w2v_model,product_id_advertiser_w2v_model,\\\n",
    "            product_category_industry_w2v_model]\n",
    "# w2v_models=[creative_id_w2v_model,ad_id_w2v_model,product_id_w2v_model,product_category_w2v_model,\\\n",
    "#             advertiser_id_w2v_model,industry_w2v_model,advertiser_id_industry_w2v_model,\\\n",
    "#             product_category_advertiser_w2v_model,product_category_industry_w2v_model,\\\n",
    "#             product_id_advertiser_w2v_model,product_id_industry_w2v_model,product_id_product_category_w2v_model]"
   ]
  },
  {
   "cell_type": "code",
   "execution_count": 12,
   "metadata": {},
   "outputs": [
    {
     "name": "stderr",
     "output_type": "stream",
     "text": [
      "/home/huangweilin/anaconda3/envs/fjw/lib/python3.6/site-packages/ipykernel_launcher.py:2: TqdmDeprecationWarning: This function will be removed in tqdm==5.0.0\n",
      "Please use `tqdm.notebook.tqdm` instead of `tqdm.tqdm_notebook`\n",
      "  \n"
     ]
    },
    {
     "data": {
      "application/vnd.jupyter.widget-view+json": {
       "model_id": "05f03bc8875a4912a06d34f808a35e05",
       "version_major": 2,
       "version_minor": 0
      },
      "text/plain": [
       "HBox(children=(IntProgress(value=0, max=9984), HTML(value='')))"
      ]
     },
     "metadata": {},
     "output_type": "display_data"
    },
    {
     "name": "stdout",
     "output_type": "stream",
     "text": [
      "\n"
     ]
    },
    {
     "name": "stderr",
     "output_type": "stream",
     "text": [
      "/home/huangweilin/anaconda3/envs/fjw/lib/python3.6/site-packages/ipykernel_launcher.py:26: TqdmDeprecationWarning: This function will be removed in tqdm==5.0.0\n",
      "Please use `tqdm.notebook.tqdm` instead of `tqdm.tqdm_notebook`\n"
     ]
    },
    {
     "data": {
      "application/vnd.jupyter.widget-view+json": {
       "model_id": "6ddb1c5b56134e2ab3cb731304d47b1b",
       "version_major": 2,
       "version_minor": 0
      },
      "text/plain": [
       "HBox(children=(IntProgress(value=0, max=9984), HTML(value='')))"
      ]
     },
     "metadata": {},
     "output_type": "display_data"
    },
    {
     "name": "stdout",
     "output_type": "stream",
     "text": [
      "\n"
     ]
    }
   ],
   "source": [
    "target_map_dict=dict()\n",
    "for idx in tqdm(range(full_info.shape[0])):\n",
    "    sample=full_info.iloc[idx]\n",
    "    idxs=[ '0' if e=='\\\\N' else str(e) for e in sample.tolist()]\n",
    "    value=[]\n",
    "    for i in range(8):\n",
    "        if i<6:\n",
    "            value.append(w2v_models[i].wv[idxs[i]])\n",
    "        elif i==6:\n",
    "            value.append(w2v_models[i].wv[idxs[2]+\"_\"+idxs[4]])\n",
    "        else:\n",
    "            value.append(w2v_models[i].wv[idxs[3]+\"_\"+idxs[5]]) \n",
    "#     for i in range(8):\n",
    "#         if i<6:\n",
    "#             value.append(glove_models[i][idxs[i]])\n",
    "#         elif i==6:\n",
    "#             value.append(glove_models[i][idxs[2]+\"_\"+idxs[4]])\n",
    "#         else:\n",
    "#             value.append(glove_models[i][idxs[3]+\"_\"+idxs[5]]) \n",
    "    value=np.concatenate(value)\n",
    "    target_map_dict[\"_\".join(idxs)]=value.astype(np.float32)\n",
    "info=pd.Series(target_map_dict)\n",
    "del target_map_dict,w2v_models\n",
    "gc.collect()\n",
    "new_w2v_info=np.zeros((4445720+1,1100)).astype(np.float32)\n",
    "for index in tqdm(info.index):\n",
    "    new_w2v_info[int(index.split(\"_\")[0])]=info.loc[index]\n",
    "np.save(\"../../var/fjw/w2v_model_dim200.npy\",new_w2v_info)"
   ]
  },
  {
   "cell_type": "code",
   "execution_count": 13,
   "metadata": {},
   "outputs": [],
   "source": [
    "creative_id_glove_model=pk.load(open(\"../../var/se_glove_creative_id_200dim.pickle\",\"rb\"))\n",
    "ad_id_glove_model=pk.load(open(\"../../var/se_glove_ad_id_200dim.pickle\",\"rb\"))\n",
    "advertiser_id_glove_model=pk.load(open(\"../../var/se_glove_advertiser_id_200dim.pickle\",\"rb\"))\n",
    "product_id_glove_model=pk.load(open(\"../../var/se_glove_product_id_100dim.pickle\",\"rb\"))\n",
    "product_category_glove_model=pk.load(open(\"../../var/se_glove_product_category_100dim.pickle\",\"rb\"))\n",
    "industry_glove_model=pk.load(open(\"../../var/se_glove_industry_100dim.pickle\",\"rb\"))\n",
    "# advertiser_id_industry_glove_model=pk.load(open(\"./wv_dir/glove_wv/se_glove_advertiser_id_industry.pickle\",\"rb\"))\n",
    "# product_category_advertiser_glove_model=pk.load(open(\"./wv_dir/glove_wv/se_glove_product_category_advertiser_id.pickle\",\"rb\"))\n",
    "product_category_industry_glove_model=pk.load(open(\"../../var/se_glove_product_category_industry_100dim.pickle\",\"rb\"))\n",
    "product_id_advertiser_glove_model=pk.load(open(\"../../var/se_glove_product_id_advertiser_id_100dim.pickle\",\"rb\"))\n",
    "# product_id_industry_glove_model=pk.load(open(\"./wv_dir/glove_wv/se_glove_product_id_industry.pickle\",\"rb\"))\n",
    "# product_id_product_category_glove_model=pk.load(open(\"./wv_dir/glove_wv/se_glove_product_id_product_category.pickle\",\"rb\"))"
   ]
  },
  {
   "cell_type": "code",
   "execution_count": 14,
   "metadata": {},
   "outputs": [],
   "source": [
    "full_info=pd.read_csv(\"../../var/fjw/full_ad.csv\")\n",
    "glove_models=[creative_id_glove_model,ad_id_glove_model,product_id_glove_model,product_category_glove_model,\\\n",
    "            advertiser_id_glove_model,industry_glove_model,product_id_advertiser_glove_model,\\\n",
    "            product_category_industry_glove_model]\n",
    "# glove_models=[creative_id_glove_model,ad_id_glove_model,product_id_glove_model,product_category_glove_model,\\\n",
    "#             advertiser_id_glove_model,industry_glove_model,advertiser_id_industry_glove_model,\\\n",
    "#             product_category_advertiser_glove_model,product_category_industry_glove_model,\\\n",
    "#             product_id_advertiser_glove_model,product_id_industry_glove_model,product_id_product_category_glove_model]"
   ]
  },
  {
   "cell_type": "code",
   "execution_count": 15,
   "metadata": {},
   "outputs": [
    {
     "name": "stderr",
     "output_type": "stream",
     "text": [
      "/home/huangweilin/anaconda3/envs/fjw/lib/python3.6/site-packages/ipykernel_launcher.py:2: TqdmDeprecationWarning: This function will be removed in tqdm==5.0.0\n",
      "Please use `tqdm.notebook.tqdm` instead of `tqdm.tqdm_notebook`\n",
      "  \n"
     ]
    },
    {
     "data": {
      "application/vnd.jupyter.widget-view+json": {
       "model_id": "41e7a4645eff4d19b27399936eb7030a",
       "version_major": 2,
       "version_minor": 0
      },
      "text/plain": [
       "HBox(children=(IntProgress(value=0, max=9984), HTML(value='')))"
      ]
     },
     "metadata": {},
     "output_type": "display_data"
    },
    {
     "name": "stdout",
     "output_type": "stream",
     "text": [
      "\n"
     ]
    }
   ],
   "source": [
    "target_map_dict=dict()\n",
    "for idx in tqdm(range(full_info.shape[0])):\n",
    "    sample=full_info.iloc[idx]\n",
    "    idxs=[ '0' if e=='\\\\N' else str(e) for e in sample.tolist()]\n",
    "    value=[]\n",
    "#     for i in range(8):\n",
    "#         if i<6:\n",
    "#             value.append(w2v_models[i].wv[idxs[i]])\n",
    "#         elif i==6:\n",
    "#             value.append(w2v_models[i].wv[idxs[2]+\"_\"+idxs[4]])\n",
    "#         else:\n",
    "#             value.append(w2v_models[i].wv[idxs[3]+\"_\"+idxs[5]]) \n",
    "    for i in range(8):\n",
    "        if i<6:\n",
    "            value.append(glove_models[i][idxs[i]])\n",
    "        elif i==6:\n",
    "            value.append(glove_models[i][idxs[2]+\"_\"+idxs[4]])\n",
    "        else:\n",
    "            value.append(glove_models[i][idxs[3]+\"_\"+idxs[5]]) \n",
    "    value=np.concatenate(value)\n",
    "    target_map_dict[\"_\".join(idxs)]=value.astype(np.float32)\n",
    "info=pd.Series(target_map_dict)\n"
   ]
  },
  {
   "cell_type": "code",
   "execution_count": 16,
   "metadata": {},
   "outputs": [
    {
     "name": "stderr",
     "output_type": "stream",
     "text": [
      "/home/huangweilin/anaconda3/envs/fjw/lib/python3.6/site-packages/ipykernel_launcher.py:2: TqdmDeprecationWarning: This function will be removed in tqdm==5.0.0\n",
      "Please use `tqdm.notebook.tqdm` instead of `tqdm.tqdm_notebook`\n",
      "  \n"
     ]
    },
    {
     "data": {
      "application/vnd.jupyter.widget-view+json": {
       "model_id": "c347fbd3132d48c1b24f72fd6f0b6f42",
       "version_major": 2,
       "version_minor": 0
      },
      "text/plain": [
       "HBox(children=(IntProgress(value=0, max=9984), HTML(value='')))"
      ]
     },
     "metadata": {},
     "output_type": "display_data"
    },
    {
     "name": "stdout",
     "output_type": "stream",
     "text": [
      "\n"
     ]
    }
   ],
   "source": [
    "new_glove_info=np.zeros((4445720+1,1100)).astype(np.float32)\n",
    "for index in tqdm(info.index):\n",
    "    new_glove_info[int(index.split(\"_\")[0])]=info.loc[index]\n",
    "np.save(\"../../var/fjw/glove_model_200dim.npy\",new_glove_info)"
   ]
  },
  {
   "cell_type": "code",
   "execution_count": 17,
   "metadata": {},
   "outputs": [
    {
     "name": "stderr",
     "output_type": "stream",
     "text": [
      "/home/huangweilin/anaconda3/envs/fjw/lib/python3.6/site-packages/ipykernel_launcher.py:2: TqdmDeprecationWarning: This function will be removed in tqdm==5.0.0\n",
      "Please use `tqdm.notebook.tqdm` instead of `tqdm.tqdm_notebook`\n",
      "  \n"
     ]
    },
    {
     "data": {
      "application/vnd.jupyter.widget-view+json": {
       "model_id": "74663f7debef4eb882dc16019e86bd58",
       "version_major": 2,
       "version_minor": 0
      },
      "text/plain": [
       "HBox(children=(IntProgress(value=0, max=9984), HTML(value='')))"
      ]
     },
     "metadata": {},
     "output_type": "display_data"
    },
    {
     "name": "stdout",
     "output_type": "stream",
     "text": [
      "\n"
     ]
    }
   ],
   "source": [
    "new_glove_info=np.zeros((4445720+1,1100)).astype(np.float32)\n",
    "for index in tqdm(info.index):\n",
    "    new_glove_info[int(index.split(\"_\")[0])]=info.loc[index]\n",
    "np.save(\"../../var/hyr/glove_model_200dim.npy\",new_glove_info)"
   ]
  }
 ],
 "metadata": {
  "kernelspec": {
   "display_name": "fjw",
   "language": "python",
   "name": "fjw"
  },
  "language_info": {
   "codemirror_mode": {
    "name": "ipython",
    "version": 3
   },
   "file_extension": ".py",
   "mimetype": "text/x-python",
   "name": "python",
   "nbconvert_exporter": "python",
   "pygments_lexer": "ipython3",
   "version": "3.6.9"
  },
  "toc": {
   "base_numbering": 1,
   "nav_menu": {},
   "number_sections": true,
   "sideBar": true,
   "skip_h1_title": false,
   "title_cell": "Table of Contents",
   "title_sidebar": "Contents",
   "toc_cell": false,
   "toc_position": {},
   "toc_section_display": true,
   "toc_window_display": false
  }
 },
 "nbformat": 4,
 "nbformat_minor": 2
}

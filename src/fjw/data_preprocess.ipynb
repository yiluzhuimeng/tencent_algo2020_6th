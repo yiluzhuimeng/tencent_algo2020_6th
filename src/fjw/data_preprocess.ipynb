{
 "cells": [
  {
   "cell_type": "code",
   "execution_count": 1,
   "metadata": {
    "code_folding": [
     20
    ],
    "scrolled": true
   },
   "outputs": [
    {
     "name": "stderr",
     "output_type": "stream",
     "text": [
      "/home/huangweilin/anaconda3/envs/fjw/lib/python3.6/site-packages/tensorflow/python/framework/dtypes.py:523: FutureWarning: Passing (type, 1) or '1type' as a synonym of type is deprecated; in a future version of numpy, it will be understood as (type, (1,)) / '(1,)type'.\n",
      "  _np_qint8 = np.dtype([(\"qint8\", np.int8, 1)])\n",
      "/home/huangweilin/anaconda3/envs/fjw/lib/python3.6/site-packages/tensorflow/python/framework/dtypes.py:524: FutureWarning: Passing (type, 1) or '1type' as a synonym of type is deprecated; in a future version of numpy, it will be understood as (type, (1,)) / '(1,)type'.\n",
      "  _np_quint8 = np.dtype([(\"quint8\", np.uint8, 1)])\n",
      "/home/huangweilin/anaconda3/envs/fjw/lib/python3.6/site-packages/tensorflow/python/framework/dtypes.py:525: FutureWarning: Passing (type, 1) or '1type' as a synonym of type is deprecated; in a future version of numpy, it will be understood as (type, (1,)) / '(1,)type'.\n",
      "  _np_qint16 = np.dtype([(\"qint16\", np.int16, 1)])\n",
      "/home/huangweilin/anaconda3/envs/fjw/lib/python3.6/site-packages/tensorflow/python/framework/dtypes.py:526: FutureWarning: Passing (type, 1) or '1type' as a synonym of type is deprecated; in a future version of numpy, it will be understood as (type, (1,)) / '(1,)type'.\n",
      "  _np_quint16 = np.dtype([(\"quint16\", np.uint16, 1)])\n",
      "/home/huangweilin/anaconda3/envs/fjw/lib/python3.6/site-packages/tensorflow/python/framework/dtypes.py:527: FutureWarning: Passing (type, 1) or '1type' as a synonym of type is deprecated; in a future version of numpy, it will be understood as (type, (1,)) / '(1,)type'.\n",
      "  _np_qint32 = np.dtype([(\"qint32\", np.int32, 1)])\n",
      "/home/huangweilin/anaconda3/envs/fjw/lib/python3.6/site-packages/tensorflow/python/framework/dtypes.py:532: FutureWarning: Passing (type, 1) or '1type' as a synonym of type is deprecated; in a future version of numpy, it will be understood as (type, (1,)) / '(1,)type'.\n",
      "  np_resource = np.dtype([(\"resource\", np.ubyte, 1)])\n"
     ]
    }
   ],
   "source": [
    "import pandas as pd\n",
    "import numpy as np\n",
    "from tqdm import tqdm_notebook as tqdm\n",
    "import _pickle as pk\n",
    "import os\n",
    "from IPython.display import display,HTML\n",
    "from category_encoders import *\n",
    "import pandas as pd\n",
    "import matplotlib.pyplot as plt\n",
    "from sklearn.model_selection import KFold\n",
    "from transformers import *\n",
    "import torch\n",
    "import torch.nn as nn\n",
    "import torch.nn.init as init\n",
    "import torch.nn.functional as F\n",
    "import torch.utils.data as Data\n",
    "from torch.nn.utils.rnn import pad_sequence\n",
    "from torch.nn.utils.rnn import pack_padded_sequence\n",
    "from torch.nn.utils.rnn import pad_packed_sequence\n",
    "from torch.nn.utils.rnn import pack_sequence\n",
    "np.random.seed(13)\n",
    "import collections\n",
    "import time\n",
    "import logging\n",
    "import multiprocessing\n",
    "import copy\n",
    "logger = logging.getLogger(__name__)\n",
    "from collections import defaultdict\n",
    "logging.basicConfig(\n",
    "    format=\"%(asctime)s - %(levelname)s - %(name)s -   %(message)s\",\n",
    "    datefmt=\"%m/%d/%Y %H:%M:%S\",\n",
    "    level=logging.INFO \n",
    ")\n",
    "ARG=collections.namedtuple('ARG',['train_batch_size',\n",
    " 'eval_batch_size',\n",
    " 'weight_decay',\n",
    " 'learning_rate',\n",
    " 'adam_epsilon',\n",
    " 'num_train_epochs',\n",
    " 'warmup_steps',\n",
    " 'gradient_accumulation_steps',\n",
    " 'save_steps',\n",
    " 'max_grad_norm',\n",
    " 'model_name_or_path',\n",
    " 'output_dir',\n",
    " 'seed',\n",
    " 'device',\n",
    " 'n_gpu',\n",
    " 'max_steps',\n",
    " 'output_mode',\n",
    "'fp16_opt_level',\n",
    "'fp16',\n",
    "'card_list'])"
   ]
  },
  {
   "cell_type": "code",
   "execution_count": 138,
   "metadata": {},
   "outputs": [],
   "source": [
    "test_num=1  #用于测试的比例，使用全部数据则test_num为1，使用 1/1000为1000"
   ]
  },
  {
   "cell_type": "markdown",
   "metadata": {
    "heading_collapsed": true
   },
   "source": [
    "## Target Encoding"
   ]
  },
  {
   "cell_type": "code",
   "execution_count": 2,
   "metadata": {
    "hidden": true
   },
   "outputs": [],
   "source": [
    "train_click_log=pd.read_csv(\"../../var/data/train_preliminary/click_log.csv\")\n",
    "train_usr_label=pd.read_csv(\"../../var/data/train_preliminary/user.csv\")\n",
    "train_ad_info=pd.read_csv(\"../../var/data/train_preliminary/ad.csv\")\n",
    "new_train_click_log=pd.read_csv(\"../../var/data/train_semi_final/click_log.csv\")\n",
    "new_train_usr_label=pd.read_csv(\"../../var/data/train_semi_final/user.csv\")\n",
    "new_train_ad_info=pd.read_csv(\"../../var/data/train_semi_final/ad.csv\")"
   ]
  },
  {
   "cell_type": "code",
   "execution_count": 3,
   "metadata": {
    "hidden": true
   },
   "outputs": [],
   "source": [
    "train_usr_label=pd.concat([train_usr_label,new_train_usr_label]).drop_duplicates()\n",
    "train_click_log=pd.concat([train_click_log,new_train_click_log]).drop_duplicates()\n",
    "train_ad_info=pd.concat([train_ad_info,new_train_ad_info]).drop_duplicates()"
   ]
  },
  {
   "cell_type": "code",
   "execution_count": 4,
   "metadata": {
    "hidden": true
   },
   "outputs": [],
   "source": [
    "test_click_log=pd.read_csv(\"../../var/data/test/click_log.csv\")\n",
    "test_ad_info=pd.read_csv(\"../../var/data/test/ad.csv\")"
   ]
  },
  {
   "cell_type": "code",
   "execution_count": 5,
   "metadata": {
    "hidden": true
   },
   "outputs": [],
   "source": [
    "cid_list=train_click_log['creative_id'].to_list()\n",
    "train_full_info=pd.merge(train_click_log,train_ad_info.query('creative_id==@cid_list'),how='left')\n",
    "train_full_info=pd.merge(train_full_info,train_usr_label,how='left')\n",
    "train_full_info=pd.get_dummies(train_full_info,columns=['age','gender'])"
   ]
  },
  {
   "cell_type": "code",
   "execution_count": 6,
   "metadata": {
    "hidden": true
   },
   "outputs": [],
   "source": [
    "\n",
    "cid_list=test_click_log['creative_id'].to_list()\n",
    "test_full_info=pd.merge(test_click_log,test_ad_info.query('creative_id==@cid_list'),how='left')"
   ]
  },
  {
   "cell_type": "code",
   "execution_count": 8,
   "metadata": {
    "hidden": true
   },
   "outputs": [
    {
     "name": "stdout",
     "output_type": "stream",
     "text": [
      "click_times\n",
      "time\n",
      "creative_id\n",
      "ad_id\n",
      "product_id\n",
      "product_category\n",
      "advertiser_id\n",
      "industry\n",
      "click_times\n",
      "time\n",
      "creative_id\n",
      "ad_id\n",
      "product_id\n",
      "product_category\n",
      "advertiser_id\n",
      "industry\n"
     ]
    }
   ],
   "source": [
    "cols=['click_times','time','creative_id', 'ad_id','product_id','product_category','advertiser_id','industry'] \n",
    "for col in cols:\n",
    "    print(col)\n",
    "    pk.dump(train_full_info[[\"user_id\"]+[col]+['age_'+str(i) for i in range(1,11)]\\\n",
    "            +['gender_'+str(i) for i in range(1,3)]],\\\n",
    "            open(\"../../var/fjw/train_mid/\"+col+\"_full_info.pk\",\"wb\"))\n",
    "cols=['click_times','time','creative_id', 'ad_id','product_id','product_category','advertiser_id','industry'] \n",
    "for col in cols:\n",
    "    print(col)\n",
    "    pk.dump(test_full_info[[\"user_id\"]+[col]],\\\n",
    "            open(\"../../var/fjw/test_mid/\"+col+\"_full_info.pk\",\"wb\"))"
   ]
  },
  {
   "cell_type": "code",
   "execution_count": 9,
   "metadata": {
    "code_folding": [
     3
    ],
    "hidden": true
   },
   "outputs": [
    {
     "name": "stdout",
     "output_type": "stream",
     "text": [
      "+++++++++++++++++click_times\n"
     ]
    },
    {
     "name": "stderr",
     "output_type": "stream",
     "text": [
      "/home/huangweilin/anaconda3/envs/fjw/lib/python3.6/site-packages/ipykernel_launcher.py:19: TqdmDeprecationWarning: This function will be removed in tqdm==5.0.0\n",
      "Please use `tqdm.notebook.tqdm` instead of `tqdm.tqdm_notebook`\n"
     ]
    },
    {
     "data": {
      "application/vnd.jupyter.widget-view+json": {
       "model_id": "abfbe16eeafe4c69950c52c101f31f1f",
       "version_major": 2,
       "version_minor": 0
      },
      "text/plain": [
       "HBox(children=(IntProgress(value=1, bar_style='info', max=1), HTML(value='')))"
      ]
     },
     "metadata": {},
     "output_type": "display_data"
    },
    {
     "name": "stdout",
     "output_type": "stream",
     "text": [
      "第 1 折\n",
      "encoding... age_1\n",
      "end...\n",
      "encoding... age_2\n",
      "end...\n",
      "encoding... age_3\n",
      "end...\n",
      "encoding... age_4\n",
      "end...\n",
      "encoding... age_5\n",
      "end...\n",
      "encoding... age_6\n",
      "end...\n",
      "encoding... age_7\n",
      "end...\n",
      "encoding... age_8\n",
      "end...\n",
      "encoding... age_9\n",
      "end...\n",
      "encoding... age_10\n",
      "end...\n",
      "encoding... gender_1\n",
      "end...\n",
      "encoding... gender_2\n",
      "end...\n",
      "第 2 折\n",
      "encoding... age_1\n",
      "end...\n",
      "encoding... age_2\n",
      "end...\n",
      "encoding... age_3\n",
      "end...\n",
      "encoding... age_4\n",
      "end...\n",
      "encoding... age_5\n",
      "end...\n",
      "encoding... age_6\n",
      "end...\n",
      "encoding... age_7\n",
      "end...\n",
      "encoding... age_8\n",
      "end...\n",
      "encoding... age_9\n",
      "end...\n",
      "encoding... age_10\n",
      "end...\n",
      "encoding... gender_1\n",
      "end...\n",
      "encoding... gender_2\n",
      "end...\n",
      "第 3 折\n",
      "encoding... age_1\n",
      "end...\n",
      "encoding... age_2\n",
      "end...\n",
      "encoding... age_3\n",
      "end...\n",
      "encoding... age_4\n",
      "end...\n",
      "encoding... age_5\n",
      "end...\n",
      "encoding... age_6\n",
      "end...\n",
      "encoding... age_7\n",
      "end...\n",
      "encoding... age_8\n",
      "end...\n",
      "encoding... age_9\n",
      "end...\n",
      "encoding... age_10\n",
      "end...\n",
      "encoding... gender_1\n",
      "end...\n",
      "encoding... gender_2\n",
      "end...\n",
      "第 4 折\n",
      "encoding... age_1\n",
      "end...\n",
      "encoding... age_2\n",
      "end...\n",
      "encoding... age_3\n",
      "end...\n",
      "encoding... age_4\n",
      "end...\n",
      "encoding... age_5\n",
      "end...\n",
      "encoding... age_6\n",
      "end...\n",
      "encoding... age_7\n",
      "end...\n",
      "encoding... age_8\n",
      "end...\n",
      "encoding... age_9\n",
      "end...\n",
      "encoding... age_10\n",
      "end...\n",
      "encoding... gender_1\n",
      "end...\n",
      "encoding... gender_2\n",
      "end...\n",
      "第 5 折\n",
      "encoding... age_1\n",
      "end...\n",
      "encoding... age_2\n",
      "end...\n",
      "encoding... age_3\n",
      "end...\n",
      "encoding... age_4\n",
      "end...\n",
      "encoding... age_5\n",
      "end...\n",
      "encoding... age_6\n",
      "end...\n",
      "encoding... age_7\n",
      "end...\n",
      "encoding... age_8\n",
      "end...\n",
      "encoding... age_9\n",
      "end...\n",
      "encoding... age_10\n",
      "end...\n",
      "encoding... gender_1\n",
      "end...\n",
      "encoding... gender_2\n",
      "end...\n",
      "\n"
     ]
    },
    {
     "name": "stderr",
     "output_type": "stream",
     "text": [
      "/home/huangweilin/anaconda3/envs/fjw/lib/python3.6/site-packages/ipykernel_launcher.py:42: TqdmDeprecationWarning: This function will be removed in tqdm==5.0.0\n",
      "Please use `tqdm.notebook.tqdm` instead of `tqdm.tqdm_notebook`\n"
     ]
    },
    {
     "data": {
      "application/vnd.jupyter.widget-view+json": {
       "model_id": "93015ed4f50e4113abe893f3760828bd",
       "version_major": 2,
       "version_minor": 0
      },
      "text/plain": [
       "HBox(children=(IntProgress(value=0, max=4), HTML(value='')))"
      ]
     },
     "metadata": {},
     "output_type": "display_data"
    },
    {
     "name": "stdout",
     "output_type": "stream",
     "text": [
      "\n",
      "click_times   age_1\n"
     ]
    },
    {
     "data": {
      "application/vnd.jupyter.widget-view+json": {
       "model_id": "e45f5ad0b65a4acfb027627878da816d",
       "version_major": 2,
       "version_minor": 0
      },
      "text/plain": [
       "HBox(children=(IntProgress(value=0, max=4), HTML(value='')))"
      ]
     },
     "metadata": {},
     "output_type": "display_data"
    },
    {
     "name": "stdout",
     "output_type": "stream",
     "text": [
      "\n",
      "click_times   age_2\n"
     ]
    },
    {
     "data": {
      "application/vnd.jupyter.widget-view+json": {
       "model_id": "e12b1cbfa8994fc9ac249751a981ef60",
       "version_major": 2,
       "version_minor": 0
      },
      "text/plain": [
       "HBox(children=(IntProgress(value=0, max=4), HTML(value='')))"
      ]
     },
     "metadata": {},
     "output_type": "display_data"
    },
    {
     "name": "stdout",
     "output_type": "stream",
     "text": [
      "\n",
      "click_times   age_3\n"
     ]
    },
    {
     "data": {
      "application/vnd.jupyter.widget-view+json": {
       "model_id": "ad6eef3b0d31424bb25d7960394e85ed",
       "version_major": 2,
       "version_minor": 0
      },
      "text/plain": [
       "HBox(children=(IntProgress(value=0, max=4), HTML(value='')))"
      ]
     },
     "metadata": {},
     "output_type": "display_data"
    },
    {
     "name": "stdout",
     "output_type": "stream",
     "text": [
      "\n",
      "click_times   age_4\n"
     ]
    },
    {
     "data": {
      "application/vnd.jupyter.widget-view+json": {
       "model_id": "3024f4711166494fb7863108bdcafc91",
       "version_major": 2,
       "version_minor": 0
      },
      "text/plain": [
       "HBox(children=(IntProgress(value=0, max=4), HTML(value='')))"
      ]
     },
     "metadata": {},
     "output_type": "display_data"
    },
    {
     "name": "stdout",
     "output_type": "stream",
     "text": [
      "\n",
      "click_times   age_5\n"
     ]
    },
    {
     "data": {
      "application/vnd.jupyter.widget-view+json": {
       "model_id": "bec013bd6acd4a9fafccc33ae12ead79",
       "version_major": 2,
       "version_minor": 0
      },
      "text/plain": [
       "HBox(children=(IntProgress(value=0, max=4), HTML(value='')))"
      ]
     },
     "metadata": {},
     "output_type": "display_data"
    },
    {
     "name": "stdout",
     "output_type": "stream",
     "text": [
      "\n",
      "click_times   age_6\n"
     ]
    },
    {
     "data": {
      "application/vnd.jupyter.widget-view+json": {
       "model_id": "396b3ec90d524f099ede91824375ca59",
       "version_major": 2,
       "version_minor": 0
      },
      "text/plain": [
       "HBox(children=(IntProgress(value=0, max=4), HTML(value='')))"
      ]
     },
     "metadata": {},
     "output_type": "display_data"
    },
    {
     "name": "stdout",
     "output_type": "stream",
     "text": [
      "\n",
      "click_times   age_7\n"
     ]
    },
    {
     "data": {
      "application/vnd.jupyter.widget-view+json": {
       "model_id": "c757d039984947af81fcfa0588bf66fd",
       "version_major": 2,
       "version_minor": 0
      },
      "text/plain": [
       "HBox(children=(IntProgress(value=0, max=4), HTML(value='')))"
      ]
     },
     "metadata": {},
     "output_type": "display_data"
    },
    {
     "name": "stdout",
     "output_type": "stream",
     "text": [
      "\n",
      "click_times   age_8\n"
     ]
    },
    {
     "data": {
      "application/vnd.jupyter.widget-view+json": {
       "model_id": "9018c090d39f4484b16ff1fa859ad04b",
       "version_major": 2,
       "version_minor": 0
      },
      "text/plain": [
       "HBox(children=(IntProgress(value=0, max=4), HTML(value='')))"
      ]
     },
     "metadata": {},
     "output_type": "display_data"
    },
    {
     "name": "stdout",
     "output_type": "stream",
     "text": [
      "\n",
      "click_times   age_9\n"
     ]
    },
    {
     "data": {
      "application/vnd.jupyter.widget-view+json": {
       "model_id": "dd2e3c1317144fd0a98213abb91737b5",
       "version_major": 2,
       "version_minor": 0
      },
      "text/plain": [
       "HBox(children=(IntProgress(value=0, max=4), HTML(value='')))"
      ]
     },
     "metadata": {},
     "output_type": "display_data"
    },
    {
     "name": "stdout",
     "output_type": "stream",
     "text": [
      "\n",
      "click_times   age_10\n"
     ]
    },
    {
     "data": {
      "application/vnd.jupyter.widget-view+json": {
       "model_id": "fecb584ace214c3c947f6a858dd4c701",
       "version_major": 2,
       "version_minor": 0
      },
      "text/plain": [
       "HBox(children=(IntProgress(value=0, max=4), HTML(value='')))"
      ]
     },
     "metadata": {},
     "output_type": "display_data"
    },
    {
     "name": "stdout",
     "output_type": "stream",
     "text": [
      "\n",
      "click_times   gender_1\n"
     ]
    },
    {
     "data": {
      "application/vnd.jupyter.widget-view+json": {
       "model_id": "dae2bbd9716540369d5b720821a6a8c5",
       "version_major": 2,
       "version_minor": 0
      },
      "text/plain": [
       "HBox(children=(IntProgress(value=0, max=4), HTML(value='')))"
      ]
     },
     "metadata": {},
     "output_type": "display_data"
    },
    {
     "name": "stdout",
     "output_type": "stream",
     "text": [
      "\n",
      "click_times   gender_2\n"
     ]
    },
    {
     "name": "stderr",
     "output_type": "stream",
     "text": [
      "/home/huangweilin/anaconda3/envs/fjw/lib/python3.6/site-packages/ipykernel_launcher.py:60: TqdmDeprecationWarning: This function will be removed in tqdm==5.0.0\n",
      "Please use `tqdm.notebook.tqdm` instead of `tqdm.tqdm_notebook`\n"
     ]
    },
    {
     "data": {
      "application/vnd.jupyter.widget-view+json": {
       "model_id": "4bff6fdc8e794f4e810460271fb01fd2",
       "version_major": 2,
       "version_minor": 0
      },
      "text/plain": [
       "HBox(children=(IntProgress(value=1, bar_style='info', max=1), HTML(value='')))"
      ]
     },
     "metadata": {},
     "output_type": "display_data"
    },
    {
     "name": "stderr",
     "output_type": "stream",
     "text": [
      "/home/huangweilin/anaconda3/envs/fjw/lib/python3.6/site-packages/ipykernel_launcher.py:66: TqdmDeprecationWarning: This function will be removed in tqdm==5.0.0\n",
      "Please use `tqdm.notebook.tqdm` instead of `tqdm.tqdm_notebook`\n"
     ]
    },
    {
     "data": {
      "application/vnd.jupyter.widget-view+json": {
       "model_id": "7345aa85b6274afca9862dce6cc68531",
       "version_major": 2,
       "version_minor": 0
      },
      "text/plain": [
       "HBox(children=(IntProgress(value=0, max=1), HTML(value='')))"
      ]
     },
     "metadata": {},
     "output_type": "display_data"
    },
    {
     "name": "stdout",
     "output_type": "stream",
     "text": [
      "\n"
     ]
    },
    {
     "data": {
      "application/vnd.jupyter.widget-view+json": {
       "model_id": "e9a97fe1e2634a6dbfa769bc6908286d",
       "version_major": 2,
       "version_minor": 0
      },
      "text/plain": [
       "HBox(children=(IntProgress(value=0, max=1), HTML(value='')))"
      ]
     },
     "metadata": {},
     "output_type": "display_data"
    },
    {
     "name": "stdout",
     "output_type": "stream",
     "text": [
      "\n"
     ]
    },
    {
     "data": {
      "application/vnd.jupyter.widget-view+json": {
       "model_id": "3c2561018b064299bab7d6f27d159fb5",
       "version_major": 2,
       "version_minor": 0
      },
      "text/plain": [
       "HBox(children=(IntProgress(value=0, max=1), HTML(value='')))"
      ]
     },
     "metadata": {},
     "output_type": "display_data"
    },
    {
     "name": "stdout",
     "output_type": "stream",
     "text": [
      "\n"
     ]
    },
    {
     "data": {
      "application/vnd.jupyter.widget-view+json": {
       "model_id": "446dc4aecefc45b1834ecf43643094e4",
       "version_major": 2,
       "version_minor": 0
      },
      "text/plain": [
       "HBox(children=(IntProgress(value=0, max=1), HTML(value='')))"
      ]
     },
     "metadata": {},
     "output_type": "display_data"
    },
    {
     "name": "stdout",
     "output_type": "stream",
     "text": [
      "\n"
     ]
    },
    {
     "data": {
      "application/vnd.jupyter.widget-view+json": {
       "model_id": "749d49feb08645b0aebe508e302ac1df",
       "version_major": 2,
       "version_minor": 0
      },
      "text/plain": [
       "HBox(children=(IntProgress(value=0, max=1), HTML(value='')))"
      ]
     },
     "metadata": {},
     "output_type": "display_data"
    },
    {
     "name": "stdout",
     "output_type": "stream",
     "text": [
      "\n",
      "\n"
     ]
    },
    {
     "name": "stderr",
     "output_type": "stream",
     "text": [
      "/home/huangweilin/anaconda3/envs/fjw/lib/python3.6/site-packages/ipykernel_launcher.py:84: TqdmDeprecationWarning: This function will be removed in tqdm==5.0.0\n",
      "Please use `tqdm.notebook.tqdm` instead of `tqdm.tqdm_notebook`\n"
     ]
    },
    {
     "data": {
      "application/vnd.jupyter.widget-view+json": {
       "model_id": "44964335bf3f4e7fa83219496cd64889",
       "version_major": 2,
       "version_minor": 0
      },
      "text/plain": [
       "HBox(children=(IntProgress(value=0, max=1), HTML(value='')))"
      ]
     },
     "metadata": {},
     "output_type": "display_data"
    },
    {
     "name": "stdout",
     "output_type": "stream",
     "text": [
      "\n",
      "+++++++++++++++++time\n"
     ]
    },
    {
     "data": {
      "application/vnd.jupyter.widget-view+json": {
       "model_id": "6c909472d3fc460d9eb429046c869c7a",
       "version_major": 2,
       "version_minor": 0
      },
      "text/plain": [
       "HBox(children=(IntProgress(value=1, bar_style='info', max=1), HTML(value='')))"
      ]
     },
     "metadata": {},
     "output_type": "display_data"
    },
    {
     "name": "stdout",
     "output_type": "stream",
     "text": [
      "第 1 折\n",
      "encoding... age_1\n",
      "end...\n",
      "encoding... age_2\n",
      "end...\n",
      "encoding... age_3\n",
      "end...\n",
      "encoding... age_4\n",
      "end...\n",
      "encoding... age_5\n",
      "end...\n",
      "encoding... age_6\n",
      "end...\n",
      "encoding... age_7\n",
      "end...\n",
      "encoding... age_8\n",
      "end...\n",
      "encoding... age_9\n",
      "end...\n",
      "encoding... age_10\n",
      "end...\n",
      "encoding... gender_1\n",
      "end...\n",
      "encoding... gender_2\n",
      "end...\n",
      "第 2 折\n",
      "encoding... age_1\n",
      "end...\n",
      "encoding... age_2\n",
      "end...\n",
      "encoding... age_3\n",
      "end...\n",
      "encoding... age_4\n",
      "end...\n",
      "encoding... age_5\n",
      "end...\n",
      "encoding... age_6\n",
      "end...\n",
      "encoding... age_7\n",
      "end...\n",
      "encoding... age_8\n",
      "end...\n",
      "encoding... age_9\n",
      "end...\n",
      "encoding... age_10\n",
      "end...\n",
      "encoding... gender_1\n",
      "end...\n",
      "encoding... gender_2\n",
      "end...\n",
      "第 3 折\n",
      "encoding... age_1\n",
      "end...\n",
      "encoding... age_2\n",
      "end...\n",
      "encoding... age_3\n",
      "end...\n",
      "encoding... age_4\n",
      "end...\n",
      "encoding... age_5\n",
      "end...\n",
      "encoding... age_6\n",
      "end...\n",
      "encoding... age_7\n",
      "end...\n",
      "encoding... age_8\n",
      "end...\n",
      "encoding... age_9\n",
      "end...\n",
      "encoding... age_10\n",
      "end...\n",
      "encoding... gender_1\n",
      "end...\n",
      "encoding... gender_2\n",
      "end...\n",
      "第 4 折\n",
      "encoding... age_1\n",
      "end...\n",
      "encoding... age_2\n",
      "end...\n",
      "encoding... age_3\n",
      "end...\n",
      "encoding... age_4\n",
      "end...\n",
      "encoding... age_5\n",
      "end...\n",
      "encoding... age_6\n",
      "end...\n",
      "encoding... age_7\n",
      "end...\n",
      "encoding... age_8\n",
      "end...\n",
      "encoding... age_9\n",
      "end...\n",
      "encoding... age_10\n",
      "end...\n",
      "encoding... gender_1\n",
      "end...\n",
      "encoding... gender_2\n",
      "end...\n",
      "第 5 折\n",
      "encoding... age_1\n",
      "end...\n",
      "encoding... age_2\n",
      "end...\n",
      "encoding... age_3\n",
      "end...\n",
      "encoding... age_4\n",
      "end...\n",
      "encoding... age_5\n",
      "end...\n",
      "encoding... age_6\n",
      "end...\n",
      "encoding... age_7\n",
      "end...\n",
      "encoding... age_8\n",
      "end...\n",
      "encoding... age_9\n",
      "end...\n",
      "encoding... age_10\n",
      "end...\n",
      "encoding... gender_1\n",
      "end...\n",
      "encoding... gender_2\n",
      "end...\n",
      "\n"
     ]
    },
    {
     "data": {
      "application/vnd.jupyter.widget-view+json": {
       "model_id": "243ee674d44b4543b574a32b390d23af",
       "version_major": 2,
       "version_minor": 0
      },
      "text/plain": [
       "HBox(children=(IntProgress(value=0, max=91), HTML(value='')))"
      ]
     },
     "metadata": {},
     "output_type": "display_data"
    },
    {
     "name": "stdout",
     "output_type": "stream",
     "text": [
      "\n",
      "time   age_1\n"
     ]
    },
    {
     "data": {
      "application/vnd.jupyter.widget-view+json": {
       "model_id": "ce5a15ee356e4082901fc6da2b0f4d81",
       "version_major": 2,
       "version_minor": 0
      },
      "text/plain": [
       "HBox(children=(IntProgress(value=0, max=91), HTML(value='')))"
      ]
     },
     "metadata": {},
     "output_type": "display_data"
    },
    {
     "name": "stdout",
     "output_type": "stream",
     "text": [
      "\n",
      "time   age_2\n"
     ]
    },
    {
     "data": {
      "application/vnd.jupyter.widget-view+json": {
       "model_id": "e0062f40157248bb9038f44977bf66ee",
       "version_major": 2,
       "version_minor": 0
      },
      "text/plain": [
       "HBox(children=(IntProgress(value=0, max=91), HTML(value='')))"
      ]
     },
     "metadata": {},
     "output_type": "display_data"
    },
    {
     "name": "stdout",
     "output_type": "stream",
     "text": [
      "\n",
      "time   age_3\n"
     ]
    },
    {
     "data": {
      "application/vnd.jupyter.widget-view+json": {
       "model_id": "641fd7a5708e40e3b360788e5dff58ff",
       "version_major": 2,
       "version_minor": 0
      },
      "text/plain": [
       "HBox(children=(IntProgress(value=0, max=91), HTML(value='')))"
      ]
     },
     "metadata": {},
     "output_type": "display_data"
    },
    {
     "name": "stdout",
     "output_type": "stream",
     "text": [
      "\n",
      "time   age_4\n"
     ]
    },
    {
     "data": {
      "application/vnd.jupyter.widget-view+json": {
       "model_id": "2102e6885dfe4c3ca940758b7e6c5684",
       "version_major": 2,
       "version_minor": 0
      },
      "text/plain": [
       "HBox(children=(IntProgress(value=0, max=91), HTML(value='')))"
      ]
     },
     "metadata": {},
     "output_type": "display_data"
    },
    {
     "name": "stdout",
     "output_type": "stream",
     "text": [
      "\n",
      "time   age_5\n"
     ]
    },
    {
     "data": {
      "application/vnd.jupyter.widget-view+json": {
       "model_id": "d8c298c203134b909bd00395755fe3c1",
       "version_major": 2,
       "version_minor": 0
      },
      "text/plain": [
       "HBox(children=(IntProgress(value=0, max=91), HTML(value='')))"
      ]
     },
     "metadata": {},
     "output_type": "display_data"
    },
    {
     "name": "stdout",
     "output_type": "stream",
     "text": [
      "\n",
      "time   age_6\n"
     ]
    },
    {
     "data": {
      "application/vnd.jupyter.widget-view+json": {
       "model_id": "a1bf5274e66d41ed9fa981eba12fb5a1",
       "version_major": 2,
       "version_minor": 0
      },
      "text/plain": [
       "HBox(children=(IntProgress(value=0, max=91), HTML(value='')))"
      ]
     },
     "metadata": {},
     "output_type": "display_data"
    },
    {
     "name": "stdout",
     "output_type": "stream",
     "text": [
      "\n",
      "time   age_7\n"
     ]
    },
    {
     "data": {
      "application/vnd.jupyter.widget-view+json": {
       "model_id": "8570af2c5a7e44548ea241c9ecb96405",
       "version_major": 2,
       "version_minor": 0
      },
      "text/plain": [
       "HBox(children=(IntProgress(value=0, max=91), HTML(value='')))"
      ]
     },
     "metadata": {},
     "output_type": "display_data"
    },
    {
     "name": "stdout",
     "output_type": "stream",
     "text": [
      "\n",
      "time   age_8\n"
     ]
    },
    {
     "data": {
      "application/vnd.jupyter.widget-view+json": {
       "model_id": "aeca1fdd928f49c6bf210b3a8e32e19d",
       "version_major": 2,
       "version_minor": 0
      },
      "text/plain": [
       "HBox(children=(IntProgress(value=0, max=91), HTML(value='')))"
      ]
     },
     "metadata": {},
     "output_type": "display_data"
    },
    {
     "name": "stdout",
     "output_type": "stream",
     "text": [
      "\n",
      "time   age_9\n"
     ]
    },
    {
     "data": {
      "application/vnd.jupyter.widget-view+json": {
       "model_id": "95e773f923de41eab17df289b4f3417b",
       "version_major": 2,
       "version_minor": 0
      },
      "text/plain": [
       "HBox(children=(IntProgress(value=0, max=91), HTML(value='')))"
      ]
     },
     "metadata": {},
     "output_type": "display_data"
    },
    {
     "name": "stdout",
     "output_type": "stream",
     "text": [
      "\n",
      "time   age_10\n"
     ]
    },
    {
     "data": {
      "application/vnd.jupyter.widget-view+json": {
       "model_id": "f58d2ca476ff4d7b9c2ffe8891679c49",
       "version_major": 2,
       "version_minor": 0
      },
      "text/plain": [
       "HBox(children=(IntProgress(value=0, max=91), HTML(value='')))"
      ]
     },
     "metadata": {},
     "output_type": "display_data"
    },
    {
     "name": "stdout",
     "output_type": "stream",
     "text": [
      "\n",
      "time   gender_1\n"
     ]
    },
    {
     "data": {
      "application/vnd.jupyter.widget-view+json": {
       "model_id": "5f8d18c232274d82acfde5ae902f40b4",
       "version_major": 2,
       "version_minor": 0
      },
      "text/plain": [
       "HBox(children=(IntProgress(value=0, max=91), HTML(value='')))"
      ]
     },
     "metadata": {},
     "output_type": "display_data"
    },
    {
     "name": "stdout",
     "output_type": "stream",
     "text": [
      "\n",
      "time   gender_2\n"
     ]
    },
    {
     "data": {
      "application/vnd.jupyter.widget-view+json": {
       "model_id": "4feeeee1964141f5895e7f62f3137325",
       "version_major": 2,
       "version_minor": 0
      },
      "text/plain": [
       "HBox(children=(IntProgress(value=1, bar_style='info', max=1), HTML(value='')))"
      ]
     },
     "metadata": {},
     "output_type": "display_data"
    },
    {
     "data": {
      "application/vnd.jupyter.widget-view+json": {
       "model_id": "b6a3e4c1ab9d4f739a882804d07701e3",
       "version_major": 2,
       "version_minor": 0
      },
      "text/plain": [
       "HBox(children=(IntProgress(value=0, max=1), HTML(value='')))"
      ]
     },
     "metadata": {},
     "output_type": "display_data"
    },
    {
     "name": "stdout",
     "output_type": "stream",
     "text": [
      "\n"
     ]
    },
    {
     "data": {
      "application/vnd.jupyter.widget-view+json": {
       "model_id": "fd31b86d72e14233a7f0ea68ed646de3",
       "version_major": 2,
       "version_minor": 0
      },
      "text/plain": [
       "HBox(children=(IntProgress(value=0, max=1), HTML(value='')))"
      ]
     },
     "metadata": {},
     "output_type": "display_data"
    },
    {
     "name": "stdout",
     "output_type": "stream",
     "text": [
      "\n"
     ]
    },
    {
     "data": {
      "application/vnd.jupyter.widget-view+json": {
       "model_id": "87c310421d2e4327a5000ff5b788f556",
       "version_major": 2,
       "version_minor": 0
      },
      "text/plain": [
       "HBox(children=(IntProgress(value=0, max=1), HTML(value='')))"
      ]
     },
     "metadata": {},
     "output_type": "display_data"
    },
    {
     "name": "stdout",
     "output_type": "stream",
     "text": [
      "\n"
     ]
    },
    {
     "data": {
      "application/vnd.jupyter.widget-view+json": {
       "model_id": "02a548a4def2479db94a18426ffff98c",
       "version_major": 2,
       "version_minor": 0
      },
      "text/plain": [
       "HBox(children=(IntProgress(value=0, max=1), HTML(value='')))"
      ]
     },
     "metadata": {},
     "output_type": "display_data"
    },
    {
     "name": "stdout",
     "output_type": "stream",
     "text": [
      "\n"
     ]
    },
    {
     "data": {
      "application/vnd.jupyter.widget-view+json": {
       "model_id": "97f3d3e3e8724909a6f51226060066a2",
       "version_major": 2,
       "version_minor": 0
      },
      "text/plain": [
       "HBox(children=(IntProgress(value=0, max=1), HTML(value='')))"
      ]
     },
     "metadata": {},
     "output_type": "display_data"
    },
    {
     "name": "stdout",
     "output_type": "stream",
     "text": [
      "\n",
      "\n"
     ]
    },
    {
     "data": {
      "application/vnd.jupyter.widget-view+json": {
       "model_id": "67ed4fcaa41d42f4a95c58b78df05d99",
       "version_major": 2,
       "version_minor": 0
      },
      "text/plain": [
       "HBox(children=(IntProgress(value=0, max=1), HTML(value='')))"
      ]
     },
     "metadata": {},
     "output_type": "display_data"
    },
    {
     "name": "stdout",
     "output_type": "stream",
     "text": [
      "\n",
      "+++++++++++++++++creative_id\n"
     ]
    },
    {
     "data": {
      "application/vnd.jupyter.widget-view+json": {
       "model_id": "3080ddfa5e9842b099312e174a27a489",
       "version_major": 2,
       "version_minor": 0
      },
      "text/plain": [
       "HBox(children=(IntProgress(value=1, bar_style='info', max=1), HTML(value='')))"
      ]
     },
     "metadata": {},
     "output_type": "display_data"
    },
    {
     "name": "stdout",
     "output_type": "stream",
     "text": [
      "第 1 折\n",
      "encoding... age_1\n",
      "end...\n",
      "encoding... age_2\n",
      "end...\n",
      "encoding... age_3\n",
      "end...\n",
      "encoding... age_4\n",
      "end...\n",
      "encoding... age_5\n",
      "end...\n",
      "encoding... age_6\n",
      "end...\n",
      "encoding... age_7\n",
      "end...\n",
      "encoding... age_8\n",
      "end...\n",
      "encoding... age_9\n",
      "end...\n",
      "encoding... age_10\n",
      "end...\n",
      "encoding... gender_1\n",
      "end...\n",
      "encoding... gender_2\n",
      "end...\n",
      "第 2 折\n",
      "encoding... age_1\n",
      "end...\n",
      "encoding... age_2\n",
      "end...\n",
      "encoding... age_3\n",
      "end...\n",
      "encoding... age_4\n",
      "end...\n",
      "encoding... age_5\n",
      "end...\n",
      "encoding... age_6\n",
      "end...\n",
      "encoding... age_7\n",
      "end...\n",
      "encoding... age_8\n",
      "end...\n",
      "encoding... age_9\n",
      "end...\n",
      "encoding... age_10\n",
      "end...\n",
      "encoding... gender_1\n",
      "end...\n",
      "encoding... gender_2\n",
      "end...\n",
      "第 3 折\n",
      "encoding... age_1\n",
      "end...\n",
      "encoding... age_2\n",
      "end...\n",
      "encoding... age_3\n",
      "end...\n",
      "encoding... age_4\n",
      "end...\n",
      "encoding... age_5\n",
      "end...\n",
      "encoding... age_6\n",
      "end...\n",
      "encoding... age_7\n",
      "end...\n",
      "encoding... age_8\n",
      "end...\n",
      "encoding... age_9\n",
      "end...\n",
      "encoding... age_10\n",
      "end...\n",
      "encoding... gender_1\n",
      "end...\n",
      "encoding... gender_2\n",
      "end...\n",
      "第 4 折\n",
      "encoding... age_1\n",
      "end...\n",
      "encoding... age_2\n",
      "end...\n",
      "encoding... age_3\n",
      "end...\n",
      "encoding... age_4\n",
      "end...\n",
      "encoding... age_5\n",
      "end...\n",
      "encoding... age_6\n",
      "end...\n",
      "encoding... age_7\n",
      "end...\n",
      "encoding... age_8\n",
      "end...\n",
      "encoding... age_9\n",
      "end...\n",
      "encoding... age_10\n",
      "end...\n",
      "encoding... gender_1\n",
      "end...\n",
      "encoding... gender_2\n",
      "end...\n",
      "第 5 折\n",
      "encoding... age_1\n",
      "end...\n",
      "encoding... age_2\n",
      "end...\n",
      "encoding... age_3\n",
      "end...\n",
      "encoding... age_4\n",
      "end...\n",
      "encoding... age_5\n",
      "end...\n",
      "encoding... age_6\n",
      "end...\n",
      "encoding... age_7\n",
      "end...\n",
      "encoding... age_8\n",
      "end...\n",
      "encoding... age_9\n",
      "end...\n",
      "encoding... age_10\n",
      "end...\n",
      "encoding... gender_1\n",
      "end...\n",
      "encoding... gender_2\n",
      "end...\n",
      "\n"
     ]
    },
    {
     "data": {
      "application/vnd.jupyter.widget-view+json": {
       "model_id": "5c50e3e801bd49b9a3cdce492ed48025",
       "version_major": 2,
       "version_minor": 0
      },
      "text/plain": [
       "HBox(children=(IntProgress(value=0, max=2764), HTML(value='')))"
      ]
     },
     "metadata": {},
     "output_type": "display_data"
    },
    {
     "name": "stdout",
     "output_type": "stream",
     "text": [
      "\n",
      "creative_id   age_1\n"
     ]
    },
    {
     "data": {
      "application/vnd.jupyter.widget-view+json": {
       "model_id": "020f9273b304420da5efda043bed5c76",
       "version_major": 2,
       "version_minor": 0
      },
      "text/plain": [
       "HBox(children=(IntProgress(value=0, max=2764), HTML(value='')))"
      ]
     },
     "metadata": {},
     "output_type": "display_data"
    },
    {
     "name": "stdout",
     "output_type": "stream",
     "text": [
      "\n",
      "creative_id   age_2\n"
     ]
    },
    {
     "data": {
      "application/vnd.jupyter.widget-view+json": {
       "model_id": "f1efe99766b44d23b2173280f549c010",
       "version_major": 2,
       "version_minor": 0
      },
      "text/plain": [
       "HBox(children=(IntProgress(value=0, max=2764), HTML(value='')))"
      ]
     },
     "metadata": {},
     "output_type": "display_data"
    },
    {
     "name": "stdout",
     "output_type": "stream",
     "text": [
      "\n",
      "creative_id   age_3\n"
     ]
    },
    {
     "data": {
      "application/vnd.jupyter.widget-view+json": {
       "model_id": "4aede56300ab45b793e5a74b57c3672d",
       "version_major": 2,
       "version_minor": 0
      },
      "text/plain": [
       "HBox(children=(IntProgress(value=0, max=2764), HTML(value='')))"
      ]
     },
     "metadata": {},
     "output_type": "display_data"
    },
    {
     "name": "stdout",
     "output_type": "stream",
     "text": [
      "\n",
      "creative_id   age_4\n"
     ]
    },
    {
     "data": {
      "application/vnd.jupyter.widget-view+json": {
       "model_id": "f6d66962526c4158856d279516a70255",
       "version_major": 2,
       "version_minor": 0
      },
      "text/plain": [
       "HBox(children=(IntProgress(value=0, max=2764), HTML(value='')))"
      ]
     },
     "metadata": {},
     "output_type": "display_data"
    },
    {
     "name": "stdout",
     "output_type": "stream",
     "text": [
      "\n",
      "creative_id   age_5\n"
     ]
    },
    {
     "data": {
      "application/vnd.jupyter.widget-view+json": {
       "model_id": "663a3bfefd374933a055814e20c3534c",
       "version_major": 2,
       "version_minor": 0
      },
      "text/plain": [
       "HBox(children=(IntProgress(value=0, max=2764), HTML(value='')))"
      ]
     },
     "metadata": {},
     "output_type": "display_data"
    },
    {
     "name": "stdout",
     "output_type": "stream",
     "text": [
      "\n",
      "creative_id   age_6\n"
     ]
    },
    {
     "data": {
      "application/vnd.jupyter.widget-view+json": {
       "model_id": "0e20f70541df4e0f9fcf772181307d4d",
       "version_major": 2,
       "version_minor": 0
      },
      "text/plain": [
       "HBox(children=(IntProgress(value=0, max=2764), HTML(value='')))"
      ]
     },
     "metadata": {},
     "output_type": "display_data"
    },
    {
     "name": "stdout",
     "output_type": "stream",
     "text": [
      "\n",
      "creative_id   age_7\n"
     ]
    },
    {
     "data": {
      "application/vnd.jupyter.widget-view+json": {
       "model_id": "deddb81dba764544910d10fd1f03c82b",
       "version_major": 2,
       "version_minor": 0
      },
      "text/plain": [
       "HBox(children=(IntProgress(value=0, max=2764), HTML(value='')))"
      ]
     },
     "metadata": {},
     "output_type": "display_data"
    },
    {
     "name": "stdout",
     "output_type": "stream",
     "text": [
      "\n",
      "creative_id   age_8\n"
     ]
    },
    {
     "data": {
      "application/vnd.jupyter.widget-view+json": {
       "model_id": "f468c5a44c6a43fcb96b856eeb90f24e",
       "version_major": 2,
       "version_minor": 0
      },
      "text/plain": [
       "HBox(children=(IntProgress(value=0, max=2764), HTML(value='')))"
      ]
     },
     "metadata": {},
     "output_type": "display_data"
    },
    {
     "name": "stdout",
     "output_type": "stream",
     "text": [
      "\n",
      "creative_id   age_9\n"
     ]
    },
    {
     "data": {
      "application/vnd.jupyter.widget-view+json": {
       "model_id": "10c72b022482454e92f15d5870a14de1",
       "version_major": 2,
       "version_minor": 0
      },
      "text/plain": [
       "HBox(children=(IntProgress(value=0, max=2764), HTML(value='')))"
      ]
     },
     "metadata": {},
     "output_type": "display_data"
    },
    {
     "name": "stdout",
     "output_type": "stream",
     "text": [
      "\n",
      "creative_id   age_10\n"
     ]
    },
    {
     "data": {
      "application/vnd.jupyter.widget-view+json": {
       "model_id": "d93a35a3bd364250a2ca5f97ba507892",
       "version_major": 2,
       "version_minor": 0
      },
      "text/plain": [
       "HBox(children=(IntProgress(value=0, max=2764), HTML(value='')))"
      ]
     },
     "metadata": {},
     "output_type": "display_data"
    },
    {
     "name": "stdout",
     "output_type": "stream",
     "text": [
      "\n",
      "creative_id   gender_1\n"
     ]
    },
    {
     "data": {
      "application/vnd.jupyter.widget-view+json": {
       "model_id": "639a640724ee4904a3abd99b9327c0f2",
       "version_major": 2,
       "version_minor": 0
      },
      "text/plain": [
       "HBox(children=(IntProgress(value=0, max=2764), HTML(value='')))"
      ]
     },
     "metadata": {},
     "output_type": "display_data"
    },
    {
     "name": "stdout",
     "output_type": "stream",
     "text": [
      "\n",
      "creative_id   gender_2\n"
     ]
    },
    {
     "data": {
      "application/vnd.jupyter.widget-view+json": {
       "model_id": "f06f92f36cc24be9a461eb2195047959",
       "version_major": 2,
       "version_minor": 0
      },
      "text/plain": [
       "HBox(children=(IntProgress(value=1, bar_style='info', max=1), HTML(value='')))"
      ]
     },
     "metadata": {},
     "output_type": "display_data"
    },
    {
     "data": {
      "application/vnd.jupyter.widget-view+json": {
       "model_id": "ccaca5ca215947509efea97e5af787c6",
       "version_major": 2,
       "version_minor": 0
      },
      "text/plain": [
       "HBox(children=(IntProgress(value=0, max=1), HTML(value='')))"
      ]
     },
     "metadata": {},
     "output_type": "display_data"
    },
    {
     "name": "stdout",
     "output_type": "stream",
     "text": [
      "\n"
     ]
    },
    {
     "data": {
      "application/vnd.jupyter.widget-view+json": {
       "model_id": "2dd0deca1a4746bbba3d4bae7743f135",
       "version_major": 2,
       "version_minor": 0
      },
      "text/plain": [
       "HBox(children=(IntProgress(value=0, max=1), HTML(value='')))"
      ]
     },
     "metadata": {},
     "output_type": "display_data"
    },
    {
     "name": "stdout",
     "output_type": "stream",
     "text": [
      "\n"
     ]
    },
    {
     "data": {
      "application/vnd.jupyter.widget-view+json": {
       "model_id": "c31392b341e840969170434867fa29ec",
       "version_major": 2,
       "version_minor": 0
      },
      "text/plain": [
       "HBox(children=(IntProgress(value=0, max=1), HTML(value='')))"
      ]
     },
     "metadata": {},
     "output_type": "display_data"
    },
    {
     "name": "stdout",
     "output_type": "stream",
     "text": [
      "\n"
     ]
    },
    {
     "data": {
      "application/vnd.jupyter.widget-view+json": {
       "model_id": "23578f94f0f547ad932babeade37dd8e",
       "version_major": 2,
       "version_minor": 0
      },
      "text/plain": [
       "HBox(children=(IntProgress(value=0, max=1), HTML(value='')))"
      ]
     },
     "metadata": {},
     "output_type": "display_data"
    },
    {
     "name": "stdout",
     "output_type": "stream",
     "text": [
      "\n"
     ]
    },
    {
     "data": {
      "application/vnd.jupyter.widget-view+json": {
       "model_id": "1d46558e05ad4216bda75ab15dbe5106",
       "version_major": 2,
       "version_minor": 0
      },
      "text/plain": [
       "HBox(children=(IntProgress(value=0, max=1), HTML(value='')))"
      ]
     },
     "metadata": {},
     "output_type": "display_data"
    },
    {
     "name": "stdout",
     "output_type": "stream",
     "text": [
      "\n",
      "\n"
     ]
    },
    {
     "data": {
      "application/vnd.jupyter.widget-view+json": {
       "model_id": "6b453d81e07e4d6aad02e7e7afea44b5",
       "version_major": 2,
       "version_minor": 0
      },
      "text/plain": [
       "HBox(children=(IntProgress(value=0, max=1), HTML(value='')))"
      ]
     },
     "metadata": {},
     "output_type": "display_data"
    },
    {
     "name": "stdout",
     "output_type": "stream",
     "text": [
      "\n",
      "+++++++++++++++++ad_id\n"
     ]
    },
    {
     "data": {
      "application/vnd.jupyter.widget-view+json": {
       "model_id": "fd2f4b018b074d038ed03027185409dd",
       "version_major": 2,
       "version_minor": 0
      },
      "text/plain": [
       "HBox(children=(IntProgress(value=1, bar_style='info', max=1), HTML(value='')))"
      ]
     },
     "metadata": {},
     "output_type": "display_data"
    },
    {
     "name": "stdout",
     "output_type": "stream",
     "text": [
      "第 1 折\n",
      "encoding... age_1\n",
      "end...\n",
      "encoding... age_2\n",
      "end...\n",
      "encoding... age_3\n",
      "end...\n",
      "encoding... age_4\n",
      "end...\n",
      "encoding... age_5\n",
      "end...\n",
      "encoding... age_6\n",
      "end...\n",
      "encoding... age_7\n",
      "end...\n",
      "encoding... age_8\n",
      "end...\n",
      "encoding... age_9\n",
      "end...\n",
      "encoding... age_10\n",
      "end...\n",
      "encoding... gender_1\n",
      "end...\n",
      "encoding... gender_2\n",
      "end...\n",
      "第 2 折\n",
      "encoding... age_1\n",
      "end...\n",
      "encoding... age_2\n",
      "end...\n",
      "encoding... age_3\n",
      "end...\n",
      "encoding... age_4\n",
      "end...\n",
      "encoding... age_5\n",
      "end...\n",
      "encoding... age_6\n",
      "end...\n",
      "encoding... age_7\n",
      "end...\n",
      "encoding... age_8\n",
      "end...\n",
      "encoding... age_9\n",
      "end...\n",
      "encoding... age_10\n",
      "end...\n",
      "encoding... gender_1\n",
      "end...\n",
      "encoding... gender_2\n",
      "end...\n",
      "第 3 折\n",
      "encoding... age_1\n",
      "end...\n",
      "encoding... age_2\n",
      "end...\n",
      "encoding... age_3\n",
      "end...\n",
      "encoding... age_4\n",
      "end...\n",
      "encoding... age_5\n",
      "end...\n",
      "encoding... age_6\n",
      "end...\n",
      "encoding... age_7\n",
      "end...\n",
      "encoding... age_8\n",
      "end...\n",
      "encoding... age_9\n",
      "end...\n",
      "encoding... age_10\n",
      "end...\n",
      "encoding... gender_1\n",
      "end...\n",
      "encoding... gender_2\n",
      "end...\n",
      "第 4 折\n",
      "encoding... age_1\n",
      "end...\n",
      "encoding... age_2\n",
      "end...\n",
      "encoding... age_3\n",
      "end...\n",
      "encoding... age_4\n",
      "end...\n",
      "encoding... age_5\n",
      "end...\n",
      "encoding... age_6\n",
      "end...\n",
      "encoding... age_7\n",
      "end...\n",
      "encoding... age_8\n",
      "end...\n",
      "encoding... age_9\n",
      "end...\n",
      "encoding... age_10\n",
      "end...\n",
      "encoding... gender_1\n",
      "end...\n",
      "encoding... gender_2\n",
      "end...\n",
      "第 5 折\n",
      "encoding... age_1\n",
      "end...\n",
      "encoding... age_2\n",
      "end...\n",
      "encoding... age_3\n",
      "end...\n",
      "encoding... age_4\n",
      "end...\n",
      "encoding... age_5\n",
      "end...\n",
      "encoding... age_6\n",
      "end...\n",
      "encoding... age_7\n",
      "end...\n",
      "encoding... age_8\n",
      "end...\n",
      "encoding... age_9\n",
      "end...\n",
      "encoding... age_10\n",
      "end...\n",
      "encoding... gender_1\n",
      "end...\n",
      "encoding... gender_2\n",
      "end...\n",
      "\n"
     ]
    },
    {
     "data": {
      "application/vnd.jupyter.widget-view+json": {
       "model_id": "8523680fe07244f9a4e8116006a958de",
       "version_major": 2,
       "version_minor": 0
      },
      "text/plain": [
       "HBox(children=(IntProgress(value=0, max=2746), HTML(value='')))"
      ]
     },
     "metadata": {},
     "output_type": "display_data"
    },
    {
     "name": "stdout",
     "output_type": "stream",
     "text": [
      "\n",
      "ad_id   age_1\n"
     ]
    },
    {
     "data": {
      "application/vnd.jupyter.widget-view+json": {
       "model_id": "d5022ba8dae5427a8abd26a43d82ff71",
       "version_major": 2,
       "version_minor": 0
      },
      "text/plain": [
       "HBox(children=(IntProgress(value=0, max=2746), HTML(value='')))"
      ]
     },
     "metadata": {},
     "output_type": "display_data"
    },
    {
     "name": "stdout",
     "output_type": "stream",
     "text": [
      "\n",
      "ad_id   age_2\n"
     ]
    },
    {
     "data": {
      "application/vnd.jupyter.widget-view+json": {
       "model_id": "71446f108ebf42798d32439f5016da91",
       "version_major": 2,
       "version_minor": 0
      },
      "text/plain": [
       "HBox(children=(IntProgress(value=0, max=2746), HTML(value='')))"
      ]
     },
     "metadata": {},
     "output_type": "display_data"
    },
    {
     "name": "stdout",
     "output_type": "stream",
     "text": [
      "\n",
      "ad_id   age_3\n"
     ]
    },
    {
     "data": {
      "application/vnd.jupyter.widget-view+json": {
       "model_id": "4932d73bcc954dd8bf76c6b3a895be36",
       "version_major": 2,
       "version_minor": 0
      },
      "text/plain": [
       "HBox(children=(IntProgress(value=0, max=2746), HTML(value='')))"
      ]
     },
     "metadata": {},
     "output_type": "display_data"
    },
    {
     "name": "stdout",
     "output_type": "stream",
     "text": [
      "\n",
      "ad_id   age_4\n"
     ]
    },
    {
     "data": {
      "application/vnd.jupyter.widget-view+json": {
       "model_id": "5ff8d4d7b67e4664956947303579da3d",
       "version_major": 2,
       "version_minor": 0
      },
      "text/plain": [
       "HBox(children=(IntProgress(value=0, max=2746), HTML(value='')))"
      ]
     },
     "metadata": {},
     "output_type": "display_data"
    },
    {
     "name": "stdout",
     "output_type": "stream",
     "text": [
      "\n",
      "ad_id   age_5\n"
     ]
    },
    {
     "data": {
      "application/vnd.jupyter.widget-view+json": {
       "model_id": "3e5598f3a4984a96880514fe160b065f",
       "version_major": 2,
       "version_minor": 0
      },
      "text/plain": [
       "HBox(children=(IntProgress(value=0, max=2746), HTML(value='')))"
      ]
     },
     "metadata": {},
     "output_type": "display_data"
    },
    {
     "name": "stdout",
     "output_type": "stream",
     "text": [
      "\n",
      "ad_id   age_6\n"
     ]
    },
    {
     "data": {
      "application/vnd.jupyter.widget-view+json": {
       "model_id": "7ec7a3e7a27e468b9ac0796994ffc0dd",
       "version_major": 2,
       "version_minor": 0
      },
      "text/plain": [
       "HBox(children=(IntProgress(value=0, max=2746), HTML(value='')))"
      ]
     },
     "metadata": {},
     "output_type": "display_data"
    },
    {
     "name": "stdout",
     "output_type": "stream",
     "text": [
      "\n",
      "ad_id   age_7\n"
     ]
    },
    {
     "data": {
      "application/vnd.jupyter.widget-view+json": {
       "model_id": "d217e6f674f249f1890ee38411f5c193",
       "version_major": 2,
       "version_minor": 0
      },
      "text/plain": [
       "HBox(children=(IntProgress(value=0, max=2746), HTML(value='')))"
      ]
     },
     "metadata": {},
     "output_type": "display_data"
    },
    {
     "name": "stdout",
     "output_type": "stream",
     "text": [
      "\n",
      "ad_id   age_8\n"
     ]
    },
    {
     "data": {
      "application/vnd.jupyter.widget-view+json": {
       "model_id": "894f9d857d2547aea192ff60461ac1a4",
       "version_major": 2,
       "version_minor": 0
      },
      "text/plain": [
       "HBox(children=(IntProgress(value=0, max=2746), HTML(value='')))"
      ]
     },
     "metadata": {},
     "output_type": "display_data"
    },
    {
     "name": "stdout",
     "output_type": "stream",
     "text": [
      "\n",
      "ad_id   age_9\n"
     ]
    },
    {
     "data": {
      "application/vnd.jupyter.widget-view+json": {
       "model_id": "c971c1beeee647ccb13c71516bef03d7",
       "version_major": 2,
       "version_minor": 0
      },
      "text/plain": [
       "HBox(children=(IntProgress(value=0, max=2746), HTML(value='')))"
      ]
     },
     "metadata": {},
     "output_type": "display_data"
    },
    {
     "name": "stdout",
     "output_type": "stream",
     "text": [
      "\n",
      "ad_id   age_10\n"
     ]
    },
    {
     "data": {
      "application/vnd.jupyter.widget-view+json": {
       "model_id": "4c1189586a6c45c5b237c5a75f383e61",
       "version_major": 2,
       "version_minor": 0
      },
      "text/plain": [
       "HBox(children=(IntProgress(value=0, max=2746), HTML(value='')))"
      ]
     },
     "metadata": {},
     "output_type": "display_data"
    },
    {
     "name": "stdout",
     "output_type": "stream",
     "text": [
      "\n",
      "ad_id   gender_1\n"
     ]
    },
    {
     "data": {
      "application/vnd.jupyter.widget-view+json": {
       "model_id": "e9088ab9a5cf4f8793fe0a90ec678cac",
       "version_major": 2,
       "version_minor": 0
      },
      "text/plain": [
       "HBox(children=(IntProgress(value=0, max=2746), HTML(value='')))"
      ]
     },
     "metadata": {},
     "output_type": "display_data"
    },
    {
     "name": "stdout",
     "output_type": "stream",
     "text": [
      "\n",
      "ad_id   gender_2\n"
     ]
    },
    {
     "data": {
      "application/vnd.jupyter.widget-view+json": {
       "model_id": "3e01ebc464a84e309d1e11c33f40df3c",
       "version_major": 2,
       "version_minor": 0
      },
      "text/plain": [
       "HBox(children=(IntProgress(value=1, bar_style='info', max=1), HTML(value='')))"
      ]
     },
     "metadata": {},
     "output_type": "display_data"
    },
    {
     "data": {
      "application/vnd.jupyter.widget-view+json": {
       "model_id": "0498e253a34d4290a64ac40f8c0316be",
       "version_major": 2,
       "version_minor": 0
      },
      "text/plain": [
       "HBox(children=(IntProgress(value=0, max=1), HTML(value='')))"
      ]
     },
     "metadata": {},
     "output_type": "display_data"
    },
    {
     "name": "stdout",
     "output_type": "stream",
     "text": [
      "\n"
     ]
    },
    {
     "data": {
      "application/vnd.jupyter.widget-view+json": {
       "model_id": "84786c2b1249441895ba5e35b1a367b7",
       "version_major": 2,
       "version_minor": 0
      },
      "text/plain": [
       "HBox(children=(IntProgress(value=0, max=1), HTML(value='')))"
      ]
     },
     "metadata": {},
     "output_type": "display_data"
    },
    {
     "name": "stdout",
     "output_type": "stream",
     "text": [
      "\n"
     ]
    },
    {
     "data": {
      "application/vnd.jupyter.widget-view+json": {
       "model_id": "e169d1612e5041fa936ba6fbfe1dbc7f",
       "version_major": 2,
       "version_minor": 0
      },
      "text/plain": [
       "HBox(children=(IntProgress(value=0, max=1), HTML(value='')))"
      ]
     },
     "metadata": {},
     "output_type": "display_data"
    },
    {
     "name": "stdout",
     "output_type": "stream",
     "text": [
      "\n"
     ]
    },
    {
     "data": {
      "application/vnd.jupyter.widget-view+json": {
       "model_id": "b7890eedffc743c48f96fd83951fba74",
       "version_major": 2,
       "version_minor": 0
      },
      "text/plain": [
       "HBox(children=(IntProgress(value=0, max=1), HTML(value='')))"
      ]
     },
     "metadata": {},
     "output_type": "display_data"
    },
    {
     "name": "stdout",
     "output_type": "stream",
     "text": [
      "\n"
     ]
    },
    {
     "data": {
      "application/vnd.jupyter.widget-view+json": {
       "model_id": "7144639a1d13463b8055153ad79ac9fc",
       "version_major": 2,
       "version_minor": 0
      },
      "text/plain": [
       "HBox(children=(IntProgress(value=0, max=1), HTML(value='')))"
      ]
     },
     "metadata": {},
     "output_type": "display_data"
    },
    {
     "name": "stdout",
     "output_type": "stream",
     "text": [
      "\n",
      "\n"
     ]
    },
    {
     "data": {
      "application/vnd.jupyter.widget-view+json": {
       "model_id": "fcf9cbce09da4a658ec7a70154cc623c",
       "version_major": 2,
       "version_minor": 0
      },
      "text/plain": [
       "HBox(children=(IntProgress(value=0, max=1), HTML(value='')))"
      ]
     },
     "metadata": {},
     "output_type": "display_data"
    },
    {
     "name": "stdout",
     "output_type": "stream",
     "text": [
      "\n",
      "+++++++++++++++++product_id\n"
     ]
    },
    {
     "data": {
      "application/vnd.jupyter.widget-view+json": {
       "model_id": "e4446d2653824ea8ab0c3fe56cbb2042",
       "version_major": 2,
       "version_minor": 0
      },
      "text/plain": [
       "HBox(children=(IntProgress(value=1, bar_style='info', max=1), HTML(value='')))"
      ]
     },
     "metadata": {},
     "output_type": "display_data"
    },
    {
     "name": "stdout",
     "output_type": "stream",
     "text": [
      "第 1 折\n",
      "encoding... age_1\n",
      "end...\n",
      "encoding... age_2\n",
      "end...\n",
      "encoding... age_3\n",
      "end...\n",
      "encoding... age_4\n",
      "end...\n",
      "encoding... age_5\n",
      "end...\n",
      "encoding... age_6\n",
      "end...\n",
      "encoding... age_7\n",
      "end...\n",
      "encoding... age_8\n",
      "end...\n",
      "encoding... age_9\n",
      "end...\n",
      "encoding... age_10\n",
      "end...\n",
      "encoding... gender_1\n",
      "end...\n",
      "encoding... gender_2\n",
      "end...\n",
      "第 2 折\n",
      "encoding... age_1\n",
      "end...\n",
      "encoding... age_2\n",
      "end...\n",
      "encoding... age_3\n",
      "end...\n",
      "encoding... age_4\n",
      "end...\n",
      "encoding... age_5\n",
      "end...\n",
      "encoding... age_6\n",
      "end...\n",
      "encoding... age_7\n",
      "end...\n",
      "encoding... age_8\n",
      "end...\n",
      "encoding... age_9\n",
      "end...\n",
      "encoding... age_10\n",
      "end...\n",
      "encoding... gender_1\n",
      "end...\n",
      "encoding... gender_2\n",
      "end...\n",
      "第 3 折\n",
      "encoding... age_1\n",
      "end...\n",
      "encoding... age_2\n",
      "end...\n",
      "encoding... age_3\n",
      "end...\n",
      "encoding... age_4\n",
      "end...\n",
      "encoding... age_5\n",
      "end...\n",
      "encoding... age_6\n",
      "end...\n",
      "encoding... age_7\n",
      "end...\n",
      "encoding... age_8\n",
      "end...\n",
      "encoding... age_9\n",
      "end...\n",
      "encoding... age_10\n",
      "end...\n",
      "encoding... gender_1\n",
      "end...\n",
      "encoding... gender_2\n",
      "end...\n",
      "第 4 折\n",
      "encoding... age_1\n",
      "end...\n",
      "encoding... age_2\n",
      "end...\n",
      "encoding... age_3\n",
      "end...\n",
      "encoding... age_4\n",
      "end...\n",
      "encoding... age_5\n",
      "end...\n",
      "encoding... age_6\n",
      "end...\n",
      "encoding... age_7\n",
      "end...\n",
      "encoding... age_8\n",
      "end...\n",
      "encoding... age_9\n",
      "end...\n",
      "encoding... age_10\n",
      "end...\n",
      "encoding... gender_1\n",
      "end...\n",
      "encoding... gender_2\n",
      "end...\n",
      "第 5 折\n",
      "encoding... age_1\n",
      "end...\n",
      "encoding... age_2\n",
      "end...\n",
      "encoding... age_3\n",
      "end...\n",
      "encoding... age_4\n",
      "end...\n",
      "encoding... age_5\n",
      "end...\n",
      "encoding... age_6\n",
      "end...\n",
      "encoding... age_7\n",
      "end...\n",
      "encoding... age_8\n",
      "end...\n",
      "encoding... age_9\n",
      "end...\n",
      "encoding... age_10\n",
      "end...\n",
      "encoding... gender_1\n",
      "end...\n",
      "encoding... gender_2\n",
      "end...\n",
      "\n"
     ]
    },
    {
     "data": {
      "application/vnd.jupyter.widget-view+json": {
       "model_id": "bb9a7d095f5c402dbbd7c3899146d31f",
       "version_major": 2,
       "version_minor": 0
      },
      "text/plain": [
       "HBox(children=(IntProgress(value=0, max=544), HTML(value='')))"
      ]
     },
     "metadata": {},
     "output_type": "display_data"
    },
    {
     "name": "stdout",
     "output_type": "stream",
     "text": [
      "\n",
      "product_id   age_1\n"
     ]
    },
    {
     "data": {
      "application/vnd.jupyter.widget-view+json": {
       "model_id": "1f823c60f9b645c5b6b9f497bd1a2079",
       "version_major": 2,
       "version_minor": 0
      },
      "text/plain": [
       "HBox(children=(IntProgress(value=0, max=544), HTML(value='')))"
      ]
     },
     "metadata": {},
     "output_type": "display_data"
    },
    {
     "name": "stdout",
     "output_type": "stream",
     "text": [
      "\n",
      "product_id   age_2\n"
     ]
    },
    {
     "data": {
      "application/vnd.jupyter.widget-view+json": {
       "model_id": "d4b614b8ae7c47f882d6cdb45ab1a789",
       "version_major": 2,
       "version_minor": 0
      },
      "text/plain": [
       "HBox(children=(IntProgress(value=0, max=544), HTML(value='')))"
      ]
     },
     "metadata": {},
     "output_type": "display_data"
    },
    {
     "name": "stdout",
     "output_type": "stream",
     "text": [
      "\n",
      "product_id   age_3\n"
     ]
    },
    {
     "data": {
      "application/vnd.jupyter.widget-view+json": {
       "model_id": "9e9a96a8c190420aa093a06d76123b09",
       "version_major": 2,
       "version_minor": 0
      },
      "text/plain": [
       "HBox(children=(IntProgress(value=0, max=544), HTML(value='')))"
      ]
     },
     "metadata": {},
     "output_type": "display_data"
    },
    {
     "name": "stdout",
     "output_type": "stream",
     "text": [
      "\n",
      "product_id   age_4\n"
     ]
    },
    {
     "data": {
      "application/vnd.jupyter.widget-view+json": {
       "model_id": "720ed917c6c04bde9c8d117c1de1a835",
       "version_major": 2,
       "version_minor": 0
      },
      "text/plain": [
       "HBox(children=(IntProgress(value=0, max=544), HTML(value='')))"
      ]
     },
     "metadata": {},
     "output_type": "display_data"
    },
    {
     "name": "stdout",
     "output_type": "stream",
     "text": [
      "\n",
      "product_id   age_5\n"
     ]
    },
    {
     "data": {
      "application/vnd.jupyter.widget-view+json": {
       "model_id": "b6096ca989e14076bcb06a9bfc036bf4",
       "version_major": 2,
       "version_minor": 0
      },
      "text/plain": [
       "HBox(children=(IntProgress(value=0, max=544), HTML(value='')))"
      ]
     },
     "metadata": {},
     "output_type": "display_data"
    },
    {
     "name": "stdout",
     "output_type": "stream",
     "text": [
      "\n",
      "product_id   age_6\n"
     ]
    },
    {
     "data": {
      "application/vnd.jupyter.widget-view+json": {
       "model_id": "4168d8b3afa74eba81e71a613834c199",
       "version_major": 2,
       "version_minor": 0
      },
      "text/plain": [
       "HBox(children=(IntProgress(value=0, max=544), HTML(value='')))"
      ]
     },
     "metadata": {},
     "output_type": "display_data"
    },
    {
     "name": "stdout",
     "output_type": "stream",
     "text": [
      "\n",
      "product_id   age_7\n"
     ]
    },
    {
     "data": {
      "application/vnd.jupyter.widget-view+json": {
       "model_id": "e6705bb027b84431ae5f8a4c3fed84f4",
       "version_major": 2,
       "version_minor": 0
      },
      "text/plain": [
       "HBox(children=(IntProgress(value=0, max=544), HTML(value='')))"
      ]
     },
     "metadata": {},
     "output_type": "display_data"
    },
    {
     "name": "stdout",
     "output_type": "stream",
     "text": [
      "\n",
      "product_id   age_8\n"
     ]
    },
    {
     "data": {
      "application/vnd.jupyter.widget-view+json": {
       "model_id": "f4e0cc356ed84c69bb02b2b77966877e",
       "version_major": 2,
       "version_minor": 0
      },
      "text/plain": [
       "HBox(children=(IntProgress(value=0, max=544), HTML(value='')))"
      ]
     },
     "metadata": {},
     "output_type": "display_data"
    },
    {
     "name": "stdout",
     "output_type": "stream",
     "text": [
      "\n",
      "product_id   age_9\n"
     ]
    },
    {
     "data": {
      "application/vnd.jupyter.widget-view+json": {
       "model_id": "52c211db5c5c421c8d20a242ae8804e6",
       "version_major": 2,
       "version_minor": 0
      },
      "text/plain": [
       "HBox(children=(IntProgress(value=0, max=544), HTML(value='')))"
      ]
     },
     "metadata": {},
     "output_type": "display_data"
    },
    {
     "name": "stdout",
     "output_type": "stream",
     "text": [
      "\n",
      "product_id   age_10\n"
     ]
    },
    {
     "data": {
      "application/vnd.jupyter.widget-view+json": {
       "model_id": "f213d577992e4a8db8282a60ebb2d165",
       "version_major": 2,
       "version_minor": 0
      },
      "text/plain": [
       "HBox(children=(IntProgress(value=0, max=544), HTML(value='')))"
      ]
     },
     "metadata": {},
     "output_type": "display_data"
    },
    {
     "name": "stdout",
     "output_type": "stream",
     "text": [
      "\n",
      "product_id   gender_1\n"
     ]
    },
    {
     "data": {
      "application/vnd.jupyter.widget-view+json": {
       "model_id": "4b118cd4d20f4da186af2e2311a41d1f",
       "version_major": 2,
       "version_minor": 0
      },
      "text/plain": [
       "HBox(children=(IntProgress(value=0, max=544), HTML(value='')))"
      ]
     },
     "metadata": {},
     "output_type": "display_data"
    },
    {
     "name": "stdout",
     "output_type": "stream",
     "text": [
      "\n",
      "product_id   gender_2\n"
     ]
    },
    {
     "data": {
      "application/vnd.jupyter.widget-view+json": {
       "model_id": "de4d45e5bb3e41e18670cca61cb1883f",
       "version_major": 2,
       "version_minor": 0
      },
      "text/plain": [
       "HBox(children=(IntProgress(value=1, bar_style='info', max=1), HTML(value='')))"
      ]
     },
     "metadata": {},
     "output_type": "display_data"
    },
    {
     "data": {
      "application/vnd.jupyter.widget-view+json": {
       "model_id": "7b87e86fd1f248c39d984b9c79ce75a6",
       "version_major": 2,
       "version_minor": 0
      },
      "text/plain": [
       "HBox(children=(IntProgress(value=0, max=1), HTML(value='')))"
      ]
     },
     "metadata": {},
     "output_type": "display_data"
    },
    {
     "name": "stdout",
     "output_type": "stream",
     "text": [
      "\n"
     ]
    },
    {
     "data": {
      "application/vnd.jupyter.widget-view+json": {
       "model_id": "b2065416a006468289d3c5c906eef904",
       "version_major": 2,
       "version_minor": 0
      },
      "text/plain": [
       "HBox(children=(IntProgress(value=0, max=1), HTML(value='')))"
      ]
     },
     "metadata": {},
     "output_type": "display_data"
    },
    {
     "name": "stdout",
     "output_type": "stream",
     "text": [
      "\n"
     ]
    },
    {
     "data": {
      "application/vnd.jupyter.widget-view+json": {
       "model_id": "c0cd536316134b038bd78315821f9858",
       "version_major": 2,
       "version_minor": 0
      },
      "text/plain": [
       "HBox(children=(IntProgress(value=0, max=1), HTML(value='')))"
      ]
     },
     "metadata": {},
     "output_type": "display_data"
    },
    {
     "name": "stdout",
     "output_type": "stream",
     "text": [
      "\n"
     ]
    },
    {
     "data": {
      "application/vnd.jupyter.widget-view+json": {
       "model_id": "2f3ec170285347859f55dc96029e4326",
       "version_major": 2,
       "version_minor": 0
      },
      "text/plain": [
       "HBox(children=(IntProgress(value=0, max=1), HTML(value='')))"
      ]
     },
     "metadata": {},
     "output_type": "display_data"
    },
    {
     "name": "stdout",
     "output_type": "stream",
     "text": [
      "\n"
     ]
    },
    {
     "data": {
      "application/vnd.jupyter.widget-view+json": {
       "model_id": "544dc8939b3b495cbed7ad5442248d8f",
       "version_major": 2,
       "version_minor": 0
      },
      "text/plain": [
       "HBox(children=(IntProgress(value=0, max=1), HTML(value='')))"
      ]
     },
     "metadata": {},
     "output_type": "display_data"
    },
    {
     "name": "stdout",
     "output_type": "stream",
     "text": [
      "\n",
      "\n"
     ]
    },
    {
     "data": {
      "application/vnd.jupyter.widget-view+json": {
       "model_id": "31f89043139a425ca89a32f329fba8c4",
       "version_major": 2,
       "version_minor": 0
      },
      "text/plain": [
       "HBox(children=(IntProgress(value=0, max=1), HTML(value='')))"
      ]
     },
     "metadata": {},
     "output_type": "display_data"
    },
    {
     "name": "stdout",
     "output_type": "stream",
     "text": [
      "\n",
      "+++++++++++++++++product_category\n"
     ]
    },
    {
     "data": {
      "application/vnd.jupyter.widget-view+json": {
       "model_id": "41bad562a042448585a3536e8f6e33d8",
       "version_major": 2,
       "version_minor": 0
      },
      "text/plain": [
       "HBox(children=(IntProgress(value=1, bar_style='info', max=1), HTML(value='')))"
      ]
     },
     "metadata": {},
     "output_type": "display_data"
    },
    {
     "name": "stdout",
     "output_type": "stream",
     "text": [
      "第 1 折\n",
      "encoding... age_1\n",
      "end...\n",
      "encoding... age_2\n",
      "end...\n",
      "encoding... age_3\n",
      "end...\n",
      "encoding... age_4\n",
      "end...\n",
      "encoding... age_5\n",
      "end...\n",
      "encoding... age_6\n",
      "end...\n",
      "encoding... age_7\n",
      "end...\n",
      "encoding... age_8\n",
      "end...\n",
      "encoding... age_9\n",
      "end...\n",
      "encoding... age_10\n",
      "end...\n",
      "encoding... gender_1\n",
      "end...\n",
      "encoding... gender_2\n",
      "end...\n",
      "第 2 折\n",
      "encoding... age_1\n",
      "end...\n",
      "encoding... age_2\n",
      "end...\n",
      "encoding... age_3\n",
      "end...\n",
      "encoding... age_4\n",
      "end...\n",
      "encoding... age_5\n",
      "end...\n",
      "encoding... age_6\n",
      "end...\n",
      "encoding... age_7\n",
      "end...\n",
      "encoding... age_8\n",
      "end...\n",
      "encoding... age_9\n",
      "end...\n",
      "encoding... age_10\n",
      "end...\n",
      "encoding... gender_1\n",
      "end...\n",
      "encoding... gender_2\n",
      "end...\n",
      "第 3 折\n",
      "encoding... age_1\n",
      "end...\n",
      "encoding... age_2\n",
      "end...\n",
      "encoding... age_3\n",
      "end...\n",
      "encoding... age_4\n",
      "end...\n",
      "encoding... age_5\n",
      "end...\n",
      "encoding... age_6\n",
      "end...\n",
      "encoding... age_7\n",
      "end...\n",
      "encoding... age_8\n",
      "end...\n",
      "encoding... age_9\n",
      "end...\n",
      "encoding... age_10\n",
      "end...\n",
      "encoding... gender_1\n",
      "end...\n",
      "encoding... gender_2\n",
      "end...\n",
      "第 4 折\n",
      "encoding... age_1\n",
      "end...\n",
      "encoding... age_2\n",
      "end...\n",
      "encoding... age_3\n",
      "end...\n",
      "encoding... age_4\n",
      "end...\n",
      "encoding... age_5\n",
      "end...\n",
      "encoding... age_6\n",
      "end...\n",
      "encoding... age_7\n",
      "end...\n",
      "encoding... age_8\n",
      "end...\n",
      "encoding... age_9\n",
      "end...\n",
      "encoding... age_10\n",
      "end...\n",
      "encoding... gender_1\n",
      "end...\n",
      "encoding... gender_2\n",
      "end...\n",
      "第 5 折\n",
      "encoding... age_1\n",
      "end...\n",
      "encoding... age_2\n",
      "end...\n",
      "encoding... age_3\n",
      "end...\n",
      "encoding... age_4\n",
      "end...\n",
      "encoding... age_5\n",
      "end...\n",
      "encoding... age_6\n",
      "end...\n",
      "encoding... age_7\n",
      "end...\n",
      "encoding... age_8\n",
      "end...\n",
      "encoding... age_9\n",
      "end...\n",
      "encoding... age_10\n",
      "end...\n",
      "encoding... gender_1\n",
      "end...\n",
      "encoding... gender_2\n",
      "end...\n",
      "\n"
     ]
    },
    {
     "data": {
      "application/vnd.jupyter.widget-view+json": {
       "model_id": "7d6c19f0ea984e9bb035c11bda5bb108",
       "version_major": 2,
       "version_minor": 0
      },
      "text/plain": [
       "HBox(children=(IntProgress(value=0, max=15), HTML(value='')))"
      ]
     },
     "metadata": {},
     "output_type": "display_data"
    },
    {
     "name": "stdout",
     "output_type": "stream",
     "text": [
      "\n",
      "product_category   age_1\n"
     ]
    },
    {
     "data": {
      "application/vnd.jupyter.widget-view+json": {
       "model_id": "671ca15e11534fa4a6844cc86c0ff645",
       "version_major": 2,
       "version_minor": 0
      },
      "text/plain": [
       "HBox(children=(IntProgress(value=0, max=15), HTML(value='')))"
      ]
     },
     "metadata": {},
     "output_type": "display_data"
    },
    {
     "name": "stdout",
     "output_type": "stream",
     "text": [
      "\n",
      "product_category   age_2\n"
     ]
    },
    {
     "data": {
      "application/vnd.jupyter.widget-view+json": {
       "model_id": "3395c74a35834ab6a91048056b215f72",
       "version_major": 2,
       "version_minor": 0
      },
      "text/plain": [
       "HBox(children=(IntProgress(value=0, max=15), HTML(value='')))"
      ]
     },
     "metadata": {},
     "output_type": "display_data"
    },
    {
     "name": "stdout",
     "output_type": "stream",
     "text": [
      "\n",
      "product_category   age_3\n"
     ]
    },
    {
     "data": {
      "application/vnd.jupyter.widget-view+json": {
       "model_id": "0d2f6ff40bce422a9b0e5669f04cf761",
       "version_major": 2,
       "version_minor": 0
      },
      "text/plain": [
       "HBox(children=(IntProgress(value=0, max=15), HTML(value='')))"
      ]
     },
     "metadata": {},
     "output_type": "display_data"
    },
    {
     "name": "stdout",
     "output_type": "stream",
     "text": [
      "\n",
      "product_category   age_4\n"
     ]
    },
    {
     "data": {
      "application/vnd.jupyter.widget-view+json": {
       "model_id": "2d4beddad0d94234afbfea4c53b8e851",
       "version_major": 2,
       "version_minor": 0
      },
      "text/plain": [
       "HBox(children=(IntProgress(value=0, max=15), HTML(value='')))"
      ]
     },
     "metadata": {},
     "output_type": "display_data"
    },
    {
     "name": "stdout",
     "output_type": "stream",
     "text": [
      "\n",
      "product_category   age_5\n"
     ]
    },
    {
     "data": {
      "application/vnd.jupyter.widget-view+json": {
       "model_id": "8e77b8d4b6d24ca3b77af8c788b9a474",
       "version_major": 2,
       "version_minor": 0
      },
      "text/plain": [
       "HBox(children=(IntProgress(value=0, max=15), HTML(value='')))"
      ]
     },
     "metadata": {},
     "output_type": "display_data"
    },
    {
     "name": "stdout",
     "output_type": "stream",
     "text": [
      "\n",
      "product_category   age_6\n"
     ]
    },
    {
     "data": {
      "application/vnd.jupyter.widget-view+json": {
       "model_id": "068c7f3c65b84965bbe1616ed42e5486",
       "version_major": 2,
       "version_minor": 0
      },
      "text/plain": [
       "HBox(children=(IntProgress(value=0, max=15), HTML(value='')))"
      ]
     },
     "metadata": {},
     "output_type": "display_data"
    },
    {
     "name": "stdout",
     "output_type": "stream",
     "text": [
      "\n",
      "product_category   age_7\n"
     ]
    },
    {
     "data": {
      "application/vnd.jupyter.widget-view+json": {
       "model_id": "c0b769eae7d24d5c9bcafb9cc56f78f5",
       "version_major": 2,
       "version_minor": 0
      },
      "text/plain": [
       "HBox(children=(IntProgress(value=0, max=15), HTML(value='')))"
      ]
     },
     "metadata": {},
     "output_type": "display_data"
    },
    {
     "name": "stdout",
     "output_type": "stream",
     "text": [
      "\n",
      "product_category   age_8\n"
     ]
    },
    {
     "data": {
      "application/vnd.jupyter.widget-view+json": {
       "model_id": "be5109fada3747cea9ba3edc1f4bbbba",
       "version_major": 2,
       "version_minor": 0
      },
      "text/plain": [
       "HBox(children=(IntProgress(value=0, max=15), HTML(value='')))"
      ]
     },
     "metadata": {},
     "output_type": "display_data"
    },
    {
     "name": "stdout",
     "output_type": "stream",
     "text": [
      "\n",
      "product_category   age_9\n"
     ]
    },
    {
     "data": {
      "application/vnd.jupyter.widget-view+json": {
       "model_id": "8c616dbf3293402587d42b202ed38054",
       "version_major": 2,
       "version_minor": 0
      },
      "text/plain": [
       "HBox(children=(IntProgress(value=0, max=15), HTML(value='')))"
      ]
     },
     "metadata": {},
     "output_type": "display_data"
    },
    {
     "name": "stdout",
     "output_type": "stream",
     "text": [
      "\n",
      "product_category   age_10\n"
     ]
    },
    {
     "data": {
      "application/vnd.jupyter.widget-view+json": {
       "model_id": "2c94ec416fe64adfa7c7e7c62e5f483f",
       "version_major": 2,
       "version_minor": 0
      },
      "text/plain": [
       "HBox(children=(IntProgress(value=0, max=15), HTML(value='')))"
      ]
     },
     "metadata": {},
     "output_type": "display_data"
    },
    {
     "name": "stdout",
     "output_type": "stream",
     "text": [
      "\n",
      "product_category   gender_1\n"
     ]
    },
    {
     "data": {
      "application/vnd.jupyter.widget-view+json": {
       "model_id": "4b50b71bf7c64260aac801a8e10d184b",
       "version_major": 2,
       "version_minor": 0
      },
      "text/plain": [
       "HBox(children=(IntProgress(value=0, max=15), HTML(value='')))"
      ]
     },
     "metadata": {},
     "output_type": "display_data"
    },
    {
     "name": "stdout",
     "output_type": "stream",
     "text": [
      "\n",
      "product_category   gender_2\n"
     ]
    },
    {
     "data": {
      "application/vnd.jupyter.widget-view+json": {
       "model_id": "c8330f97b091415d9955bbe9dc3da285",
       "version_major": 2,
       "version_minor": 0
      },
      "text/plain": [
       "HBox(children=(IntProgress(value=1, bar_style='info', max=1), HTML(value='')))"
      ]
     },
     "metadata": {},
     "output_type": "display_data"
    },
    {
     "data": {
      "application/vnd.jupyter.widget-view+json": {
       "model_id": "adcfe77e37064d57a982ec9f1e953773",
       "version_major": 2,
       "version_minor": 0
      },
      "text/plain": [
       "HBox(children=(IntProgress(value=0, max=1), HTML(value='')))"
      ]
     },
     "metadata": {},
     "output_type": "display_data"
    },
    {
     "name": "stdout",
     "output_type": "stream",
     "text": [
      "\n"
     ]
    },
    {
     "data": {
      "application/vnd.jupyter.widget-view+json": {
       "model_id": "f13d656e2e1c446d9c64074c0ed8001b",
       "version_major": 2,
       "version_minor": 0
      },
      "text/plain": [
       "HBox(children=(IntProgress(value=0, max=1), HTML(value='')))"
      ]
     },
     "metadata": {},
     "output_type": "display_data"
    },
    {
     "name": "stdout",
     "output_type": "stream",
     "text": [
      "\n"
     ]
    },
    {
     "data": {
      "application/vnd.jupyter.widget-view+json": {
       "model_id": "532479c6c3af41fa9ad61b3aa4c987ea",
       "version_major": 2,
       "version_minor": 0
      },
      "text/plain": [
       "HBox(children=(IntProgress(value=0, max=1), HTML(value='')))"
      ]
     },
     "metadata": {},
     "output_type": "display_data"
    },
    {
     "name": "stdout",
     "output_type": "stream",
     "text": [
      "\n"
     ]
    },
    {
     "data": {
      "application/vnd.jupyter.widget-view+json": {
       "model_id": "e63faa3e7b3c41a1afa145aa8c84f13c",
       "version_major": 2,
       "version_minor": 0
      },
      "text/plain": [
       "HBox(children=(IntProgress(value=0, max=1), HTML(value='')))"
      ]
     },
     "metadata": {},
     "output_type": "display_data"
    },
    {
     "name": "stdout",
     "output_type": "stream",
     "text": [
      "\n"
     ]
    },
    {
     "data": {
      "application/vnd.jupyter.widget-view+json": {
       "model_id": "99b3b56faee34cf0a2fca8e6af75e939",
       "version_major": 2,
       "version_minor": 0
      },
      "text/plain": [
       "HBox(children=(IntProgress(value=0, max=1), HTML(value='')))"
      ]
     },
     "metadata": {},
     "output_type": "display_data"
    },
    {
     "name": "stdout",
     "output_type": "stream",
     "text": [
      "\n",
      "\n"
     ]
    },
    {
     "data": {
      "application/vnd.jupyter.widget-view+json": {
       "model_id": "1502731ced944c5698794852bcfba5f5",
       "version_major": 2,
       "version_minor": 0
      },
      "text/plain": [
       "HBox(children=(IntProgress(value=0, max=1), HTML(value='')))"
      ]
     },
     "metadata": {},
     "output_type": "display_data"
    },
    {
     "name": "stdout",
     "output_type": "stream",
     "text": [
      "\n",
      "+++++++++++++++++advertiser_id\n"
     ]
    },
    {
     "data": {
      "application/vnd.jupyter.widget-view+json": {
       "model_id": "3ed7186be6ad48f2a4c5bf45b67d4d0b",
       "version_major": 2,
       "version_minor": 0
      },
      "text/plain": [
       "HBox(children=(IntProgress(value=1, bar_style='info', max=1), HTML(value='')))"
      ]
     },
     "metadata": {},
     "output_type": "display_data"
    },
    {
     "name": "stdout",
     "output_type": "stream",
     "text": [
      "第 1 折\n",
      "encoding... age_1\n",
      "end...\n",
      "encoding... age_2\n",
      "end...\n",
      "encoding... age_3\n",
      "end...\n",
      "encoding... age_4\n",
      "end...\n",
      "encoding... age_5\n",
      "end...\n",
      "encoding... age_6\n",
      "end...\n",
      "encoding... age_7\n",
      "end...\n",
      "encoding... age_8\n",
      "end...\n",
      "encoding... age_9\n",
      "end...\n",
      "encoding... age_10\n",
      "end...\n",
      "encoding... gender_1\n",
      "end...\n",
      "encoding... gender_2\n",
      "end...\n",
      "第 2 折\n",
      "encoding... age_1\n",
      "end...\n",
      "encoding... age_2\n",
      "end...\n",
      "encoding... age_3\n",
      "end...\n",
      "encoding... age_4\n",
      "end...\n",
      "encoding... age_5\n",
      "end...\n",
      "encoding... age_6\n",
      "end...\n",
      "encoding... age_7\n",
      "end...\n",
      "encoding... age_8\n",
      "end...\n",
      "encoding... age_9\n",
      "end...\n",
      "encoding... age_10\n",
      "end...\n",
      "encoding... gender_1\n",
      "end...\n",
      "encoding... gender_2\n",
      "end...\n",
      "第 3 折\n",
      "encoding... age_1\n",
      "end...\n",
      "encoding... age_2\n",
      "end...\n",
      "encoding... age_3\n",
      "end...\n",
      "encoding... age_4\n",
      "end...\n",
      "encoding... age_5\n",
      "end...\n",
      "encoding... age_6\n",
      "end...\n",
      "encoding... age_7\n",
      "end...\n",
      "encoding... age_8\n",
      "end...\n",
      "encoding... age_9\n",
      "end...\n",
      "encoding... age_10\n",
      "end...\n",
      "encoding... gender_1\n",
      "end...\n",
      "encoding... gender_2\n",
      "end...\n",
      "第 4 折\n",
      "encoding... age_1\n",
      "end...\n",
      "encoding... age_2\n",
      "end...\n",
      "encoding... age_3\n",
      "end...\n",
      "encoding... age_4\n",
      "end...\n",
      "encoding... age_5\n",
      "end...\n",
      "encoding... age_6\n",
      "end...\n",
      "encoding... age_7\n",
      "end...\n",
      "encoding... age_8\n",
      "end...\n",
      "encoding... age_9\n",
      "end...\n",
      "encoding... age_10\n",
      "end...\n",
      "encoding... gender_1\n",
      "end...\n",
      "encoding... gender_2\n",
      "end...\n",
      "第 5 折\n",
      "encoding... age_1\n",
      "end...\n",
      "encoding... age_2\n",
      "end...\n",
      "encoding... age_3\n",
      "end...\n",
      "encoding... age_4\n",
      "end...\n",
      "encoding... age_5\n",
      "end...\n",
      "encoding... age_6\n",
      "end...\n",
      "encoding... age_7\n",
      "end...\n",
      "encoding... age_8\n",
      "end...\n",
      "encoding... age_9\n",
      "end...\n",
      "encoding... age_10\n",
      "end...\n",
      "encoding... gender_1\n",
      "end...\n",
      "encoding... gender_2\n",
      "end...\n",
      "\n"
     ]
    },
    {
     "data": {
      "application/vnd.jupyter.widget-view+json": {
       "model_id": "02515f086c02441dba956e86097cf1d1",
       "version_major": 2,
       "version_minor": 0
      },
      "text/plain": [
       "HBox(children=(IntProgress(value=0, max=1434), HTML(value='')))"
      ]
     },
     "metadata": {},
     "output_type": "display_data"
    },
    {
     "name": "stdout",
     "output_type": "stream",
     "text": [
      "\n",
      "advertiser_id   age_1\n"
     ]
    },
    {
     "data": {
      "application/vnd.jupyter.widget-view+json": {
       "model_id": "609bec28fcb14731aa774af0474f88bb",
       "version_major": 2,
       "version_minor": 0
      },
      "text/plain": [
       "HBox(children=(IntProgress(value=0, max=1434), HTML(value='')))"
      ]
     },
     "metadata": {},
     "output_type": "display_data"
    },
    {
     "name": "stdout",
     "output_type": "stream",
     "text": [
      "\n",
      "advertiser_id   age_2\n"
     ]
    },
    {
     "data": {
      "application/vnd.jupyter.widget-view+json": {
       "model_id": "2a95783f0a87475daa3603559f7d1e7e",
       "version_major": 2,
       "version_minor": 0
      },
      "text/plain": [
       "HBox(children=(IntProgress(value=0, max=1434), HTML(value='')))"
      ]
     },
     "metadata": {},
     "output_type": "display_data"
    },
    {
     "name": "stdout",
     "output_type": "stream",
     "text": [
      "\n",
      "advertiser_id   age_3\n"
     ]
    },
    {
     "data": {
      "application/vnd.jupyter.widget-view+json": {
       "model_id": "320ca5eef0e24ac18ebf1ccf35f12d2e",
       "version_major": 2,
       "version_minor": 0
      },
      "text/plain": [
       "HBox(children=(IntProgress(value=0, max=1434), HTML(value='')))"
      ]
     },
     "metadata": {},
     "output_type": "display_data"
    },
    {
     "name": "stdout",
     "output_type": "stream",
     "text": [
      "\n",
      "advertiser_id   age_4\n"
     ]
    },
    {
     "data": {
      "application/vnd.jupyter.widget-view+json": {
       "model_id": "a1a0ed64d99a4f3aa6ae6ee352c969c1",
       "version_major": 2,
       "version_minor": 0
      },
      "text/plain": [
       "HBox(children=(IntProgress(value=0, max=1434), HTML(value='')))"
      ]
     },
     "metadata": {},
     "output_type": "display_data"
    },
    {
     "name": "stdout",
     "output_type": "stream",
     "text": [
      "\n",
      "advertiser_id   age_5\n"
     ]
    },
    {
     "data": {
      "application/vnd.jupyter.widget-view+json": {
       "model_id": "46874937060646d38857d204c65d4141",
       "version_major": 2,
       "version_minor": 0
      },
      "text/plain": [
       "HBox(children=(IntProgress(value=0, max=1434), HTML(value='')))"
      ]
     },
     "metadata": {},
     "output_type": "display_data"
    },
    {
     "name": "stdout",
     "output_type": "stream",
     "text": [
      "\n",
      "advertiser_id   age_6\n"
     ]
    },
    {
     "data": {
      "application/vnd.jupyter.widget-view+json": {
       "model_id": "9501337afe464abd9a0d6dbb4272a762",
       "version_major": 2,
       "version_minor": 0
      },
      "text/plain": [
       "HBox(children=(IntProgress(value=0, max=1434), HTML(value='')))"
      ]
     },
     "metadata": {},
     "output_type": "display_data"
    },
    {
     "name": "stdout",
     "output_type": "stream",
     "text": [
      "\n",
      "advertiser_id   age_7\n"
     ]
    },
    {
     "data": {
      "application/vnd.jupyter.widget-view+json": {
       "model_id": "75499bcaa75943aca10c37be8e8d565c",
       "version_major": 2,
       "version_minor": 0
      },
      "text/plain": [
       "HBox(children=(IntProgress(value=0, max=1434), HTML(value='')))"
      ]
     },
     "metadata": {},
     "output_type": "display_data"
    },
    {
     "name": "stdout",
     "output_type": "stream",
     "text": [
      "\n",
      "advertiser_id   age_8\n"
     ]
    },
    {
     "data": {
      "application/vnd.jupyter.widget-view+json": {
       "model_id": "947f4fdd6790488d962c3ff93437b27f",
       "version_major": 2,
       "version_minor": 0
      },
      "text/plain": [
       "HBox(children=(IntProgress(value=0, max=1434), HTML(value='')))"
      ]
     },
     "metadata": {},
     "output_type": "display_data"
    },
    {
     "name": "stdout",
     "output_type": "stream",
     "text": [
      "\n",
      "advertiser_id   age_9\n"
     ]
    },
    {
     "data": {
      "application/vnd.jupyter.widget-view+json": {
       "model_id": "6db8f07b75214659b61edbeec576a7fd",
       "version_major": 2,
       "version_minor": 0
      },
      "text/plain": [
       "HBox(children=(IntProgress(value=0, max=1434), HTML(value='')))"
      ]
     },
     "metadata": {},
     "output_type": "display_data"
    },
    {
     "name": "stdout",
     "output_type": "stream",
     "text": [
      "\n",
      "advertiser_id   age_10\n"
     ]
    },
    {
     "data": {
      "application/vnd.jupyter.widget-view+json": {
       "model_id": "5a66f703606c4b54bfc8d64e632f98f8",
       "version_major": 2,
       "version_minor": 0
      },
      "text/plain": [
       "HBox(children=(IntProgress(value=0, max=1434), HTML(value='')))"
      ]
     },
     "metadata": {},
     "output_type": "display_data"
    },
    {
     "name": "stdout",
     "output_type": "stream",
     "text": [
      "\n",
      "advertiser_id   gender_1\n"
     ]
    },
    {
     "data": {
      "application/vnd.jupyter.widget-view+json": {
       "model_id": "25e535e19f2443559d497e12b3d81796",
       "version_major": 2,
       "version_minor": 0
      },
      "text/plain": [
       "HBox(children=(IntProgress(value=0, max=1434), HTML(value='')))"
      ]
     },
     "metadata": {},
     "output_type": "display_data"
    },
    {
     "name": "stdout",
     "output_type": "stream",
     "text": [
      "\n",
      "advertiser_id   gender_2\n"
     ]
    },
    {
     "data": {
      "application/vnd.jupyter.widget-view+json": {
       "model_id": "3bdc27c6504a496781e575191f25945c",
       "version_major": 2,
       "version_minor": 0
      },
      "text/plain": [
       "HBox(children=(IntProgress(value=1, bar_style='info', max=1), HTML(value='')))"
      ]
     },
     "metadata": {},
     "output_type": "display_data"
    },
    {
     "data": {
      "application/vnd.jupyter.widget-view+json": {
       "model_id": "d5b75352d40a4df98a2fedbf89b29fff",
       "version_major": 2,
       "version_minor": 0
      },
      "text/plain": [
       "HBox(children=(IntProgress(value=0, max=1), HTML(value='')))"
      ]
     },
     "metadata": {},
     "output_type": "display_data"
    },
    {
     "name": "stdout",
     "output_type": "stream",
     "text": [
      "\n"
     ]
    },
    {
     "data": {
      "application/vnd.jupyter.widget-view+json": {
       "model_id": "55c2806c14d843ef806f35752e5826db",
       "version_major": 2,
       "version_minor": 0
      },
      "text/plain": [
       "HBox(children=(IntProgress(value=0, max=1), HTML(value='')))"
      ]
     },
     "metadata": {},
     "output_type": "display_data"
    },
    {
     "name": "stdout",
     "output_type": "stream",
     "text": [
      "\n"
     ]
    },
    {
     "data": {
      "application/vnd.jupyter.widget-view+json": {
       "model_id": "43cc469111ca4d09bd62581020b0dd11",
       "version_major": 2,
       "version_minor": 0
      },
      "text/plain": [
       "HBox(children=(IntProgress(value=0, max=1), HTML(value='')))"
      ]
     },
     "metadata": {},
     "output_type": "display_data"
    },
    {
     "name": "stdout",
     "output_type": "stream",
     "text": [
      "\n"
     ]
    },
    {
     "data": {
      "application/vnd.jupyter.widget-view+json": {
       "model_id": "d80566eb933f4c45aca2c092e634fccf",
       "version_major": 2,
       "version_minor": 0
      },
      "text/plain": [
       "HBox(children=(IntProgress(value=0, max=1), HTML(value='')))"
      ]
     },
     "metadata": {},
     "output_type": "display_data"
    },
    {
     "name": "stdout",
     "output_type": "stream",
     "text": [
      "\n"
     ]
    },
    {
     "data": {
      "application/vnd.jupyter.widget-view+json": {
       "model_id": "0ddbddc61df7495fab1aff8fc3789414",
       "version_major": 2,
       "version_minor": 0
      },
      "text/plain": [
       "HBox(children=(IntProgress(value=0, max=1), HTML(value='')))"
      ]
     },
     "metadata": {},
     "output_type": "display_data"
    },
    {
     "name": "stdout",
     "output_type": "stream",
     "text": [
      "\n",
      "\n"
     ]
    },
    {
     "data": {
      "application/vnd.jupyter.widget-view+json": {
       "model_id": "53a975a2f78d4dfc8ecb5ac7dc5caf4c",
       "version_major": 2,
       "version_minor": 0
      },
      "text/plain": [
       "HBox(children=(IntProgress(value=0, max=1), HTML(value='')))"
      ]
     },
     "metadata": {},
     "output_type": "display_data"
    },
    {
     "name": "stdout",
     "output_type": "stream",
     "text": [
      "\n",
      "+++++++++++++++++industry\n"
     ]
    },
    {
     "data": {
      "application/vnd.jupyter.widget-view+json": {
       "model_id": "224a9ef3d75a4e79a44eaab98c5c67e6",
       "version_major": 2,
       "version_minor": 0
      },
      "text/plain": [
       "HBox(children=(IntProgress(value=1, bar_style='info', max=1), HTML(value='')))"
      ]
     },
     "metadata": {},
     "output_type": "display_data"
    },
    {
     "name": "stdout",
     "output_type": "stream",
     "text": [
      "第 1 折\n",
      "encoding... age_1\n",
      "end...\n",
      "encoding... age_2\n",
      "end...\n",
      "encoding... age_3\n",
      "end...\n",
      "encoding... age_4\n",
      "end...\n",
      "encoding... age_5\n",
      "end...\n",
      "encoding... age_6\n",
      "end...\n",
      "encoding... age_7\n",
      "end...\n",
      "encoding... age_8\n",
      "end...\n",
      "encoding... age_9\n",
      "end...\n",
      "encoding... age_10\n",
      "end...\n",
      "encoding... gender_1\n",
      "end...\n",
      "encoding... gender_2\n",
      "end...\n",
      "第 2 折\n",
      "encoding... age_1\n",
      "end...\n",
      "encoding... age_2\n",
      "end...\n",
      "encoding... age_3\n",
      "end...\n",
      "encoding... age_4\n",
      "end...\n",
      "encoding... age_5\n",
      "end...\n",
      "encoding... age_6\n",
      "end...\n",
      "encoding... age_7\n",
      "end...\n",
      "encoding... age_8\n",
      "end...\n",
      "encoding... age_9\n",
      "end...\n",
      "encoding... age_10\n",
      "end...\n",
      "encoding... gender_1\n",
      "end...\n",
      "encoding... gender_2\n",
      "end...\n",
      "第 3 折\n",
      "encoding... age_1\n",
      "end...\n",
      "encoding... age_2\n",
      "end...\n",
      "encoding... age_3\n",
      "end...\n",
      "encoding... age_4\n",
      "end...\n",
      "encoding... age_5\n",
      "end...\n",
      "encoding... age_6\n",
      "end...\n",
      "encoding... age_7\n",
      "end...\n",
      "encoding... age_8\n",
      "end...\n",
      "encoding... age_9\n",
      "end...\n",
      "encoding... age_10\n",
      "end...\n",
      "encoding... gender_1\n",
      "end...\n",
      "encoding... gender_2\n",
      "end...\n",
      "第 4 折\n",
      "encoding... age_1\n",
      "end...\n",
      "encoding... age_2\n",
      "end...\n",
      "encoding... age_3\n",
      "end...\n",
      "encoding... age_4\n",
      "end...\n",
      "encoding... age_5\n",
      "end...\n",
      "encoding... age_6\n",
      "end...\n",
      "encoding... age_7\n",
      "end...\n",
      "encoding... age_8\n",
      "end...\n",
      "encoding... age_9\n",
      "end...\n",
      "encoding... age_10\n",
      "end...\n",
      "encoding... gender_1\n",
      "end...\n",
      "encoding... gender_2\n",
      "end...\n",
      "第 5 折\n",
      "encoding... age_1\n",
      "end...\n",
      "encoding... age_2\n",
      "end...\n",
      "encoding... age_3\n",
      "end...\n",
      "encoding... age_4\n",
      "end...\n",
      "encoding... age_5\n",
      "end...\n",
      "encoding... age_6\n",
      "end...\n",
      "encoding... age_7\n",
      "end...\n",
      "encoding... age_8\n",
      "end...\n",
      "encoding... age_9\n",
      "end...\n",
      "encoding... age_10\n",
      "end...\n",
      "encoding... gender_1\n",
      "end...\n",
      "encoding... gender_2\n",
      "end...\n",
      "\n"
     ]
    },
    {
     "data": {
      "application/vnd.jupyter.widget-view+json": {
       "model_id": "abb9b089de70475a9f0ff9584447c525",
       "version_major": 2,
       "version_minor": 0
      },
      "text/plain": [
       "HBox(children=(IntProgress(value=0, max=159), HTML(value='')))"
      ]
     },
     "metadata": {},
     "output_type": "display_data"
    },
    {
     "name": "stdout",
     "output_type": "stream",
     "text": [
      "\n",
      "industry   age_1\n"
     ]
    },
    {
     "data": {
      "application/vnd.jupyter.widget-view+json": {
       "model_id": "8dd485e7394f4e3f9ee4493aa61eec8b",
       "version_major": 2,
       "version_minor": 0
      },
      "text/plain": [
       "HBox(children=(IntProgress(value=0, max=159), HTML(value='')))"
      ]
     },
     "metadata": {},
     "output_type": "display_data"
    },
    {
     "name": "stdout",
     "output_type": "stream",
     "text": [
      "\n",
      "industry   age_2\n"
     ]
    },
    {
     "data": {
      "application/vnd.jupyter.widget-view+json": {
       "model_id": "1538e04d74694216acb7b435aad87501",
       "version_major": 2,
       "version_minor": 0
      },
      "text/plain": [
       "HBox(children=(IntProgress(value=0, max=159), HTML(value='')))"
      ]
     },
     "metadata": {},
     "output_type": "display_data"
    },
    {
     "name": "stdout",
     "output_type": "stream",
     "text": [
      "\n",
      "industry   age_3\n"
     ]
    },
    {
     "data": {
      "application/vnd.jupyter.widget-view+json": {
       "model_id": "7547fd5440324b17bb6cd3e759777c1b",
       "version_major": 2,
       "version_minor": 0
      },
      "text/plain": [
       "HBox(children=(IntProgress(value=0, max=159), HTML(value='')))"
      ]
     },
     "metadata": {},
     "output_type": "display_data"
    },
    {
     "name": "stdout",
     "output_type": "stream",
     "text": [
      "\n",
      "industry   age_4\n"
     ]
    },
    {
     "data": {
      "application/vnd.jupyter.widget-view+json": {
       "model_id": "de11dc81bf7c4d24b4c91eed6ef7e267",
       "version_major": 2,
       "version_minor": 0
      },
      "text/plain": [
       "HBox(children=(IntProgress(value=0, max=159), HTML(value='')))"
      ]
     },
     "metadata": {},
     "output_type": "display_data"
    },
    {
     "name": "stdout",
     "output_type": "stream",
     "text": [
      "\n",
      "industry   age_5\n"
     ]
    },
    {
     "data": {
      "application/vnd.jupyter.widget-view+json": {
       "model_id": "93ea88208ed9419bb915dc4a8fa24406",
       "version_major": 2,
       "version_minor": 0
      },
      "text/plain": [
       "HBox(children=(IntProgress(value=0, max=159), HTML(value='')))"
      ]
     },
     "metadata": {},
     "output_type": "display_data"
    },
    {
     "name": "stdout",
     "output_type": "stream",
     "text": [
      "\n",
      "industry   age_6\n"
     ]
    },
    {
     "data": {
      "application/vnd.jupyter.widget-view+json": {
       "model_id": "194032b593c843d0918333a61e532928",
       "version_major": 2,
       "version_minor": 0
      },
      "text/plain": [
       "HBox(children=(IntProgress(value=0, max=159), HTML(value='')))"
      ]
     },
     "metadata": {},
     "output_type": "display_data"
    },
    {
     "name": "stdout",
     "output_type": "stream",
     "text": [
      "\n",
      "industry   age_7\n"
     ]
    },
    {
     "data": {
      "application/vnd.jupyter.widget-view+json": {
       "model_id": "24b8ecda63d14c3489554b879eaf2587",
       "version_major": 2,
       "version_minor": 0
      },
      "text/plain": [
       "HBox(children=(IntProgress(value=0, max=159), HTML(value='')))"
      ]
     },
     "metadata": {},
     "output_type": "display_data"
    },
    {
     "name": "stdout",
     "output_type": "stream",
     "text": [
      "\n",
      "industry   age_8\n"
     ]
    },
    {
     "data": {
      "application/vnd.jupyter.widget-view+json": {
       "model_id": "082b4149056545cd9d6f04c9160db10e",
       "version_major": 2,
       "version_minor": 0
      },
      "text/plain": [
       "HBox(children=(IntProgress(value=0, max=159), HTML(value='')))"
      ]
     },
     "metadata": {},
     "output_type": "display_data"
    },
    {
     "name": "stdout",
     "output_type": "stream",
     "text": [
      "\n",
      "industry   age_9\n"
     ]
    },
    {
     "data": {
      "application/vnd.jupyter.widget-view+json": {
       "model_id": "fa48414aeacf406abb00ace37f9d09c3",
       "version_major": 2,
       "version_minor": 0
      },
      "text/plain": [
       "HBox(children=(IntProgress(value=0, max=159), HTML(value='')))"
      ]
     },
     "metadata": {},
     "output_type": "display_data"
    },
    {
     "name": "stdout",
     "output_type": "stream",
     "text": [
      "\n",
      "industry   age_10\n"
     ]
    },
    {
     "data": {
      "application/vnd.jupyter.widget-view+json": {
       "model_id": "c9c200c4ce784deda4539da93f1884af",
       "version_major": 2,
       "version_minor": 0
      },
      "text/plain": [
       "HBox(children=(IntProgress(value=0, max=159), HTML(value='')))"
      ]
     },
     "metadata": {},
     "output_type": "display_data"
    },
    {
     "name": "stdout",
     "output_type": "stream",
     "text": [
      "\n",
      "industry   gender_1\n"
     ]
    },
    {
     "data": {
      "application/vnd.jupyter.widget-view+json": {
       "model_id": "59075ce825bc4cdd8a57cdd78e3dabdb",
       "version_major": 2,
       "version_minor": 0
      },
      "text/plain": [
       "HBox(children=(IntProgress(value=0, max=159), HTML(value='')))"
      ]
     },
     "metadata": {},
     "output_type": "display_data"
    },
    {
     "name": "stdout",
     "output_type": "stream",
     "text": [
      "\n",
      "industry   gender_2\n"
     ]
    },
    {
     "data": {
      "application/vnd.jupyter.widget-view+json": {
       "model_id": "05d5978807a340cc9fbcd3e9690bc6de",
       "version_major": 2,
       "version_minor": 0
      },
      "text/plain": [
       "HBox(children=(IntProgress(value=1, bar_style='info', max=1), HTML(value='')))"
      ]
     },
     "metadata": {},
     "output_type": "display_data"
    },
    {
     "data": {
      "application/vnd.jupyter.widget-view+json": {
       "model_id": "048da8eba22f448e9d5d031754ddb901",
       "version_major": 2,
       "version_minor": 0
      },
      "text/plain": [
       "HBox(children=(IntProgress(value=0, max=1), HTML(value='')))"
      ]
     },
     "metadata": {},
     "output_type": "display_data"
    },
    {
     "name": "stdout",
     "output_type": "stream",
     "text": [
      "\n"
     ]
    },
    {
     "data": {
      "application/vnd.jupyter.widget-view+json": {
       "model_id": "8bb9046aae7f469880457fead2f78e27",
       "version_major": 2,
       "version_minor": 0
      },
      "text/plain": [
       "HBox(children=(IntProgress(value=0, max=1), HTML(value='')))"
      ]
     },
     "metadata": {},
     "output_type": "display_data"
    },
    {
     "name": "stdout",
     "output_type": "stream",
     "text": [
      "\n"
     ]
    },
    {
     "data": {
      "application/vnd.jupyter.widget-view+json": {
       "model_id": "68dae6b2017f4a8aad1936e3d8824b38",
       "version_major": 2,
       "version_minor": 0
      },
      "text/plain": [
       "HBox(children=(IntProgress(value=0, max=1), HTML(value='')))"
      ]
     },
     "metadata": {},
     "output_type": "display_data"
    },
    {
     "name": "stdout",
     "output_type": "stream",
     "text": [
      "\n"
     ]
    },
    {
     "data": {
      "application/vnd.jupyter.widget-view+json": {
       "model_id": "b0b4d45075d7456fbc4ef2eb68e4741b",
       "version_major": 2,
       "version_minor": 0
      },
      "text/plain": [
       "HBox(children=(IntProgress(value=0, max=1), HTML(value='')))"
      ]
     },
     "metadata": {},
     "output_type": "display_data"
    },
    {
     "name": "stdout",
     "output_type": "stream",
     "text": [
      "\n"
     ]
    },
    {
     "data": {
      "application/vnd.jupyter.widget-view+json": {
       "model_id": "295b6d904e0a4c46ab81d37e9deb0df3",
       "version_major": 2,
       "version_minor": 0
      },
      "text/plain": [
       "HBox(children=(IntProgress(value=0, max=1), HTML(value='')))"
      ]
     },
     "metadata": {},
     "output_type": "display_data"
    },
    {
     "name": "stdout",
     "output_type": "stream",
     "text": [
      "\n",
      "\n"
     ]
    },
    {
     "data": {
      "application/vnd.jupyter.widget-view+json": {
       "model_id": "30ff846ff1b84593b333060498a8156d",
       "version_major": 2,
       "version_minor": 0
      },
      "text/plain": [
       "HBox(children=(IntProgress(value=0, max=1), HTML(value='')))"
      ]
     },
     "metadata": {},
     "output_type": "display_data"
    },
    {
     "name": "stdout",
     "output_type": "stream",
     "text": [
      "\n"
     ]
    }
   ],
   "source": [
    "cols=['click_times','time','creative_id', 'ad_id','product_id','product_category','advertiser_id','industry']\n",
    "map_dicts=[dict() for i in range(6)]\n",
    "usr_id_dict=dict()\n",
    "for col in cols:\n",
    "    print(\"+++++++++++++++++\"+col)\n",
    "    train_full_info=pk.load(open(\"../../var/fjw/train_mid/\"+col+\"_full_info.pk\",\"rb\"))\n",
    "    test_full_info=pk.load(open(\"../../var/fjw/test_mid/\"+col+\"_full_info.pk\",\"rb\"))\n",
    "#     if col=='creative_id':\n",
    "#         break\n",
    "    train_id_info=train_full_info['user_id'].drop_duplicates()\n",
    "    n_folds=5\n",
    "    kf = KFold(n_splits=n_folds, shuffle=True,random_state=20)\n",
    "    targets=train_full_info.columns[-12:].tolist()\n",
    "    for target in targets:\n",
    "        train_full_info.insert(train_full_info.shape[1],col+\"_\"+target,0)\n",
    "    col_idx=dict([(col,idx) for idx,col in enumerate(train_full_info.columns)])\n",
    "    train_full_info=train_full_info\n",
    "    temp_cols=[col]\n",
    "    for fold_,(train_idx,val_idx) in tqdm(enumerate(kf.split(train_id_info))):\n",
    "        print(\"第\",fold_+1,\"折\")\n",
    "        X_train=train_full_info[train_full_info['user_id'].isin(train_id_info.iloc[train_idx])].loc[:,temp_cols+targets]\n",
    "        X_test=train_full_info[train_full_info['user_id'].isin(train_id_info.iloc[val_idx])].loc[:,temp_cols+targets]\n",
    "        enc = TargetEncoder(cols=temp_cols)\n",
    "        temp_datasets=[]\n",
    "        real_val_idx=train_full_info[train_full_info['user_id'].isin(train_id_info.iloc[val_idx])].index\n",
    "        for target in targets:\n",
    "            print(\"encoding...\",target)\n",
    "            y_train=X_train[target]\n",
    "            enc.fit(X_train, y_train)\n",
    "            testing_numeric_dataset = enc.transform(X_test)\n",
    "            testing_numeric_dataset.columns=[col+\"_\"+target if col in temp_cols else col for col in testing_numeric_dataset.columns]\n",
    "            print(\"end...\")\n",
    "            train_full_info.iloc[real_val_idx,[col_idx[col+\"_\"+target] for col in temp_cols]]=\\\n",
    "            testing_numeric_dataset.loc[:,[col+\"_\"+target for col in temp_cols]]\n",
    "    temp_test_full_info=test_full_info\n",
    "    temp_cols=[col]\n",
    "    for target in targets:\n",
    "        default_mean=train_full_info[col+'_'+target].mean()\n",
    "        map_dict=dict(train_full_info[[col,col+'_'+target]].groupby(col).mean()[col+'_'+target])\n",
    "        test_cols=list(set(temp_test_full_info[col].tolist()))\n",
    "        nums=0\n",
    "        for e in tqdm(test_cols):\n",
    "            if e not in map_dict.keys():\n",
    "                map_dict[e]=default_mean\n",
    "                nums+=1\n",
    "        map_info=[]\n",
    "        for key,value in map_dict.items():\n",
    "            map_info.append([key,value])\n",
    "        print(col,\" \",target)\n",
    "#         print(len(test_cols))\n",
    "#         print(nums)\n",
    "        map_df=pd.DataFrame(map_info,columns=[col,col+\"_\"+target])\n",
    "        temp_test_full_info=pd.merge(temp_test_full_info,map_df,how='left')\n",
    "    n_folds=5\n",
    "    kf = KFold(n_splits=n_folds, shuffle=True,random_state=20)\n",
    "    targets=[\"age_\"+str(i) for i in range(1,11)]+[\"gender_\"+str(i) for i in range(1,3)]\n",
    "    target_cols=train_full_info.columns[-12:].tolist()\n",
    "\n",
    "    id_lists=[]\n",
    "    for fold_,(train_idx,val_idx) in tqdm(enumerate(kf.split(train_id_info))):\n",
    "        id_list=train_id_info.iloc[val_idx].to_list()\n",
    "        id_lists.append(id_list)\n",
    "        val_info=train_full_info[train_full_info['user_id'].isin(train_id_info.iloc[val_idx])].loc[:,temp_cols+target_cols]\n",
    "        for e in id_list:\n",
    "            usr_id_dict[e]=fold_\n",
    "        for col in tqdm(temp_cols):\n",
    "            temp=val_info.loc[:,[col]+[col+\"_\"+target for target in targets]].drop_duplicates().set_index(col)\n",
    "            temp=pd.Series(data=[e for e in temp.values],index=temp.index)\n",
    "            if col in ['creative_id', 'ad_id','product_id','product_category','advertiser_id','industry']:\n",
    "                temp.index=temp.index.astype('str')\n",
    "            if col in ['product_id','industry']:\n",
    "                if '\\\\N' in temp.index:\n",
    "                    temp['0']=temp['\\\\N']\n",
    "            map_dicts[fold_][col]=temp\n",
    "    # pk.dump([usr_id_dict,map_dicts],open(\"./dataset/train_mid/target_info.pk\",\"wb\"))\n",
    "    test_full_info=temp_test_full_info\n",
    "    test_id_info=test_full_info['user_id'].drop_duplicates()\n",
    "    id_list=test_id_info.to_list()\n",
    "    for e in id_list:\n",
    "        usr_id_dict[e]=5\n",
    "    targets=[\"age_\"+str(i) for i in range(1,11)]+[\"gender_\"+str(i) for i in range(1,3)]\n",
    "    target_cols=test_full_info.columns[-12:].tolist()\n",
    "    val_info=test_full_info.loc[:,temp_cols+target_cols]\n",
    "    for col in tqdm(temp_cols):\n",
    "        temp=val_info.loc[:,[col]+[col+\"_\"+target for target in targets]].drop_duplicates().set_index(col)\n",
    "        temp=pd.Series(data=[e for e in temp.values],index=temp.index)\n",
    "        if col in ['creative_id', 'ad_id','product_id','product_category','advertiser_id','industry']:\n",
    "            temp.index=temp.index.astype('str')\n",
    "        if col in ['product_id','industry']:\n",
    "            if '\\\\N' in temp.index:\n",
    "                temp['0']=temp['\\\\N']\n",
    "        map_dicts[5][col]=temp\n",
    "pk.dump([usr_id_dict,map_dicts],open(\"../../var/fjw/train_mid/target_info.pk\",\"wb\"))\n",
    "indexs=[]\n",
    "values=[]\n",
    "for idx in map_dicts[5]['industry'].index.drop_duplicates():\n",
    "    indexs.append(idx)\n",
    "    if len(map_dicts[5]['industry'][idx])>1 and len(map_dicts[5]['industry'][idx])!=12:\n",
    "        assert  (map_dicts[5]['industry'][idx].iloc[0]==map_dicts[5]['industry'][idx].iloc[1]).all()\n",
    "        values.append(map_dicts[5]['industry'][idx].iloc[0])\n",
    "    else:\n",
    "        values.append(map_dicts[5]['industry'][idx])\n",
    "new_series=pd.Series(data=values,index=indexs)\n",
    "map_dicts[5]['industry']=new_series\n",
    "pk.dump([usr_id_dict,map_dicts],open(\"../../var/fjw/train_mid/target_info.pk\",\"wb\"))"
   ]
  },
  {
   "cell_type": "markdown",
   "metadata": {
    "heading_collapsed": true
   },
   "source": [
    "## 信息读取"
   ]
  },
  {
   "cell_type": "code",
   "execution_count": 5,
   "metadata": {
    "hidden": true
   },
   "outputs": [],
   "source": [
    "train_ad_info=pd.read_csv(\"../../var/data/train_preliminary/ad.csv\")\n",
    "new_train_ad_info=pd.read_csv(\"../../var/data/train_semi_final/ad.csv\")\n",
    "test_ad_info=pd.read_csv(\"../../var/data/test/ad.csv\")\n",
    "ad_info=pd.concat([train_ad_info,new_train_ad_info,test_ad_info]).drop_duplicates()\n",
    "ad_info.to_csv(\"../../var/fjw/full_ad.csv\",index=False)"
   ]
  },
  {
   "cell_type": "code",
   "execution_count": 6,
   "metadata": {
    "hidden": true
   },
   "outputs": [],
   "source": [
    "train_click_log=pd.read_csv(\"../../var/data/train_preliminary/click_log.csv\")\n",
    "train_usr_label=pd.read_csv(\"../../var/data/train_preliminary/user.csv\")\n",
    "train_ad_info=pd.read_csv(\"../../var/data/train_preliminary/ad.csv\")"
   ]
  },
  {
   "cell_type": "code",
   "execution_count": 7,
   "metadata": {
    "hidden": true
   },
   "outputs": [],
   "source": [
    "new_train_click_log=pd.read_csv(\"../../var/data/train_semi_final/click_log.csv\")\n",
    "new_train_usr_label=pd.read_csv(\"../../var/data/train_semi_final/user.csv\")\n",
    "new_train_ad_info=pd.read_csv(\"../../var/data/train_semi_final/ad.csv\")"
   ]
  },
  {
   "cell_type": "code",
   "execution_count": 8,
   "metadata": {
    "hidden": true
   },
   "outputs": [],
   "source": [
    "train_usr_label=pd.concat([train_usr_label,new_train_usr_label]).drop_duplicates()\n",
    "train_click_log=pd.concat([train_click_log,new_train_click_log]).drop_duplicates()\n",
    "train_ad_info=pd.concat([train_ad_info,new_train_ad_info]).drop_duplicates()"
   ]
  },
  {
   "cell_type": "code",
   "execution_count": 9,
   "metadata": {
    "hidden": true
   },
   "outputs": [],
   "source": [
    "test_click_log=pd.read_csv(\"../../var/data/test/click_log.csv\")\n",
    "test_ad_info=pd.read_csv(\"../../var/data/test/ad.csv\")"
   ]
  },
  {
   "cell_type": "markdown",
   "metadata": {
    "heading_collapsed": true
   },
   "source": [
    "## user wise"
   ]
  },
  {
   "cell_type": "markdown",
   "metadata": {
    "hidden": true
   },
   "source": [
    "### load"
   ]
  },
  {
   "cell_type": "code",
   "execution_count": 10,
   "metadata": {
    "hidden": true
   },
   "outputs": [],
   "source": [
    "cid_list=train_click_log['creative_id'].to_list()\n",
    "train_full_info=pd.merge(train_click_log,train_ad_info.query('creative_id==@cid_list'),how='left')\n",
    "train_full_info=pd.merge(train_full_info,train_usr_label,how='left')\n"
   ]
  },
  {
   "cell_type": "code",
   "execution_count": 11,
   "metadata": {
    "hidden": true
   },
   "outputs": [],
   "source": [
    "cid_list=test_click_log['creative_id'].to_list()\n",
    "test_full_info=pd.merge(test_click_log,test_ad_info.query('creative_id==@cid_list'),how='left')"
   ]
  },
  {
   "cell_type": "code",
   "execution_count": 12,
   "metadata": {
    "code_folding": [],
    "hidden": true
   },
   "outputs": [
    {
     "name": "stdout",
     "output_type": "stream",
     "text": [
      "loading train usr click log df...\n"
     ]
    }
   ],
   "source": [
    "if not os.path.exists(\"../../var/fjw/train_mid/usr_click_log_df.pk\"):\n",
    "    train_usr_click_log=[]\n",
    "    for idx,info in tqdm(train_full_info.groupby('user_id')):\n",
    "        t=info.sort_values('time').reset_index(drop=True)\n",
    "        train_usr_click_log.append(t)\n",
    "    columns=train_usr_click_log[0].columns\n",
    "    new_info=[e.values.transpose().tolist() for e in train_usr_click_log[:]]\n",
    "    new_train_info=pd.DataFrame(new_info,columns=columns)\n",
    "    for idx in tqdm(range(new_train_info.shape[0])):\n",
    "        new_train_info.iloc[idx]['product_id']=[int(e) for e in \" \".join(new_train_info.iloc[idx]['product_id']).replace(\"\\\\N\",\"0\").split(\" \")]\n",
    "        new_train_info.iloc[idx]['industry']=[int(e) for e in \" \".join(new_train_info.iloc[idx]['industry']).replace(\"\\\\N\",\"0\").split(\" \")]\n",
    "    pk.dump(new_train_info,open(\"../../var/fjw/train_mid/usr_click_log_df.pk\",\"wb\"))\n",
    "    new_train_usr_click_log=new_train_info\n",
    "else:\n",
    "    print(\"loading train usr click log df...\")\n",
    "    new_train_usr_click_log=pk.load(open(\"../../var/fjw/train_mid/usr_click_log_df.pk\",\"rb\"))\n"
   ]
  },
  {
   "cell_type": "code",
   "execution_count": 13,
   "metadata": {
    "code_folding": [],
    "hidden": true
   },
   "outputs": [
    {
     "name": "stdout",
     "output_type": "stream",
     "text": [
      "loading test usr click log df...\n"
     ]
    }
   ],
   "source": [
    "if not os.path.exists(\"../../var/fjw/test_mid/usr_click_log_df.pk\"):\n",
    "    test_usr_click_log=[]\n",
    "    for idx,info in tqdm(test_full_info.groupby('user_id')):\n",
    "        t=info.sort_values('time').reset_index(drop=True)\n",
    "        test_usr_click_log.append(t)\n",
    "    columns=test_usr_click_log[0].columns\n",
    "    new_info=[e.values.transpose().tolist() for e in test_usr_click_log[:]]\n",
    "    new_test_info=pd.DataFrame(new_info,columns=columns)\n",
    "    for idx in tqdm(range(new_test_info.shape[0])):\n",
    "        new_test_info.iloc[idx]['product_id']=[int(e) for e in \" \".join(new_test_info.iloc[idx]['product_id']).replace(\"\\\\N\",\"0\").split(\" \")]\n",
    "        new_test_info.iloc[idx]['industry']=[int(e) for e in \" \".join(new_test_info.iloc[idx]['industry']).replace(\"\\\\N\",\"0\").split(\" \")]\n",
    "    pk.dump(new_test_info,open(\"../../var/fjw/test_mid/usr_click_log_df.pk\",\"wb\"))\n",
    "    new_test_usr_click_log=new_test_info\n",
    "else:\n",
    "    print(\"loading test usr click log df...\")\n",
    "    new_test_usr_click_log=pk.load(open(\"../../var/fjw/test_mid/usr_click_log_df.pk\",\"rb\"))\n",
    "\n"
   ]
  },
  {
   "cell_type": "markdown",
   "metadata": {
    "heading_collapsed": true,
    "hidden": true
   },
   "source": [
    "### usr seq"
   ]
  },
  {
   "cell_type": "code",
   "execution_count": 20,
   "metadata": {
    "hidden": true
   },
   "outputs": [],
   "source": [
    "full_info=pd.concat([new_train_usr_click_log.iloc[:,:-2],new_test_usr_click_log])\n"
   ]
  },
  {
   "cell_type": "code",
   "execution_count": 22,
   "metadata": {
    "hidden": true,
    "scrolled": true
   },
   "outputs": [
    {
     "name": "stdout",
     "output_type": "stream",
     "text": [
      "product_id_product_category\n"
     ]
    },
    {
     "name": "stderr",
     "output_type": "stream",
     "text": [
      "/home/huangweilin/anaconda3/envs/fjw/lib/python3.6/site-packages/ipykernel_launcher.py:7: TqdmDeprecationWarning: This function will be removed in tqdm==5.0.0\n",
      "Please use `tqdm.notebook.tqdm` instead of `tqdm.tqdm_notebook`\n",
      "  import sys\n"
     ]
    },
    {
     "data": {
      "application/vnd.jupyter.widget-view+json": {
       "model_id": "01d6d760471f4b13ab33ae76f427d521",
       "version_major": 2,
       "version_minor": 0
      },
      "text/plain": [
       "HBox(children=(IntProgress(value=1, bar_style='info', max=1), HTML(value='')))"
      ]
     },
     "metadata": {},
     "output_type": "display_data"
    },
    {
     "name": "stdout",
     "output_type": "stream",
     "text": [
      "\n",
      "product_id_advertiser_id\n"
     ]
    },
    {
     "data": {
      "application/vnd.jupyter.widget-view+json": {
       "model_id": "893b24071ce74af68af6a4738574cd96",
       "version_major": 2,
       "version_minor": 0
      },
      "text/plain": [
       "HBox(children=(IntProgress(value=1, bar_style='info', max=1), HTML(value='')))"
      ]
     },
     "metadata": {},
     "output_type": "display_data"
    },
    {
     "name": "stdout",
     "output_type": "stream",
     "text": [
      "\n",
      "product_id_industry\n"
     ]
    },
    {
     "data": {
      "application/vnd.jupyter.widget-view+json": {
       "model_id": "62da7e42e07442c3aaa84624f6660359",
       "version_major": 2,
       "version_minor": 0
      },
      "text/plain": [
       "HBox(children=(IntProgress(value=1, bar_style='info', max=1), HTML(value='')))"
      ]
     },
     "metadata": {},
     "output_type": "display_data"
    },
    {
     "name": "stdout",
     "output_type": "stream",
     "text": [
      "\n",
      "product_category_advertiser_id\n"
     ]
    },
    {
     "data": {
      "application/vnd.jupyter.widget-view+json": {
       "model_id": "15da4ad4c9754bc4aab982230d422480",
       "version_major": 2,
       "version_minor": 0
      },
      "text/plain": [
       "HBox(children=(IntProgress(value=1, bar_style='info', max=1), HTML(value='')))"
      ]
     },
     "metadata": {},
     "output_type": "display_data"
    },
    {
     "name": "stdout",
     "output_type": "stream",
     "text": [
      "\n",
      "product_category_industry\n"
     ]
    },
    {
     "data": {
      "application/vnd.jupyter.widget-view+json": {
       "model_id": "4825beff61cb4781be64ed7e6dda94f2",
       "version_major": 2,
       "version_minor": 0
      },
      "text/plain": [
       "HBox(children=(IntProgress(value=1, bar_style='info', max=1), HTML(value='')))"
      ]
     },
     "metadata": {},
     "output_type": "display_data"
    },
    {
     "name": "stdout",
     "output_type": "stream",
     "text": [
      "\n",
      "advertiser_id_industry\n"
     ]
    },
    {
     "data": {
      "application/vnd.jupyter.widget-view+json": {
       "model_id": "a8bfc6c125dd4b5ab39cd6200470e209",
       "version_major": 2,
       "version_minor": 0
      },
      "text/plain": [
       "HBox(children=(IntProgress(value=1, bar_style='info', max=1), HTML(value='')))"
      ]
     },
     "metadata": {},
     "output_type": "display_data"
    },
    {
     "name": "stdout",
     "output_type": "stream",
     "text": [
      "\n"
     ]
    }
   ],
   "source": [
    "cross_cols=['product_id','product_category','advertiser_id','industry']\n",
    "usr_idxs=[e[0] for e in full_info['user_id'].values]\n",
    "for idx in range(len(cross_cols)):\n",
    "    for jdx in range(idx+1,len(cross_cols)):\n",
    "        print(cross_cols[idx]+\"_\"+cross_cols[jdx])\n",
    "        new_data=[]\n",
    "        for a,b in tqdm(zip(full_info[cross_cols[idx]].values,full_info[cross_cols[jdx]].values)):\n",
    "            new_data.append([str(ai)+\"_\"+str(bi) for ai,bi in zip(a,b)])\n",
    "        new_series=pd.Series(data=new_data,index=usr_idxs)\n",
    "        pk.dump(new_series,open(\"../../var/fjw/usr_seq/se_user_\"+cross_cols[idx]+\"_\"+cross_cols[jdx]+\".pickle\",\"wb\"))\n"
   ]
  },
  {
   "cell_type": "code",
   "execution_count": 23,
   "metadata": {
    "hidden": true
   },
   "outputs": [
    {
     "name": "stdout",
     "output_type": "stream",
     "text": [
      "time\n",
      "click_times\n",
      "creative_id\n",
      "ad_id\n",
      "product_id\n",
      "product_category\n",
      "advertiser_id\n",
      "industry\n"
     ]
    }
   ],
   "source": [
    "\n",
    "cat_cols=['time','click_times','creative_id','ad_id','product_id','product_category','advertiser_id','industry']\n",
    "usr_idxs=[e[0] for e in full_info['user_id'].values]\n",
    "for col in cat_cols:\n",
    "    print(col)\n",
    "    new_series=pd.Series(data=full_info[col].values,index=usr_idxs)\n",
    "    pk.dump(new_series,open(\"../../var/fjw/usr_seq/se_user_\"+col+\".pickle\",\"wb\"))"
   ]
  },
  {
   "cell_type": "markdown",
   "metadata": {
    "hidden": true
   },
   "source": [
    "#### shuffle"
   ]
  },
  {
   "cell_type": "code",
   "execution_count": 63,
   "metadata": {
    "hidden": true
   },
   "outputs": [],
   "source": [
    "df_user_info = pk.load(open('../../var/hyr/df_user_info.pickle', 'rb'))"
   ]
  },
  {
   "cell_type": "code",
   "execution_count": 64,
   "metadata": {
    "hidden": true
   },
   "outputs": [],
   "source": [
    "def get_same_day(time_seq):\n",
    "    s = None\n",
    "    e = None\n",
    "    ret = []\n",
    "    for i in range(len(time_seq) - 1):\n",
    "        if time_seq[i] == time_seq[i+1] and s is None:\n",
    "            s = i\n",
    "        if time_seq[i] != time_seq[i+1] and s is not None:\n",
    "            e = i+1\n",
    "            ret.append([s, e])\n",
    "            s = None\n",
    "            e = None\n",
    "    return ret"
   ]
  },
  {
   "cell_type": "code",
   "execution_count": 68,
   "metadata": {
    "hidden": true
   },
   "outputs": [
    {
     "name": "stderr",
     "output_type": "stream",
     "text": [
      "/home/huangweilin/anaconda3/envs/fjw/lib/python3.6/site-packages/ipykernel_launcher.py:1: TqdmDeprecationWarning: This function will be removed in tqdm==5.0.0\n",
      "Please use `tqdm.notebook.tqdm` instead of `tqdm.tqdm_notebook`\n",
      "  \"\"\"Entry point for launching an IPython kernel.\n"
     ]
    },
    {
     "data": {
      "application/vnd.jupyter.widget-view+json": {
       "model_id": "80bad09f2d2c424ca4fd9d19aa6bf888",
       "version_major": 2,
       "version_minor": 0
      },
      "text/plain": [
       "HBox(children=(IntProgress(value=0, max=4000000), HTML(value='')))"
      ]
     },
     "metadata": {},
     "output_type": "display_data"
    },
    {
     "name": "stdout",
     "output_type": "stream",
     "text": [
      "\n"
     ]
    }
   ],
   "source": [
    "for i in tqdm(range(1, 4000001)):\n",
    "    if i not in df_user_info.index:\n",
    "        continue\n",
    "    time_seq = df_user_info.at[i, 'time']\n",
    "    creative_seq = np.array(df_user_info.at[i, 'creative_id']).astype('int32')\n",
    "    click_time_seq = np.array(df_user_info.at[i, 'click_time']).astype('int32')\n",
    "    same_days = get_same_day(time_seq)\n",
    "    idx = np.arange(click_time_seq.shape[0]).astype('int32')\n",
    "    for day in same_days:\n",
    "        np.random.shuffle(idx[day[0]:day[1]])\n",
    "    creative_seq = creative_seq[idx]\n",
    "    click_time_seq = click_time_seq[idx]\n",
    "    df_user_info.at[i, 'creative_id'] = creative_seq.tolist()\n",
    "    df_user_info.at[i, 'click_time'] = click_time_seq.tolist()   "
   ]
  },
  {
   "cell_type": "code",
   "execution_count": 70,
   "metadata": {
    "hidden": true
   },
   "outputs": [],
   "source": [
    "info=pk.load(open(\"../../var/fjw/usr_seq/se_user_click_times.pickle\",\"rb\"))"
   ]
  },
  {
   "cell_type": "code",
   "execution_count": 72,
   "metadata": {
    "hidden": true
   },
   "outputs": [],
   "source": [
    "pk.dump(df_user_info['click_time'], open('../../var/fjw/usr_seq/se_user_click_time_shuffle.pk', 'wb'))\n",
    "pk.dump(df_user_info['creative_id'], open('../../var/fjw/usr_seq/se_user_creative_id_shuffle.pk', 'wb'))"
   ]
  },
  {
   "cell_type": "code",
   "execution_count": 73,
   "metadata": {
    "hidden": true
   },
   "outputs": [],
   "source": [
    "pk.dump(df_user_info, open('../../var/hyr/df_user_info_shuffle.pickle', 'wb'))"
   ]
  },
  {
   "cell_type": "markdown",
   "metadata": {
    "heading_collapsed": true,
    "hidden": true
   },
   "source": [
    "### 统计特征聚合"
   ]
  },
  {
   "cell_type": "code",
   "execution_count": 26,
   "metadata": {
    "code_folding": [
     0,
     2
    ],
    "hidden": true
   },
   "outputs": [],
   "source": [
    "def freq(df):\n",
    "    return df.value_counts().values[0]\n",
    "def aggregate_features(df_, prefix):\n",
    "\n",
    "    df = df_.copy()\n",
    "    categorical_cols=['creative_id', 'ad_id','product_id','product_category','advertiser_id','industry']\n",
    "    categorical_cols_func=dict([ (col,['nunique',freq]) for idx,col in enumerate(categorical_cols)])\n",
    "    numeric_cols=['click_times','time']\n",
    "    numeric_cols_func=dict([(col,['mean','max','min','std',\"nunique\",freq,\"count\"]) if idx==0 else (col,['mean','max','min','std',\"nunique\",freq]) for idx,col in enumerate(numeric_cols)])\n",
    "    agg_func=dict()\n",
    "    agg_func.update(numeric_cols_func)\n",
    "    agg_func.update(categorical_cols_func)\n",
    "    agg_df = df.groupby(['user_id']).agg(agg_func)\n",
    "    agg_df.columns = [prefix + '_'.join(col).strip() for col in agg_df.columns.values]\n",
    "    agg_df.reset_index(drop=False, inplace=True)\n",
    "    info=df.groupby(['user_id','time']).sum().groupby(\"user_id\").agg({\"click_times\":['mean','max','min','std',\"nunique\",freq]})\n",
    "    info.columns = [prefix+ '_'.join(col).strip() +\"/times\" for col in info.columns.values]\n",
    "    info.reset_index(drop=False,inplace=True)\n",
    "    agg_df=pd.merge(agg_df,info)\n",
    "    \n",
    "    return agg_df"
   ]
  },
  {
   "cell_type": "code",
   "execution_count": 27,
   "metadata": {
    "hidden": true
   },
   "outputs": [
    {
     "name": "stdout",
     "output_type": "stream",
     "text": [
      "start!!!!\n"
     ]
    }
   ],
   "source": [
    "print(\"start!!!!\")\n",
    "train_click_log=pd.read_csv(\"../../var/data/train_preliminary/click_log.csv\")\n",
    "train_usr_label=pd.read_csv(\"../../var/data/train_preliminary/user.csv\")\n",
    "train_ad_info=pd.read_csv(\"../../var/data/train_preliminary/ad.csv\")\n",
    "new_train_click_log=pd.read_csv(\"../../var/data/train_semi_final/click_log.csv\")\n",
    "new_train_usr_label=pd.read_csv(\"../../var/data/train_semi_final/user.csv\")\n",
    "new_train_ad_info=pd.read_csv(\"../../var/data/train_semi_final/ad.csv\")\n",
    "train_usr_label=pd.concat([train_usr_label,new_train_usr_label]).drop_duplicates()\n",
    "train_click_log=pd.concat([train_click_log,new_train_click_log]).drop_duplicates()\n",
    "train_ad_info=pd.concat([train_ad_info,new_train_ad_info]).drop_duplicates()\n",
    "test_click_log=pd.read_csv(\"../../var/data/test/click_log.csv\")\n",
    "test_ad_info=pd.read_csv(\"../../var/data/test/ad.csv\")\n",
    "cid_list=train_click_log['creative_id'].to_list()\n",
    "train_full_info=pd.merge(train_click_log,train_ad_info.query('creative_id==@cid_list'),how='left')\n",
    "train_full_info=pd.merge(train_full_info,train_usr_label,how='left')\n",
    "cid_list=test_click_log['creative_id'].to_list()\n",
    "test_full_info=pd.merge(test_click_log,test_ad_info.query('creative_id==@cid_list'),how='left')"
   ]
  },
  {
   "cell_type": "code",
   "execution_count": 28,
   "metadata": {
    "hidden": true
   },
   "outputs": [
    {
     "name": "stdout",
     "output_type": "stream",
     "text": [
      "making train...\n",
      "finish train\n",
      "making test...\n",
      "finsh test...\n"
     ]
    }
   ],
   "source": [
    "print(\"making train...\")\n",
    "train_cal_info=aggregate_features(train_full_info,'agg_')\n",
    "print(\"finish train\")\n",
    "train_cal_info.to_csv(\"../../var/fjw/train_mid/usr_click_log_df_cal.csv\",index=False)\n",
    "print(\"making test...\")\n",
    "test_cal_info=aggregate_features(test_full_info,'agg_')\n",
    "print(\"finsh test...\")\n",
    "test_cal_info.to_csv(\"../../var/fjw/test_mid/usr_click_log_df_cal.csv\",index=False)"
   ]
  },
  {
   "cell_type": "code",
   "execution_count": 46,
   "metadata": {
    "hidden": true
   },
   "outputs": [],
   "source": [
    "train_cal_info=pd.read_csv(\"../../var/fjw/train_mid/usr_click_log_df_cal.csv\")\n",
    "test_cal_info=pd.read_csv(\"../../var/fjw/test_mid/usr_click_log_df_cal.csv\")\n",
    "full_cal_info=pd.concat([train_cal_info,test_cal_info])\n",
    "full_cal_info.loc[:,full_cal_info.columns[1:]]=full_cal_info[full_cal_info.columns[1:]].apply(lambda x:(x-x.mean())/x.std(),axis=0)\n",
    "train_cal_info=full_cal_info.iloc[:3000000//test_num].copy()\n",
    "test_cal_info=full_cal_info.iloc[3000000//test_num:].copy()\n",
    "train_cal_info.fillna(0,inplace=True)\n",
    "test_cal_info.fillna(0,inplace=True)\n",
    "train_cal_info.to_csv(\"../../var/fjw/train_mid/usr_click_log_df_cal_norm.csv\",index=False)\n",
    "test_cal_info.to_csv(\"../../var/fjw/test_mid/usr_click_log_df_cal_norm.csv\",index=False)"
   ]
  },
  {
   "cell_type": "code",
   "execution_count": 47,
   "metadata": {
    "hidden": true
   },
   "outputs": [],
   "source": [
    "train_cal_info=pd.read_csv(\"../../var/fjw/train_mid/usr_click_log_df_cal_norm.csv\")\n",
    "test_cal_info=pd.read_csv(\"../../var/fjw/test_mid/usr_click_log_df_cal_norm.csv\")"
   ]
  },
  {
   "cell_type": "code",
   "execution_count": 48,
   "metadata": {
    "hidden": true
   },
   "outputs": [],
   "source": [
    "cal_info=pd.concat([train_cal_info,test_cal_info])"
   ]
  },
  {
   "cell_type": "code",
   "execution_count": 50,
   "metadata": {
    "hidden": true
   },
   "outputs": [],
   "source": [
    "new_cal_info=pd.Series([e for e in cal_info.values[:,1:].astype(np.float32)],index=cal_info['user_id'])"
   ]
  },
  {
   "cell_type": "code",
   "execution_count": 51,
   "metadata": {
    "hidden": true
   },
   "outputs": [],
   "source": [
    "pk.dump(new_cal_info,open(\"../../var/fjw/simple_cal_norm.csv\",\"wb\"))"
   ]
  },
  {
   "cell_type": "markdown",
   "metadata": {
    "hidden": true
   },
   "source": [
    "### TextRank"
   ]
  },
  {
   "cell_type": "code",
   "execution_count": 14,
   "metadata": {
    "hidden": true
   },
   "outputs": [],
   "source": [
    "import jieba\n",
    "import jieba.analyse\n",
    "import jieba.posseg as pseg\n"
   ]
  },
  {
   "cell_type": "code",
   "execution_count": 15,
   "metadata": {
    "hidden": true
   },
   "outputs": [],
   "source": [
    "full_info=pd.concat([new_train_usr_click_log.iloc[:,:-2],new_test_usr_click_log])"
   ]
  },
  {
   "cell_type": "code",
   "execution_count": 56,
   "metadata": {
    "code_folding": [
     2
    ],
    "hidden": true,
    "scrolled": true
   },
   "outputs": [
    {
     "name": "stderr",
     "output_type": "stream",
     "text": [
      "/home/huangweilin/anaconda3/envs/fjw/lib/python3.6/site-packages/ipykernel_launcher.py:3: TqdmDeprecationWarning: This function will be removed in tqdm==5.0.0\n",
      "Please use `tqdm.notebook.tqdm` instead of `tqdm.tqdm_notebook`\n",
      "  This is separate from the ipykernel package so we can avoid doing imports until\n"
     ]
    },
    {
     "data": {
      "application/vnd.jupyter.widget-view+json": {
       "model_id": "75266e208e86405789fd2e3ea7cf89f3",
       "version_major": 2,
       "version_minor": 0
      },
      "text/plain": [
       "HBox(children=(IntProgress(value=0, max=8), HTML(value='')))"
      ]
     },
     "metadata": {},
     "output_type": "display_data"
    },
    {
     "name": "stdout",
     "output_type": "stream",
     "text": [
      "time\n"
     ]
    },
    {
     "name": "stderr",
     "output_type": "stream",
     "text": [
      "/home/huangweilin/anaconda3/envs/fjw/lib/python3.6/site-packages/ipykernel_launcher.py:6: TqdmDeprecationWarning: This function will be removed in tqdm==5.0.0\n",
      "Please use `tqdm.notebook.tqdm` instead of `tqdm.tqdm_notebook`\n",
      "  \n"
     ]
    },
    {
     "data": {
      "application/vnd.jupyter.widget-view+json": {
       "model_id": "b0c70bf246894ee99bcbeb0c245212ca",
       "version_major": 2,
       "version_minor": 0
      },
      "text/plain": [
       "HBox(children=(IntProgress(value=0, max=400), HTML(value='')))"
      ]
     },
     "metadata": {},
     "output_type": "display_data"
    },
    {
     "name": "stderr",
     "output_type": "stream",
     "text": [
      "Building prefix dict from the default dictionary ...\n",
      "07/22/2020 19:25:20 - DEBUG - jieba -   Building prefix dict from the default dictionary ...\n",
      "Loading model from cache /tmp/jieba.cache\n",
      "07/22/2020 19:25:21 - DEBUG - jieba -   Loading model from cache /tmp/jieba.cache\n",
      "Loading model cost 0.825 seconds.\n",
      "07/22/2020 19:25:21 - DEBUG - jieba -   Loading model cost 0.825 seconds.\n",
      "Prefix dict has been built successfully.\n",
      "07/22/2020 19:25:21 - DEBUG - jieba -   Prefix dict has been built successfully.\n"
     ]
    },
    {
     "name": "stdout",
     "output_type": "stream",
     "text": [
      "\n",
      "creative_id\n"
     ]
    },
    {
     "data": {
      "application/vnd.jupyter.widget-view+json": {
       "model_id": "a7474b8c8cf84f4b937f65241a35de74",
       "version_major": 2,
       "version_minor": 0
      },
      "text/plain": [
       "HBox(children=(IntProgress(value=0, max=400), HTML(value='')))"
      ]
     },
     "metadata": {},
     "output_type": "display_data"
    },
    {
     "name": "stdout",
     "output_type": "stream",
     "text": [
      "\n",
      "click_times\n"
     ]
    },
    {
     "data": {
      "application/vnd.jupyter.widget-view+json": {
       "model_id": "eb1dfe1ea0c047fb95b6787b3908bd7a",
       "version_major": 2,
       "version_minor": 0
      },
      "text/plain": [
       "HBox(children=(IntProgress(value=0, max=400), HTML(value='')))"
      ]
     },
     "metadata": {},
     "output_type": "display_data"
    },
    {
     "name": "stdout",
     "output_type": "stream",
     "text": [
      "\n",
      "ad_id\n"
     ]
    },
    {
     "data": {
      "application/vnd.jupyter.widget-view+json": {
       "model_id": "dde6a153ffeb4aeb8e2e6fcf82c3e348",
       "version_major": 2,
       "version_minor": 0
      },
      "text/plain": [
       "HBox(children=(IntProgress(value=0, max=400), HTML(value='')))"
      ]
     },
     "metadata": {},
     "output_type": "display_data"
    },
    {
     "name": "stdout",
     "output_type": "stream",
     "text": [
      "\n",
      "product_id\n"
     ]
    },
    {
     "data": {
      "application/vnd.jupyter.widget-view+json": {
       "model_id": "3bc6db71146e450cacc0d52263deda5b",
       "version_major": 2,
       "version_minor": 0
      },
      "text/plain": [
       "HBox(children=(IntProgress(value=0, max=400), HTML(value='')))"
      ]
     },
     "metadata": {},
     "output_type": "display_data"
    },
    {
     "name": "stdout",
     "output_type": "stream",
     "text": [
      "\n",
      "product_category\n"
     ]
    },
    {
     "data": {
      "application/vnd.jupyter.widget-view+json": {
       "model_id": "eb6196ad9c0941daa384fec216ab7394",
       "version_major": 2,
       "version_minor": 0
      },
      "text/plain": [
       "HBox(children=(IntProgress(value=0, max=400), HTML(value='')))"
      ]
     },
     "metadata": {},
     "output_type": "display_data"
    },
    {
     "name": "stdout",
     "output_type": "stream",
     "text": [
      "\n",
      "advertiser_id\n"
     ]
    },
    {
     "data": {
      "application/vnd.jupyter.widget-view+json": {
       "model_id": "ba9f4142ba384a3c909944df2c814349",
       "version_major": 2,
       "version_minor": 0
      },
      "text/plain": [
       "HBox(children=(IntProgress(value=0, max=400), HTML(value='')))"
      ]
     },
     "metadata": {},
     "output_type": "display_data"
    },
    {
     "name": "stdout",
     "output_type": "stream",
     "text": [
      "\n",
      "industry\n"
     ]
    },
    {
     "data": {
      "application/vnd.jupyter.widget-view+json": {
       "model_id": "abb52dc406c7446bb5cefe60ffaf5785",
       "version_major": 2,
       "version_minor": 0
      },
      "text/plain": [
       "HBox(children=(IntProgress(value=0, max=400), HTML(value='')))"
      ]
     },
     "metadata": {},
     "output_type": "display_data"
    },
    {
     "name": "stdout",
     "output_type": "stream",
     "text": [
      "\n",
      "\n"
     ]
    }
   ],
   "source": [
    "tr_cols=['time','creative_id','click_times','ad_id','product_id','product_category','advertiser_id','industry']\n",
    "\n",
    "for col in tqdm(tr_cols):\n",
    "    print(col)\n",
    "    textranks_list= []\n",
    "    for sequence in tqdm(full_info[col]):\n",
    "        sentence_list = []\n",
    "        for item in sequence:\n",
    "            item = str(item)\n",
    "            if item == \"\\\\N\":\n",
    "                item = \"0000\"\n",
    "\n",
    "            if len(item) == 1:\n",
    "                sentence_list.append('0' + item)\n",
    "            else:\n",
    "                sentence_list.append(item)\n",
    "\n",
    "        sentence = ' '.join(sentence_list)\n",
    "    #     print(sentence)\n",
    "\n",
    "        text_rank_dict = {}\n",
    "        for x, w in jieba.analyse.textrank(sentence, withWeight=True, allowPOS=('ns', 'n', 'vn', 'v', 'm', 'x'), topK=999999999999):\n",
    "            text_rank_dict[x] = w \n",
    "    #     print(text_rank_dict)\n",
    "\n",
    "        textranks = []\n",
    "        for item in sentence_list:\n",
    "            textranks.append(text_rank_dict[item])\n",
    "        textranks_list.append(textranks)\n",
    "    #     break\n",
    "    pk.dump(textranks_list, open('../../var/fjw/textrank/%s.pickle' % col, 'wb'))"
   ]
  },
  {
   "cell_type": "code",
   "execution_count": 26,
   "metadata": {
    "code_folding": [],
    "hidden": true
   },
   "outputs": [
    {
     "name": "stderr",
     "output_type": "stream",
     "text": [
      "/home/huangweilin/anaconda3/envs/fjw/lib/python3.6/site-packages/ipykernel_launcher.py:13: TqdmDeprecationWarning: This function will be removed in tqdm==5.0.0\n",
      "Please use `tqdm.notebook.tqdm` instead of `tqdm.tqdm_notebook`\n",
      "  del sys.path[0]\n"
     ]
    },
    {
     "data": {
      "application/vnd.jupyter.widget-view+json": {
       "model_id": "4aef5cb7fdfb42c9a669174b5f75ad21",
       "version_major": 2,
       "version_minor": 0
      },
      "text/plain": [
       "HBox(children=(IntProgress(value=0, max=400), HTML(value='')))"
      ]
     },
     "metadata": {},
     "output_type": "display_data"
    },
    {
     "name": "stdout",
     "output_type": "stream",
     "text": [
      "\n"
     ]
    }
   ],
   "source": [
    "full_info=pd.concat([new_train_usr_click_log.iloc[:,:-2],new_test_usr_click_log])\n",
    "creative_id_textrank=pk.load(open(\"../../var/fjw/textrank/creative_id.pickle\",\"rb\"))\n",
    "ad_id_textrank=pk.load(open(\"../../var/fjw/textrank/ad_id.pickle\",\"rb\"))\n",
    "product_id_textrank=pk.load(open(\"../../var/fjw/textrank/product_id.pickle\",\"rb\"))\n",
    "product_category_textrank=pk.load(open(\"../../var/fjw/textrank/product_category.pickle\",\"rb\"))\n",
    "advertiser_id_textrank=pk.load(open(\"../../var/fjw/textrank/advertiser_id.pickle\",\"rb\"))\n",
    "industry_textrank=pk.load(open(\"../../var/fjw/textrank/industry.pickle\",\"rb\"))\n",
    "\n",
    "textrank_info=[creative_id_textrank,ad_id_textrank,product_id_textrank,product_category_textrank,\\\n",
    "               advertiser_id_textrank,industry_textrank]\n",
    "full_textrank=[]\n",
    "indexs=[]\n",
    "for idx in tqdm(range(len(creative_id_textrank))):\n",
    "    sample=[]\n",
    "    for i in range(6):\n",
    "        sample.append(np.array(textrank_info[i][idx]).astype(np.float32))\n",
    "    sample=np.stack(sample,axis=1)\n",
    "    full_textrank.append(sample)\n",
    "    indexs.append(full_info['user_id'].iloc[idx][0])\n",
    "full_textrank=pd.Series(data=full_textrank,index=indexs)\n",
    "pk.dump(full_textrank,open(\"../../var/fjw/textrank/full_textrank.pickle\",\"wb\"))"
   ]
  },
  {
   "cell_type": "markdown",
   "metadata": {
    "heading_collapsed": true,
    "hidden": true
   },
   "source": [
    "### TFIDF(new)"
   ]
  },
  {
   "cell_type": "markdown",
   "metadata": {
    "heading_collapsed": true,
    "hidden": true
   },
   "source": [
    "#### idf"
   ]
  },
  {
   "cell_type": "code",
   "execution_count": 58,
   "metadata": {
    "hidden": true
   },
   "outputs": [],
   "source": [
    "from sklearn.feature_extraction.text import TfidfTransformer\n",
    "from sklearn.feature_extraction.text import CountVectorizer\n",
    "from sklearn.feature_extraction.text import TfidfVectorizer\n",
    "from sklearn.decomposition import TruncatedSVD\n",
    "from category_encoders import *\n",
    "from scipy import stats\n",
    "from sklearn.linear_model import LogisticRegression\n",
    "from sklearn.linear_model import SGDClassifier\n",
    "from sklearn.linear_model import PassiveAggressiveClassifier\n",
    "from sklearn.linear_model import RidgeClassifier\n",
    "from sklearn.naive_bayes import BernoulliNB\n",
    "from sklearn.naive_bayes import MultinomialNB\n",
    "from sklearn.ensemble import RandomForestClassifier\n",
    "from sklearn.ensemble import ExtraTreesClassifier\n",
    "from sklearn.tree import DecisionTreeClassifier\n",
    "import scipy\n",
    "import lightgbm as lgb\n",
    "from sklearn.metrics import accuracy_score\n",
    "from sklearn.model_selection import StratifiedKFold,KFold\n",
    "import pickle\n",
    "import logging\n",
    "LOG_FORMAT = \"%(asctime)s - %(levelname)s - %(message)s\"\n",
    "logging.basicConfig(level=logging.INFO, format=LOG_FORMAT)\n",
    "import os\n",
    "os.environ[\"CUDA_VISIBLE_DEVICES\"] = \"1\"\n",
    "os.environ['NUMEXPR_MAX_THREADS'] = '32'\n",
    "import pandas as pd\n",
    "import numpy as np\n",
    "from tqdm import tqdm_notebook as tqdm"
   ]
  },
  {
   "cell_type": "code",
   "execution_count": 60,
   "metadata": {
    "hidden": true
   },
   "outputs": [
    {
     "name": "stderr",
     "output_type": "stream",
     "text": [
      "07/22/2020 19:36:06 - INFO - root -   load\n",
      "07/22/2020 19:36:06 - INFO - root -   finish load\n"
     ]
    }
   ],
   "source": [
    "my_var_dir=\"../../var/hyr\"\n",
    "logging.info('load')\n",
    "mp_id_se = {\n",
    "    'creative_id' : pickle.load(open('%s/se_user_creative_id.pickle' % my_var_dir, 'rb')),\n",
    "    'ad_id' : pickle.load(open('%s/se_user_ad_id.pickle' % my_var_dir, 'rb')),\n",
    "    'advertiser_id' : pickle.load(open('%s/se_user_advertiser_id.pickle'% my_var_dir, 'rb')),\n",
    "    'industry' : pickle.load(open('%s/se_user_industry.pickle'% my_var_dir, 'rb')),\n",
    "    'product_category' : pickle.load(open('%s/se_user_product_category.pickle' % my_var_dir, 'rb')),\n",
    "    'product_id' : pickle.load(open('%s/se_user_product_id.pickle' % my_var_dir, 'rb')),\n",
    "    'time' : pickle.load(open('%s/se_user_product_id.pickle' % my_var_dir, 'rb')),\n",
    "    'click_times' : pickle.load(open('%s/se_user_click_times.pickle' % my_var_dir, 'rb')),\n",
    "}\n",
    "logging.info('finish load')"
   ]
  },
  {
   "cell_type": "code",
   "execution_count": 62,
   "metadata": {
    "hidden": true,
    "scrolled": true
   },
   "outputs": [
    {
     "name": "stderr",
     "output_type": "stream",
     "text": [
      "07/22/2020 19:36:31 - INFO - root -   start tfidf sequence creative_id\n",
      "07/22/2020 19:36:31 - INFO - root -   finish tfidf sequence creative_id\n",
      "07/22/2020 19:36:31 - INFO - root -   start tfidf sequence ad_id\n",
      "07/22/2020 19:36:31 - INFO - root -   finish tfidf sequence ad_id\n",
      "07/22/2020 19:36:31 - INFO - root -   start tfidf sequence product_id\n",
      "07/22/2020 19:36:31 - INFO - root -   finish tfidf sequence product_id\n",
      "07/22/2020 19:36:31 - INFO - root -   start tfidf sequence product_category\n",
      "07/22/2020 19:36:31 - INFO - root -   finish tfidf sequence product_category\n",
      "07/22/2020 19:36:31 - INFO - root -   start tfidf sequence advertiser_id\n",
      "07/22/2020 19:36:31 - INFO - root -   finish tfidf sequence advertiser_id\n",
      "07/22/2020 19:36:31 - INFO - root -   start tfidf sequence industry\n",
      "07/22/2020 19:36:31 - INFO - root -   finish tfidf sequence industry\n",
      "07/22/2020 19:36:31 - INFO - root -   start tfidf sequence time\n",
      "07/22/2020 19:36:31 - INFO - root -   finish tfidf sequence time\n",
      "07/22/2020 19:36:31 - INFO - root -   start tfidf sequence click_times\n",
      "07/22/2020 19:36:31 - INFO - root -   finish tfidf sequence click_times\n"
     ]
    }
   ],
   "source": [
    "\n",
    "feature_name = ['creative_id', 'ad_id', 'product_id', 'product_category', 'advertiser_id', 'industry', 'time', 'click_times']\n",
    "\n",
    "def generate_idf_sequence(se_data):\n",
    "    cross_corpus = list(se_data.apply(lambda a_list : ' '.join([str(x) for x in a_list])))\n",
    "    tfidf_vectorizer = TfidfVectorizer(analyzer='word', token_pattern=r\"\\S+\", lowercase = False)\n",
    "    tfidf_spare = tfidf_vectorizer.fit_transform(cross_corpus)\n",
    "    idf_dict = dict(zip(tfidf_vectorizer.get_feature_names(), tfidf_vectorizer.idf_))\n",
    "    se_idf = pd.Series(idf_dict)\n",
    "    pickle.dump(se_idf, open('%s/%s_idf.pickle' % (my_var_dir, column_name), 'wb'))\n",
    "\n",
    "for column_name in feature_name:\n",
    "    logging.info('start tfidf sequence %s' % column_name)\n",
    "    se = mp_id_se[column_name]\n",
    "    generate_idf_sequence(se)\n",
    "    logging.info('finish tfidf sequence %s' % column_name)"
   ]
  },
  {
   "cell_type": "code",
   "execution_count": 81,
   "metadata": {
    "hidden": true
   },
   "outputs": [],
   "source": [
    "ad_id_idf_wv_model=pk.load(open(\"../../var/hyr/ad_id_idf.pickle\",\"rb\"))\n",
    "creative_id_idf_wv_model=pk.load(open(\"../../var/hyr/creative_id_idf.pickle\",\"rb\"))\n",
    "product_id_idf_wv_model=pk.load(open(\"../../var/hyr/product_id_idf.pickle\",\"rb\"))\n",
    "product_category_idf_wv_model=pk.load(open(\"../../var/hyr/product_category_idf.pickle\",\"rb\"))\n",
    "advertiser_idf_wv_model=pk.load(open(\"../../var/hyr/advertiser_id_idf.pickle\",\"rb\"))\n",
    "industry_idf_wv_model=pk.load(open(\"../../var/hyr/industry_idf.pickle\",\"rb\"))\n",
    "if '\\\\N' in industry_idf_wv_model.index:\n",
    "    industry_idf_wv_model['0']=industry_idf_wv_model['\\\\N']\n",
    "idf_models=[creative_id_idf_wv_model,ad_id_idf_wv_model,product_id_idf_wv_model,product_category_idf_wv_model,\\\n",
    "           advertiser_idf_wv_model,industry_idf_wv_model]"
   ]
  },
  {
   "cell_type": "code",
   "execution_count": 82,
   "metadata": {
    "hidden": true
   },
   "outputs": [],
   "source": [
    "train_ad_info=pd.read_csv(\"../../var/data/train_preliminary/ad.csv\")\n",
    "test_ad_info=pd.read_csv(\"../../var/data/test/ad.csv\")\n",
    "new_train_ad_info=pd.read_csv(\"../../var/data/train_semi_final/ad.csv\")\n",
    "train_ad_info=pd.concat([train_ad_info,new_train_ad_info]).drop_duplicates()\n",
    "full_info=pd.concat([train_ad_info,test_ad_info])\n",
    "full_info=full_info.drop_duplicates()\n",
    "full_info.to_csv(\"../../var/fjw/full_ad.csv\",index=False)"
   ]
  },
  {
   "cell_type": "code",
   "execution_count": 83,
   "metadata": {
    "code_folding": [],
    "hidden": true
   },
   "outputs": [
    {
     "name": "stderr",
     "output_type": "stream",
     "text": [
      "/home/huangweilin/anaconda3/envs/fjw/lib/python3.6/site-packages/ipykernel_launcher.py:3: TqdmDeprecationWarning: This function will be removed in tqdm==5.0.0\n",
      "Please use `tqdm.notebook.tqdm` instead of `tqdm.tqdm_notebook`\n",
      "  This is separate from the ipykernel package so we can avoid doing imports until\n"
     ]
    },
    {
     "data": {
      "application/vnd.jupyter.widget-view+json": {
       "model_id": "05283a7be2c84fafa38aa1ea24623212",
       "version_major": 2,
       "version_minor": 0
      },
      "text/plain": [
       "HBox(children=(IntProgress(value=0, max=9984), HTML(value='')))"
      ]
     },
     "metadata": {},
     "output_type": "display_data"
    },
    {
     "name": "stdout",
     "output_type": "stream",
     "text": [
      "\n"
     ]
    },
    {
     "name": "stderr",
     "output_type": "stream",
     "text": [
      "/home/huangweilin/anaconda3/envs/fjw/lib/python3.6/site-packages/ipykernel_launcher.py:13: TqdmDeprecationWarning: This function will be removed in tqdm==5.0.0\n",
      "Please use `tqdm.notebook.tqdm` instead of `tqdm.tqdm_notebook`\n",
      "  del sys.path[0]\n"
     ]
    },
    {
     "data": {
      "application/vnd.jupyter.widget-view+json": {
       "model_id": "b0264f3bc37d4eb8aba107a57854fda5",
       "version_major": 2,
       "version_minor": 0
      },
      "text/plain": [
       "HBox(children=(IntProgress(value=0, max=9984), HTML(value='')))"
      ]
     },
     "metadata": {},
     "output_type": "display_data"
    },
    {
     "name": "stdout",
     "output_type": "stream",
     "text": [
      "\n"
     ]
    }
   ],
   "source": [
    "full_info=pd.read_csv(\"../../var/fjw/full_ad.csv\")\n",
    "target_map_dict=dict()\n",
    "for idx in tqdm(range(full_info.shape[0])):\n",
    "    sample=full_info.iloc[idx]\n",
    "    idxs=[ '0' if e=='\\\\N' else str(e) for e in sample.tolist()]\n",
    "    value=[]\n",
    "    for i in range(6):\n",
    "        value.append(idf_models[i][idxs[i]])\n",
    "    value=np.array(value)\n",
    "    target_map_dict[idxs[0]]=value\n",
    "keys=[]\n",
    "values=[]\n",
    "for key,value in tqdm(target_map_dict.items()):\n",
    "    keys.append(key)\n",
    "    values.append(value)\n",
    "info=pd.Series(data=values,index=keys)\n",
    "pk.dump(info,open(\"../../var/fjw/full_idf.pickle\",\"wb\"))\n",
    "idf_info=info"
   ]
  },
  {
   "cell_type": "markdown",
   "metadata": {
    "heading_collapsed": true,
    "hidden": true
   },
   "source": [
    "#### tf"
   ]
  },
  {
   "cell_type": "code",
   "execution_count": 86,
   "metadata": {
    "code_folding": [
     3,
     15
    ],
    "hidden": true,
    "scrolled": true
   },
   "outputs": [
    {
     "name": "stderr",
     "output_type": "stream",
     "text": [
      "/home/huangweilin/anaconda3/envs/fjw/lib/python3.6/site-packages/ipykernel_launcher.py:23: TqdmDeprecationWarning: This function will be removed in tqdm==5.0.0\n",
      "Please use `tqdm.notebook.tqdm` instead of `tqdm.tqdm_notebook`\n"
     ]
    },
    {
     "data": {
      "application/vnd.jupyter.widget-view+json": {
       "model_id": "6eef39896c9b46048c3627972e9e5344",
       "version_major": 2,
       "version_minor": 0
      },
      "text/plain": [
       "HBox(children=(IntProgress(value=0, max=400), HTML(value='')))"
      ]
     },
     "metadata": {},
     "output_type": "display_data"
    },
    {
     "name": "stdout",
     "output_type": "stream",
     "text": [
      "\n"
     ]
    }
   ],
   "source": [
    "full_info=pd.concat([new_train_usr_click_log.iloc[:,:-2],new_test_usr_click_log])\n",
    "categorical_cols=['creative_id', 'ad_id','product_id','product_category','advertiser_id','industry']\n",
    "tf_lists=[]\n",
    "def find_info(usr_id,sample):\n",
    "    info=[]\n",
    "    for i,col in enumerate(categorical_cols):\n",
    "        num_dict=defaultdict(int)\n",
    "        \n",
    "        for e in sample[col]:\n",
    "            num_dict[str(e)]+=1\n",
    "        tfs=[]\n",
    "        for e in sample[col]:\n",
    "            tfs.append(num_dict[str(e)])\n",
    "        info.append(tfs)\n",
    "    return usr_id,np.array(info).transpose()\n",
    "def push(info):\n",
    "    usr_id,id_info=info\n",
    "    if usr_id%100000==0:\n",
    "        print(usr_id)\n",
    "    tf_lists.append([usr_id,id_info])\n",
    "pool=multiprocessing.Pool(8)\n",
    "indexs=[e[0] for e in full_info['user_id'].values]\n",
    "for idx in tqdm(range(full_info.shape[0])):\n",
    "    sample=full_info.iloc[idx]\n",
    "    usr_id=indexs[idx]\n",
    "#     push(find_info(usr_id,sample))\n",
    "    pool.apply_async(find_info,args=[usr_id,sample],callback=push)\n",
    "pool.close()\n",
    "pool.join()\n",
    "new_tf_lists=list(sorted(tf_lists,key=lambda x:x[0]))\n",
    "new_tf_lists=[e[1] for e in new_tf_lists]\n",
    "tf_info=pd.Series(data=new_tf_lists,index=indexs)\n",
    "pk.dump(tf_info,open(\"../../var/fjw/full_tf.pickle\",\"wb\"))"
   ]
  },
  {
   "cell_type": "markdown",
   "metadata": {
    "heading_collapsed": true,
    "hidden": true
   },
   "source": [
    "#### 合成"
   ]
  },
  {
   "cell_type": "code",
   "execution_count": 84,
   "metadata": {
    "hidden": true
   },
   "outputs": [],
   "source": [
    "full_click_log_creative_id=pk.load(open(\"../../var/fjw/usr_seq/se_user_creative_id.pickle\",\"rb\"))"
   ]
  },
  {
   "cell_type": "code",
   "execution_count": 87,
   "metadata": {
    "hidden": true
   },
   "outputs": [
    {
     "name": "stderr",
     "output_type": "stream",
     "text": [
      "/home/huangweilin/anaconda3/envs/fjw/lib/python3.6/site-packages/ipykernel_launcher.py:3: TqdmDeprecationWarning: This function will be removed in tqdm==5.0.0\n",
      "Please use `tqdm.notebook.tqdm` instead of `tqdm.tqdm_notebook`\n",
      "  This is separate from the ipykernel package so we can avoid doing imports until\n"
     ]
    },
    {
     "data": {
      "application/vnd.jupyter.widget-view+json": {
       "model_id": "3aacf5409cbb476da942504c2942531b",
       "version_major": 2,
       "version_minor": 0
      },
      "text/plain": [
       "HBox(children=(IntProgress(value=0, max=400), HTML(value='')))"
      ]
     },
     "metadata": {},
     "output_type": "display_data"
    },
    {
     "name": "stdout",
     "output_type": "stream",
     "text": [
      "\n"
     ]
    }
   ],
   "source": [
    "tfidf_lists=[]\n",
    "indexs=tf_info.index\n",
    "for usr_id in tqdm(tf_info.index):\n",
    "    tf_sample=tf_info[usr_id]\n",
    "    idf_sample=np.stack(idf_info[[str(e) for e in full_click_log_creative_id.loc[usr_id]]].tolist())\n",
    "    tf_idf_sample=(tf_sample*idf_sample).astype(np.float32)\n",
    "    tfidf_lists.append(tf_idf_sample)\n",
    "tfidf_info=pd.Series(data=tfidf_lists,index=indexs)\n",
    "\n",
    "pk.dump(tfidf_info,open(\"../../var/fjw/full_tfidf.pickle\",\"wb\"))"
   ]
  },
  {
   "cell_type": "markdown",
   "metadata": {},
   "source": [
    "## feature make"
   ]
  },
  {
   "cell_type": "markdown",
   "metadata": {
    "heading_collapsed": true
   },
   "source": [
    "### 合成target_info"
   ]
  },
  {
   "cell_type": "code",
   "execution_count": 2,
   "metadata": {
    "hidden": true
   },
   "outputs": [],
   "source": [
    "usr_id_dict,target_map_dicts=pk.load(open(\"../../var/fjw/train_mid/target_info.pk\",\"rb\"))"
   ]
  },
  {
   "cell_type": "code",
   "execution_count": 3,
   "metadata": {
    "hidden": true
   },
   "outputs": [],
   "source": [
    "full_info=pd.read_csv(\"../../var/fjw/full_ad.csv\")"
   ]
  },
  {
   "cell_type": "code",
   "execution_count": 4,
   "metadata": {
    "code_folding": [
     11,
     29
    ],
    "hidden": true,
    "scrolled": true
   },
   "outputs": [
    {
     "name": "stderr",
     "output_type": "stream",
     "text": [
      "/home/huangweilin/anaconda3/envs/fjw/lib/python3.6/site-packages/ipykernel_launcher.py:11: TqdmDeprecationWarning: This function will be removed in tqdm==5.0.0\n",
      "Please use `tqdm.notebook.tqdm` instead of `tqdm.tqdm_notebook`\n",
      "  # This is added back by InteractiveShellApp.init_path()\n"
     ]
    },
    {
     "data": {
      "application/vnd.jupyter.widget-view+json": {
       "model_id": "400ebe73e52f466a9288d643a7297100",
       "version_major": 2,
       "version_minor": 0
      },
      "text/plain": [
       "HBox(children=(IntProgress(value=0, max=9984), HTML(value='')))"
      ]
     },
     "metadata": {},
     "output_type": "display_data"
    },
    {
     "name": "stdout",
     "output_type": "stream",
     "text": [
      "\n",
      "0\n"
     ]
    },
    {
     "name": "stderr",
     "output_type": "stream",
     "text": [
      "/home/huangweilin/anaconda3/envs/fjw/lib/python3.6/site-packages/ipykernel_launcher.py:33: TqdmDeprecationWarning: This function will be removed in tqdm==5.0.0\n",
      "Please use `tqdm.notebook.tqdm` instead of `tqdm.tqdm_notebook`\n"
     ]
    },
    {
     "data": {
      "application/vnd.jupyter.widget-view+json": {
       "model_id": "e79245e00b8e4b6a94fd5b3a57e49262",
       "version_major": 2,
       "version_minor": 0
      },
      "text/plain": [
       "HBox(children=(IntProgress(value=0, max=1775), HTML(value='')))"
      ]
     },
     "metadata": {},
     "output_type": "display_data"
    },
    {
     "name": "stdout",
     "output_type": "stream",
     "text": [
      "\n",
      "1\n"
     ]
    },
    {
     "data": {
      "application/vnd.jupyter.widget-view+json": {
       "model_id": "d0c0668262ee4ee8850300bde62c4a51",
       "version_major": 2,
       "version_minor": 0
      },
      "text/plain": [
       "HBox(children=(IntProgress(value=0, max=2143), HTML(value='')))"
      ]
     },
     "metadata": {},
     "output_type": "display_data"
    },
    {
     "name": "stdout",
     "output_type": "stream",
     "text": [
      "\n",
      "2\n"
     ]
    },
    {
     "data": {
      "application/vnd.jupyter.widget-view+json": {
       "model_id": "de08ad3097874ba0b400879273356544",
       "version_major": 2,
       "version_minor": 0
      },
      "text/plain": [
       "HBox(children=(IntProgress(value=0, max=1576), HTML(value='')))"
      ]
     },
     "metadata": {},
     "output_type": "display_data"
    },
    {
     "name": "stdout",
     "output_type": "stream",
     "text": [
      "\n",
      "3\n"
     ]
    },
    {
     "data": {
      "application/vnd.jupyter.widget-view+json": {
       "model_id": "06465691f31e4b4f8cfdb8056e157eea",
       "version_major": 2,
       "version_minor": 0
      },
      "text/plain": [
       "HBox(children=(IntProgress(value=0, max=1467), HTML(value='')))"
      ]
     },
     "metadata": {},
     "output_type": "display_data"
    },
    {
     "name": "stdout",
     "output_type": "stream",
     "text": [
      "\n",
      "4\n"
     ]
    },
    {
     "data": {
      "application/vnd.jupyter.widget-view+json": {
       "model_id": "d09c4cece1f64a54b19543ffc5b71645",
       "version_major": 2,
       "version_minor": 0
      },
      "text/plain": [
       "HBox(children=(IntProgress(value=0, max=1664), HTML(value='')))"
      ]
     },
     "metadata": {},
     "output_type": "display_data"
    },
    {
     "name": "stdout",
     "output_type": "stream",
     "text": [
      "\n",
      "5\n"
     ]
    },
    {
     "data": {
      "application/vnd.jupyter.widget-view+json": {
       "model_id": "9603c3642c1b4b999a43f0ed0853717a",
       "version_major": 2,
       "version_minor": 0
      },
      "text/plain": [
       "HBox(children=(IntProgress(value=0, max=2764), HTML(value='')))"
      ]
     },
     "metadata": {},
     "output_type": "display_data"
    },
    {
     "name": "stdout",
     "output_type": "stream",
     "text": [
      "\n"
     ]
    }
   ],
   "source": [
    "\n",
    "usrs=[[],[],[],[],[],[]]\n",
    "for key,value in usr_id_dict.items():\n",
    "    usrs[value].append(key)\n",
    "cat_cols=['creative_id',\n",
    " 'ad_id',\n",
    " 'product_id',\n",
    " 'product_category',\n",
    " 'advertiser_id',\n",
    " 'industry']\n",
    "new_dicts=[dict() for i in range(6)]\n",
    "for idx in tqdm(range(full_info.shape[0])):\n",
    "    sample=full_info.iloc[idx]\n",
    "    idxs=[ '0' if e=='\\\\N' else str(e) for e in sample.tolist()]\n",
    "    for fold in range(6):\n",
    "        flag=True\n",
    "        for i,idx in enumerate(idxs):\n",
    "            if idx not in target_map_dicts[fold][cat_cols[i]].index:\n",
    "                    flag=False\n",
    "                    break\n",
    "        if flag:\n",
    "            values=[]\n",
    "            for i,idx in enumerate(idxs):\n",
    "                values.append(target_map_dicts[fold][cat_cols[i]].at[idx])\n",
    "            values=np.concatenate(values)\n",
    "            new_dicts[fold][\"_\".join(idxs)]=values\n",
    "\n",
    "target_map_dicts=new_dicts\n",
    "new_dicts=[]\n",
    "for idx in range(len(target_map_dicts)):\n",
    "    keys=[]\n",
    "    print(idx)\n",
    "    values=[]\n",
    "    for key,value in tqdm(target_map_dicts[idx].items()):\n",
    "        keys.append(key)\n",
    "        values.append(value)\n",
    "    info=pd.Series(data=values,index=keys)\n",
    "    new_dicts.append(info)\n",
    "pk.dump([usr_id_dict,new_dicts],open(\"../../var/fjw/train_mid/new_target_info.pk\",\"wb\"))"
   ]
  },
  {
   "cell_type": "code",
   "execution_count": 5,
   "metadata": {
    "code_folding": [
     2,
     8,
     14
    ],
    "hidden": true,
    "scrolled": true
   },
   "outputs": [
    {
     "name": "stderr",
     "output_type": "stream",
     "text": [
      "/home/huangweilin/anaconda3/envs/fjw/lib/python3.6/site-packages/ipykernel_launcher.py:9: TqdmDeprecationWarning: This function will be removed in tqdm==5.0.0\n",
      "Please use `tqdm.notebook.tqdm` instead of `tqdm.tqdm_notebook`\n",
      "  if __name__ == '__main__':\n"
     ]
    },
    {
     "data": {
      "application/vnd.jupyter.widget-view+json": {
       "model_id": "0041193e697c430ea8a1b0843c550123",
       "version_major": 2,
       "version_minor": 0
      },
      "text/plain": [
       "HBox(children=(IntProgress(value=0, max=6), HTML(value='')))"
      ]
     },
     "metadata": {},
     "output_type": "display_data"
    },
    {
     "name": "stdout",
     "output_type": "stream",
     "text": [
      "click_times\n"
     ]
    },
    {
     "name": "stderr",
     "output_type": "stream",
     "text": [
      "/home/huangweilin/anaconda3/envs/fjw/lib/python3.6/site-packages/ipykernel_launcher.py:13: TqdmDeprecationWarning: This function will be removed in tqdm==5.0.0\n",
      "Please use `tqdm.notebook.tqdm` instead of `tqdm.tqdm_notebook`\n",
      "  del sys.path[0]\n"
     ]
    },
    {
     "data": {
      "application/vnd.jupyter.widget-view+json": {
       "model_id": "40fc03281db5499fabfbad88d0e6d17f",
       "version_major": 2,
       "version_minor": 0
      },
      "text/plain": [
       "HBox(children=(IntProgress(value=0, max=5), HTML(value='')))"
      ]
     },
     "metadata": {},
     "output_type": "display_data"
    },
    {
     "name": "stdout",
     "output_type": "stream",
     "text": [
      "\n",
      "time\n"
     ]
    },
    {
     "data": {
      "application/vnd.jupyter.widget-view+json": {
       "model_id": "426c8f0f91ef49aa867305ee8fb0d6ad",
       "version_major": 2,
       "version_minor": 0
      },
      "text/plain": [
       "HBox(children=(IntProgress(value=0, max=91), HTML(value='')))"
      ]
     },
     "metadata": {},
     "output_type": "display_data"
    },
    {
     "name": "stdout",
     "output_type": "stream",
     "text": [
      "\n",
      "creative_id\n"
     ]
    },
    {
     "data": {
      "application/vnd.jupyter.widget-view+json": {
       "model_id": "189434ce2550441a84159c442e95e725",
       "version_major": 2,
       "version_minor": 0
      },
      "text/plain": [
       "HBox(children=(IntProgress(value=0, max=1775), HTML(value='')))"
      ]
     },
     "metadata": {},
     "output_type": "display_data"
    },
    {
     "name": "stdout",
     "output_type": "stream",
     "text": [
      "\n",
      "ad_id\n"
     ]
    },
    {
     "data": {
      "application/vnd.jupyter.widget-view+json": {
       "model_id": "4d0678d51a7c4fa19cb8ca2d14ad068e",
       "version_major": 2,
       "version_minor": 0
      },
      "text/plain": [
       "HBox(children=(IntProgress(value=0, max=1768), HTML(value='')))"
      ]
     },
     "metadata": {},
     "output_type": "display_data"
    },
    {
     "name": "stdout",
     "output_type": "stream",
     "text": [
      "\n",
      "product_id\n"
     ]
    },
    {
     "data": {
      "application/vnd.jupyter.widget-view+json": {
       "model_id": "c202af1c91db4caa98d9b9e130576bba",
       "version_major": 2,
       "version_minor": 0
      },
      "text/plain": [
       "HBox(children=(IntProgress(value=0, max=390), HTML(value='')))"
      ]
     },
     "metadata": {},
     "output_type": "display_data"
    },
    {
     "name": "stdout",
     "output_type": "stream",
     "text": [
      "\n",
      "product_category\n"
     ]
    },
    {
     "data": {
      "application/vnd.jupyter.widget-view+json": {
       "model_id": "ffd87a65cdd44474befdffb63b744a7d",
       "version_major": 2,
       "version_minor": 0
      },
      "text/plain": [
       "HBox(children=(IntProgress(value=0, max=13), HTML(value='')))"
      ]
     },
     "metadata": {},
     "output_type": "display_data"
    },
    {
     "name": "stdout",
     "output_type": "stream",
     "text": [
      "\n",
      "advertiser_id\n"
     ]
    },
    {
     "data": {
      "application/vnd.jupyter.widget-view+json": {
       "model_id": "85312248d54c457f9a88daf1e7e9cc7b",
       "version_major": 2,
       "version_minor": 0
      },
      "text/plain": [
       "HBox(children=(IntProgress(value=0, max=969), HTML(value='')))"
      ]
     },
     "metadata": {},
     "output_type": "display_data"
    },
    {
     "name": "stdout",
     "output_type": "stream",
     "text": [
      "\n",
      "industry\n"
     ]
    },
    {
     "data": {
      "application/vnd.jupyter.widget-view+json": {
       "model_id": "6bf033fc95494a77b3c1f9949b3b32d8",
       "version_major": 2,
       "version_minor": 0
      },
      "text/plain": [
       "HBox(children=(IntProgress(value=0, max=126), HTML(value='')))"
      ]
     },
     "metadata": {},
     "output_type": "display_data"
    },
    {
     "name": "stdout",
     "output_type": "stream",
     "text": [
      "\n",
      "click_times\n"
     ]
    },
    {
     "data": {
      "application/vnd.jupyter.widget-view+json": {
       "model_id": "3cc6ad8b80c748ed9029d6754db12d19",
       "version_major": 2,
       "version_minor": 0
      },
      "text/plain": [
       "HBox(children=(IntProgress(value=0, max=6), HTML(value='')))"
      ]
     },
     "metadata": {},
     "output_type": "display_data"
    },
    {
     "name": "stdout",
     "output_type": "stream",
     "text": [
      "\n",
      "time\n"
     ]
    },
    {
     "data": {
      "application/vnd.jupyter.widget-view+json": {
       "model_id": "af80a4d5d2cc4f5c82112e72bb101cca",
       "version_major": 2,
       "version_minor": 0
      },
      "text/plain": [
       "HBox(children=(IntProgress(value=0, max=91), HTML(value='')))"
      ]
     },
     "metadata": {},
     "output_type": "display_data"
    },
    {
     "name": "stdout",
     "output_type": "stream",
     "text": [
      "\n",
      "creative_id\n"
     ]
    },
    {
     "data": {
      "application/vnd.jupyter.widget-view+json": {
       "model_id": "f9b39cbe9a6343d3b4c0fcc6656ceb8b",
       "version_major": 2,
       "version_minor": 0
      },
      "text/plain": [
       "HBox(children=(IntProgress(value=0, max=2143), HTML(value='')))"
      ]
     },
     "metadata": {},
     "output_type": "display_data"
    },
    {
     "name": "stdout",
     "output_type": "stream",
     "text": [
      "\n",
      "ad_id\n"
     ]
    },
    {
     "data": {
      "application/vnd.jupyter.widget-view+json": {
       "model_id": "ecddd33d189a4b5ea1d3bd435668b333",
       "version_major": 2,
       "version_minor": 0
      },
      "text/plain": [
       "HBox(children=(IntProgress(value=0, max=2136), HTML(value='')))"
      ]
     },
     "metadata": {},
     "output_type": "display_data"
    },
    {
     "name": "stdout",
     "output_type": "stream",
     "text": [
      "\n",
      "product_id\n"
     ]
    },
    {
     "data": {
      "application/vnd.jupyter.widget-view+json": {
       "model_id": "bb884fa64b6945e0854dbef018675357",
       "version_major": 2,
       "version_minor": 0
      },
      "text/plain": [
       "HBox(children=(IntProgress(value=0, max=335), HTML(value='')))"
      ]
     },
     "metadata": {},
     "output_type": "display_data"
    },
    {
     "name": "stdout",
     "output_type": "stream",
     "text": [
      "\n",
      "product_category\n"
     ]
    },
    {
     "data": {
      "application/vnd.jupyter.widget-view+json": {
       "model_id": "dfc7d657b79a4c87882641c392f70004",
       "version_major": 2,
       "version_minor": 0
      },
      "text/plain": [
       "HBox(children=(IntProgress(value=0, max=11), HTML(value='')))"
      ]
     },
     "metadata": {},
     "output_type": "display_data"
    },
    {
     "name": "stdout",
     "output_type": "stream",
     "text": [
      "\n",
      "advertiser_id\n"
     ]
    },
    {
     "data": {
      "application/vnd.jupyter.widget-view+json": {
       "model_id": "bd0c12f88d664777b2cd7b4e4ad7f17f",
       "version_major": 2,
       "version_minor": 0
      },
      "text/plain": [
       "HBox(children=(IntProgress(value=0, max=1134), HTML(value='')))"
      ]
     },
     "metadata": {},
     "output_type": "display_data"
    },
    {
     "name": "stdout",
     "output_type": "stream",
     "text": [
      "\n",
      "industry\n"
     ]
    },
    {
     "data": {
      "application/vnd.jupyter.widget-view+json": {
       "model_id": "314a8ece1cf64e72addf8ade3712082c",
       "version_major": 2,
       "version_minor": 0
      },
      "text/plain": [
       "HBox(children=(IntProgress(value=0, max=137), HTML(value='')))"
      ]
     },
     "metadata": {},
     "output_type": "display_data"
    },
    {
     "name": "stdout",
     "output_type": "stream",
     "text": [
      "\n",
      "click_times\n"
     ]
    },
    {
     "data": {
      "application/vnd.jupyter.widget-view+json": {
       "model_id": "a08aa601707540afadd1c1094db47023",
       "version_major": 2,
       "version_minor": 0
      },
      "text/plain": [
       "HBox(children=(IntProgress(value=0, max=5), HTML(value='')))"
      ]
     },
     "metadata": {},
     "output_type": "display_data"
    },
    {
     "name": "stdout",
     "output_type": "stream",
     "text": [
      "\n",
      "time\n"
     ]
    },
    {
     "data": {
      "application/vnd.jupyter.widget-view+json": {
       "model_id": "6f5578c4a9074261a49eebc3d3cbd0b0",
       "version_major": 2,
       "version_minor": 0
      },
      "text/plain": [
       "HBox(children=(IntProgress(value=0, max=91), HTML(value='')))"
      ]
     },
     "metadata": {},
     "output_type": "display_data"
    },
    {
     "name": "stdout",
     "output_type": "stream",
     "text": [
      "\n",
      "creative_id\n"
     ]
    },
    {
     "data": {
      "application/vnd.jupyter.widget-view+json": {
       "model_id": "36d82cb2d4904a24b595f10a95dbccfa",
       "version_major": 2,
       "version_minor": 0
      },
      "text/plain": [
       "HBox(children=(IntProgress(value=0, max=1576), HTML(value='')))"
      ]
     },
     "metadata": {},
     "output_type": "display_data"
    },
    {
     "name": "stdout",
     "output_type": "stream",
     "text": [
      "\n",
      "ad_id\n"
     ]
    },
    {
     "data": {
      "application/vnd.jupyter.widget-view+json": {
       "model_id": "fbc861c6e5734c5bbe14b4974ca3b09b",
       "version_major": 2,
       "version_minor": 0
      },
      "text/plain": [
       "HBox(children=(IntProgress(value=0, max=1572), HTML(value='')))"
      ]
     },
     "metadata": {},
     "output_type": "display_data"
    },
    {
     "name": "stdout",
     "output_type": "stream",
     "text": [
      "\n",
      "product_id\n"
     ]
    },
    {
     "data": {
      "application/vnd.jupyter.widget-view+json": {
       "model_id": "3e61b4b71c1646f38a8f51cc27622c34",
       "version_major": 2,
       "version_minor": 0
      },
      "text/plain": [
       "HBox(children=(IntProgress(value=0, max=378), HTML(value='')))"
      ]
     },
     "metadata": {},
     "output_type": "display_data"
    },
    {
     "name": "stdout",
     "output_type": "stream",
     "text": [
      "\n",
      "product_category\n"
     ]
    },
    {
     "data": {
      "application/vnd.jupyter.widget-view+json": {
       "model_id": "9f8cf4157dd048cd830023bc55c0d502",
       "version_major": 2,
       "version_minor": 0
      },
      "text/plain": [
       "HBox(children=(IntProgress(value=0, max=13), HTML(value='')))"
      ]
     },
     "metadata": {},
     "output_type": "display_data"
    },
    {
     "name": "stdout",
     "output_type": "stream",
     "text": [
      "\n",
      "advertiser_id\n"
     ]
    },
    {
     "data": {
      "application/vnd.jupyter.widget-view+json": {
       "model_id": "40a8e55a3886405387af2a40a5c6895c",
       "version_major": 2,
       "version_minor": 0
      },
      "text/plain": [
       "HBox(children=(IntProgress(value=0, max=906), HTML(value='')))"
      ]
     },
     "metadata": {},
     "output_type": "display_data"
    },
    {
     "name": "stdout",
     "output_type": "stream",
     "text": [
      "\n",
      "industry\n"
     ]
    },
    {
     "data": {
      "application/vnd.jupyter.widget-view+json": {
       "model_id": "0c388b8db7644052bfdf384680fc6e6f",
       "version_major": 2,
       "version_minor": 0
      },
      "text/plain": [
       "HBox(children=(IntProgress(value=0, max=123), HTML(value='')))"
      ]
     },
     "metadata": {},
     "output_type": "display_data"
    },
    {
     "name": "stdout",
     "output_type": "stream",
     "text": [
      "\n",
      "click_times\n"
     ]
    },
    {
     "data": {
      "application/vnd.jupyter.widget-view+json": {
       "model_id": "1c0f54eb167d4b9d85554a68f855f9df",
       "version_major": 2,
       "version_minor": 0
      },
      "text/plain": [
       "HBox(children=(IntProgress(value=0, max=4), HTML(value='')))"
      ]
     },
     "metadata": {},
     "output_type": "display_data"
    },
    {
     "name": "stdout",
     "output_type": "stream",
     "text": [
      "\n",
      "time\n"
     ]
    },
    {
     "data": {
      "application/vnd.jupyter.widget-view+json": {
       "model_id": "b09d6aeb8ce34f2e9ba367fe7fbac73d",
       "version_major": 2,
       "version_minor": 0
      },
      "text/plain": [
       "HBox(children=(IntProgress(value=0, max=91), HTML(value='')))"
      ]
     },
     "metadata": {},
     "output_type": "display_data"
    },
    {
     "name": "stdout",
     "output_type": "stream",
     "text": [
      "\n",
      "creative_id\n"
     ]
    },
    {
     "data": {
      "application/vnd.jupyter.widget-view+json": {
       "model_id": "83f9b957cf1c4618aaf2e5c47e962421",
       "version_major": 2,
       "version_minor": 0
      },
      "text/plain": [
       "HBox(children=(IntProgress(value=0, max=1467), HTML(value='')))"
      ]
     },
     "metadata": {},
     "output_type": "display_data"
    },
    {
     "name": "stdout",
     "output_type": "stream",
     "text": [
      "\n",
      "ad_id\n"
     ]
    },
    {
     "data": {
      "application/vnd.jupyter.widget-view+json": {
       "model_id": "14adadb4cda44defbd043b5742813a50",
       "version_major": 2,
       "version_minor": 0
      },
      "text/plain": [
       "HBox(children=(IntProgress(value=0, max=1459), HTML(value='')))"
      ]
     },
     "metadata": {},
     "output_type": "display_data"
    },
    {
     "name": "stdout",
     "output_type": "stream",
     "text": [
      "\n",
      "product_id\n"
     ]
    },
    {
     "data": {
      "application/vnd.jupyter.widget-view+json": {
       "model_id": "fa8b9ae818864c619f9bc299cb1ade04",
       "version_major": 2,
       "version_minor": 0
      },
      "text/plain": [
       "HBox(children=(IntProgress(value=0, max=288), HTML(value='')))"
      ]
     },
     "metadata": {},
     "output_type": "display_data"
    },
    {
     "name": "stdout",
     "output_type": "stream",
     "text": [
      "\n",
      "product_category\n"
     ]
    },
    {
     "data": {
      "application/vnd.jupyter.widget-view+json": {
       "model_id": "155e11c66cc64922850ce2c9d1318477",
       "version_major": 2,
       "version_minor": 0
      },
      "text/plain": [
       "HBox(children=(IntProgress(value=0, max=14), HTML(value='')))"
      ]
     },
     "metadata": {},
     "output_type": "display_data"
    },
    {
     "name": "stdout",
     "output_type": "stream",
     "text": [
      "\n",
      "advertiser_id\n"
     ]
    },
    {
     "data": {
      "application/vnd.jupyter.widget-view+json": {
       "model_id": "8c5d52aa6d1448fc99568ade24cf0577",
       "version_major": 2,
       "version_minor": 0
      },
      "text/plain": [
       "HBox(children=(IntProgress(value=0, max=821), HTML(value='')))"
      ]
     },
     "metadata": {},
     "output_type": "display_data"
    },
    {
     "name": "stdout",
     "output_type": "stream",
     "text": [
      "\n",
      "industry\n"
     ]
    },
    {
     "data": {
      "application/vnd.jupyter.widget-view+json": {
       "model_id": "b16511c976e74868b84e1e13d1e9023d",
       "version_major": 2,
       "version_minor": 0
      },
      "text/plain": [
       "HBox(children=(IntProgress(value=0, max=124), HTML(value='')))"
      ]
     },
     "metadata": {},
     "output_type": "display_data"
    },
    {
     "name": "stdout",
     "output_type": "stream",
     "text": [
      "\n",
      "click_times\n"
     ]
    },
    {
     "data": {
      "application/vnd.jupyter.widget-view+json": {
       "model_id": "2e479a47d6c243ee8f33c3d98db979b0",
       "version_major": 2,
       "version_minor": 0
      },
      "text/plain": [
       "HBox(children=(IntProgress(value=0, max=4), HTML(value='')))"
      ]
     },
     "metadata": {},
     "output_type": "display_data"
    },
    {
     "name": "stdout",
     "output_type": "stream",
     "text": [
      "\n",
      "time\n"
     ]
    },
    {
     "data": {
      "application/vnd.jupyter.widget-view+json": {
       "model_id": "75d6563508ef4a95b14cd4f4d8319b29",
       "version_major": 2,
       "version_minor": 0
      },
      "text/plain": [
       "HBox(children=(IntProgress(value=0, max=91), HTML(value='')))"
      ]
     },
     "metadata": {},
     "output_type": "display_data"
    },
    {
     "name": "stdout",
     "output_type": "stream",
     "text": [
      "\n",
      "creative_id\n"
     ]
    },
    {
     "data": {
      "application/vnd.jupyter.widget-view+json": {
       "model_id": "a04a670e1c6a4602a02af2b7fb42796a",
       "version_major": 2,
       "version_minor": 0
      },
      "text/plain": [
       "HBox(children=(IntProgress(value=0, max=1664), HTML(value='')))"
      ]
     },
     "metadata": {},
     "output_type": "display_data"
    },
    {
     "name": "stdout",
     "output_type": "stream",
     "text": [
      "\n",
      "ad_id\n"
     ]
    },
    {
     "data": {
      "application/vnd.jupyter.widget-view+json": {
       "model_id": "c384607a332743c49cf86c426bfbf818",
       "version_major": 2,
       "version_minor": 0
      },
      "text/plain": [
       "HBox(children=(IntProgress(value=0, max=1659), HTML(value='')))"
      ]
     },
     "metadata": {},
     "output_type": "display_data"
    },
    {
     "name": "stdout",
     "output_type": "stream",
     "text": [
      "\n",
      "product_id\n"
     ]
    },
    {
     "data": {
      "application/vnd.jupyter.widget-view+json": {
       "model_id": "118c9cd9b4954f0696c5cbf61e36050b",
       "version_major": 2,
       "version_minor": 0
      },
      "text/plain": [
       "HBox(children=(IntProgress(value=0, max=345), HTML(value='')))"
      ]
     },
     "metadata": {},
     "output_type": "display_data"
    },
    {
     "name": "stdout",
     "output_type": "stream",
     "text": [
      "\n",
      "product_category\n"
     ]
    },
    {
     "data": {
      "application/vnd.jupyter.widget-view+json": {
       "model_id": "af11a0aeb27d410b90842b8045853df3",
       "version_major": 2,
       "version_minor": 0
      },
      "text/plain": [
       "HBox(children=(IntProgress(value=0, max=12), HTML(value='')))"
      ]
     },
     "metadata": {},
     "output_type": "display_data"
    },
    {
     "name": "stdout",
     "output_type": "stream",
     "text": [
      "\n",
      "advertiser_id\n"
     ]
    },
    {
     "data": {
      "application/vnd.jupyter.widget-view+json": {
       "model_id": "48801689b5074d7ab248e49a32867279",
       "version_major": 2,
       "version_minor": 0
      },
      "text/plain": [
       "HBox(children=(IntProgress(value=0, max=885), HTML(value='')))"
      ]
     },
     "metadata": {},
     "output_type": "display_data"
    },
    {
     "name": "stdout",
     "output_type": "stream",
     "text": [
      "\n",
      "industry\n"
     ]
    },
    {
     "data": {
      "application/vnd.jupyter.widget-view+json": {
       "model_id": "824925c78ebf461db2424293f6e1392d",
       "version_major": 2,
       "version_minor": 0
      },
      "text/plain": [
       "HBox(children=(IntProgress(value=0, max=129), HTML(value='')))"
      ]
     },
     "metadata": {},
     "output_type": "display_data"
    },
    {
     "name": "stdout",
     "output_type": "stream",
     "text": [
      "\n",
      "click_times\n"
     ]
    },
    {
     "data": {
      "application/vnd.jupyter.widget-view+json": {
       "model_id": "5dc39634f3574ee0ac5aec07a076cd8b",
       "version_major": 2,
       "version_minor": 0
      },
      "text/plain": [
       "HBox(children=(IntProgress(value=0, max=4), HTML(value='')))"
      ]
     },
     "metadata": {},
     "output_type": "display_data"
    },
    {
     "name": "stdout",
     "output_type": "stream",
     "text": [
      "\n",
      "time\n"
     ]
    },
    {
     "data": {
      "application/vnd.jupyter.widget-view+json": {
       "model_id": "0dc17b4f6062490d83f75e262b212cc3",
       "version_major": 2,
       "version_minor": 0
      },
      "text/plain": [
       "HBox(children=(IntProgress(value=0, max=91), HTML(value='')))"
      ]
     },
     "metadata": {},
     "output_type": "display_data"
    },
    {
     "name": "stdout",
     "output_type": "stream",
     "text": [
      "\n",
      "creative_id\n"
     ]
    },
    {
     "data": {
      "application/vnd.jupyter.widget-view+json": {
       "model_id": "607f2262c9ec405baebea06bf997c592",
       "version_major": 2,
       "version_minor": 0
      },
      "text/plain": [
       "HBox(children=(IntProgress(value=0, max=2764), HTML(value='')))"
      ]
     },
     "metadata": {},
     "output_type": "display_data"
    },
    {
     "name": "stdout",
     "output_type": "stream",
     "text": [
      "\n",
      "ad_id\n"
     ]
    },
    {
     "data": {
      "application/vnd.jupyter.widget-view+json": {
       "model_id": "32aabceac8344386ada14dae4f529dbb",
       "version_major": 2,
       "version_minor": 0
      },
      "text/plain": [
       "HBox(children=(IntProgress(value=0, max=2746), HTML(value='')))"
      ]
     },
     "metadata": {},
     "output_type": "display_data"
    },
    {
     "name": "stdout",
     "output_type": "stream",
     "text": [
      "\n",
      "product_id\n"
     ]
    },
    {
     "data": {
      "application/vnd.jupyter.widget-view+json": {
       "model_id": "7b434e9bb6644e95ae3284fdbb4264ca",
       "version_major": 2,
       "version_minor": 0
      },
      "text/plain": [
       "HBox(children=(IntProgress(value=0, max=545), HTML(value='')))"
      ]
     },
     "metadata": {},
     "output_type": "display_data"
    },
    {
     "name": "stdout",
     "output_type": "stream",
     "text": [
      "\n",
      "product_category\n"
     ]
    },
    {
     "data": {
      "application/vnd.jupyter.widget-view+json": {
       "model_id": "19c8bb67821340d3b7d626cc56581d80",
       "version_major": 2,
       "version_minor": 0
      },
      "text/plain": [
       "HBox(children=(IntProgress(value=0, max=15), HTML(value='')))"
      ]
     },
     "metadata": {},
     "output_type": "display_data"
    },
    {
     "name": "stdout",
     "output_type": "stream",
     "text": [
      "\n",
      "advertiser_id\n"
     ]
    },
    {
     "data": {
      "application/vnd.jupyter.widget-view+json": {
       "model_id": "1f7f7388415c42bb9aa7c37e20b71fd1",
       "version_major": 2,
       "version_minor": 0
      },
      "text/plain": [
       "HBox(children=(IntProgress(value=0, max=1434), HTML(value='')))"
      ]
     },
     "metadata": {},
     "output_type": "display_data"
    },
    {
     "name": "stdout",
     "output_type": "stream",
     "text": [
      "\n",
      "industry\n"
     ]
    },
    {
     "data": {
      "application/vnd.jupyter.widget-view+json": {
       "model_id": "4ae688bab88840ef812c7b3a9eecbc49",
       "version_major": 2,
       "version_minor": 0
      },
      "text/plain": [
       "HBox(children=(IntProgress(value=0, max=160), HTML(value='')))"
      ]
     },
     "metadata": {},
     "output_type": "display_data"
    },
    {
     "name": "stdout",
     "output_type": "stream",
     "text": [
      "\n",
      "\n"
     ]
    },
    {
     "name": "stderr",
     "output_type": "stream",
     "text": [
      "/home/huangweilin/anaconda3/envs/fjw/lib/python3.6/site-packages/ipykernel_launcher.py:15: TqdmDeprecationWarning: This function will be removed in tqdm==5.0.0\n",
      "Please use `tqdm.notebook.tqdm` instead of `tqdm.tqdm_notebook`\n",
      "  from ipykernel import kernelapp as app\n"
     ]
    },
    {
     "data": {
      "application/vnd.jupyter.widget-view+json": {
       "model_id": "4045e4ce8bf64b8db99e8ce399881902",
       "version_major": 2,
       "version_minor": 0
      },
      "text/plain": [
       "HBox(children=(IntProgress(value=0, max=6), HTML(value='')))"
      ]
     },
     "metadata": {},
     "output_type": "display_data"
    },
    {
     "name": "stderr",
     "output_type": "stream",
     "text": [
      "/home/huangweilin/anaconda3/envs/fjw/lib/python3.6/site-packages/ipykernel_launcher.py:17: TqdmDeprecationWarning: This function will be removed in tqdm==5.0.0\n",
      "Please use `tqdm.notebook.tqdm` instead of `tqdm.tqdm_notebook`\n"
     ]
    },
    {
     "data": {
      "application/vnd.jupyter.widget-view+json": {
       "model_id": "aaa208432b52417fb028c646ec9c4520",
       "version_major": 2,
       "version_minor": 0
      },
      "text/plain": [
       "HBox(children=(IntProgress(value=0, max=1775), HTML(value='')))"
      ]
     },
     "metadata": {},
     "output_type": "display_data"
    },
    {
     "name": "stdout",
     "output_type": "stream",
     "text": [
      "\n"
     ]
    },
    {
     "data": {
      "application/vnd.jupyter.widget-view+json": {
       "model_id": "4382cc9598e6417bb5f411adf80eaf37",
       "version_major": 2,
       "version_minor": 0
      },
      "text/plain": [
       "HBox(children=(IntProgress(value=0, max=2143), HTML(value='')))"
      ]
     },
     "metadata": {},
     "output_type": "display_data"
    },
    {
     "name": "stdout",
     "output_type": "stream",
     "text": [
      "\n"
     ]
    },
    {
     "data": {
      "application/vnd.jupyter.widget-view+json": {
       "model_id": "0523688fe3d54631aca7b48ab38aeb55",
       "version_major": 2,
       "version_minor": 0
      },
      "text/plain": [
       "HBox(children=(IntProgress(value=0, max=1576), HTML(value='')))"
      ]
     },
     "metadata": {},
     "output_type": "display_data"
    },
    {
     "name": "stdout",
     "output_type": "stream",
     "text": [
      "\n"
     ]
    },
    {
     "data": {
      "application/vnd.jupyter.widget-view+json": {
       "model_id": "3186b384b6fd41ddb76e11cfccb51e0f",
       "version_major": 2,
       "version_minor": 0
      },
      "text/plain": [
       "HBox(children=(IntProgress(value=0, max=1467), HTML(value='')))"
      ]
     },
     "metadata": {},
     "output_type": "display_data"
    },
    {
     "name": "stdout",
     "output_type": "stream",
     "text": [
      "\n"
     ]
    },
    {
     "data": {
      "application/vnd.jupyter.widget-view+json": {
       "model_id": "e59d69e329404810a195e27295e8c4d2",
       "version_major": 2,
       "version_minor": 0
      },
      "text/plain": [
       "HBox(children=(IntProgress(value=0, max=1664), HTML(value='')))"
      ]
     },
     "metadata": {},
     "output_type": "display_data"
    },
    {
     "name": "stdout",
     "output_type": "stream",
     "text": [
      "\n"
     ]
    },
    {
     "data": {
      "application/vnd.jupyter.widget-view+json": {
       "model_id": "d2a5be00285041839eaa5ee4a2f899f5",
       "version_major": 2,
       "version_minor": 0
      },
      "text/plain": [
       "HBox(children=(IntProgress(value=0, max=2764), HTML(value='')))"
      ]
     },
     "metadata": {},
     "output_type": "display_data"
    },
    {
     "name": "stdout",
     "output_type": "stream",
     "text": [
      "\n",
      "\n"
     ]
    }
   ],
   "source": [
    "old_usr_dict,old_target_map_dicts=pk.load(open(\"../../var/fjw/train_mid/target_info.pk\",\"rb\"))\n",
    "usr_dict,target_map_dicts=pk.load(open(\"../../var/fjw/train_mid/new_target_info.pk\",\"rb\"))\n",
    "for idx in range(len(target_map_dicts)):\n",
    "    new_index=[e.split(\"_\")[0] for e in list(target_map_dicts[idx].index)]\n",
    "    target_map_dicts[idx].index=new_index\n",
    "# pk.dump([usr_dict,target_map_dicts],open(\"../../var/fjw/train_mid/new_target_info_simple.pk\",\"wb\"))\n",
    "# old_usr_dict,old_target_map_dicts=pk.load(open(\"../../var/fjw/train_mid/target_info.pk\",\"rb\"))\n",
    "# usr_dict,target_map_dicts=pk.load(open(\"../../var/fjw/train_mid/new_target_info_simple.pk\",\"rb\"))\n",
    "for idx in tqdm(range(len(old_target_map_dicts))):\n",
    "    for key in old_target_map_dicts[idx].keys():\n",
    "        print(key)\n",
    "        indexs=old_target_map_dicts[idx][key].index.tolist()\n",
    "        for index in tqdm(indexs):\n",
    "            old_target_map_dicts[idx][key].loc[index]=old_target_map_dicts[idx][key].loc[index].astype(np.float32)\n",
    "for idx in tqdm(range(len(target_map_dicts))):\n",
    "    indexs=target_map_dicts[idx].index.tolist()\n",
    "    for index in tqdm(indexs):\n",
    "        target_map_dicts[idx].loc[index]=target_map_dicts[idx].loc[index].astype(np.float32)\n",
    "pk.dump([old_usr_dict,old_target_map_dicts],open(\"../../var/fjw/train_mid/target_info.pk\",\"wb\"))\n",
    "pk.dump([usr_dict,target_map_dicts],open(\"../../var/fjw/train_mid/new_target_info_simple.pk\",\"wb\"))"
   ]
  },
  {
   "cell_type": "code",
   "execution_count": 6,
   "metadata": {
    "hidden": true
   },
   "outputs": [],
   "source": [
    "for i in range(6):\n",
    "    target_map_dicts[i].index = list(map(lambda x:int(x), target_map_dicts[i].index))\n",
    "pk.dump([usr_dict,target_map_dicts],open(\"../../var/hyr/target_info_new.pickle\",\"wb\"))"
   ]
  },
  {
   "cell_type": "markdown",
   "metadata": {
    "heading_collapsed": true
   },
   "source": [
    "### 合成feature_simple"
   ]
  },
  {
   "cell_type": "code",
   "execution_count": 98,
   "metadata": {
    "hidden": true
   },
   "outputs": [
    {
     "name": "stderr",
     "output_type": "stream",
     "text": [
      "/home/huangweilin/anaconda3/envs/fjw/lib/python3.6/site-packages/ipykernel_launcher.py:5: TqdmDeprecationWarning: This function will be removed in tqdm==5.0.0\n",
      "Please use `tqdm.notebook.tqdm` instead of `tqdm.tqdm_notebook`\n",
      "  \"\"\"\n"
     ]
    },
    {
     "data": {
      "application/vnd.jupyter.widget-view+json": {
       "model_id": "034b1e6d61494132bb6da5fc3e2d6488",
       "version_major": 2,
       "version_minor": 0
      },
      "text/plain": [
       "HBox(children=(IntProgress(value=0, max=300), HTML(value='')))"
      ]
     },
     "metadata": {},
     "output_type": "display_data"
    },
    {
     "name": "stdout",
     "output_type": "stream",
     "text": [
      "\n"
     ]
    }
   ],
   "source": [
    "indexs=[e[0] for e in new_train_usr_click_log['user_id'].values]\n",
    "ages=[e[0] for e in new_train_usr_click_log['age'].values]\n",
    "genders=[e[0] for e in new_train_usr_click_log['gender'].values]\n",
    "new_train_features=[]\n",
    "for idx in tqdm(range(len(indexs))):\n",
    "    new_train_features.append([ages[idx],genders[idx]])\n",
    "new_train_features=pd.Series(data=new_train_features,index=indexs)   \n",
    "pk.dump(new_train_features,open(\"../../var/fjw/train_mid/new_feature_simple.pk\",\"wb\"))"
   ]
  },
  {
   "cell_type": "code",
   "execution_count": 100,
   "metadata": {
    "code_folding": [],
    "hidden": true
   },
   "outputs": [
    {
     "name": "stderr",
     "output_type": "stream",
     "text": [
      "/home/huangweilin/anaconda3/envs/fjw/lib/python3.6/site-packages/ipykernel_launcher.py:3: TqdmDeprecationWarning: This function will be removed in tqdm==5.0.0\n",
      "Please use `tqdm.notebook.tqdm` instead of `tqdm.tqdm_notebook`\n",
      "  This is separate from the ipykernel package so we can avoid doing imports until\n"
     ]
    },
    {
     "data": {
      "application/vnd.jupyter.widget-view+json": {
       "model_id": "6db404571c3a4ccc914f15a93e040b13",
       "version_major": 2,
       "version_minor": 0
      },
      "text/plain": [
       "HBox(children=(IntProgress(value=0), HTML(value='')))"
      ]
     },
     "metadata": {},
     "output_type": "display_data"
    },
    {
     "name": "stdout",
     "output_type": "stream",
     "text": [
      "\n"
     ]
    }
   ],
   "source": [
    "\n",
    "indexs=[e[0] for e in new_test_usr_click_log['user_id'].values]\n",
    "new_test_features=[]\n",
    "for idx in tqdm(range(len(indexs))):\n",
    "    new_test_features.append([1,1])\n",
    "new_test_features=pd.Series(data=new_test_features,index=indexs)   \n",
    "pk.dump(new_test_features,open(\"../../var/fjw/test_mid/new_feature_simple.pk\",\"wb\"))"
   ]
  },
  {
   "cell_type": "markdown",
   "metadata": {
    "heading_collapsed": true
   },
   "source": [
    "### 训练glove50维及200维(请前往./Glove_Master/目录下执行Generate_glove.ipynb)"
   ]
  },
  {
   "cell_type": "markdown",
   "metadata": {
    "heading_collapsed": true
   },
   "source": [
    "### 合成word2vec(请完成./src/hyr/下的Word2vec 训练以及4.3步的Glove训练后前往w2v_merge.ipynb执行"
   ]
  }
 ],
 "metadata": {
  "kernelspec": {
   "display_name": "fjw",
   "language": "python",
   "name": "fjw"
  },
  "language_info": {
   "codemirror_mode": {
    "name": "ipython",
    "version": 3
   },
   "file_extension": ".py",
   "mimetype": "text/x-python",
   "name": "python",
   "nbconvert_exporter": "python",
   "pygments_lexer": "ipython3",
   "version": "3.6.9"
  },
  "toc": {
   "base_numbering": 1,
   "nav_menu": {},
   "number_sections": true,
   "sideBar": true,
   "skip_h1_title": false,
   "title_cell": "Table of Contents",
   "title_sidebar": "Contents",
   "toc_cell": false,
   "toc_position": {},
   "toc_section_display": true,
   "toc_window_display": false
  }
 },
 "nbformat": 4,
 "nbformat_minor": 4
}
